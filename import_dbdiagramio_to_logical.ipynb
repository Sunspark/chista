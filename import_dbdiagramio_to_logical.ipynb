{
    "metadata": {
        "kernelspec": {
            "name": "python3",
            "display_name": "Python 3 (ipykernel)",
            "language": "python"
        },
        "language_info": {
            "name": "python",
            "version": "3.8.10",
            "mimetype": "text/x-python",
            "codemirror_mode": {
                "name": "ipython",
                "version": 3
            },
            "pygments_lexer": "ipython3",
            "nbconvert_exporter": "python",
            "file_extension": ".py"
        }
    },
    "nbformat_minor": 2,
    "nbformat": 4,
    "cells": [
        {
            "cell_type": "markdown",
            "source": [
                "- declarations\n",
                "- declare tables dict\n",
                "- declare relations dict\n",
                "- declare enums dict\n",
                "- set target model\n",
                "- parse line by line to tables/relations/enums\n",
                "- flip to df\n",
                "- hash it\n",
                "- DB it"
            ],
            "metadata": {
                "azdata_cell_guid": "4ccc026c-5c35-44c0-96b4-0090dc17d2d8"
            },
            "attachments": {}
        },
        {
            "cell_type": "code",
            "source": [
                "# Imports from dbdiagram.io format to logical model\r\n",
                "# Requires:\r\n",
                "#   TargetFilename : the name of the file to bring in\r\n",
                "#   TargetModelKeyPhrase : the KeyPhrase for the model to import to\r\n",
                "\r\n",
                "import sqlite3\r\n",
                "import pandas as pd\r\n",
                "import hashing\r\n",
                "import re\r\n",
                "\r\n",
                "conn = sqlite3.connect('app_db.sqlite')\r\n",
                "cur = conn.cursor()\r\n",
                "\r\n",
                "TargetPath = 'imports/logical/'\r\n",
                "TargetFilename = 'Enterprise_KYC_dbdiagramio.txt'\r\n",
                "TargetModelKeyPhrase = 'jam'\r\n",
                "RecordSource = 'dbdiagramio'\r\n",
                "\r\n",
                "TableList = []\r\n",
                "TableAttributeList = []\r\n",
                "RelationList = []\r\n",
                "EnumList = []\r\n",
                "EnumValueList = []"
            ],
            "metadata": {
                "azdata_cell_guid": "dadcf305-f162-4c97-b608-9529d5e73da9",
                "language": "python"
            },
            "outputs": [],
            "execution_count": 2
        },
        {
            "cell_type": "code",
            "source": [
                "# splits the entity name out of a line\r\n",
                "# ignores the schema name, as this is logical import\r\n",
                "def ParseEntityName(line):\r\n",
                "  LineList = line.split(' ')\r\n",
                "  NameList = LineList[1].split('.')\r\n",
                "  EntityName = NameList[1]\r\n",
                "  return EntityName"
            ],
            "metadata": {
                "language": "python",
                "azdata_cell_guid": "a36d7dc0-83ab-4db3-ba55-91f49bbdba7f"
            },
            "outputs": [],
            "execution_count": 3
        },
        {
            "cell_type": "code",
            "source": [
                "# Parse the file to the lists\r\n",
                "# currently doesn't do separate relations\r\n",
                "# currently doesn't check for 'ive seen this entity before'. DV pattern will error on two things.\r\n",
                "\r\n",
                "CurrentStructName = ''\r\n",
                "CurrentStructType = '' # ENUM or TABLE\r\n",
                "CurrentStructList = []\r\n",
                "\r\n",
                "with open(TargetPath + TargetFilename) as file:\r\n",
                "  for line in file:\r\n",
                "    line = line.rstrip()\r\n",
                "    #print(line)\r\n",
                "    \r\n",
                "    if line.startswith('//'):\r\n",
                "      #print('ignore line, comment')\r\n",
                "      pass\r\n",
                "    elif line.startswith('Table '):\r\n",
                "      #print('set new target table')\r\n",
                "      CurrentStructType = 'TABLE'\r\n",
                "      CurrentStructName = ParseEntityName(line)\r\n",
                "      TableList.append([TargetModelKeyPhrase, CurrentStructName])\r\n",
                "    elif line.startswith('  '):\r\n",
                "      if CurrentStructType == 'TABLE':\r\n",
                "        #print('read attribute to current TABLE')\r\n",
                "        # start with the basics\r\n",
                "        LineList = line.lstrip().split(' ')\r\n",
                "        AttributeName = LineList[0]\r\n",
                "        AttributeType = LineList[1]\r\n",
                "        EnumName = ''\r\n",
                "        if AttributeType.startswith('enum.'):\r\n",
                "          AttributeList = AttributeType.split('.')\r\n",
                "          AttributeType = AttributeList[0]\r\n",
                "          EnumName = AttributeList[1]\r\n",
                "\r\n",
                "        LineAdditional = re.findall(\"\\[(.*)\\]\", line)\r\n",
                "        if len(LineAdditional) > 0:\r\n",
                "          #print(LineAdditional[0])\r\n",
                "          AdditionalList = re.findall(\"(pk|(?:note|ref): ?(?=[^']|(')?)'?(?:(?(2)(?:[^'])*|[^,']*))'?)\", LineAdditional[0])\r\n",
                "          #print(AdditionalList)\r\n",
                "          for AdditionalItem in AdditionalList:\r\n",
                "            AdditionalItem = AdditionalItem[0] # the regex returns 2 matches, to do with the forward check\r\n",
                "            if AdditionalItem == 'pk':\r\n",
                "              isPK = True\r\n",
                "            else:\r\n",
                "              m = re.match(\"(?P<key>\\w+): ?(?P<value>.*)\", AdditionalItem)\r\n",
                "              #print(m.groupdict())\r\n",
                "              if m.groupdict()['key'] == 'ref':\r\n",
                "                #print('inline relation description')\r\n",
                "                RelationInfoList = m.groupdict()['value'].split(' ')\r\n",
                "                \r\n",
                "                RelationType = RelationInfoList[0];\r\n",
                "                if RelationType == '>':\r\n",
                "                  RelationType = 'M21'\r\n",
                "                elif RelationType == '<':\r\n",
                "                  RelationType = '12M'\r\n",
                "                elif RelationType == '-':\r\n",
                "                  RelationType = '121'\r\n",
                "                elif RelationType == '<>':\r\n",
                "                  RelationType = 'M2M'\r\n",
                "                #print(RelationType)\r\n",
                "                \r\n",
                "                RelationTargetString = RelationInfoList[1];\r\n",
                "                RelationTargetList = RelationTargetString.split('.')\r\n",
                "                #RelationTargetSchema = RelationTargetList[0] # ignore schema, this is logical\r\n",
                "                RelationTargetTable = RelationTargetList[1]\r\n",
                "                RelationTargetAttribute = RelationTargetList[2]\r\n",
                "                #print(RelationTargetTable)\r\n",
                "                #print(RelationTargetAttribute)\r\n",
                "\r\n",
                "                RelationList.append([\r\n",
                "                  TargetModelKeyPhrase\r\n",
                "                  , CurrentStructName\r\n",
                "                  , AttributeName\r\n",
                "                  , RelationTargetTable\r\n",
                "                  , RelationTargetAttribute\r\n",
                "                  , RelationType\r\n",
                "                ])\r\n",
                "                RelationTargetTable = ''\r\n",
                "                RelationTargetAttribute = ''\r\n",
                "                RelationType = ''\r\n",
                "\r\n",
                "              elif m.groupdict()['key'] == 'note':\r\n",
                "                AttributeNote = m.groupdict()['value'].strip('\\'')\r\n",
                "                #print(AttributeNote)\r\n",
                "        \r\n",
                "        TableAttributeList.append([\r\n",
                "          TargetModelKeyPhrase\r\n",
                "          , CurrentStructName\r\n",
                "          , AttributeName\r\n",
                "          , AttributeType\r\n",
                "          , EnumName\r\n",
                "          , isPK\r\n",
                "          , AttributeNote\r\n",
                "        ])\r\n",
                "        AttributeName = ''\r\n",
                "        AttributeType = ''\r\n",
                "        EnumName = ''\r\n",
                "        isPK = False\r\n",
                "        AttributeNote = ''\r\n",
                "\r\n",
                "      elif CurrentStructType == 'ENUM':\r\n",
                "        #print('read EnumValue to current ENUM')\r\n",
                "        EnumValue = line.lstrip().strip('\"')\r\n",
                "        EnumValueList.append([\r\n",
                "          TargetModelKeyPhrase\r\n",
                "          , CurrentStructName\r\n",
                "          , EnumValue\r\n",
                "        ])\r\n",
                "        EnumValue = ''\r\n",
                "\r\n",
                "    elif line.startswith('Enum '):\r\n",
                "      #print('set new target enum')\r\n",
                "      CurrentStructType = 'ENUM'\r\n",
                "      CurrentStructName = ParseEntityName(line)\r\n",
                "      EnumList.append([TargetModelKeyPhrase, CurrentStructName])\r\n",
                "    elif line.startswith('}'):\r\n",
                "      #print('close current target table or enum')\r\n",
                "      CurrentStructName = ''\r\n",
                "    else:\r\n",
                "      pass\r\n",
                "\r\n",
                "print(TableList)\r\n",
                "print(TableAttributeList)\r\n",
                "print(RelationList)\r\n",
                "print(EnumList)\r\n",
                "print(EnumValueList)"
            ],
            "metadata": {
                "language": "python",
                "azdata_cell_guid": "9ac55839-1018-4a3c-b574-7ecf3170f341"
            },
            "outputs": [
                {
                    "output_type": "stream",
                    "name": "stdout",
                    "text": "[['jam', 'OtherIncome'], ['jam', 'Annuity']]\n[['jam', 'OtherIncome', 'otherIncomeID', 'guid', '', True, 'Concert internal ID'], ['jam', 'OtherIncome', 'contactID', 'guid', '', False, 'Implicit FK in JSON structure, not required in payload'], ['jam', 'OtherIncome', 'otherIncomeSource', 'enum', 'otherIncomeSourceValues', False, ''], ['jam', 'OtherIncome', 'annualGrossIncome', 'Currency', '', False, ''], ['jam', 'OtherIncome', 'netMonthlyIncome', 'Currency', '', False, ''], ['jam', 'Annuity', 'annuityID', 'guid', '', True, 'Concert internal ID'], ['jam', 'Annuity', 'contactID', 'guid', '', False, 'Implicit FK in JSON structure, not required in payload'], ['jam', 'Annuity', 'name', 'String', '', False, ''], ['jam', 'Annuity', 'pensionType', 'enum', 'pensionIncomeTypeValues', False, ''], ['jam', 'Annuity', 'annuityIncome', 'Currency', '', False, ''], ['jam', 'Annuity', 'lifeCover', 'Boolean', '', False, ''], ['jam', 'Annuity', 'sumAssured', 'Currency', '', False, ''], ['jam', 'Annuity', 'policyStatements', 'Blob', '', False, '']]\n[['jam', 'OtherIncome', 'contactID', 'Contact', 'contactID', 'M21'], ['jam', 'Annuity', 'contactID', 'Contact', 'contactID', 'M21']]\n[['jam', 'maritalStatusValues'], ['jam', 'preferredContactMethodValues']]\n[['jam', 'maritalStatusValues', 'Civil Partnership'], ['jam', 'maritalStatusValues', 'Divorced'], ['jam', 'maritalStatusValues', 'Married'], ['jam', 'maritalStatusValues', 'Partnered'], ['jam', 'maritalStatusValues', 'Single'], ['jam', 'maritalStatusValues', 'Widowed'], ['jam', 'preferredContactMethodValues', 'SMS'], ['jam', 'preferredContactMethodValues', 'Any'], ['jam', 'preferredContactMethodValues', 'Correspondence Email'], ['jam', 'preferredContactMethodValues', 'Fax'], ['jam', 'preferredContactMethodValues', 'Phone'], ['jam', 'preferredContactMethodValues', 'Post']]\n"
                }
            ],
            "execution_count": 4
        },
        {
            "cell_type": "code",
            "source": [
                "# process frame: TableList\r\n",
                "\r\n",
                "df = pd.DataFrame(TableList, columns=['ModelKeyPhrase', 'LogicalEntityName'])\r\n",
                "df['RecordSource'] = df.apply(lambda row: RecordSource, axis=1)\r\n",
                "df['isDeleted'] = df.apply(lambda row: 0, axis=1)\r\n",
                "df['LogicalEntityKeyPhrase'] = df.apply(lambda row: row['ModelKeyPhrase'] + '.' + row['LogicalEntityName'], axis=1)\r\n",
                "df['ModelLogicalEntityKeyPhrase'] = df.apply(lambda row: row['ModelKeyPhrase'] + ':' + row['LogicalEntityKeyPhrase'], axis=1)\r\n",
                "df = hashing.add_md5_hash_column(\r\n",
                "  df\r\n",
                "  , md5_column_name = 'ModelHashKey'\r\n",
                "  , columns = ['ModelKeyPhrase']\r\n",
                ")\r\n",
                "df = hashing.add_md5_hash_column(\r\n",
                "  df\r\n",
                "  , md5_column_name = 'LogicalEntityHashKey'\r\n",
                "  , columns = ['LogicalEntityKeyPhrase']\r\n",
                ")\r\n",
                "df = hashing.add_md5_hash_column(\r\n",
                "  df\r\n",
                "  , md5_column_name = 'HashDiff'\r\n",
                "  , columns = ['LogicalEntityName', 'isDeleted']\r\n",
                ")\r\n",
                "df = hashing.add_md5_hash_column(\r\n",
                "  df\r\n",
                "  , md5_column_name = 'ModelLogicalEntityHashKey'\r\n",
                "  , columns = ['ModelLogicalEntityKeyPhrase']\r\n",
                ")\r\n",
                "\r\n",
                "df\r\n",
                "\r\n",
                "# Explicit removal is going to be a problem\r\n",
                "# No way to say 'this was removed'\r\n",
                "# Can't just wipe/ readd because the import might only be a portion of the model\r\n",
                "# Defer to excel import. If it appears here, it's not deleted - otherwise we don't know.\r\n",
                ""
            ],
            "metadata": {
                "azdata_cell_guid": "509208ee-b06a-4b56-9d08-7d39e19dee58",
                "language": "python"
            },
            "outputs": [
                {
                    "output_type": "execute_result",
                    "execution_count": 5,
                    "data": {
                        "text/plain": "  ModelKeyPhrase LogicalEntityName RecordSource  isDeleted  \\\n0            jam       OtherIncome  dbdiagramio          0   \n1            jam           Annuity  dbdiagramio          0   \n\n  LogicalEntityKeyPhrase ModelLogicalEntityKeyPhrase  \\\n0        jam.OtherIncome         jam:jam.OtherIncome   \n1            jam.Annuity             jam:jam.Annuity   \n\n                       ModelHashKey              LogicalEntityHashKey  \\\n0  5275cb415e5bc3948e8f2cd492859f26  aa717daa62d4834ae051be75a8fa9e2a   \n1  5275cb415e5bc3948e8f2cd492859f26  6c257696c4bc78396a786e55d7543750   \n\n                           HashDiff         ModelLogicalEntityHashKey  \n0  d037c70be63207730673f03aa71fc900  35d1e1bbabd6060b63d55896fce9e15d  \n1  35e599c0cf936659310e855aee72778c  0ef4212d74a6c07ee1c95f4ba043ea8d  ",
                        "text/html": "<div>\n<style scoped>\n    .dataframe tbody tr th:only-of-type {\n        vertical-align: middle;\n    }\n\n    .dataframe tbody tr th {\n        vertical-align: top;\n    }\n\n    .dataframe thead th {\n        text-align: right;\n    }\n</style>\n<table border=\"1\" class=\"dataframe\">\n  <thead>\n    <tr style=\"text-align: right;\">\n      <th></th>\n      <th>ModelKeyPhrase</th>\n      <th>LogicalEntityName</th>\n      <th>RecordSource</th>\n      <th>isDeleted</th>\n      <th>LogicalEntityKeyPhrase</th>\n      <th>ModelLogicalEntityKeyPhrase</th>\n      <th>ModelHashKey</th>\n      <th>LogicalEntityHashKey</th>\n      <th>HashDiff</th>\n      <th>ModelLogicalEntityHashKey</th>\n    </tr>\n  </thead>\n  <tbody>\n    <tr>\n      <th>0</th>\n      <td>jam</td>\n      <td>OtherIncome</td>\n      <td>dbdiagramio</td>\n      <td>0</td>\n      <td>jam.OtherIncome</td>\n      <td>jam:jam.OtherIncome</td>\n      <td>5275cb415e5bc3948e8f2cd492859f26</td>\n      <td>aa717daa62d4834ae051be75a8fa9e2a</td>\n      <td>d037c70be63207730673f03aa71fc900</td>\n      <td>35d1e1bbabd6060b63d55896fce9e15d</td>\n    </tr>\n    <tr>\n      <th>1</th>\n      <td>jam</td>\n      <td>Annuity</td>\n      <td>dbdiagramio</td>\n      <td>0</td>\n      <td>jam.Annuity</td>\n      <td>jam:jam.Annuity</td>\n      <td>5275cb415e5bc3948e8f2cd492859f26</td>\n      <td>6c257696c4bc78396a786e55d7543750</td>\n      <td>35e599c0cf936659310e855aee72778c</td>\n      <td>0ef4212d74a6c07ee1c95f4ba043ea8d</td>\n    </tr>\n  </tbody>\n</table>\n</div>"
                    },
                    "metadata": {}
                }
            ],
            "execution_count": 5
        },
        {
            "cell_type": "code",
            "source": [
                "# Clear down and Write to staging\r\n",
                "conn.execute(\"DELETE FROM stg_Py_DbdiagramioToLogical\")\r\n",
                "conn.commit()\r\n",
                "df.to_sql('stg_Py_DbdiagramioToLogical', conn, if_exists='append', index=False)"
            ],
            "metadata": {
                "language": "python",
                "azdata_cell_guid": "c7e449b2-e9ed-41ed-8a62-56bc31cfb3db"
            },
            "outputs": [
                {
                    "output_type": "execute_result",
                    "execution_count": 6,
                    "data": {
                        "text/plain": "2"
                    },
                    "metadata": {}
                }
            ],
            "execution_count": 6
        },
        {
            "cell_type": "code",
            "source": [
                "# Write to the Hub (LogicalEntity)\r\n",
                "sql_query = \"\"\"\r\n",
                "INSERT INTO rv_h_LogicalEntity\r\n",
                "(\r\n",
                "    LogicalEntityHashKey\r\n",
                "  , LoadDate\r\n",
                "  , RecordSource\r\n",
                "  , LogicalEntityKeyPhrase\r\n",
                ")\r\n",
                "SELECT DISTINCT\r\n",
                "    LogicalEntityHashKey\r\n",
                "  , LoadDate\r\n",
                "  , RecordSource\r\n",
                "  , LogicalEntityKeyPhrase\r\n",
                "FROM\r\n",
                "  stg_Py_DbdiagramioToLogical\r\n",
                "WHERE\r\n",
                "  LogicalEntityHashKey NOT IN (SELECT LogicalEntityHashKey FROM rv_h_LogicalEntity)\r\n",
                "\"\"\";\r\n",
                "conn.execute(sql_query)\r\n",
                "conn.commit()"
            ],
            "metadata": {
                "language": "python",
                "azdata_cell_guid": "69cf3080-aeb4-4566-9b43-cf7f7ef291a3"
            },
            "outputs": [],
            "execution_count": 7
        },
        {
            "cell_type": "code",
            "source": [
                "# Write to the Satellite (LogicalEntity)\r\n",
                "sql_query = \"\"\"\r\n",
                "INSERT INTO rv_s_LogicalEntity\r\n",
                "(\r\n",
                "    LogicalEntityHashKey\r\n",
                "  , LoadDate\r\n",
                "  , RecordSource\r\n",
                "  , HashDiff\r\n",
                "  , LogicalEntityName\r\n",
                "  , isDeleted\r\n",
                ")\r\n",
                "SELECT DISTINCT\r\n",
                "    stg.LogicalEntityHashKey\r\n",
                "  , stg.LoadDate\r\n",
                "  , stg.RecordSource\r\n",
                "  , stg.HashDiff\r\n",
                "  , stg.LogicalEntityName\r\n",
                "  , stg.isDeleted\r\n",
                "FROM\r\n",
                "  stg_Py_DbdiagramioToLogical AS stg\r\n",
                "  LEFT OUTER JOIN rv_s_LogicalEntity AS sat ON (\r\n",
                "    stg.LogicalEntityHashKey = sat.LogicalEntityHashKey\r\n",
                "    AND sat.LoadDate = (\r\n",
                "      SELECT MAX(z.LoadDate)\r\n",
                "      FROM rv_s_LogicalEntity AS z\r\n",
                "      WHERE z.LogicalEntityHashKey = sat.LogicalEntityHashKey\r\n",
                "    )\r\n",
                "  )\r\n",
                "WHERE\r\n",
                "  (\r\n",
                "    sat.HashDiff != stg.HashDiff\r\n",
                "    OR sat.HashDiff IS NULL\r\n",
                "  )\r\n",
                "\"\"\";\r\n",
                "conn.execute(sql_query)\r\n",
                "conn.commit()"
            ],
            "metadata": {
                "language": "python",
                "azdata_cell_guid": "ae08beb1-d7cc-4938-8426-db529b642c3c"
            },
            "outputs": [],
            "execution_count": 8
        },
        {
            "cell_type": "code",
            "source": [
                "# Write to the Link (Model - LogicalEntity)\r\n",
                "sql_query = \"\"\"\r\n",
                "INSERT INTO rv_l_ModelLogicalEntity\r\n",
                "(\r\n",
                "  ModelLogicalEntityHashKey\r\n",
                "  , LoadDate\r\n",
                "  , RecordSource\r\n",
                "  , ModelHashKey\r\n",
                "  , LogicalEntityHashKey\r\n",
                ")\r\n",
                "SELECT\r\n",
                "  stg.ModelLogicalEntityHashKey\r\n",
                "  , stg.LoadDate\r\n",
                "  , stg.RecordSource\r\n",
                "  , stg.ModelHashKey\r\n",
                "  , stg.LogicalEntityHashKey\r\n",
                "FROM\r\n",
                "  stg_Py_DbdiagramioToLogical stg\r\n",
                "WHERE\r\n",
                "  stg.ModelLogicalEntityHashKey IS NOT NULL\r\n",
                "  AND ModelLogicalEntityHashKey NOT IN (\r\n",
                "    SELECT ModelLogicalEntityHashKey\r\n",
                "    FROM rv_l_ModelLogicalEntity\r\n",
                "  )\r\n",
                "\"\"\";\r\n",
                "conn.execute(sql_query)\r\n",
                "conn.commit()"
            ],
            "metadata": {
                "language": "python",
                "azdata_cell_guid": "7207e014-554d-4bb3-a32a-17f05cf4deaa"
            },
            "outputs": [],
            "execution_count": 9
        },
        {
            "cell_type": "code",
            "source": [
                "# process frame: TableAttributeList\r\n",
                "\r\n",
                "df = pd.DataFrame(TableAttributeList, columns=['ModelKeyPhrase', 'LogicalEntityName', 'LogicalEntityAttributeName', 'DataType', 'EnumName', 'IsPK', 'Notes'])\r\n",
                "df['RecordSource'] = df.apply(lambda row: RecordSource, axis=1)\r\n",
                "df['isDeleted'] = df.apply(lambda row: 0, axis=1)\r\n",
                "# entity names\r\n",
                "df['LogicalEntityKeyPhrase'] = df.apply(lambda row: row['ModelKeyPhrase'] + '.' + row['LogicalEntityName'], axis=1)\r\n",
                "df['LogicalEntityAttributeKeyPhrase'] = df.apply(lambda row: row['ModelKeyPhrase'] + '.' + row['LogicalEntityName'] + '.' + row['LogicalEntityAttributeName'], axis=1)\r\n",
                "df['EnumKeyPhrase'] = df.apply(lambda row: row['ModelKeyPhrase'] + '.' + row['EnumName'], axis=1)\r\n",
                "# link names\r\n",
                "df['LogicalEntityLogicalEntityAttributeKeyPhrase'] = df.apply(lambda row: row['LogicalEntityKeyPhrase'] + ':' + row['LogicalEntityAttributeKeyPhrase'], axis=1)\r\n",
                "df['LogicalEntityAttributeEnumKeyPhrase'] = df.apply(lambda row: row['LogicalEntityAttributeKeyPhrase'] + ':' + row['EnumKeyPhrase'], axis=1)\r\n",
                "\r\n",
                "# hashing\r\n",
                "df = hashing.add_md5_hash_column(\r\n",
                "  df\r\n",
                "  , md5_column_name = 'LogicalEntityHashKey'\r\n",
                "  , columns = ['LogicalEntityKeyPhrase']\r\n",
                ")\r\n",
                "df = hashing.add_md5_hash_column(\r\n",
                "  df\r\n",
                "  , md5_column_name = 'LogicalEntityAttributeHashKey'\r\n",
                "  , columns = ['LogicalEntityAttributeKeyPhrase']\r\n",
                ")\r\n",
                "df = hashing.add_md5_hash_column(\r\n",
                "  df\r\n",
                "  , md5_column_name = 'EnumHashKey'\r\n",
                "  , columns = ['EnumKeyPhrase']\r\n",
                ")\r\n",
                "df = hashing.add_md5_hash_column(\r\n",
                "  df\r\n",
                "  , md5_column_name = 'HashDiff'\r\n",
                "  , columns = ['LogicalEntityAttributeName', 'isDeleted', 'DataType', 'EnumName', 'IsPK', 'Notes']\r\n",
                ")\r\n",
                "df = hashing.add_md5_hash_column(\r\n",
                "  df\r\n",
                "  , md5_column_name = 'LogicalEntityLogicalEntityAttributeHashKey'\r\n",
                "  , columns = ['LogicalEntityLogicalEntityAttributeKeyPhrase']\r\n",
                ")\r\n",
                "df = hashing.add_md5_hash_column(\r\n",
                "  df\r\n",
                "  , md5_column_name = 'LogicalEntityAttributeEnumHashKey'\r\n",
                "  , columns = ['LogicalEntityAttributeEnumKeyPhrase']\r\n",
                ")\r\n",
                "\r\n",
                "df"
            ],
            "metadata": {
                "language": "python",
                "azdata_cell_guid": "cff36c85-1276-4f05-a759-b932a5ea9281"
            },
            "outputs": [
                {
                    "output_type": "execute_result",
                    "execution_count": 10,
                    "data": {
                        "text/plain": "   ModelKeyPhrase LogicalEntityName LogicalEntityAttributeName  DataType  \\\n0             jam       OtherIncome              otherIncomeID      guid   \n1             jam       OtherIncome                  contactID      guid   \n2             jam       OtherIncome          otherIncomeSource      enum   \n3             jam       OtherIncome          annualGrossIncome  Currency   \n4             jam       OtherIncome           netMonthlyIncome  Currency   \n5             jam           Annuity                  annuityID      guid   \n6             jam           Annuity                  contactID      guid   \n7             jam           Annuity                       name    String   \n8             jam           Annuity                pensionType      enum   \n9             jam           Annuity              annuityIncome  Currency   \n10            jam           Annuity                  lifeCover   Boolean   \n11            jam           Annuity                 sumAssured  Currency   \n12            jam           Annuity           policyStatements      Blob   \n\n                   EnumName   IsPK  \\\n0                             True   \n1                            False   \n2   otherIncomeSourceValues  False   \n3                            False   \n4                            False   \n5                             True   \n6                            False   \n7                            False   \n8   pensionIncomeTypeValues  False   \n9                            False   \n10                           False   \n11                           False   \n12                           False   \n\n                                                Notes RecordSource  isDeleted  \\\n0                                 Concert internal ID  dbdiagramio          0   \n1   Implicit FK in JSON structure, not required in...  dbdiagramio          0   \n2                                                      dbdiagramio          0   \n3                                                      dbdiagramio          0   \n4                                                      dbdiagramio          0   \n5                                 Concert internal ID  dbdiagramio          0   \n6   Implicit FK in JSON structure, not required in...  dbdiagramio          0   \n7                                                      dbdiagramio          0   \n8                                                      dbdiagramio          0   \n9                                                      dbdiagramio          0   \n10                                                     dbdiagramio          0   \n11                                                     dbdiagramio          0   \n12                                                     dbdiagramio          0   \n\n   LogicalEntityKeyPhrase    LogicalEntityAttributeKeyPhrase  \\\n0         jam.OtherIncome      jam.OtherIncome.otherIncomeID   \n1         jam.OtherIncome          jam.OtherIncome.contactID   \n2         jam.OtherIncome  jam.OtherIncome.otherIncomeSource   \n3         jam.OtherIncome  jam.OtherIncome.annualGrossIncome   \n4         jam.OtherIncome   jam.OtherIncome.netMonthlyIncome   \n5             jam.Annuity              jam.Annuity.annuityID   \n6             jam.Annuity              jam.Annuity.contactID   \n7             jam.Annuity                   jam.Annuity.name   \n8             jam.Annuity            jam.Annuity.pensionType   \n9             jam.Annuity          jam.Annuity.annuityIncome   \n10            jam.Annuity              jam.Annuity.lifeCover   \n11            jam.Annuity             jam.Annuity.sumAssured   \n12            jam.Annuity       jam.Annuity.policyStatements   \n\n                  EnumKeyPhrase  \\\n0                          jam.   \n1                          jam.   \n2   jam.otherIncomeSourceValues   \n3                          jam.   \n4                          jam.   \n5                          jam.   \n6                          jam.   \n7                          jam.   \n8   jam.pensionIncomeTypeValues   \n9                          jam.   \n10                         jam.   \n11                         jam.   \n12                         jam.   \n\n         LogicalEntityLogicalEntityAttributeKeyPhrase  \\\n0       jam.OtherIncome:jam.OtherIncome.otherIncomeID   \n1           jam.OtherIncome:jam.OtherIncome.contactID   \n2   jam.OtherIncome:jam.OtherIncome.otherIncomeSource   \n3   jam.OtherIncome:jam.OtherIncome.annualGrossIncome   \n4    jam.OtherIncome:jam.OtherIncome.netMonthlyIncome   \n5                   jam.Annuity:jam.Annuity.annuityID   \n6                   jam.Annuity:jam.Annuity.contactID   \n7                        jam.Annuity:jam.Annuity.name   \n8                 jam.Annuity:jam.Annuity.pensionType   \n9               jam.Annuity:jam.Annuity.annuityIncome   \n10                  jam.Annuity:jam.Annuity.lifeCover   \n11                 jam.Annuity:jam.Annuity.sumAssured   \n12           jam.Annuity:jam.Annuity.policyStatements   \n\n                  LogicalEntityAttributeEnumKeyPhrase  \\\n0                  jam.OtherIncome.otherIncomeID:jam.   \n1                      jam.OtherIncome.contactID:jam.   \n2   jam.OtherIncome.otherIncomeSource:jam.otherInc...   \n3              jam.OtherIncome.annualGrossIncome:jam.   \n4               jam.OtherIncome.netMonthlyIncome:jam.   \n5                          jam.Annuity.annuityID:jam.   \n6                          jam.Annuity.contactID:jam.   \n7                               jam.Annuity.name:jam.   \n8   jam.Annuity.pensionType:jam.pensionIncomeTypeV...   \n9                      jam.Annuity.annuityIncome:jam.   \n10                         jam.Annuity.lifeCover:jam.   \n11                        jam.Annuity.sumAssured:jam.   \n12                  jam.Annuity.policyStatements:jam.   \n\n                LogicalEntityHashKey     LogicalEntityAttributeHashKey  \\\n0   aa717daa62d4834ae051be75a8fa9e2a  2ac57aa45a68758d3273529d7bae93cf   \n1   aa717daa62d4834ae051be75a8fa9e2a  995f8ee2cfb0e4375d91e94c30fd7306   \n2   aa717daa62d4834ae051be75a8fa9e2a  242743cf6105d9998603bf5a1fe2239e   \n3   aa717daa62d4834ae051be75a8fa9e2a  ad892498354296d3881a0b4573d8961c   \n4   aa717daa62d4834ae051be75a8fa9e2a  cba6c239c7f83ec77a6158525dd14538   \n5   6c257696c4bc78396a786e55d7543750  d70a496aacaef1037f670ed4b7a73ec5   \n6   6c257696c4bc78396a786e55d7543750  bd9366f165f852bff89e6bb7415b607a   \n7   6c257696c4bc78396a786e55d7543750  bcf1514ac9f3ff431eda027d59b859ba   \n8   6c257696c4bc78396a786e55d7543750  68636cc109d4f1b5eac8dc6ea2b64c6a   \n9   6c257696c4bc78396a786e55d7543750  f69c349878a07997cdd8fb325a6a4bb3   \n10  6c257696c4bc78396a786e55d7543750  242b718bd428910d2e90c1327df2dc4f   \n11  6c257696c4bc78396a786e55d7543750  d308e4051415e26403cbff526430c95e   \n12  6c257696c4bc78396a786e55d7543750  47cc6b7289b3e900e732b37adf6b3ba3   \n\n                         EnumHashKey                          HashDiff  \\\n0   31913f7750d4793e2eeca5554211128a  c84e4883d33100dac50e7a1bd630a69d   \n1   31913f7750d4793e2eeca5554211128a  9bfca0442034b111e6e78a4aa6da6e10   \n2   a5a80c3828e2479a201b178dfdbee58b  85bd713ecb786874a08c1d0ca8461008   \n3   31913f7750d4793e2eeca5554211128a  16b9a48566adaf865ba6bffbab8d86d3   \n4   31913f7750d4793e2eeca5554211128a  d1e08370260deb74bc78e19618010823   \n5   31913f7750d4793e2eeca5554211128a  c37728ec8a3007dcee309044e763c24a   \n6   31913f7750d4793e2eeca5554211128a  9bfca0442034b111e6e78a4aa6da6e10   \n7   31913f7750d4793e2eeca5554211128a  65030a909286645d36c8771ab96aeaf9   \n8   56a03f5f5acc0bee1b96897d54ab1c29  a43744d4ab7c531fea568bb6ccdd7c90   \n9   31913f7750d4793e2eeca5554211128a  c2d3c7caf82b032e92e4fac2ce242f4c   \n10  31913f7750d4793e2eeca5554211128a  f56e8ed97a3082553bba8ae81b2fbd8a   \n11  31913f7750d4793e2eeca5554211128a  73445bd6cf4bb1836200b746a217cef5   \n12  31913f7750d4793e2eeca5554211128a  353339e44ca384ee35669941b6a4b38c   \n\n   LogicalEntityLogicalEntityAttributeHashKey  \\\n0            f650ef31f27db4983b0f04ffc4603dd0   \n1            faeb9dd3c8ad1f9cf501ea8f7b419c32   \n2            a118cf6106cf0ff6d5af7c887f150c56   \n3            e7376141781a5b2327ad867ed3567b15   \n4            4cd2e8a1bed14bc45ccb56b0bfc5cf16   \n5            0d24f76060ba84f8d8d5acea3a01e9a7   \n6            9a201888cb7840d9ce0e1f47c8a0d525   \n7            fd08307aca08d1315a217216b91c31d9   \n8            e65da14c0722e620b35276b807d1918b   \n9            e5e034dca7dfc85fb52f4c3e3c339c65   \n10           7955c4b6f1a3fd607925bbb109697e52   \n11           f14259a8678bbdcc0249e45dd7d20982   \n12           b997439593a36653837f28b67bab52ea   \n\n   LogicalEntityAttributeEnumHashKey  \n0   cdac9fa1329a7ea58fbb3b48fa0834cb  \n1   d5fe35fce4af5858a3fafac519867ece  \n2   abc5f99f9bef1b484ed100718a118949  \n3   5b451eb91a2e254cf3c274f8b1c32b3b  \n4   05d9dd89c1cbee8e9461b9dc8d91a4f9  \n5   c575ce147d3809472c33539d9a9c1376  \n6   c0585c9ac3b25c9c90588c3a18351c2a  \n7   2c8a77915d16fe443327a4ca09e584f3  \n8   83c62db09f3799fe4144ea6db795f590  \n9   95d7407388bd003185ea4b491bc1e9cc  \n10  435fd03eb6d03b45cb78cbfc7ab4b39d  \n11  c49e10de962aa58ce35323fd857cf945  \n12  47e6c9d2916341107faf90d4d72202a2  ",
                        "text/html": "<div>\n<style scoped>\n    .dataframe tbody tr th:only-of-type {\n        vertical-align: middle;\n    }\n\n    .dataframe tbody tr th {\n        vertical-align: top;\n    }\n\n    .dataframe thead th {\n        text-align: right;\n    }\n</style>\n<table border=\"1\" class=\"dataframe\">\n  <thead>\n    <tr style=\"text-align: right;\">\n      <th></th>\n      <th>ModelKeyPhrase</th>\n      <th>LogicalEntityName</th>\n      <th>LogicalEntityAttributeName</th>\n      <th>DataType</th>\n      <th>EnumName</th>\n      <th>IsPK</th>\n      <th>Notes</th>\n      <th>RecordSource</th>\n      <th>isDeleted</th>\n      <th>LogicalEntityKeyPhrase</th>\n      <th>LogicalEntityAttributeKeyPhrase</th>\n      <th>EnumKeyPhrase</th>\n      <th>LogicalEntityLogicalEntityAttributeKeyPhrase</th>\n      <th>LogicalEntityAttributeEnumKeyPhrase</th>\n      <th>LogicalEntityHashKey</th>\n      <th>LogicalEntityAttributeHashKey</th>\n      <th>EnumHashKey</th>\n      <th>HashDiff</th>\n      <th>LogicalEntityLogicalEntityAttributeHashKey</th>\n      <th>LogicalEntityAttributeEnumHashKey</th>\n    </tr>\n  </thead>\n  <tbody>\n    <tr>\n      <th>0</th>\n      <td>jam</td>\n      <td>OtherIncome</td>\n      <td>otherIncomeID</td>\n      <td>guid</td>\n      <td></td>\n      <td>True</td>\n      <td>Concert internal ID</td>\n      <td>dbdiagramio</td>\n      <td>0</td>\n      <td>jam.OtherIncome</td>\n      <td>jam.OtherIncome.otherIncomeID</td>\n      <td>jam.</td>\n      <td>jam.OtherIncome:jam.OtherIncome.otherIncomeID</td>\n      <td>jam.OtherIncome.otherIncomeID:jam.</td>\n      <td>aa717daa62d4834ae051be75a8fa9e2a</td>\n      <td>2ac57aa45a68758d3273529d7bae93cf</td>\n      <td>31913f7750d4793e2eeca5554211128a</td>\n      <td>c84e4883d33100dac50e7a1bd630a69d</td>\n      <td>f650ef31f27db4983b0f04ffc4603dd0</td>\n      <td>cdac9fa1329a7ea58fbb3b48fa0834cb</td>\n    </tr>\n    <tr>\n      <th>1</th>\n      <td>jam</td>\n      <td>OtherIncome</td>\n      <td>contactID</td>\n      <td>guid</td>\n      <td></td>\n      <td>False</td>\n      <td>Implicit FK in JSON structure, not required in...</td>\n      <td>dbdiagramio</td>\n      <td>0</td>\n      <td>jam.OtherIncome</td>\n      <td>jam.OtherIncome.contactID</td>\n      <td>jam.</td>\n      <td>jam.OtherIncome:jam.OtherIncome.contactID</td>\n      <td>jam.OtherIncome.contactID:jam.</td>\n      <td>aa717daa62d4834ae051be75a8fa9e2a</td>\n      <td>995f8ee2cfb0e4375d91e94c30fd7306</td>\n      <td>31913f7750d4793e2eeca5554211128a</td>\n      <td>9bfca0442034b111e6e78a4aa6da6e10</td>\n      <td>faeb9dd3c8ad1f9cf501ea8f7b419c32</td>\n      <td>d5fe35fce4af5858a3fafac519867ece</td>\n    </tr>\n    <tr>\n      <th>2</th>\n      <td>jam</td>\n      <td>OtherIncome</td>\n      <td>otherIncomeSource</td>\n      <td>enum</td>\n      <td>otherIncomeSourceValues</td>\n      <td>False</td>\n      <td></td>\n      <td>dbdiagramio</td>\n      <td>0</td>\n      <td>jam.OtherIncome</td>\n      <td>jam.OtherIncome.otherIncomeSource</td>\n      <td>jam.otherIncomeSourceValues</td>\n      <td>jam.OtherIncome:jam.OtherIncome.otherIncomeSource</td>\n      <td>jam.OtherIncome.otherIncomeSource:jam.otherInc...</td>\n      <td>aa717daa62d4834ae051be75a8fa9e2a</td>\n      <td>242743cf6105d9998603bf5a1fe2239e</td>\n      <td>a5a80c3828e2479a201b178dfdbee58b</td>\n      <td>85bd713ecb786874a08c1d0ca8461008</td>\n      <td>a118cf6106cf0ff6d5af7c887f150c56</td>\n      <td>abc5f99f9bef1b484ed100718a118949</td>\n    </tr>\n    <tr>\n      <th>3</th>\n      <td>jam</td>\n      <td>OtherIncome</td>\n      <td>annualGrossIncome</td>\n      <td>Currency</td>\n      <td></td>\n      <td>False</td>\n      <td></td>\n      <td>dbdiagramio</td>\n      <td>0</td>\n      <td>jam.OtherIncome</td>\n      <td>jam.OtherIncome.annualGrossIncome</td>\n      <td>jam.</td>\n      <td>jam.OtherIncome:jam.OtherIncome.annualGrossIncome</td>\n      <td>jam.OtherIncome.annualGrossIncome:jam.</td>\n      <td>aa717daa62d4834ae051be75a8fa9e2a</td>\n      <td>ad892498354296d3881a0b4573d8961c</td>\n      <td>31913f7750d4793e2eeca5554211128a</td>\n      <td>16b9a48566adaf865ba6bffbab8d86d3</td>\n      <td>e7376141781a5b2327ad867ed3567b15</td>\n      <td>5b451eb91a2e254cf3c274f8b1c32b3b</td>\n    </tr>\n    <tr>\n      <th>4</th>\n      <td>jam</td>\n      <td>OtherIncome</td>\n      <td>netMonthlyIncome</td>\n      <td>Currency</td>\n      <td></td>\n      <td>False</td>\n      <td></td>\n      <td>dbdiagramio</td>\n      <td>0</td>\n      <td>jam.OtherIncome</td>\n      <td>jam.OtherIncome.netMonthlyIncome</td>\n      <td>jam.</td>\n      <td>jam.OtherIncome:jam.OtherIncome.netMonthlyIncome</td>\n      <td>jam.OtherIncome.netMonthlyIncome:jam.</td>\n      <td>aa717daa62d4834ae051be75a8fa9e2a</td>\n      <td>cba6c239c7f83ec77a6158525dd14538</td>\n      <td>31913f7750d4793e2eeca5554211128a</td>\n      <td>d1e08370260deb74bc78e19618010823</td>\n      <td>4cd2e8a1bed14bc45ccb56b0bfc5cf16</td>\n      <td>05d9dd89c1cbee8e9461b9dc8d91a4f9</td>\n    </tr>\n    <tr>\n      <th>5</th>\n      <td>jam</td>\n      <td>Annuity</td>\n      <td>annuityID</td>\n      <td>guid</td>\n      <td></td>\n      <td>True</td>\n      <td>Concert internal ID</td>\n      <td>dbdiagramio</td>\n      <td>0</td>\n      <td>jam.Annuity</td>\n      <td>jam.Annuity.annuityID</td>\n      <td>jam.</td>\n      <td>jam.Annuity:jam.Annuity.annuityID</td>\n      <td>jam.Annuity.annuityID:jam.</td>\n      <td>6c257696c4bc78396a786e55d7543750</td>\n      <td>d70a496aacaef1037f670ed4b7a73ec5</td>\n      <td>31913f7750d4793e2eeca5554211128a</td>\n      <td>c37728ec8a3007dcee309044e763c24a</td>\n      <td>0d24f76060ba84f8d8d5acea3a01e9a7</td>\n      <td>c575ce147d3809472c33539d9a9c1376</td>\n    </tr>\n    <tr>\n      <th>6</th>\n      <td>jam</td>\n      <td>Annuity</td>\n      <td>contactID</td>\n      <td>guid</td>\n      <td></td>\n      <td>False</td>\n      <td>Implicit FK in JSON structure, not required in...</td>\n      <td>dbdiagramio</td>\n      <td>0</td>\n      <td>jam.Annuity</td>\n      <td>jam.Annuity.contactID</td>\n      <td>jam.</td>\n      <td>jam.Annuity:jam.Annuity.contactID</td>\n      <td>jam.Annuity.contactID:jam.</td>\n      <td>6c257696c4bc78396a786e55d7543750</td>\n      <td>bd9366f165f852bff89e6bb7415b607a</td>\n      <td>31913f7750d4793e2eeca5554211128a</td>\n      <td>9bfca0442034b111e6e78a4aa6da6e10</td>\n      <td>9a201888cb7840d9ce0e1f47c8a0d525</td>\n      <td>c0585c9ac3b25c9c90588c3a18351c2a</td>\n    </tr>\n    <tr>\n      <th>7</th>\n      <td>jam</td>\n      <td>Annuity</td>\n      <td>name</td>\n      <td>String</td>\n      <td></td>\n      <td>False</td>\n      <td></td>\n      <td>dbdiagramio</td>\n      <td>0</td>\n      <td>jam.Annuity</td>\n      <td>jam.Annuity.name</td>\n      <td>jam.</td>\n      <td>jam.Annuity:jam.Annuity.name</td>\n      <td>jam.Annuity.name:jam.</td>\n      <td>6c257696c4bc78396a786e55d7543750</td>\n      <td>bcf1514ac9f3ff431eda027d59b859ba</td>\n      <td>31913f7750d4793e2eeca5554211128a</td>\n      <td>65030a909286645d36c8771ab96aeaf9</td>\n      <td>fd08307aca08d1315a217216b91c31d9</td>\n      <td>2c8a77915d16fe443327a4ca09e584f3</td>\n    </tr>\n    <tr>\n      <th>8</th>\n      <td>jam</td>\n      <td>Annuity</td>\n      <td>pensionType</td>\n      <td>enum</td>\n      <td>pensionIncomeTypeValues</td>\n      <td>False</td>\n      <td></td>\n      <td>dbdiagramio</td>\n      <td>0</td>\n      <td>jam.Annuity</td>\n      <td>jam.Annuity.pensionType</td>\n      <td>jam.pensionIncomeTypeValues</td>\n      <td>jam.Annuity:jam.Annuity.pensionType</td>\n      <td>jam.Annuity.pensionType:jam.pensionIncomeTypeV...</td>\n      <td>6c257696c4bc78396a786e55d7543750</td>\n      <td>68636cc109d4f1b5eac8dc6ea2b64c6a</td>\n      <td>56a03f5f5acc0bee1b96897d54ab1c29</td>\n      <td>a43744d4ab7c531fea568bb6ccdd7c90</td>\n      <td>e65da14c0722e620b35276b807d1918b</td>\n      <td>83c62db09f3799fe4144ea6db795f590</td>\n    </tr>\n    <tr>\n      <th>9</th>\n      <td>jam</td>\n      <td>Annuity</td>\n      <td>annuityIncome</td>\n      <td>Currency</td>\n      <td></td>\n      <td>False</td>\n      <td></td>\n      <td>dbdiagramio</td>\n      <td>0</td>\n      <td>jam.Annuity</td>\n      <td>jam.Annuity.annuityIncome</td>\n      <td>jam.</td>\n      <td>jam.Annuity:jam.Annuity.annuityIncome</td>\n      <td>jam.Annuity.annuityIncome:jam.</td>\n      <td>6c257696c4bc78396a786e55d7543750</td>\n      <td>f69c349878a07997cdd8fb325a6a4bb3</td>\n      <td>31913f7750d4793e2eeca5554211128a</td>\n      <td>c2d3c7caf82b032e92e4fac2ce242f4c</td>\n      <td>e5e034dca7dfc85fb52f4c3e3c339c65</td>\n      <td>95d7407388bd003185ea4b491bc1e9cc</td>\n    </tr>\n    <tr>\n      <th>10</th>\n      <td>jam</td>\n      <td>Annuity</td>\n      <td>lifeCover</td>\n      <td>Boolean</td>\n      <td></td>\n      <td>False</td>\n      <td></td>\n      <td>dbdiagramio</td>\n      <td>0</td>\n      <td>jam.Annuity</td>\n      <td>jam.Annuity.lifeCover</td>\n      <td>jam.</td>\n      <td>jam.Annuity:jam.Annuity.lifeCover</td>\n      <td>jam.Annuity.lifeCover:jam.</td>\n      <td>6c257696c4bc78396a786e55d7543750</td>\n      <td>242b718bd428910d2e90c1327df2dc4f</td>\n      <td>31913f7750d4793e2eeca5554211128a</td>\n      <td>f56e8ed97a3082553bba8ae81b2fbd8a</td>\n      <td>7955c4b6f1a3fd607925bbb109697e52</td>\n      <td>435fd03eb6d03b45cb78cbfc7ab4b39d</td>\n    </tr>\n    <tr>\n      <th>11</th>\n      <td>jam</td>\n      <td>Annuity</td>\n      <td>sumAssured</td>\n      <td>Currency</td>\n      <td></td>\n      <td>False</td>\n      <td></td>\n      <td>dbdiagramio</td>\n      <td>0</td>\n      <td>jam.Annuity</td>\n      <td>jam.Annuity.sumAssured</td>\n      <td>jam.</td>\n      <td>jam.Annuity:jam.Annuity.sumAssured</td>\n      <td>jam.Annuity.sumAssured:jam.</td>\n      <td>6c257696c4bc78396a786e55d7543750</td>\n      <td>d308e4051415e26403cbff526430c95e</td>\n      <td>31913f7750d4793e2eeca5554211128a</td>\n      <td>73445bd6cf4bb1836200b746a217cef5</td>\n      <td>f14259a8678bbdcc0249e45dd7d20982</td>\n      <td>c49e10de962aa58ce35323fd857cf945</td>\n    </tr>\n    <tr>\n      <th>12</th>\n      <td>jam</td>\n      <td>Annuity</td>\n      <td>policyStatements</td>\n      <td>Blob</td>\n      <td></td>\n      <td>False</td>\n      <td></td>\n      <td>dbdiagramio</td>\n      <td>0</td>\n      <td>jam.Annuity</td>\n      <td>jam.Annuity.policyStatements</td>\n      <td>jam.</td>\n      <td>jam.Annuity:jam.Annuity.policyStatements</td>\n      <td>jam.Annuity.policyStatements:jam.</td>\n      <td>6c257696c4bc78396a786e55d7543750</td>\n      <td>47cc6b7289b3e900e732b37adf6b3ba3</td>\n      <td>31913f7750d4793e2eeca5554211128a</td>\n      <td>353339e44ca384ee35669941b6a4b38c</td>\n      <td>b997439593a36653837f28b67bab52ea</td>\n      <td>47e6c9d2916341107faf90d4d72202a2</td>\n    </tr>\n  </tbody>\n</table>\n</div>"
                    },
                    "metadata": {}
                }
            ],
            "execution_count": 10
        },
        {
            "cell_type": "code",
            "source": [
                ""
            ],
            "metadata": {
                "language": "python",
                "azdata_cell_guid": "a93277ab-cb28-4982-a97c-c52c36555a8e"
            },
            "outputs": [],
            "execution_count": null
        },
        {
            "cell_type": "code",
            "source": [
                "# do an effectivity update on all attributes that have two current linked enums."
            ],
            "metadata": {
                "language": "python",
                "azdata_cell_guid": "2e44361a-7bfd-4dcb-ae99-e7b040e7cc60"
            },
            "outputs": [],
            "execution_count": 11
        }
    ]
}