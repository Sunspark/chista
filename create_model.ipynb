{
    "metadata": {
        "kernelspec": {
            "name": "python3",
            "display_name": "Python 3 (ipykernel)",
            "language": "python"
        },
        "language_info": {
            "name": "python",
            "version": "3.8.10",
            "mimetype": "text/x-python",
            "codemirror_mode": {
                "name": "ipython",
                "version": 3
            },
            "pygments_lexer": "ipython3",
            "nbconvert_exporter": "python",
            "file_extension": ".py"
        }
    },
    "nbformat_minor": 2,
    "nbformat": 4,
    "cells": [
        {
            "cell_type": "code",
            "source": [
                "# Creates new models into the DB from an excel sheet\r\n",
                "# Yes that's overkill for single records\r\n",
                "import sqlite3\r\n",
                "import pandas as pd\r\n",
                "import hashing\r\n",
                "\r\n",
                "conn = sqlite3.connect('app_db.sqlite')\r\n",
                "cur = conn.cursor()\r\n",
                "\r\n",
                "TargetExcelFilename = 'models.xlsx'\r\n",
                ""
            ],
            "metadata": {
                "azdata_cell_guid": "e2c24c2d-f790-4e67-8c7b-3c2160e6478d",
                "language": "python"
            },
            "outputs": [],
            "execution_count": 1
        },
        {
            "cell_type": "code",
            "source": [
                "def GetNewKeyPhrase():\r\n",
                "  sql_query = \"SELECT NewKeyPhrase FROM NewKeyPhrase;\";\r\n",
                "  cur.execute(sql_query)\r\n",
                "  row = cur.fetchone()\r\n",
                "  NewKeyPhrase = row[0]\r\n",
                "  #print(NewKeyPhrase)\r\n",
                "  if NewKeyPhrase == '' : # if the view returns a blank row because it randomly selected a used ID\r\n",
                "    NewKeyPhrase = GetNewKeyPhrase()\r\n",
                "  sql_query = \"INSERT INTO AppUsedId (AppUsedId) VALUES (?);\";\r\n",
                "  cur.execute(sql_query, [NewKeyPhrase])\r\n",
                "  conn.commit()\r\n",
                "  return NewKeyPhrase"
            ],
            "metadata": {
                "azdata_cell_guid": "875188f8-bd92-4c30-a034-f81666f2f913",
                "language": "python"
            },
            "outputs": [
                {
                    "name": "stdout",
                    "text": "toe.tomorrow.flower\n",
                    "output_type": "stream"
                }
            ],
            "execution_count": 4
        },
        {
            "cell_type": "code",
            "source": [
                "df = pd.read_excel(TargetExcelFilename)\r\n",
                "df['ModelKeyPhrase'] = df.apply(lambda row: GetNewKeyPhrase() if pd.isnull(row['ModelKeyPhrase']) else row['ModelKeyPhrase'], axis=1)\r\n",
                "df.fillna('', inplace=True)\r\n",
                "\r\n",
                "#df"
            ],
            "metadata": {
                "azdata_cell_guid": "8563cfbf-1794-445e-a6f1-6a63f8cff4d3",
                "language": "python"
            },
            "outputs": [
                {
                    "data": {
                        "text/plain": "         ModelKeyPhrase             ModelName ModelConceptLevel      ModelType\n0                   jam  Enterprise KYC Model           Logical               \n1  laugh.idea.vegetable       Zenith KYC Form           Logical  Informational",
                        "text/html": "<div>\n<style scoped>\n    .dataframe tbody tr th:only-of-type {\n        vertical-align: middle;\n    }\n\n    .dataframe tbody tr th {\n        vertical-align: top;\n    }\n\n    .dataframe thead th {\n        text-align: right;\n    }\n</style>\n<table border=\"1\" class=\"dataframe\">\n  <thead>\n    <tr style=\"text-align: right;\">\n      <th></th>\n      <th>ModelKeyPhrase</th>\n      <th>ModelName</th>\n      <th>ModelConceptLevel</th>\n      <th>ModelType</th>\n    </tr>\n  </thead>\n  <tbody>\n    <tr>\n      <th>0</th>\n      <td>jam</td>\n      <td>Enterprise KYC Model</td>\n      <td>Logical</td>\n      <td></td>\n    </tr>\n    <tr>\n      <th>1</th>\n      <td>laugh.idea.vegetable</td>\n      <td>Zenith KYC Form</td>\n      <td>Logical</td>\n      <td>Informational</td>\n    </tr>\n  </tbody>\n</table>\n</div>"
                    },
                    "metadata": {},
                    "execution_count": 5,
                    "output_type": "execute_result"
                }
            ],
            "execution_count": 5
        },
        {
            "cell_type": "code",
            "source": [
                "df = hashing.add_md5_hash_column(\r\n",
                "  df\r\n",
                "  , md5_column_name = 'ModelHashKey'\r\n",
                "  , columns = ['ModelKeyPhrase']\r\n",
                ")\r\n",
                "df = hashing.add_md5_hash_column(\r\n",
                "  df\r\n",
                "  , md5_column_name = 'HashDiff'\r\n",
                "  , columns = ['ModelName','ModelConceptLevel','ModelType']\r\n",
                ")\r\n",
                "df['RecordSource'] = df.apply(lambda row: 'Py.CreateModel', axis=1)\r\n",
                "\r\n",
                "#df"
            ],
            "metadata": {
                "language": "python",
                "azdata_cell_guid": "2a67d2cc-1b26-4ec9-9363-72ad6c5b1dae"
            },
            "outputs": [
                {
                    "data": {
                        "text/plain": "         ModelKeyPhrase             ModelName ModelConceptLevel  \\\n0                   jam  Enterprise KYC Model           Logical   \n1  laugh.idea.vegetable       Zenith KYC Form           Logical   \n\n       ModelType                      ModelHashKey  \\\n0                 5275cb415e5bc3948e8f2cd492859f26   \n1  Informational  cb5696195f0937d19ef22ef01220e092   \n\n                           HashDiff    RecordSource  \n0  a03de494cb50136fdf2ba4489e8bf7c1  Py.CreateModel  \n1  a3692cc9ae7283777c9d356ab9e4b4ea  Py.CreateModel  ",
                        "text/html": "<div>\n<style scoped>\n    .dataframe tbody tr th:only-of-type {\n        vertical-align: middle;\n    }\n\n    .dataframe tbody tr th {\n        vertical-align: top;\n    }\n\n    .dataframe thead th {\n        text-align: right;\n    }\n</style>\n<table border=\"1\" class=\"dataframe\">\n  <thead>\n    <tr style=\"text-align: right;\">\n      <th></th>\n      <th>ModelKeyPhrase</th>\n      <th>ModelName</th>\n      <th>ModelConceptLevel</th>\n      <th>ModelType</th>\n      <th>ModelHashKey</th>\n      <th>HashDiff</th>\n      <th>RecordSource</th>\n    </tr>\n  </thead>\n  <tbody>\n    <tr>\n      <th>0</th>\n      <td>jam</td>\n      <td>Enterprise KYC Model</td>\n      <td>Logical</td>\n      <td></td>\n      <td>5275cb415e5bc3948e8f2cd492859f26</td>\n      <td>a03de494cb50136fdf2ba4489e8bf7c1</td>\n      <td>Py.CreateModel</td>\n    </tr>\n    <tr>\n      <th>1</th>\n      <td>laugh.idea.vegetable</td>\n      <td>Zenith KYC Form</td>\n      <td>Logical</td>\n      <td>Informational</td>\n      <td>cb5696195f0937d19ef22ef01220e092</td>\n      <td>a3692cc9ae7283777c9d356ab9e4b4ea</td>\n      <td>Py.CreateModel</td>\n    </tr>\n  </tbody>\n</table>\n</div>"
                    },
                    "metadata": {},
                    "execution_count": 9,
                    "output_type": "execute_result"
                }
            ],
            "execution_count": 9
        },
        {
            "cell_type": "code",
            "source": [
                "# Clear down and Write to staging\r\n",
                "conn.execute(\"DELETE FROM stg_Py_CreateModel\")\r\n",
                "conn.commit()\r\n",
                "df.to_sql('stg_Py_CreateModel', conn, if_exists='append', index=False)\r\n",
                ""
            ],
            "metadata": {
                "language": "python",
                "azdata_cell_guid": "bb8d8323-1547-448e-ab8f-c03f1c787a17"
            },
            "outputs": [
                {
                    "data": {
                        "text/plain": "2"
                    },
                    "metadata": {},
                    "execution_count": 17,
                    "output_type": "execute_result"
                }
            ],
            "execution_count": 17
        },
        {
            "cell_type": "code",
            "source": [
                "# Write to the Hub\r\n",
                "sql_query = \"\"\"\r\n",
                "INSERT INTO rv_h_Model\r\n",
                "(\r\n",
                "    ModelHashKey\r\n",
                "  , LoadDate\r\n",
                "  , RecordSource\r\n",
                "  , ModelKeyPhrase\r\n",
                ")\r\n",
                "SELECT DISTINCT\r\n",
                "    ModelHashKey\r\n",
                "  , LoadDate\r\n",
                "  , RecordSource\r\n",
                "  , ModelKeyPhrase\r\n",
                "FROM\r\n",
                "  stg_Py_CreateModel\r\n",
                "WHERE\r\n",
                "  ModelHashKey NOT IN (SELECT ModelHashKey FROM rv_h_Model)\r\n",
                "\"\"\";\r\n",
                "conn.execute(sql_query)\r\n",
                "conn.commit()"
            ],
            "metadata": {
                "language": "python",
                "azdata_cell_guid": "c09835af-21ec-43b3-85f2-f2f80191a8da"
            },
            "outputs": [],
            "execution_count": 18
        },
        {
            "cell_type": "code",
            "source": [
                "# Write to the Satellite\r\n",
                "sql_query = \"\"\"\r\n",
                "INSERT INTO rv_s_Model\r\n",
                "(\r\n",
                "    ModelHashKey\r\n",
                "  , LoadDate\r\n",
                "  , RecordSource\r\n",
                "  , HashDiff\r\n",
                "  , ModelName\r\n",
                "  , ModelConceptLevel\r\n",
                "  , ModelType\r\n",
                ")\r\n",
                "SELECT DISTINCT\r\n",
                "    stg.ModelHashKey\r\n",
                "  , stg.LoadDate\r\n",
                "  , stg.RecordSource\r\n",
                "  , stg.HashDiff\r\n",
                "  , stg.ModelName\r\n",
                "  , stg.ModelConceptLevel\r\n",
                "  , stg.ModelType\r\n",
                "FROM\r\n",
                "  stg_Py_CreateModel AS stg\r\n",
                "  LEFT OUTER JOIN rv_s_Model AS sat ON (\r\n",
                "    stg.ModelHashKey = sat.ModelHashKey\r\n",
                "    AND sat.LoadDate = (\r\n",
                "      SELECT MAX(z.LoadDate)\r\n",
                "      FROM rv_s_Model AS z\r\n",
                "      WHERE z.ModelHashKey = sat.ModelHashKey\r\n",
                "    )\r\n",
                "  )\r\n",
                "WHERE\r\n",
                "  (\r\n",
                "    sat.HashDiff != stg.HashDiff\r\n",
                "    OR sat.HashDiff IS NULL\r\n",
                "  )\r\n",
                "\"\"\";\r\n",
                "conn.execute(sql_query)\r\n",
                "conn.commit()"
            ],
            "metadata": {
                "language": "python",
                "azdata_cell_guid": "31a7a09f-8a7d-4eaa-b412-5ef4c62ffaf9"
            },
            "outputs": [],
            "execution_count": 19
        }
    ]
}