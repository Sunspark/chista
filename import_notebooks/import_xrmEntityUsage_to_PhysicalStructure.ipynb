{
    "metadata": {
        "kernelspec": {
            "name": "python3",
            "display_name": "Python 3",
            "language": "python"
        },
        "language_info": {
            "name": "python",
            "version": "3.8.10",
            "mimetype": "text/x-python",
            "codemirror_mode": {
                "name": "ipython",
                "version": 3
            },
            "pygments_lexer": "ipython3",
            "nbconvert_exporter": "python",
            "file_extension": ".py"
        }
    },
    "nbformat_minor": 2,
    "nbformat": 4,
    "cells": [
        {
            "cell_type": "markdown",
            "source": [
                "Imports an Excel book from XRM toolbox<span style=\"color: var(--vscode-foreground);\">, and a count of attributes per entity from the vault,</span> <span style=\"color: var(--vscode-foreground);\">&nbsp;to the Phyiscal Structure Usage satellite</span>\n",
                "\n",
                "XRM Toolbox\n",
                "\n",
                "Tool: Entity Usage\n",
                "\n",
                "  \\> Inspect\n",
                "\n",
                "  \\> Count\n",
                "\n",
                "  \\> Export"
            ],
            "metadata": {
                "azdata_cell_guid": "531af596-b670-42a3-88ac-c39f75746049"
            },
            "attachments": {}
        },
        {
            "cell_type": "code",
            "source": [
                "import sqlite3\r\n",
                "import pandas as pd\r\n",
                "import numpy as np\r\n",
                "from datetime import datetime\r\n",
                "import sys\r\n",
                "sys.path.append('../')\r\n",
                "from user_packages import hashing"
            ],
            "metadata": {
                "azdata_cell_guid": "c10dcfc6-36c9-4f3f-a734-926a9e408a39",
                "language": "python"
            },
            "outputs": [],
            "execution_count": 26
        },
        {
            "cell_type": "code",
            "source": [
                "# Set variables\r\n",
                "target_model_name = 'net.always.green'\r\n",
                "source_file_name = 'ipc_train_entityusage.xlsx'\r\n",
                "source_file_path = ''\r\n",
                "\r\n",
                "record_source = 'XRMEntityUsage'\r\n",
                "SystemKeyPhrase = 'iPropertyCloud' # this should come from the System Hub\r\n",
                "SERVER_NAME = 'ipctrain.crm11.dynamics.com' # the server you harvested from"
            ],
            "metadata": {
                "language": "python",
                "azdata_cell_guid": "e5359312-dbdd-4aa9-93d7-cc8f3ef5e948"
            },
            "outputs": [],
            "execution_count": 27
        },
        {
            "cell_type": "code",
            "source": [
                "# Load spreadsheet\r\n",
                "xl = pd.ExcelFile(source_file_name)\r\n",
                "# load db\r\n",
                "conn = sqlite3.connect('../full_metadata.db')"
            ],
            "metadata": {
                "language": "python",
                "azdata_cell_guid": "768ff405-6ce8-4c6a-a5e3-106c5e5666b1"
            },
            "outputs": [],
            "execution_count": 28
        },
        {
            "cell_type": "code",
            "source": [
                "df = xl.parse(xl.sheet_names[0])\r\n",
                "df = df.replace({np.nan: None})\r\n",
                "df = df.drop('IsNoPrivilege', axis=1)\r\n",
                "\r\n",
                "#df"
            ],
            "metadata": {
                "language": "python",
                "azdata_cell_guid": "63b4cb75-6af1-435a-9432-6797ccd1522a"
            },
            "outputs": [],
            "execution_count": 29
        },
        {
            "cell_type": "code",
            "source": [
                "# Get a frame with the attribute counts\r\n",
                "sql_query = \"\"\"\r\n",
                "SELECT\r\n",
                "  \"entity_logical_name\" AS EntitySchemaName -- yes, I know. The tool says schema name, but its the logical name\r\n",
                "  , AttributeCount AS CountAttributes\r\n",
                "FROM\r\n",
                "  bv_DataversePhysicalStructureAttributeCount\r\n",
                "WHERE\r\n",
                "  SERVER_NAME = ?\r\n",
                "\"\"\";\r\n",
                "df_count = pd.read_sql_query(sql_query, conn, params = [SERVER_NAME])\r\n",
                "\r\n",
                "#df_count"
            ],
            "metadata": {
                "language": "python",
                "azdata_cell_guid": "5e67f4fd-560f-48c9-9776-ce19d5fdc49f"
            },
            "outputs": [],
            "execution_count": 30
        },
        {
            "cell_type": "code",
            "source": [
                "# Join the count to the main df\r\n",
                "df = df.merge(df_count, on='EntitySchemaName', how='left').astype({'CountAttributes': 'Int64'})\r\n",
                "\r\n",
                "#df"
            ],
            "metadata": {
                "language": "python",
                "azdata_cell_guid": "b08a0dec-ab35-46dd-95a3-13c45a9f5174"
            },
            "outputs": [],
            "execution_count": 31
        },
        {
            "cell_type": "code",
            "source": [
                "# add extra columns\r\n",
                "\r\n",
                "# columns with variable data\r\n",
                "df['RecordSource'] = record_source\r\n",
                "df['LoadDate'] = datetime.now()\r\n",
                "df['SystemKeyPhrase'] = SystemKeyPhrase\r\n",
                "df['SERVER_NAME'] = SERVER_NAME\r\n",
                "\r\n",
                "# derive keyphrase columns\r\n",
                "df['PhysicalStructureKeyPhrase'] = df.apply(\r\n",
                "  lambda row: \r\n",
                "    row['SERVER_NAME']\r\n",
                "    # Dataverse doesn't have a DB or Schema name. There's only one DB (and you can't see it's name). There's only one Schema (and you can't see it's name).\r\n",
                "    + '.' + row['EntityName'] # The Logical Name is the unique, not Schema Name\r\n",
                "  , axis=1\r\n",
                ")\r\n",
                "\r\n",
                "# hash the keyphrases\r\n",
                "df = hashing.add_md5_hash_column(\r\n",
                "  df\r\n",
                "  , md5_column_name = 'PhysicalStructureHashKey'\r\n",
                "  , columns = ['PhysicalStructureKeyPhrase']\r\n",
                ")\r\n",
                "\r\n",
                "# hash the payload\r\n",
                "df = hashing.add_md5_hash_column(\r\n",
                "  df\r\n",
                "  , md5_column_name = 'HashDiff'\r\n",
                "  , columns = [\r\n",
                "      'EntityName'\r\n",
                "    , 'EntitySchemaName'\r\n",
                "    , 'CountCustomAttributes'\r\n",
                "    , 'CountRows'\r\n",
                "    , 'ErrorMessage'\r\n",
                "    , 'CountAttributes'\r\n",
                "    , 'SERVER_NAME'\r\n",
                "  ]\r\n",
                ")\r\n",
                "\r\n",
                "#df"
            ],
            "metadata": {
                "language": "python",
                "azdata_cell_guid": "e430819c-124f-4c94-9469-fd931fda69ab"
            },
            "outputs": [],
            "execution_count": 32
        },
        {
            "cell_type": "code",
            "source": [
                "# Clear down and Write to staging\r\n",
                "conn.execute(\"DELETE FROM stg_Py_XRMExcelUsageToPhysicalStructure\")\r\n",
                "conn.commit()\r\n",
                "df.to_sql('stg_Py_XRMExcelUsageToPhysicalStructure', conn, if_exists='append', index=False)"
            ],
            "metadata": {
                "azdata_cell_guid": "9f727c11-405a-428f-9f34-6994a5ded859",
                "language": "python"
            },
            "outputs": [
                {
                    "output_type": "execute_result",
                    "execution_count": 33,
                    "data": {
                        "text/plain": "1411"
                    },
                    "metadata": {}
                }
            ],
            "execution_count": 33
        },
        {
            "cell_type": "code",
            "source": [
                "# Write to the Satellite (PhysicalStructure_XRMEntityUsage)\r\n",
                "sql_query = \"\"\"\r\n",
                "INSERT INTO rv_s_PhysicalStructure_XRMEntityUsage\r\n",
                "(\r\n",
                "    PhysicalStructureHashKey\r\n",
                "  , LoadDate\r\n",
                "  , RecordSource\r\n",
                "  , HashDiff\r\n",
                "\r\n",
                "  , \"SERVER_NAME\"\r\n",
                "  , \"EntityName\"\r\n",
                "  , \"EntitySchemaName\"\r\n",
                "  , \"CountCustomAttributes\"\r\n",
                "  , \"CountRows\"\r\n",
                "  , \"ErrorMessage\"\r\n",
                "  , \"CountAttributes\"\r\n",
                "\r\n",
                ")\r\n",
                "SELECT DISTINCT\r\n",
                "    stg.PhysicalStructureHashKey\r\n",
                "  , stg.LoadDate\r\n",
                "  , stg.RecordSource\r\n",
                "  , stg.HashDiff\r\n",
                "  \r\n",
                "  , stg.\"SERVER_NAME\"\r\n",
                "  , stg.\"EntityName\"\r\n",
                "  , stg.\"EntitySchemaName\"\r\n",
                "  , stg.\"CountCustomAttributes\"\r\n",
                "  , stg.\"CountRows\"\r\n",
                "  , stg.\"ErrorMessage\"\r\n",
                "  , stg.\"CountAttributes\"\r\n",
                "\r\n",
                "FROM\r\n",
                "  stg_Py_XRMExcelUsageToPhysicalStructure AS stg\r\n",
                "  LEFT OUTER JOIN rv_s_PhysicalStructure_XRMEntityUsage AS sat ON (\r\n",
                "    stg.PhysicalStructureHashKey = sat.PhysicalStructureHashKey\r\n",
                "    AND sat.LoadDate = (\r\n",
                "      SELECT MAX(z.LoadDate)\r\n",
                "      FROM rv_s_PhysicalStructure_XRMEntityUsage AS z\r\n",
                "      WHERE z.PhysicalStructureHashKey = sat.PhysicalStructureHashKey\r\n",
                "    )\r\n",
                "  )\r\n",
                "WHERE\r\n",
                "  (\r\n",
                "    sat.HashDiff != stg.HashDiff\r\n",
                "    OR sat.HashDiff IS NULL\r\n",
                "  )\r\n",
                "\"\"\";\r\n",
                "conn.execute(sql_query)\r\n",
                "conn.commit()"
            ],
            "metadata": {
                "language": "python",
                "azdata_cell_guid": "83133f95-cda7-479f-ab12-5d5f67747088"
            },
            "outputs": [],
            "execution_count": 34
        }
    ]
}