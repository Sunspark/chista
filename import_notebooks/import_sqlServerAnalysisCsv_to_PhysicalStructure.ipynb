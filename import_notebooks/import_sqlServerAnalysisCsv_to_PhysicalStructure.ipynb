{
    "metadata": {
        "kernelspec": {
            "name": "python3",
            "display_name": "Python 3",
            "language": "python"
        },
        "language_info": {
            "name": "python",
            "version": "3.8.10",
            "mimetype": "text/x-python",
            "codemirror_mode": {
                "name": "ipython",
                "version": 3
            },
            "pygments_lexer": "ipython3",
            "nbconvert_exporter": "python",
            "file_extension": ".py"
        }
    },
    "nbformat_minor": 2,
    "nbformat": 4,
    "cells": [
        {
            "cell_type": "code",
            "source": [
                "import sqlite3\r\n",
                "import pandas as pd\r\n",
                "import numpy as np\r\n",
                "from datetime import datetime\r\n",
                "import sys\r\n",
                "sys.path.append('../')\r\n",
                "from user_packages import hashing\r\n",
                ""
            ],
            "metadata": {
                "azdata_cell_guid": "672badc8-e7ca-40ae-9757-d4230664d7e9",
                "language": "python"
            },
            "outputs": [],
            "execution_count": 1
        },
        {
            "cell_type": "code",
            "source": [
                "# set variables\r\n",
                "target_model_name = 'excited.skirt.earth'\r\n",
                "source_file_name = 'OH_repair_tables_analysis.csv'\r\n",
                "source_file_path = ''\r\n",
                "\r\n",
                "record_source = 'SQLServerAnalysis'\r\n",
                "SystemKeyPhrase = 'OpenHousing' # this should come from the System Hub\r\n",
                ""
            ],
            "metadata": {
                "language": "python",
                "azdata_cell_guid": "9dbe51f1-04dd-483a-a0ec-faf94cd1d451"
            },
            "outputs": [],
            "execution_count": 2
        },
        {
            "cell_type": "code",
            "source": [
                "# db connect\r\n",
                "conn = sqlite3.connect('../full_metadata.db')"
            ],
            "metadata": {
                "language": "python",
                "azdata_cell_guid": "f4e02745-61a5-4239-80b6-630d64c4469f"
            },
            "outputs": [],
            "execution_count": 3
        },
        {
            "cell_type": "code",
            "source": [
                "# read table to df\r\n",
                "df = pd.read_csv(source_file_name)\r\n",
                "df = df.replace({np.nan: None})\r\n",
                "\r\n",
                "\r\n",
                "#df"
            ],
            "metadata": {
                "language": "python",
                "azdata_cell_guid": "10837988-346a-44d7-8372-86644939c22c"
            },
            "outputs": [],
            "execution_count": 4
        },
        {
            "cell_type": "code",
            "source": [
                "# add extra columns\r\n",
                "\r\n",
                "# columns with variable data\r\n",
                "df['RecordSource'] = record_source\r\n",
                "df['LoadDate'] = datetime.now()\r\n",
                "df['SystemKeyPhrase'] = SystemKeyPhrase\r\n",
                "\r\n",
                "\r\n",
                "# derive keyphrase columns\r\n",
                "df['PhysicalStructureKeyPhrase'] = df.apply(\r\n",
                "  lambda row: \r\n",
                "    row['SERVER_NAME']\r\n",
                "    + '.' + row['DATABASE_NAME']\r\n",
                "    + '.' + row['SCHEMA_NAME']\r\n",
                "    + '.' + row['TABLE_NAME']\r\n",
                "  , axis=1\r\n",
                ")\r\n",
                "\r\n",
                "# hash the keyphrases\r\n",
                "df = hashing.add_md5_hash_column(\r\n",
                "  df\r\n",
                "  , md5_column_name = 'PhysicalStructureHashKey'\r\n",
                "  , columns = ['PhysicalStructureKeyPhrase']\r\n",
                ")\r\n",
                "\r\n",
                "\r\n",
                "# hash the payload\r\n",
                "df = hashing.add_md5_hash_column(\r\n",
                "  df\r\n",
                "  , md5_column_name = 'HashDiff'\r\n",
                "  , columns = [\r\n",
                "      'SERVER_NAME'\r\n",
                "    , 'DATABASE_NAME'\r\n",
                "    , 'SCHEMA_NAME'\r\n",
                "    , 'TABLE_NAME'\r\n",
                "    , 'ROW_COUNT'\r\n",
                "    , 'TABLE_TYPE'\r\n",
                "    , 'TABLE_TYPE_DESCRIPTION'\r\n",
                "    , 'COLUMN_COUNT'\r\n",
                "    , 'TABLE_DESCRIPTION'\r\n",
                "  ]\r\n",
                ")\r\n",
                "\r\n",
                "#df"
            ],
            "metadata": {
                "language": "python",
                "azdata_cell_guid": "c9376850-4b05-4849-b7e4-0c639c6dd938"
            },
            "outputs": [],
            "execution_count": 5
        },
        {
            "cell_type": "code",
            "source": [
                "df_reference_tag = df.drop(\r\n",
                "  [\r\n",
                "      'ROW_COUNT'\r\n",
                "    , 'TABLE_TYPE'\r\n",
                "    , 'TABLE_TYPE_DESCRIPTION'\r\n",
                "    , 'COLUMN_COUNT'\r\n",
                "    , 'TABLE_DESCRIPTION'\r\n",
                "\r\n",
                "    , 'SERVER_NAME'\r\n",
                "    , 'DATABASE_NAME'\r\n",
                "    , 'SCHEMA_NAME'\r\n",
                "    , 'TABLE_NAME'\r\n",
                "    , 'HashDiff'\r\n",
                "    , 'PhysicalStructureKeyPhrase'\r\n",
                "    , 'SystemKeyPhrase'\r\n",
                "  ]\r\n",
                "  , axis=1\r\n",
                ")\r\n",
                "df = df.drop('IS_REFERENCE', axis=1)\r\n",
                "\r\n",
                "#df_reference_tag"
            ],
            "metadata": {
                "language": "python",
                "azdata_cell_guid": "5622ae5c-57a3-4626-941d-ac66b4a8c54f"
            },
            "outputs": [],
            "execution_count": 6
        },
        {
            "cell_type": "code",
            "source": [
                "# Clear down and Write to staging\r\n",
                "conn.execute(\"DELETE FROM stg_Py_SqlServerCsvToPhysicalStructure\")\r\n",
                "conn.commit()\r\n",
                "df.to_sql('stg_Py_SqlServerCsvToPhysicalStructure', conn, if_exists='append', index=False)"
            ],
            "metadata": {
                "language": "python",
                "azdata_cell_guid": "5c21a646-66ff-451f-87a9-e14d07267ad0"
            },
            "outputs": [
                {
                    "output_type": "execute_result",
                    "execution_count": 23,
                    "data": {
                        "text/plain": "37"
                    },
                    "metadata": {}
                }
            ],
            "execution_count": 23
        },
        {
            "cell_type": "code",
            "source": [
                "# Write to the Hub (PhysicalStructure)\r\n",
                "# NO, we are not creating new structures"
            ],
            "metadata": {
                "language": "python",
                "azdata_cell_guid": "6484429d-f75d-4ecd-9e04-ed3671a5be84"
            },
            "outputs": [],
            "execution_count": 45
        },
        {
            "cell_type": "code",
            "source": [
                "# Write to the Satellite (PhysicalStructure_SqlServerScrape)\r\n",
                "sql_query = \"\"\"\r\n",
                "INSERT INTO rv_s_PhysicalStructure_SqlServerScrape\r\n",
                "(\r\n",
                "    PhysicalStructureHashKey\r\n",
                "  , LoadDate\r\n",
                "  , RecordSource\r\n",
                "  , HashDiff\r\n",
                "\r\n",
                "  , SERVER_NAME\r\n",
                "  , \"DATABASE_NAME\"\r\n",
                "  , SCHEMA_NAME\r\n",
                "  , TABLE_NAME\r\n",
                "  , ROW_COUNT\r\n",
                "  , TABLE_TYPE\r\n",
                "  , TABLE_TYPE_DESCRIPTION\r\n",
                "  , COLUMN_COUNT\r\n",
                "  , TABLE_DESCRIPTION\r\n",
                "\r\n",
                ")\r\n",
                "SELECT DISTINCT\r\n",
                "    stg.PhysicalStructureHashKey\r\n",
                "  , stg.LoadDate\r\n",
                "  , stg.RecordSource\r\n",
                "  , stg.HashDiff\r\n",
                "  \r\n",
                "  , stg.SERVER_NAME\r\n",
                "  , stg.\"DATABASE_NAME\"\r\n",
                "  , stg.SCHEMA_NAME\r\n",
                "  , stg.TABLE_NAME\r\n",
                "  , stg.ROW_COUNT\r\n",
                "  , stg.TABLE_TYPE\r\n",
                "  , stg.TABLE_TYPE_DESCRIPTION\r\n",
                "  , stg.COLUMN_COUNT\r\n",
                "  , stg.TABLE_DESCRIPTION\r\n",
                "\r\n",
                "FROM\r\n",
                "  stg_Py_SqlServerCsvToPhysicalStructure AS stg\r\n",
                "  LEFT OUTER JOIN rv_s_PhysicalStructure_SqlServerScrape AS sat ON (\r\n",
                "    stg.PhysicalStructureHashKey = sat.PhysicalStructureHashKey\r\n",
                "    AND sat.LoadDate = (\r\n",
                "      SELECT MAX(z.LoadDate)\r\n",
                "      FROM rv_s_PhysicalStructure_SqlServerScrape AS z\r\n",
                "      WHERE z.PhysicalStructureHashKey = sat.PhysicalStructureHashKey\r\n",
                "    )\r\n",
                "  )\r\n",
                "WHERE\r\n",
                "  (\r\n",
                "    sat.HashDiff != stg.HashDiff\r\n",
                "    OR sat.HashDiff IS NULL\r\n",
                "  )\r\n",
                "\"\"\";\r\n",
                "conn.execute(sql_query)\r\n",
                "conn.commit()"
            ],
            "metadata": {
                "language": "python",
                "azdata_cell_guid": "1925ee9b-a3b2-4c3f-81f8-35227daa7822"
            },
            "outputs": [],
            "execution_count": 24
        },
        {
            "cell_type": "code",
            "source": [
                "# No inserting to links - this type of sheet shouldn't have created new Structures"
            ],
            "metadata": {
                "azdata_cell_guid": "4c73213f-675f-4974-bd6a-7d7fc0f73b30",
                "language": "python"
            },
            "outputs": [],
            "execution_count": null
        },
        {
            "cell_type": "code",
            "source": [
                "# Clear down and Write to staging\r\n",
                "conn.execute(\"DELETE FROM stg_Py_SqlServerAnalysisCsvToPhysicalStructureTag\")\r\n",
                "conn.commit()\r\n",
                "df_reference_tag.to_sql('stg_Py_SqlServerAnalysisCsvToPhysicalStructureTag', conn, if_exists='append', index=False)"
            ],
            "metadata": {
                "language": "python",
                "azdata_cell_guid": "d2cfd4d4-b42c-4e93-bad2-dd67cac8b80c"
            },
            "outputs": [
                {
                    "output_type": "execute_result",
                    "execution_count": 30,
                    "data": {
                        "text/plain": "37"
                    },
                    "metadata": {}
                }
            ],
            "execution_count": 30
        },
        {
            "cell_type": "code",
            "source": [
                "# Then it all becomes a bit of a hack, because what we want to do now isn't really determined by what's in the sheet.\r\n",
                "# Plus, we are working with what is effectively an effectivity satellite on a hub...\r\n",
                "\r\n",
                "# Set the 'is reference' tag onto those tables that are reference\r\n",
                "sql_query = \"\"\"\r\n",
                "WITH\r\n",
                "current_tags AS ( -- gets the active tags that are on the Structures in the stg table\r\n",
                "  SELECT\r\n",
                "      sat.PhysicalStructureHashKey\r\n",
                "    , sat.Tag\r\n",
                "    , sat.StartDate\r\n",
                "    , sat.EndDate\r\n",
                "  FROM\r\n",
                "    rv_s_PhysicalStructure_AnalysisTag sat\r\n",
                "    INNER JOIN stg_Py_SqlServerAnalysisCsvToPhysicalStructureTag stg ON (\r\n",
                "      sat.PhysicalStructureHashKey = stg.PhysicalStructureHashKey\r\n",
                "      AND sat.LoadDate = (\r\n",
                "        SELECT MAX(z.LoadDate)\r\n",
                "        FROM rv_s_PhysicalStructure_AnalysisTag AS z\r\n",
                "        WHERE z.PhysicalStructureHashKey = sat.PhysicalStructureHashKey\r\n",
                "      )\r\n",
                "    )\r\n",
                "  WHERE\r\n",
                "    sat.EndDate IS NULL\r\n",
                ")\r\n",
                "INSERT INTO rv_s_PhysicalStructure_AnalysisTag\r\n",
                "(\r\n",
                "    PhysicalStructureHashKey\r\n",
                "  , LoadDate\r\n",
                "  , RecordSource\r\n",
                "\r\n",
                "  , Tag\r\n",
                "  , StartDate\r\n",
                "\r\n",
                ")\r\n",
                "SELECT DISTINCT\r\n",
                "    stg.PhysicalStructureHashKey\r\n",
                "  , stg.LoadDate\r\n",
                "  , stg.RecordSource\r\n",
                "  \r\n",
                "  , 'Reference Data'\r\n",
                "  , stg.LoadDate\r\n",
                "\r\n",
                "FROM\r\n",
                "  stg_Py_SqlServerAnalysisCsvToPhysicalStructureTag AS stg\r\n",
                "  LEFT OUTER JOIN current_tags AS sat ON (\r\n",
                "    stg.PhysicalStructureHashKey = sat.PhysicalStructureHashKey\r\n",
                "  )\r\n",
                "WHERE\r\n",
                "  (\r\n",
                "    sat.Tag != 'Reference Data'\r\n",
                "    OR sat.Tag IS NULL\r\n",
                "  )\r\n",
                "  AND stg.IS_REFERENCE = 'Y'\r\n",
                "\"\"\";\r\n",
                "#conn.execute(sql_query)\r\n",
                "#conn.commit()\r\n",
                ""
            ],
            "metadata": {
                "language": "python",
                "azdata_cell_guid": "912e4219-4595-4eb3-8e9b-03f42b6cd7ca"
            },
            "outputs": [],
            "execution_count": null
        },
        {
            "cell_type": "code",
            "source": [
                "# Set the 'repairs' tag on all the tables\r\n",
                "sql_query = \"\"\"\r\n",
                "WITH\r\n",
                "current_tags AS ( -- gets the active tags that are on the Structures in the stg table\r\n",
                "  SELECT\r\n",
                "      sat.PhysicalStructureHashKey\r\n",
                "    , sat.Tag\r\n",
                "    , sat.StartDate\r\n",
                "    , sat.EndDate\r\n",
                "  FROM\r\n",
                "    rv_s_PhysicalStructure_AnalysisTag sat\r\n",
                "    INNER JOIN stg_Py_SqlServerAnalysisCsvToPhysicalStructureTag stg ON (\r\n",
                "      sat.PhysicalStructureHashKey = stg.PhysicalStructureHashKey\r\n",
                "      AND sat.LoadDate = (\r\n",
                "        SELECT MAX(z.LoadDate)\r\n",
                "        FROM rv_s_PhysicalStructure_AnalysisTag AS z\r\n",
                "        WHERE z.PhysicalStructureHashKey = sat.PhysicalStructureHashKey\r\n",
                "      )\r\n",
                "    )\r\n",
                "  WHERE\r\n",
                "    sat.EndDate IS NULL\r\n",
                ")\r\n",
                "INSERT INTO rv_s_PhysicalStructure_AnalysisTag\r\n",
                "(\r\n",
                "    PhysicalStructureHashKey\r\n",
                "  , LoadDate\r\n",
                "  , RecordSource\r\n",
                "\r\n",
                "  , Tag\r\n",
                "  , StartDate\r\n",
                "\r\n",
                ")\r\n",
                "SELECT DISTINCT\r\n",
                "    stg.PhysicalStructureHashKey\r\n",
                "  , stg.LoadDate\r\n",
                "  , stg.RecordSource\r\n",
                "  \r\n",
                "  , 'Repairs'\r\n",
                "  , stg.LoadDate\r\n",
                "\r\n",
                "FROM\r\n",
                "  stg_Py_SqlServerAnalysisCsvToPhysicalStructureTag AS stg\r\n",
                "  LEFT OUTER JOIN current_tags AS sat ON (\r\n",
                "    stg.PhysicalStructureHashKey = sat.PhysicalStructureHashKey\r\n",
                "  )\r\n",
                "WHERE\r\n",
                "  (\r\n",
                "    sat.Tag != 'Repairs'\r\n",
                "    OR sat.Tag IS NULL\r\n",
                "  )\r\n",
                "\"\"\";\r\n",
                "#conn.execute(sql_query)\r\n",
                "#conn.commit()"
            ],
            "metadata": {
                "azdata_cell_guid": "3c714ba7-5665-4daa-9a31-04b6622df15a",
                "language": "python"
            },
            "outputs": [],
            "execution_count": null
        }
    ]
}