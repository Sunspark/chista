{
    "metadata": {
        "kernelspec": {
            "name": "python3",
            "display_name": "Python 3",
            "language": "python"
        },
        "language_info": {
            "name": "python",
            "version": "3.8.10",
            "mimetype": "text/x-python",
            "codemirror_mode": {
                "name": "ipython",
                "version": 3
            },
            "pygments_lexer": "ipython3",
            "nbconvert_exporter": "python",
            "file_extension": ".py"
        }
    },
    "nbformat_minor": 2,
    "nbformat": 4,
    "cells": [
        {
            "cell_type": "code",
            "source": [
                "import sqlite3\r\n",
                "import pandas as pd\r\n",
                "import numpy as np\r\n",
                "from datetime import datetime\r\n",
                "import sys\r\n",
                "sys.path.append('../')\r\n",
                "from user_packages import hashing\r\n",
                ""
            ],
            "metadata": {
                "azdata_cell_guid": "672badc8-e7ca-40ae-9757-d4230664d7e9",
                "language": "python"
            },
            "outputs": [],
            "execution_count": 1
        },
        {
            "cell_type": "code",
            "source": [
                "# set variables\r\n",
                "target_model_name = 'excited.skirt.earth'\r\n",
                "source_file_name = 'OH_repair_columns_analysis.csv'\r\n",
                "source_file_path = ''\r\n",
                "\r\n",
                "record_source = 'SQLServerAnalysis'\r\n",
                "SystemKeyPhrase = 'OpenHousing' # this should come from the System Hub\r\n",
                ""
            ],
            "metadata": {
                "language": "python",
                "azdata_cell_guid": "9dbe51f1-04dd-483a-a0ec-faf94cd1d451"
            },
            "outputs": [],
            "execution_count": 2
        },
        {
            "cell_type": "code",
            "source": [
                "# db connect\r\n",
                "conn = sqlite3.connect('../full_metadata.db')"
            ],
            "metadata": {
                "language": "python",
                "azdata_cell_guid": "f4e02745-61a5-4239-80b6-630d64c4469f"
            },
            "outputs": [],
            "execution_count": 3
        },
        {
            "cell_type": "code",
            "source": [
                "# read table to df\r\n",
                "dtypeDict = {\r\n",
                "    'CHARACTER_MAXIMUM_LENGTH': 'Int64'\r\n",
                "  , 'CHARACTER_OCTET_LENGTH': 'Int64'\r\n",
                "  , 'NUMERIC_PRECISION': 'Int64'\r\n",
                "  , 'NUMERIC_PRECISION_RADIX': 'Int64'\r\n",
                "  , 'NUMERIC_SCALE': 'Int64'\r\n",
                "  , 'DATETIME_PRECISION': 'Int64'\r\n",
                "}\r\n",
                "#, nrows=10\r\n",
                "df = pd.read_csv(source_file_name, dtype = dtypeDict)\r\n",
                "df = df.replace({np.nan: None})\r\n",
                "\r\n",
                "\r\n",
                "#df"
            ],
            "metadata": {
                "language": "python",
                "azdata_cell_guid": "10837988-346a-44d7-8372-86644939c22c"
            },
            "outputs": [
                {
                    "traceback": [
                        "\u001b[1;31m---------------------------------------------------------------------------\u001b[0m",
                        "\u001b[1;31mNameError\u001b[0m                                 Traceback (most recent call last)",
                        "Cell \u001b[1;32mIn[1], line 11\u001b[0m\n\u001b[0;32m      2\u001b[0m dtypeDict \u001b[38;5;241m=\u001b[39m {\n\u001b[0;32m      3\u001b[0m     \u001b[38;5;124m'\u001b[39m\u001b[38;5;124mCHARACTER_MAXIMUM_LENGTH\u001b[39m\u001b[38;5;124m'\u001b[39m: \u001b[38;5;124m'\u001b[39m\u001b[38;5;124mInt64\u001b[39m\u001b[38;5;124m'\u001b[39m\n\u001b[0;32m      4\u001b[0m   , \u001b[38;5;124m'\u001b[39m\u001b[38;5;124mCHARACTER_OCTET_LENGTH\u001b[39m\u001b[38;5;124m'\u001b[39m: \u001b[38;5;124m'\u001b[39m\u001b[38;5;124mInt64\u001b[39m\u001b[38;5;124m'\u001b[39m\n\u001b[1;32m   (...)\u001b[0m\n\u001b[0;32m      8\u001b[0m   , \u001b[38;5;124m'\u001b[39m\u001b[38;5;124mDATETIME_PRECISION\u001b[39m\u001b[38;5;124m'\u001b[39m: \u001b[38;5;124m'\u001b[39m\u001b[38;5;124mInt64\u001b[39m\u001b[38;5;124m'\u001b[39m\n\u001b[0;32m      9\u001b[0m }\n\u001b[0;32m     10\u001b[0m \u001b[38;5;66;03m#, nrows=10\u001b[39;00m\n\u001b[1;32m---> 11\u001b[0m df \u001b[38;5;241m=\u001b[39m \u001b[43mpd\u001b[49m\u001b[38;5;241m.\u001b[39mread_csv(source_file_name, dtype \u001b[38;5;241m=\u001b[39m dtypeDict)\n\u001b[0;32m     12\u001b[0m df \u001b[38;5;241m=\u001b[39m df\u001b[38;5;241m.\u001b[39mreplace({np\u001b[38;5;241m.\u001b[39mnan: \u001b[38;5;28;01mNone\u001b[39;00m})\n\u001b[0;32m     15\u001b[0m \u001b[38;5;66;03m#df\u001b[39;00m\n",
                        "\u001b[1;31mNameError\u001b[0m: name 'pd' is not defined"
                    ],
                    "ename": "NameError",
                    "evalue": "name 'pd' is not defined",
                    "output_type": "error"
                }
            ],
            "execution_count": 1
        },
        {
            "cell_type": "code",
            "source": [
                "# add extra columns\r\n",
                "\r\n",
                "# columns with variable data\r\n",
                "df['RecordSource'] = record_source\r\n",
                "df['LoadDate'] = datetime.now()\r\n",
                "df['SystemKeyPhrase'] = SystemKeyPhrase\r\n",
                "\r\n",
                "\r\n",
                "# derive keyphrase columns\r\n",
                "df['PhysicalAttributeKeyPhrase'] = df.apply(\r\n",
                "  lambda row: \r\n",
                "    row['SERVER_NAME']\r\n",
                "    + '.' + row['DATABASE_NAME']\r\n",
                "    + '.' + row['SCHEMA_NAME']\r\n",
                "    + '.' + row['TABLE_NAME']\r\n",
                "    + '.' + row['COLUMN_NAME']\r\n",
                "  , axis=1\r\n",
                ")\r\n",
                "\r\n",
                "\r\n",
                "# hash the keyphrases\r\n",
                "df = hashing.add_md5_hash_column(\r\n",
                "  df\r\n",
                "  , md5_column_name = 'PhysicalAttributeHashKey'\r\n",
                "  , columns = ['PhysicalAttributeKeyPhrase']\r\n",
                ")\r\n",
                "\r\n",
                "\r\n",
                "# hash the payload\r\n",
                "df = hashing.add_md5_hash_column(\r\n",
                "  df\r\n",
                "  , md5_column_name = 'HashDiff'\r\n",
                "  , columns = [\r\n",
                "      'SERVER_NAME'\r\n",
                "    , 'DATABASE_NAME'\r\n",
                "    , 'SCHEMA_NAME'\r\n",
                "    , 'TABLE_NAME'\r\n",
                "    , 'COLUMN_NAME'\r\n",
                "\r\n",
                "    , 'ORDINAL_POSITION'\r\n",
                "    , 'COLUMN_DEFAULT'\r\n",
                "    , 'IS_NULLABLE'\r\n",
                "    , 'DATA_TYPE'\r\n",
                "    , 'CHARACTER_MAXIMUM_LENGTH'\r\n",
                "    , 'CHARACTER_OCTET_LENGTH'\r\n",
                "    , 'NUMERIC_PRECISION'\r\n",
                "    , 'NUMERIC_PRECISION_RADIX'\r\n",
                "    , 'NUMERIC_SCALE'\r\n",
                "    , 'DATETIME_PRECISION'\r\n",
                "    , 'CHARACTER_SET_CATALOG'\r\n",
                "    , 'CHARACTER_SET_SCHEMA'\r\n",
                "    , 'CHARACTER_SET_NAME'\r\n",
                "    , 'COLLATION_CATALOG'\r\n",
                "    , 'COLLATION_SCHEMA'\r\n",
                "    , 'COLLATION_NAME'\r\n",
                "    , 'DOMAIN_CATALOG'\r\n",
                "    , 'DOMAIN_SCHEMA'\r\n",
                "    , 'DOMAIN_NAME'\r\n",
                "    , 'COLUMN_DESCRIPTION'\r\n",
                "  ]\r\n",
                ")\r\n",
                "\r\n",
                "#df"
            ],
            "metadata": {
                "language": "python",
                "azdata_cell_guid": "c9376850-4b05-4849-b7e4-0c639c6dd938"
            },
            "outputs": [
                {
                    "traceback": [
                        "\u001b[1;31m---------------------------------------------------------------------------\u001b[0m",
                        "\u001b[1;31mNameError\u001b[0m                                 Traceback (most recent call last)",
                        "Cell \u001b[1;32mIn[2], line 4\u001b[0m\n\u001b[0;32m      1\u001b[0m \u001b[38;5;66;03m# add extra columns\u001b[39;00m\n\u001b[0;32m      2\u001b[0m \n\u001b[0;32m      3\u001b[0m \u001b[38;5;66;03m# columns with variable data\u001b[39;00m\n\u001b[1;32m----> 4\u001b[0m df[\u001b[38;5;124m'\u001b[39m\u001b[38;5;124mRecordSource\u001b[39m\u001b[38;5;124m'\u001b[39m] \u001b[38;5;241m=\u001b[39m \u001b[43mrecord_source\u001b[49m\n\u001b[0;32m      5\u001b[0m df[\u001b[38;5;124m'\u001b[39m\u001b[38;5;124mLoadDate\u001b[39m\u001b[38;5;124m'\u001b[39m] \u001b[38;5;241m=\u001b[39m datetime\u001b[38;5;241m.\u001b[39mnow()\n\u001b[0;32m      6\u001b[0m df[\u001b[38;5;124m'\u001b[39m\u001b[38;5;124mSystemKeyPhrase\u001b[39m\u001b[38;5;124m'\u001b[39m] \u001b[38;5;241m=\u001b[39m SystemKeyPhrase\n",
                        "\u001b[1;31mNameError\u001b[0m: name 'record_source' is not defined"
                    ],
                    "ename": "NameError",
                    "evalue": "name 'record_source' is not defined",
                    "output_type": "error"
                }
            ],
            "execution_count": 2
        },
        {
            "cell_type": "code",
            "source": [
                "# Clear down and Write to staging\r\n",
                "conn.execute(\"DELETE FROM stg_Py_SqlServerCsvToPhysicalAttribute\")\r\n",
                "conn.commit()\r\n",
                "df.to_sql('stg_Py_SqlServerCsvToPhysicalAttribute', conn, if_exists='append', index=False)"
            ],
            "metadata": {
                "language": "python",
                "azdata_cell_guid": "5c21a646-66ff-451f-87a9-e14d07267ad0"
            },
            "outputs": [
                {
                    "output_type": "execute_result",
                    "execution_count": 12,
                    "data": {
                        "text/plain": "1091"
                    },
                    "metadata": {}
                }
            ],
            "execution_count": 12
        },
        {
            "cell_type": "code",
            "source": [
                "# Write to the Hub (PhysicalStructure)\r\n",
                "# NO, we are not creating new structures"
            ],
            "metadata": {
                "language": "python",
                "azdata_cell_guid": "6484429d-f75d-4ecd-9e04-ed3671a5be84"
            },
            "outputs": [],
            "execution_count": 45
        },
        {
            "cell_type": "code",
            "source": [
                "# Write to the Satellite (PhysicalAttribute_SqlServerScrape)\r\n",
                "sql_query = \"\"\"\r\n",
                "INSERT INTO rv_s_PhysicalAttribute_SqlServerScrape\r\n",
                "(\r\n",
                "    PhysicalAttributeHashKey\r\n",
                "  , LoadDate\r\n",
                "  , RecordSource\r\n",
                "  , HashDiff\r\n",
                "\r\n",
                "  , SERVER_NAME\r\n",
                "  , \"DATABASE_NAME\"\r\n",
                "  , SCHEMA_NAME\r\n",
                "  , TABLE_NAME\r\n",
                "  , COLUMN_NAME\r\n",
                "\r\n",
                "  , ORDINAL_POSITION\r\n",
                "  , COLUMN_DEFAULT\r\n",
                "  , IS_NULLABLE\r\n",
                "  , DATA_TYPE\r\n",
                "  , CHARACTER_MAXIMUM_LENGTH\r\n",
                "  , CHARACTER_OCTET_LENGTH\r\n",
                "  , NUMERIC_PRECISION\r\n",
                "  , NUMERIC_PRECISION_RADIX\r\n",
                "  , NUMERIC_SCALE\r\n",
                "  , DATETIME_PRECISION\r\n",
                "  , CHARACTER_SET_CATALOG\r\n",
                "  , CHARACTER_SET_SCHEMA\r\n",
                "  , CHARACTER_SET_NAME\r\n",
                "  , COLLATION_CATALOG\r\n",
                "  , COLLATION_SCHEMA\r\n",
                "  , COLLATION_NAME\r\n",
                "  , DOMAIN_CATALOG\r\n",
                "  , DOMAIN_SCHEMA\r\n",
                "  , DOMAIN_NAME\r\n",
                "  , COLUMN_DESCRIPTION\r\n",
                "\r\n",
                ")\r\n",
                "SELECT DISTINCT\r\n",
                "    stg.PhysicalAttributeHashKey\r\n",
                "  , stg.LoadDate\r\n",
                "  , stg.RecordSource\r\n",
                "  , stg.HashDiff\r\n",
                "  \r\n",
                "  , stg.SERVER_NAME\r\n",
                "  , stg.\"DATABASE_NAME\"\r\n",
                "  , stg.SCHEMA_NAME\r\n",
                "  , stg.TABLE_NAME\r\n",
                "  , stg.COLUMN_NAME\r\n",
                "\r\n",
                "  , stg.ORDINAL_POSITION\r\n",
                "  , stg.COLUMN_DEFAULT\r\n",
                "  , stg.IS_NULLABLE\r\n",
                "  , stg.DATA_TYPE\r\n",
                "  , stg.CHARACTER_MAXIMUM_LENGTH\r\n",
                "  , stg.CHARACTER_OCTET_LENGTH\r\n",
                "  , stg.NUMERIC_PRECISION\r\n",
                "  , stg.NUMERIC_PRECISION_RADIX\r\n",
                "  , stg.NUMERIC_SCALE\r\n",
                "  , stg.DATETIME_PRECISION\r\n",
                "  , stg.CHARACTER_SET_CATALOG\r\n",
                "  , stg.CHARACTER_SET_SCHEMA\r\n",
                "  , stg.CHARACTER_SET_NAME\r\n",
                "  , stg.COLLATION_CATALOG\r\n",
                "  , stg.COLLATION_SCHEMA\r\n",
                "  , stg.COLLATION_NAME\r\n",
                "  , stg.DOMAIN_CATALOG\r\n",
                "  , stg.DOMAIN_SCHEMA\r\n",
                "  , stg.DOMAIN_NAME\r\n",
                "  , stg.COLUMN_DESCRIPTION\r\n",
                "\r\n",
                "FROM\r\n",
                "  stg_Py_SqlServerCsvToPhysicalAttribute AS stg\r\n",
                "  LEFT OUTER JOIN rv_s_PhysicalAttribute_SqlServerScrape AS sat ON (\r\n",
                "    stg.PhysicalAttributeHashKey = sat.PhysicalAttributeHashKey\r\n",
                "    AND sat.LoadDate = (\r\n",
                "      SELECT MAX(z.LoadDate)\r\n",
                "      FROM rv_s_PhysicalAttribute_SqlServerScrape AS z\r\n",
                "      WHERE z.PhysicalAttributeHashKey = sat.PhysicalAttributeHashKey\r\n",
                "    )\r\n",
                "  )\r\n",
                "WHERE\r\n",
                "  (\r\n",
                "    sat.HashDiff != stg.HashDiff\r\n",
                "    OR sat.HashDiff IS NULL\r\n",
                "  )\r\n",
                "\"\"\";\r\n",
                "conn.execute(sql_query)\r\n",
                "conn.commit()"
            ],
            "metadata": {
                "language": "python",
                "azdata_cell_guid": "1925ee9b-a3b2-4c3f-81f8-35227daa7822"
            },
            "outputs": [],
            "execution_count": 13
        },
        {
            "cell_type": "code",
            "source": [
                "# No inserting to links - this type of sheet shouldn't have created new Attributes"
            ],
            "metadata": {
                "azdata_cell_guid": "4c73213f-675f-4974-bd6a-7d7fc0f73b30",
                "language": "python"
            },
            "outputs": [],
            "execution_count": null
        },
        {
            "cell_type": "code",
            "source": [
                "# Then it all becomes a bit of a hack, because what we want to do now isn't really determined by what's in the sheet.\r\n",
                "# Plus, we are working with what is effectively an effectivity satellite on a hub...\r\n",
                "\r\n",
                "# Set the 'PII' tag onto those tables that are reference\r\n",
                "sql_query = \"\"\"\r\n",
                "WITH\r\n",
                "current_tags AS ( -- gets the active tags that are on the Attribute in the stg table\r\n",
                "  SELECT\r\n",
                "      sat.PhysicalAttributeHashKey\r\n",
                "    , sat.Tag\r\n",
                "    , sat.StartDate\r\n",
                "    , sat.EndDate\r\n",
                "  FROM\r\n",
                "    rv_s_PhysicalAttribute_AnalysisTag sat\r\n",
                "    INNER JOIN stg_Py_SqlServerCsvToPhysicalAttribute stg ON (\r\n",
                "      sat.PhysicalAttributeHashKey = stg.PhysicalAttributeHashKey\r\n",
                "      AND sat.LoadDate = (\r\n",
                "        SELECT MAX(z.LoadDate)\r\n",
                "        FROM rv_s_PhysicalAttribute_AnalysisTag AS z\r\n",
                "        WHERE z.PhysicalAttributeHashKey = sat.PhysicalAttributeHashKey\r\n",
                "      )\r\n",
                "    )\r\n",
                "  WHERE\r\n",
                "    sat.EndDate IS NULL\r\n",
                ")\r\n",
                "INSERT INTO rv_s_PhysicalAttribute_AnalysisTag\r\n",
                "(\r\n",
                "    PhysicalAttributeHashKey\r\n",
                "  , LoadDate\r\n",
                "  , RecordSource\r\n",
                "\r\n",
                "  , Tag\r\n",
                "  , StartDate\r\n",
                "\r\n",
                ")\r\n",
                "SELECT DISTINCT\r\n",
                "    stg.PhysicalAttributeHashKey\r\n",
                "  , stg.LoadDate\r\n",
                "  , stg.RecordSource\r\n",
                "  \r\n",
                "  , 'PII'\r\n",
                "  , stg.LoadDate\r\n",
                "\r\n",
                "FROM\r\n",
                "  stg_Py_SqlServerCsvToPhysicalAttribute AS stg\r\n",
                "  LEFT OUTER JOIN current_tags AS sat ON (\r\n",
                "    stg.PhysicalAttributeHashKey = sat.PhysicalAttributeHashKey\r\n",
                "  )\r\n",
                "WHERE\r\n",
                "  (\r\n",
                "    sat.Tag != 'PII'\r\n",
                "    OR sat.Tag IS NULL\r\n",
                "  )\r\n",
                "  AND stg.COLUMN_DESCRIPTION LIKE '%PII%'\r\n",
                "\"\"\";\r\n",
                "conn.execute(sql_query)\r\n",
                "conn.commit()\r\n",
                ""
            ],
            "metadata": {
                "language": "python",
                "azdata_cell_guid": "912e4219-4595-4eb3-8e9b-03f42b6cd7ca"
            },
            "outputs": [],
            "execution_count": null
        }
    ]
}