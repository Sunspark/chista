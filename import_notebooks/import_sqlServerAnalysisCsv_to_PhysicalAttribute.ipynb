{
    "metadata": {
        "kernelspec": {
            "name": "python3",
            "display_name": "Python 3",
            "language": "python"
        },
        "language_info": {
            "name": "python",
            "version": "3.8.10",
            "mimetype": "text/x-python",
            "codemirror_mode": {
                "name": "ipython",
                "version": 3
            },
            "pygments_lexer": "ipython3",
            "nbconvert_exporter": "python",
            "file_extension": ".py"
        }
    },
    "nbformat_minor": 2,
    "nbformat": 4,
    "cells": [
        {
            "cell_type": "code",
            "source": [
                "import sqlite3\r\n",
                "import pandas as pd\r\n",
                "import numpy as np\r\n",
                "from datetime import datetime\r\n",
                "import sys\r\n",
                "sys.path.append('../')\r\n",
                "from user_packages import hashing\r\n",
                ""
            ],
            "metadata": {
                "azdata_cell_guid": "672badc8-e7ca-40ae-9757-d4230664d7e9",
                "language": "python"
            },
            "outputs": [],
            "execution_count": 1
        },
        {
            "cell_type": "code",
            "source": [
                "# set variables\r\n",
                "target_model_name = 'excited.skirt.earth'\r\n",
                "source_file_name = 'OH_repair_columns_analysis.csv'\r\n",
                "source_file_path = ''\r\n",
                "\r\n",
                "record_source = 'SQLServerAnalysis'\r\n",
                "SystemKeyPhrase = 'OpenHousing' # this should come from the System Hub\r\n",
                ""
            ],
            "metadata": {
                "language": "python",
                "azdata_cell_guid": "9dbe51f1-04dd-483a-a0ec-faf94cd1d451"
            },
            "outputs": [],
            "execution_count": 2
        },
        {
            "cell_type": "code",
            "source": [
                "# db connect\r\n",
                "conn = sqlite3.connect('../full_metadata.db')"
            ],
            "metadata": {
                "language": "python",
                "azdata_cell_guid": "f4e02745-61a5-4239-80b6-630d64c4469f"
            },
            "outputs": [],
            "execution_count": 3
        },
        {
            "cell_type": "code",
            "source": [
                "# read table to df\r\n",
                "dtypeDict = {\r\n",
                "    'CHARACTER_MAXIMUM_LENGTH': 'Int64'\r\n",
                "  , 'CHARACTER_OCTET_LENGTH': 'Int64'\r\n",
                "  , 'NUMERIC_PRECISION': 'Int64'\r\n",
                "  , 'NUMERIC_PRECISION_RADIX': 'Int64'\r\n",
                "  , 'NUMERIC_SCALE': 'Int64'\r\n",
                "  , 'DATETIME_PRECISION': 'Int64'\r\n",
                "}\r\n",
                "#, nrows=10\r\n",
                "df = pd.read_csv(source_file_name, dtype = dtypeDict)\r\n",
                "df = df.replace({np.nan: None})\r\n",
                "\r\n",
                "\r\n",
                "df"
            ],
            "metadata": {
                "language": "python",
                "azdata_cell_guid": "10837988-346a-44d7-8372-86644939c22c"
            },
            "outputs": [
                {
                    "data": {
                        "text/plain": "               SERVER_NAME DATABASE_NAME SCHEMA_NAME             TABLE_NAME  \\\n0     VHLOPRHP2S01\\P2SLIVE       Pro2_ih         dbo  ih_provision_category   \n1     VHLOPRHP2S01\\P2SLIVE       Pro2_ih         dbo  ih_provision_category   \n2     VHLOPRHP2S01\\P2SLIVE       Pro2_ih         dbo  ih_provision_category   \n3     VHLOPRHP2S01\\P2SLIVE       Pro2_ih         dbo  ih_provision_category   \n4     VHLOPRHP2S01\\P2SLIVE       Pro2_ih         dbo  ih_provision_category   \n...                    ...           ...         ...                    ...   \n1086  VHLOPRHP2S01\\P2SLIVE       Pro2_ih         dbo                 rm_job   \n1087  VHLOPRHP2S01\\P2SLIVE       Pro2_ih         dbo                 rm_job   \n1088  VHLOPRHP2S01\\P2SLIVE       Pro2_ih         dbo                 rm_job   \n1089  VHLOPRHP2S01\\P2SLIVE       Pro2_ih         dbo                 rm_job   \n1090  VHLOPRHP2S01\\P2SLIVE       Pro2_ih         dbo                 rm_job   \n\n                COLUMN_NAME  ORDINAL_POSITION COLUMN_DEFAULT IS_NULLABLE  \\\n0                   prrowid                 1           None          NO   \n1                  org_code                 2           None         YES   \n2                  category                 3           None         YES   \n3               description                 4           None         YES   \n4                Pro2SrcPDB                 5           None         YES   \n...                     ...               ...            ...         ...   \n1086  sub_sub_category_code               125           None         YES   \n1087             usage_code               126           None         YES   \n1088             Pro2SrcPDB               127           None         YES   \n1089            pro2created               128           None         YES   \n1090           pro2modified               129           None         YES   \n\n     DATA_TYPE CHARACTER_MAXIMUM_LENGTH  ... CHARACTER_SET_CATALOG  \\\n0      varchar                       36  ...                  None   \n1      varchar                       16  ...                  None   \n2      varchar                       20  ...                  None   \n3      varchar                       60  ...                  None   \n4      varchar                       12  ...                  None   \n...        ...                      ...  ...                   ...   \n1086   varchar                       24  ...                  None   \n1087   varchar                       16  ...                  None   \n1088   varchar                       12  ...                  None   \n1089  datetime                     None  ...                  None   \n1090  datetime                     None  ...                  None   \n\n     CHARACTER_SET_SCHEMA CHARACTER_SET_NAME COLLATION_CATALOG  \\\n0                    None              iso_1              None   \n1                    None              iso_1              None   \n2                    None              iso_1              None   \n3                    None              iso_1              None   \n4                    None              iso_1              None   \n...                   ...                ...               ...   \n1086                 None              iso_1              None   \n1087                 None              iso_1              None   \n1088                 None              iso_1              None   \n1089                 None               None              None   \n1090                 None               None              None   \n\n     COLLATION_SCHEMA        COLLATION_NAME DOMAIN_CATALOG DOMAIN_SCHEMA  \\\n0                None  Latin1_General_CI_AS           None          None   \n1                None  Latin1_General_CI_AS           None          None   \n2                None  Latin1_General_CI_AS           None          None   \n3                None  Latin1_General_CI_AS           None          None   \n4                None  Latin1_General_CI_AS           None          None   \n...               ...                   ...            ...           ...   \n1086             None  Latin1_General_CI_AS           None          None   \n1087             None  Latin1_General_CI_AS           None          None   \n1088             None  Latin1_General_CI_AS           None          None   \n1089             None                  None           None          None   \n1090             None                  None           None          None   \n\n     DOMAIN_NAME COLUMN_DESCRIPTION  \n0           None               None  \n1           None               None  \n2           None               None  \n3           None               None  \n4           None               None  \n...          ...                ...  \n1086        None               None  \n1087        None               None  \n1088        None               None  \n1089        None               None  \n1090        None               None  \n\n[1091 rows x 25 columns]",
                        "text/html": "<div>\n<style scoped>\n    .dataframe tbody tr th:only-of-type {\n        vertical-align: middle;\n    }\n\n    .dataframe tbody tr th {\n        vertical-align: top;\n    }\n\n    .dataframe thead th {\n        text-align: right;\n    }\n</style>\n<table border=\"1\" class=\"dataframe\">\n  <thead>\n    <tr style=\"text-align: right;\">\n      <th></th>\n      <th>SERVER_NAME</th>\n      <th>DATABASE_NAME</th>\n      <th>SCHEMA_NAME</th>\n      <th>TABLE_NAME</th>\n      <th>COLUMN_NAME</th>\n      <th>ORDINAL_POSITION</th>\n      <th>COLUMN_DEFAULT</th>\n      <th>IS_NULLABLE</th>\n      <th>DATA_TYPE</th>\n      <th>CHARACTER_MAXIMUM_LENGTH</th>\n      <th>...</th>\n      <th>CHARACTER_SET_CATALOG</th>\n      <th>CHARACTER_SET_SCHEMA</th>\n      <th>CHARACTER_SET_NAME</th>\n      <th>COLLATION_CATALOG</th>\n      <th>COLLATION_SCHEMA</th>\n      <th>COLLATION_NAME</th>\n      <th>DOMAIN_CATALOG</th>\n      <th>DOMAIN_SCHEMA</th>\n      <th>DOMAIN_NAME</th>\n      <th>COLUMN_DESCRIPTION</th>\n    </tr>\n  </thead>\n  <tbody>\n    <tr>\n      <th>0</th>\n      <td>VHLOPRHP2S01\\P2SLIVE</td>\n      <td>Pro2_ih</td>\n      <td>dbo</td>\n      <td>ih_provision_category</td>\n      <td>prrowid</td>\n      <td>1</td>\n      <td>None</td>\n      <td>NO</td>\n      <td>varchar</td>\n      <td>36</td>\n      <td>...</td>\n      <td>None</td>\n      <td>None</td>\n      <td>iso_1</td>\n      <td>None</td>\n      <td>None</td>\n      <td>Latin1_General_CI_AS</td>\n      <td>None</td>\n      <td>None</td>\n      <td>None</td>\n      <td>None</td>\n    </tr>\n    <tr>\n      <th>1</th>\n      <td>VHLOPRHP2S01\\P2SLIVE</td>\n      <td>Pro2_ih</td>\n      <td>dbo</td>\n      <td>ih_provision_category</td>\n      <td>org_code</td>\n      <td>2</td>\n      <td>None</td>\n      <td>YES</td>\n      <td>varchar</td>\n      <td>16</td>\n      <td>...</td>\n      <td>None</td>\n      <td>None</td>\n      <td>iso_1</td>\n      <td>None</td>\n      <td>None</td>\n      <td>Latin1_General_CI_AS</td>\n      <td>None</td>\n      <td>None</td>\n      <td>None</td>\n      <td>None</td>\n    </tr>\n    <tr>\n      <th>2</th>\n      <td>VHLOPRHP2S01\\P2SLIVE</td>\n      <td>Pro2_ih</td>\n      <td>dbo</td>\n      <td>ih_provision_category</td>\n      <td>category</td>\n      <td>3</td>\n      <td>None</td>\n      <td>YES</td>\n      <td>varchar</td>\n      <td>20</td>\n      <td>...</td>\n      <td>None</td>\n      <td>None</td>\n      <td>iso_1</td>\n      <td>None</td>\n      <td>None</td>\n      <td>Latin1_General_CI_AS</td>\n      <td>None</td>\n      <td>None</td>\n      <td>None</td>\n      <td>None</td>\n    </tr>\n    <tr>\n      <th>3</th>\n      <td>VHLOPRHP2S01\\P2SLIVE</td>\n      <td>Pro2_ih</td>\n      <td>dbo</td>\n      <td>ih_provision_category</td>\n      <td>description</td>\n      <td>4</td>\n      <td>None</td>\n      <td>YES</td>\n      <td>varchar</td>\n      <td>60</td>\n      <td>...</td>\n      <td>None</td>\n      <td>None</td>\n      <td>iso_1</td>\n      <td>None</td>\n      <td>None</td>\n      <td>Latin1_General_CI_AS</td>\n      <td>None</td>\n      <td>None</td>\n      <td>None</td>\n      <td>None</td>\n    </tr>\n    <tr>\n      <th>4</th>\n      <td>VHLOPRHP2S01\\P2SLIVE</td>\n      <td>Pro2_ih</td>\n      <td>dbo</td>\n      <td>ih_provision_category</td>\n      <td>Pro2SrcPDB</td>\n      <td>5</td>\n      <td>None</td>\n      <td>YES</td>\n      <td>varchar</td>\n      <td>12</td>\n      <td>...</td>\n      <td>None</td>\n      <td>None</td>\n      <td>iso_1</td>\n      <td>None</td>\n      <td>None</td>\n      <td>Latin1_General_CI_AS</td>\n      <td>None</td>\n      <td>None</td>\n      <td>None</td>\n      <td>None</td>\n    </tr>\n    <tr>\n      <th>...</th>\n      <td>...</td>\n      <td>...</td>\n      <td>...</td>\n      <td>...</td>\n      <td>...</td>\n      <td>...</td>\n      <td>...</td>\n      <td>...</td>\n      <td>...</td>\n      <td>...</td>\n      <td>...</td>\n      <td>...</td>\n      <td>...</td>\n      <td>...</td>\n      <td>...</td>\n      <td>...</td>\n      <td>...</td>\n      <td>...</td>\n      <td>...</td>\n      <td>...</td>\n      <td>...</td>\n    </tr>\n    <tr>\n      <th>1086</th>\n      <td>VHLOPRHP2S01\\P2SLIVE</td>\n      <td>Pro2_ih</td>\n      <td>dbo</td>\n      <td>rm_job</td>\n      <td>sub_sub_category_code</td>\n      <td>125</td>\n      <td>None</td>\n      <td>YES</td>\n      <td>varchar</td>\n      <td>24</td>\n      <td>...</td>\n      <td>None</td>\n      <td>None</td>\n      <td>iso_1</td>\n      <td>None</td>\n      <td>None</td>\n      <td>Latin1_General_CI_AS</td>\n      <td>None</td>\n      <td>None</td>\n      <td>None</td>\n      <td>None</td>\n    </tr>\n    <tr>\n      <th>1087</th>\n      <td>VHLOPRHP2S01\\P2SLIVE</td>\n      <td>Pro2_ih</td>\n      <td>dbo</td>\n      <td>rm_job</td>\n      <td>usage_code</td>\n      <td>126</td>\n      <td>None</td>\n      <td>YES</td>\n      <td>varchar</td>\n      <td>16</td>\n      <td>...</td>\n      <td>None</td>\n      <td>None</td>\n      <td>iso_1</td>\n      <td>None</td>\n      <td>None</td>\n      <td>Latin1_General_CI_AS</td>\n      <td>None</td>\n      <td>None</td>\n      <td>None</td>\n      <td>None</td>\n    </tr>\n    <tr>\n      <th>1088</th>\n      <td>VHLOPRHP2S01\\P2SLIVE</td>\n      <td>Pro2_ih</td>\n      <td>dbo</td>\n      <td>rm_job</td>\n      <td>Pro2SrcPDB</td>\n      <td>127</td>\n      <td>None</td>\n      <td>YES</td>\n      <td>varchar</td>\n      <td>12</td>\n      <td>...</td>\n      <td>None</td>\n      <td>None</td>\n      <td>iso_1</td>\n      <td>None</td>\n      <td>None</td>\n      <td>Latin1_General_CI_AS</td>\n      <td>None</td>\n      <td>None</td>\n      <td>None</td>\n      <td>None</td>\n    </tr>\n    <tr>\n      <th>1089</th>\n      <td>VHLOPRHP2S01\\P2SLIVE</td>\n      <td>Pro2_ih</td>\n      <td>dbo</td>\n      <td>rm_job</td>\n      <td>pro2created</td>\n      <td>128</td>\n      <td>None</td>\n      <td>YES</td>\n      <td>datetime</td>\n      <td>None</td>\n      <td>...</td>\n      <td>None</td>\n      <td>None</td>\n      <td>None</td>\n      <td>None</td>\n      <td>None</td>\n      <td>None</td>\n      <td>None</td>\n      <td>None</td>\n      <td>None</td>\n      <td>None</td>\n    </tr>\n    <tr>\n      <th>1090</th>\n      <td>VHLOPRHP2S01\\P2SLIVE</td>\n      <td>Pro2_ih</td>\n      <td>dbo</td>\n      <td>rm_job</td>\n      <td>pro2modified</td>\n      <td>129</td>\n      <td>None</td>\n      <td>YES</td>\n      <td>datetime</td>\n      <td>None</td>\n      <td>...</td>\n      <td>None</td>\n      <td>None</td>\n      <td>None</td>\n      <td>None</td>\n      <td>None</td>\n      <td>None</td>\n      <td>None</td>\n      <td>None</td>\n      <td>None</td>\n      <td>None</td>\n    </tr>\n  </tbody>\n</table>\n<p>1091 rows × 25 columns</p>\n</div>"
                    },
                    "metadata": {},
                    "execution_count": 5,
                    "output_type": "execute_result"
                }
            ],
            "execution_count": 5
        },
        {
            "cell_type": "code",
            "source": [
                "# add extra columns\r\n",
                "\r\n",
                "# columns with variable data\r\n",
                "df['RecordSource'] = record_source\r\n",
                "df['LoadDate'] = datetime.now()\r\n",
                "df['SystemKeyPhrase'] = SystemKeyPhrase\r\n",
                "\r\n",
                "\r\n",
                "# derive keyphrase columns\r\n",
                "df['PhysicalAttributeKeyPhrase'] = df.apply(\r\n",
                "  lambda row: \r\n",
                "    row['SystemKeyPhrase']\r\n",
                "    + '.' + row['SERVER_NAME']\r\n",
                "    + '.' + row['DATABASE_NAME']\r\n",
                "    + '.' + row['SCHEMA_NAME']\r\n",
                "    + '.' + row['TABLE_NAME']\r\n",
                "    + '.' + row['COLUMN_NAME']\r\n",
                "  , axis=1\r\n",
                ")\r\n",
                "\r\n",
                "\r\n",
                "# hash the keyphrases\r\n",
                "df = hashing.add_md5_hash_column(\r\n",
                "  df\r\n",
                "  , md5_column_name = 'PhysicalAttributeHashKey'\r\n",
                "  , columns = ['PhysicalAttributeKeyPhrase']\r\n",
                ")\r\n",
                "\r\n",
                "\r\n",
                "# hash the payload\r\n",
                "df = hashing.add_md5_hash_column(\r\n",
                "  df\r\n",
                "  , md5_column_name = 'HashDiff'\r\n",
                "  , columns = [\r\n",
                "      'SERVER_NAME'\r\n",
                "    , 'DATABASE_NAME'\r\n",
                "    , 'SCHEMA_NAME'\r\n",
                "    , 'TABLE_NAME'\r\n",
                "    , 'COLUMN_NAME'\r\n",
                "\r\n",
                "    , 'ORDINAL_POSITION'\r\n",
                "    , 'COLUMN_DEFAULT'\r\n",
                "    , 'IS_NULLABLE'\r\n",
                "    , 'DATA_TYPE'\r\n",
                "    , 'CHARACTER_MAXIMUM_LENGTH'\r\n",
                "    , 'CHARACTER_OCTET_LENGTH'\r\n",
                "    , 'NUMERIC_PRECISION'\r\n",
                "    , 'NUMERIC_PRECISION_RADIX'\r\n",
                "    , 'NUMERIC_SCALE'\r\n",
                "    , 'DATETIME_PRECISION'\r\n",
                "    , 'CHARACTER_SET_CATALOG'\r\n",
                "    , 'CHARACTER_SET_SCHEMA'\r\n",
                "    , 'CHARACTER_SET_NAME'\r\n",
                "    , 'COLLATION_CATALOG'\r\n",
                "    , 'COLLATION_SCHEMA'\r\n",
                "    , 'COLLATION_NAME'\r\n",
                "    , 'DOMAIN_CATALOG'\r\n",
                "    , 'DOMAIN_SCHEMA'\r\n",
                "    , 'DOMAIN_NAME'\r\n",
                "    , 'COLUMN_DESCRIPTION'\r\n",
                "  ]\r\n",
                ")\r\n",
                "\r\n",
                "df"
            ],
            "metadata": {
                "language": "python",
                "azdata_cell_guid": "c9376850-4b05-4849-b7e4-0c639c6dd938"
            },
            "outputs": [
                {
                    "data": {
                        "text/plain": "               SERVER_NAME DATABASE_NAME SCHEMA_NAME             TABLE_NAME  \\\n0     VHLOPRHP2S01\\P2SLIVE       Pro2_ih         dbo  ih_provision_category   \n1     VHLOPRHP2S01\\P2SLIVE       Pro2_ih         dbo  ih_provision_category   \n2     VHLOPRHP2S01\\P2SLIVE       Pro2_ih         dbo  ih_provision_category   \n3     VHLOPRHP2S01\\P2SLIVE       Pro2_ih         dbo  ih_provision_category   \n4     VHLOPRHP2S01\\P2SLIVE       Pro2_ih         dbo  ih_provision_category   \n...                    ...           ...         ...                    ...   \n1086  VHLOPRHP2S01\\P2SLIVE       Pro2_ih         dbo                 rm_job   \n1087  VHLOPRHP2S01\\P2SLIVE       Pro2_ih         dbo                 rm_job   \n1088  VHLOPRHP2S01\\P2SLIVE       Pro2_ih         dbo                 rm_job   \n1089  VHLOPRHP2S01\\P2SLIVE       Pro2_ih         dbo                 rm_job   \n1090  VHLOPRHP2S01\\P2SLIVE       Pro2_ih         dbo                 rm_job   \n\n                COLUMN_NAME  ORDINAL_POSITION COLUMN_DEFAULT IS_NULLABLE  \\\n0                   prrowid                 1           None          NO   \n1                  org_code                 2           None         YES   \n2                  category                 3           None         YES   \n3               description                 4           None         YES   \n4                Pro2SrcPDB                 5           None         YES   \n...                     ...               ...            ...         ...   \n1086  sub_sub_category_code               125           None         YES   \n1087             usage_code               126           None         YES   \n1088             Pro2SrcPDB               127           None         YES   \n1089            pro2created               128           None         YES   \n1090           pro2modified               129           None         YES   \n\n     DATA_TYPE CHARACTER_MAXIMUM_LENGTH  ... DOMAIN_CATALOG DOMAIN_SCHEMA  \\\n0      varchar                       36  ...           None          None   \n1      varchar                       16  ...           None          None   \n2      varchar                       20  ...           None          None   \n3      varchar                       60  ...           None          None   \n4      varchar                       12  ...           None          None   \n...        ...                      ...  ...            ...           ...   \n1086   varchar                       24  ...           None          None   \n1087   varchar                       16  ...           None          None   \n1088   varchar                       12  ...           None          None   \n1089  datetime                     None  ...           None          None   \n1090  datetime                     None  ...           None          None   \n\n     DOMAIN_NAME COLUMN_DESCRIPTION       RecordSource  \\\n0           None               None  SQLServerAnalysis   \n1           None               None  SQLServerAnalysis   \n2           None               None  SQLServerAnalysis   \n3           None               None  SQLServerAnalysis   \n4           None               None  SQLServerAnalysis   \n...          ...                ...                ...   \n1086        None               None  SQLServerAnalysis   \n1087        None               None  SQLServerAnalysis   \n1088        None               None  SQLServerAnalysis   \n1089        None               None  SQLServerAnalysis   \n1090        None               None  SQLServerAnalysis   \n\n                       LoadDate SystemKeyPhrase  \\\n0    2024-05-31 08:54:23.821539     OpenHousing   \n1    2024-05-31 08:54:23.821539     OpenHousing   \n2    2024-05-31 08:54:23.821539     OpenHousing   \n3    2024-05-31 08:54:23.821539     OpenHousing   \n4    2024-05-31 08:54:23.821539     OpenHousing   \n...                         ...             ...   \n1086 2024-05-31 08:54:23.821539     OpenHousing   \n1087 2024-05-31 08:54:23.821539     OpenHousing   \n1088 2024-05-31 08:54:23.821539     OpenHousing   \n1089 2024-05-31 08:54:23.821539     OpenHousing   \n1090 2024-05-31 08:54:23.821539     OpenHousing   \n\n                             PhysicalAttributeKeyPhrase  \\\n0     OpenHousing.VHLOPRHP2S01\\P2SLIVE.Pro2_ih.dbo.i...   \n1     OpenHousing.VHLOPRHP2S01\\P2SLIVE.Pro2_ih.dbo.i...   \n2     OpenHousing.VHLOPRHP2S01\\P2SLIVE.Pro2_ih.dbo.i...   \n3     OpenHousing.VHLOPRHP2S01\\P2SLIVE.Pro2_ih.dbo.i...   \n4     OpenHousing.VHLOPRHP2S01\\P2SLIVE.Pro2_ih.dbo.i...   \n...                                                 ...   \n1086  OpenHousing.VHLOPRHP2S01\\P2SLIVE.Pro2_ih.dbo.r...   \n1087  OpenHousing.VHLOPRHP2S01\\P2SLIVE.Pro2_ih.dbo.r...   \n1088  OpenHousing.VHLOPRHP2S01\\P2SLIVE.Pro2_ih.dbo.r...   \n1089  OpenHousing.VHLOPRHP2S01\\P2SLIVE.Pro2_ih.dbo.r...   \n1090  OpenHousing.VHLOPRHP2S01\\P2SLIVE.Pro2_ih.dbo.r...   \n\n              PhysicalAttributeHashKey                          HashDiff  \n0     4b992fbf705e9f1e89dfafc88964faa1  a59b3e8de5bf5091ee443f0a8a5d3ba5  \n1     eb8674e5e129cecc1127d794ad0fa76a  09e5fa83dcc654a6ede043c167368d80  \n2     a147a0ccbe2df0a2ff2be3005b4d6492  157aa32128bdd9047f6baf34d196054e  \n3     e9de024464239567eb1884734ec1d2fb  8362ade952d3f0b64f2495215b9a989b  \n4     ad8b7315153220c0c21a0f6de98b6fc0  0628f5df2a703a278e56b5a4c8c64a13  \n...                                ...                               ...  \n1086  b13ea0245a4d47c9a84d5856127aa2e7  b878ef1d48d5f2e110c42e0c0cfb4178  \n1087  d85ca56c4be3f94ac60aef63a6e7358c  404be158183a69f24aaeb5d8167a5be1  \n1088  1541c7074c9b777447d1a42712cb21d2  8c854e55eb0a9dd08a2ad03f985c5558  \n1089  3fc416991785c234e6ecc670dcc0b4d4  3544cfc5983836360eef947784857063  \n1090  906c6eae740095e8d31d1f87c7229cd9  574b40689d6a2feb8e5012f3c7fcda2b  \n\n[1091 rows x 31 columns]",
                        "text/html": "<div>\n<style scoped>\n    .dataframe tbody tr th:only-of-type {\n        vertical-align: middle;\n    }\n\n    .dataframe tbody tr th {\n        vertical-align: top;\n    }\n\n    .dataframe thead th {\n        text-align: right;\n    }\n</style>\n<table border=\"1\" class=\"dataframe\">\n  <thead>\n    <tr style=\"text-align: right;\">\n      <th></th>\n      <th>SERVER_NAME</th>\n      <th>DATABASE_NAME</th>\n      <th>SCHEMA_NAME</th>\n      <th>TABLE_NAME</th>\n      <th>COLUMN_NAME</th>\n      <th>ORDINAL_POSITION</th>\n      <th>COLUMN_DEFAULT</th>\n      <th>IS_NULLABLE</th>\n      <th>DATA_TYPE</th>\n      <th>CHARACTER_MAXIMUM_LENGTH</th>\n      <th>...</th>\n      <th>DOMAIN_CATALOG</th>\n      <th>DOMAIN_SCHEMA</th>\n      <th>DOMAIN_NAME</th>\n      <th>COLUMN_DESCRIPTION</th>\n      <th>RecordSource</th>\n      <th>LoadDate</th>\n      <th>SystemKeyPhrase</th>\n      <th>PhysicalAttributeKeyPhrase</th>\n      <th>PhysicalAttributeHashKey</th>\n      <th>HashDiff</th>\n    </tr>\n  </thead>\n  <tbody>\n    <tr>\n      <th>0</th>\n      <td>VHLOPRHP2S01\\P2SLIVE</td>\n      <td>Pro2_ih</td>\n      <td>dbo</td>\n      <td>ih_provision_category</td>\n      <td>prrowid</td>\n      <td>1</td>\n      <td>None</td>\n      <td>NO</td>\n      <td>varchar</td>\n      <td>36</td>\n      <td>...</td>\n      <td>None</td>\n      <td>None</td>\n      <td>None</td>\n      <td>None</td>\n      <td>SQLServerAnalysis</td>\n      <td>2024-05-31 08:54:23.821539</td>\n      <td>OpenHousing</td>\n      <td>OpenHousing.VHLOPRHP2S01\\P2SLIVE.Pro2_ih.dbo.i...</td>\n      <td>4b992fbf705e9f1e89dfafc88964faa1</td>\n      <td>a59b3e8de5bf5091ee443f0a8a5d3ba5</td>\n    </tr>\n    <tr>\n      <th>1</th>\n      <td>VHLOPRHP2S01\\P2SLIVE</td>\n      <td>Pro2_ih</td>\n      <td>dbo</td>\n      <td>ih_provision_category</td>\n      <td>org_code</td>\n      <td>2</td>\n      <td>None</td>\n      <td>YES</td>\n      <td>varchar</td>\n      <td>16</td>\n      <td>...</td>\n      <td>None</td>\n      <td>None</td>\n      <td>None</td>\n      <td>None</td>\n      <td>SQLServerAnalysis</td>\n      <td>2024-05-31 08:54:23.821539</td>\n      <td>OpenHousing</td>\n      <td>OpenHousing.VHLOPRHP2S01\\P2SLIVE.Pro2_ih.dbo.i...</td>\n      <td>eb8674e5e129cecc1127d794ad0fa76a</td>\n      <td>09e5fa83dcc654a6ede043c167368d80</td>\n    </tr>\n    <tr>\n      <th>2</th>\n      <td>VHLOPRHP2S01\\P2SLIVE</td>\n      <td>Pro2_ih</td>\n      <td>dbo</td>\n      <td>ih_provision_category</td>\n      <td>category</td>\n      <td>3</td>\n      <td>None</td>\n      <td>YES</td>\n      <td>varchar</td>\n      <td>20</td>\n      <td>...</td>\n      <td>None</td>\n      <td>None</td>\n      <td>None</td>\n      <td>None</td>\n      <td>SQLServerAnalysis</td>\n      <td>2024-05-31 08:54:23.821539</td>\n      <td>OpenHousing</td>\n      <td>OpenHousing.VHLOPRHP2S01\\P2SLIVE.Pro2_ih.dbo.i...</td>\n      <td>a147a0ccbe2df0a2ff2be3005b4d6492</td>\n      <td>157aa32128bdd9047f6baf34d196054e</td>\n    </tr>\n    <tr>\n      <th>3</th>\n      <td>VHLOPRHP2S01\\P2SLIVE</td>\n      <td>Pro2_ih</td>\n      <td>dbo</td>\n      <td>ih_provision_category</td>\n      <td>description</td>\n      <td>4</td>\n      <td>None</td>\n      <td>YES</td>\n      <td>varchar</td>\n      <td>60</td>\n      <td>...</td>\n      <td>None</td>\n      <td>None</td>\n      <td>None</td>\n      <td>None</td>\n      <td>SQLServerAnalysis</td>\n      <td>2024-05-31 08:54:23.821539</td>\n      <td>OpenHousing</td>\n      <td>OpenHousing.VHLOPRHP2S01\\P2SLIVE.Pro2_ih.dbo.i...</td>\n      <td>e9de024464239567eb1884734ec1d2fb</td>\n      <td>8362ade952d3f0b64f2495215b9a989b</td>\n    </tr>\n    <tr>\n      <th>4</th>\n      <td>VHLOPRHP2S01\\P2SLIVE</td>\n      <td>Pro2_ih</td>\n      <td>dbo</td>\n      <td>ih_provision_category</td>\n      <td>Pro2SrcPDB</td>\n      <td>5</td>\n      <td>None</td>\n      <td>YES</td>\n      <td>varchar</td>\n      <td>12</td>\n      <td>...</td>\n      <td>None</td>\n      <td>None</td>\n      <td>None</td>\n      <td>None</td>\n      <td>SQLServerAnalysis</td>\n      <td>2024-05-31 08:54:23.821539</td>\n      <td>OpenHousing</td>\n      <td>OpenHousing.VHLOPRHP2S01\\P2SLIVE.Pro2_ih.dbo.i...</td>\n      <td>ad8b7315153220c0c21a0f6de98b6fc0</td>\n      <td>0628f5df2a703a278e56b5a4c8c64a13</td>\n    </tr>\n    <tr>\n      <th>...</th>\n      <td>...</td>\n      <td>...</td>\n      <td>...</td>\n      <td>...</td>\n      <td>...</td>\n      <td>...</td>\n      <td>...</td>\n      <td>...</td>\n      <td>...</td>\n      <td>...</td>\n      <td>...</td>\n      <td>...</td>\n      <td>...</td>\n      <td>...</td>\n      <td>...</td>\n      <td>...</td>\n      <td>...</td>\n      <td>...</td>\n      <td>...</td>\n      <td>...</td>\n      <td>...</td>\n    </tr>\n    <tr>\n      <th>1086</th>\n      <td>VHLOPRHP2S01\\P2SLIVE</td>\n      <td>Pro2_ih</td>\n      <td>dbo</td>\n      <td>rm_job</td>\n      <td>sub_sub_category_code</td>\n      <td>125</td>\n      <td>None</td>\n      <td>YES</td>\n      <td>varchar</td>\n      <td>24</td>\n      <td>...</td>\n      <td>None</td>\n      <td>None</td>\n      <td>None</td>\n      <td>None</td>\n      <td>SQLServerAnalysis</td>\n      <td>2024-05-31 08:54:23.821539</td>\n      <td>OpenHousing</td>\n      <td>OpenHousing.VHLOPRHP2S01\\P2SLIVE.Pro2_ih.dbo.r...</td>\n      <td>b13ea0245a4d47c9a84d5856127aa2e7</td>\n      <td>b878ef1d48d5f2e110c42e0c0cfb4178</td>\n    </tr>\n    <tr>\n      <th>1087</th>\n      <td>VHLOPRHP2S01\\P2SLIVE</td>\n      <td>Pro2_ih</td>\n      <td>dbo</td>\n      <td>rm_job</td>\n      <td>usage_code</td>\n      <td>126</td>\n      <td>None</td>\n      <td>YES</td>\n      <td>varchar</td>\n      <td>16</td>\n      <td>...</td>\n      <td>None</td>\n      <td>None</td>\n      <td>None</td>\n      <td>None</td>\n      <td>SQLServerAnalysis</td>\n      <td>2024-05-31 08:54:23.821539</td>\n      <td>OpenHousing</td>\n      <td>OpenHousing.VHLOPRHP2S01\\P2SLIVE.Pro2_ih.dbo.r...</td>\n      <td>d85ca56c4be3f94ac60aef63a6e7358c</td>\n      <td>404be158183a69f24aaeb5d8167a5be1</td>\n    </tr>\n    <tr>\n      <th>1088</th>\n      <td>VHLOPRHP2S01\\P2SLIVE</td>\n      <td>Pro2_ih</td>\n      <td>dbo</td>\n      <td>rm_job</td>\n      <td>Pro2SrcPDB</td>\n      <td>127</td>\n      <td>None</td>\n      <td>YES</td>\n      <td>varchar</td>\n      <td>12</td>\n      <td>...</td>\n      <td>None</td>\n      <td>None</td>\n      <td>None</td>\n      <td>None</td>\n      <td>SQLServerAnalysis</td>\n      <td>2024-05-31 08:54:23.821539</td>\n      <td>OpenHousing</td>\n      <td>OpenHousing.VHLOPRHP2S01\\P2SLIVE.Pro2_ih.dbo.r...</td>\n      <td>1541c7074c9b777447d1a42712cb21d2</td>\n      <td>8c854e55eb0a9dd08a2ad03f985c5558</td>\n    </tr>\n    <tr>\n      <th>1089</th>\n      <td>VHLOPRHP2S01\\P2SLIVE</td>\n      <td>Pro2_ih</td>\n      <td>dbo</td>\n      <td>rm_job</td>\n      <td>pro2created</td>\n      <td>128</td>\n      <td>None</td>\n      <td>YES</td>\n      <td>datetime</td>\n      <td>None</td>\n      <td>...</td>\n      <td>None</td>\n      <td>None</td>\n      <td>None</td>\n      <td>None</td>\n      <td>SQLServerAnalysis</td>\n      <td>2024-05-31 08:54:23.821539</td>\n      <td>OpenHousing</td>\n      <td>OpenHousing.VHLOPRHP2S01\\P2SLIVE.Pro2_ih.dbo.r...</td>\n      <td>3fc416991785c234e6ecc670dcc0b4d4</td>\n      <td>3544cfc5983836360eef947784857063</td>\n    </tr>\n    <tr>\n      <th>1090</th>\n      <td>VHLOPRHP2S01\\P2SLIVE</td>\n      <td>Pro2_ih</td>\n      <td>dbo</td>\n      <td>rm_job</td>\n      <td>pro2modified</td>\n      <td>129</td>\n      <td>None</td>\n      <td>YES</td>\n      <td>datetime</td>\n      <td>None</td>\n      <td>...</td>\n      <td>None</td>\n      <td>None</td>\n      <td>None</td>\n      <td>None</td>\n      <td>SQLServerAnalysis</td>\n      <td>2024-05-31 08:54:23.821539</td>\n      <td>OpenHousing</td>\n      <td>OpenHousing.VHLOPRHP2S01\\P2SLIVE.Pro2_ih.dbo.r...</td>\n      <td>906c6eae740095e8d31d1f87c7229cd9</td>\n      <td>574b40689d6a2feb8e5012f3c7fcda2b</td>\n    </tr>\n  </tbody>\n</table>\n<p>1091 rows × 31 columns</p>\n</div>"
                    },
                    "metadata": {},
                    "execution_count": 6,
                    "output_type": "execute_result"
                }
            ],
            "execution_count": 6
        },
        {
            "cell_type": "code",
            "source": [
                "# Clear down and Write to staging\r\n",
                "conn.execute(\"DELETE FROM stg_Py_SqlServerCsvToPhysicalAttribute\")\r\n",
                "conn.commit()\r\n",
                "df.to_sql('stg_Py_SqlServerCsvToPhysicalAttribute', conn, if_exists='append', index=False)"
            ],
            "metadata": {
                "language": "python",
                "azdata_cell_guid": "5c21a646-66ff-451f-87a9-e14d07267ad0"
            },
            "outputs": [
                {
                    "data": {
                        "text/plain": "1091"
                    },
                    "metadata": {},
                    "execution_count": 12,
                    "output_type": "execute_result"
                }
            ],
            "execution_count": 12
        },
        {
            "cell_type": "code",
            "source": [
                "# Write to the Hub (PhysicalStructure)\r\n",
                "# NO, we are not creating new structures"
            ],
            "metadata": {
                "language": "python",
                "azdata_cell_guid": "6484429d-f75d-4ecd-9e04-ed3671a5be84"
            },
            "outputs": [],
            "execution_count": 45
        },
        {
            "cell_type": "code",
            "source": [
                "# Write to the Satellite (PhysicalAttribute_SqlServerScrape)\r\n",
                "sql_query = \"\"\"\r\n",
                "INSERT INTO rv_s_PhysicalAttribute_SqlServerScrape\r\n",
                "(\r\n",
                "    PhysicalAttributeHashKey\r\n",
                "  , LoadDate\r\n",
                "  , RecordSource\r\n",
                "  , HashDiff\r\n",
                "\r\n",
                "  , SERVER_NAME\r\n",
                "  , \"DATABASE_NAME\"\r\n",
                "  , SCHEMA_NAME\r\n",
                "  , TABLE_NAME\r\n",
                "  , COLUMN_NAME\r\n",
                "\r\n",
                "  , ORDINAL_POSITION\r\n",
                "  , COLUMN_DEFAULT\r\n",
                "  , IS_NULLABLE\r\n",
                "  , DATA_TYPE\r\n",
                "  , CHARACTER_MAXIMUM_LENGTH\r\n",
                "  , CHARACTER_OCTET_LENGTH\r\n",
                "  , NUMERIC_PRECISION\r\n",
                "  , NUMERIC_PRECISION_RADIX\r\n",
                "  , NUMERIC_SCALE\r\n",
                "  , DATETIME_PRECISION\r\n",
                "  , CHARACTER_SET_CATALOG\r\n",
                "  , CHARACTER_SET_SCHEMA\r\n",
                "  , CHARACTER_SET_NAME\r\n",
                "  , COLLATION_CATALOG\r\n",
                "  , COLLATION_SCHEMA\r\n",
                "  , COLLATION_NAME\r\n",
                "  , DOMAIN_CATALOG\r\n",
                "  , DOMAIN_SCHEMA\r\n",
                "  , DOMAIN_NAME\r\n",
                "  , COLUMN_DESCRIPTION\r\n",
                "\r\n",
                ")\r\n",
                "SELECT DISTINCT\r\n",
                "    stg.PhysicalAttributeHashKey\r\n",
                "  , stg.LoadDate\r\n",
                "  , stg.RecordSource\r\n",
                "  , stg.HashDiff\r\n",
                "  \r\n",
                "  , stg.SERVER_NAME\r\n",
                "  , stg.\"DATABASE_NAME\"\r\n",
                "  , stg.SCHEMA_NAME\r\n",
                "  , stg.TABLE_NAME\r\n",
                "  , stg.COLUMN_NAME\r\n",
                "\r\n",
                "  , stg.ORDINAL_POSITION\r\n",
                "  , stg.COLUMN_DEFAULT\r\n",
                "  , stg.IS_NULLABLE\r\n",
                "  , stg.DATA_TYPE\r\n",
                "  , stg.CHARACTER_MAXIMUM_LENGTH\r\n",
                "  , stg.CHARACTER_OCTET_LENGTH\r\n",
                "  , stg.NUMERIC_PRECISION\r\n",
                "  , stg.NUMERIC_PRECISION_RADIX\r\n",
                "  , stg.NUMERIC_SCALE\r\n",
                "  , stg.DATETIME_PRECISION\r\n",
                "  , stg.CHARACTER_SET_CATALOG\r\n",
                "  , stg.CHARACTER_SET_SCHEMA\r\n",
                "  , stg.CHARACTER_SET_NAME\r\n",
                "  , stg.COLLATION_CATALOG\r\n",
                "  , stg.COLLATION_SCHEMA\r\n",
                "  , stg.COLLATION_NAME\r\n",
                "  , stg.DOMAIN_CATALOG\r\n",
                "  , stg.DOMAIN_SCHEMA\r\n",
                "  , stg.DOMAIN_NAME\r\n",
                "  , stg.COLUMN_DESCRIPTION\r\n",
                "\r\n",
                "FROM\r\n",
                "  stg_Py_SqlServerCsvToPhysicalAttribute AS stg\r\n",
                "  LEFT OUTER JOIN rv_s_PhysicalAttribute_SqlServerScrape AS sat ON (\r\n",
                "    stg.PhysicalAttributeHashKey = sat.PhysicalAttributeHashKey\r\n",
                "    AND sat.LoadDate = (\r\n",
                "      SELECT MAX(z.LoadDate)\r\n",
                "      FROM rv_s_PhysicalAttribute_SqlServerScrape AS z\r\n",
                "      WHERE z.PhysicalAttributeHashKey = sat.PhysicalAttributeHashKey\r\n",
                "    )\r\n",
                "  )\r\n",
                "WHERE\r\n",
                "  (\r\n",
                "    sat.HashDiff != stg.HashDiff\r\n",
                "    OR sat.HashDiff IS NULL\r\n",
                "  )\r\n",
                "\"\"\";\r\n",
                "conn.execute(sql_query)\r\n",
                "conn.commit()"
            ],
            "metadata": {
                "language": "python",
                "azdata_cell_guid": "1925ee9b-a3b2-4c3f-81f8-35227daa7822"
            },
            "outputs": [],
            "execution_count": 13
        },
        {
            "cell_type": "code",
            "source": [
                "# No inserting to links - this type of sheet shouldn't have created new Attributes"
            ],
            "metadata": {
                "azdata_cell_guid": "4c73213f-675f-4974-bd6a-7d7fc0f73b30",
                "language": "python"
            },
            "outputs": [],
            "execution_count": null
        },
        {
            "cell_type": "code",
            "source": [
                "# Then it all becomes a bit of a hack, because what we want to do now isn't really determined by what's in the sheet.\r\n",
                "# Plus, we are working with what is effectively an effectivity satellite on a hub...\r\n",
                "\r\n",
                "# Set the 'PII' tag onto those tables that are reference\r\n",
                "sql_query = \"\"\"\r\n",
                "WITH\r\n",
                "current_tags AS ( -- gets the active tags that are on the Attribute in the stg table\r\n",
                "  SELECT\r\n",
                "      sat.PhysicalAttributeHashKey\r\n",
                "    , sat.Tag\r\n",
                "    , sat.StartDate\r\n",
                "    , sat.EndDate\r\n",
                "  FROM\r\n",
                "    rv_s_PhysicalAttribute_AnalysisTag sat\r\n",
                "    INNER JOIN stg_Py_SqlServerCsvToPhysicalAttribute stg ON (\r\n",
                "      sat.PhysicalAttributeHashKey = stg.PhysicalAttributeHashKey\r\n",
                "      AND sat.LoadDate = (\r\n",
                "        SELECT MAX(z.LoadDate)\r\n",
                "        FROM rv_s_PhysicalAttribute_AnalysisTag AS z\r\n",
                "        WHERE z.PhysicalAttributeHashKey = sat.PhysicalAttributeHashKey\r\n",
                "      )\r\n",
                "    )\r\n",
                "  WHERE\r\n",
                "    sat.EndDate IS NULL\r\n",
                ")\r\n",
                "INSERT INTO rv_s_PhysicalAttribute_AnalysisTag\r\n",
                "(\r\n",
                "    PhysicalAttributeHashKey\r\n",
                "  , LoadDate\r\n",
                "  , RecordSource\r\n",
                "\r\n",
                "  , Tag\r\n",
                "  , StartDate\r\n",
                "\r\n",
                ")\r\n",
                "SELECT DISTINCT\r\n",
                "    stg.PhysicalAttributeHashKey\r\n",
                "  , stg.LoadDate\r\n",
                "  , stg.RecordSource\r\n",
                "  \r\n",
                "  , 'PII'\r\n",
                "  , stg.LoadDate\r\n",
                "\r\n",
                "FROM\r\n",
                "  stg_Py_SqlServerCsvToPhysicalAttribute AS stg\r\n",
                "  LEFT OUTER JOIN current_tags AS sat ON (\r\n",
                "    stg.PhysicalAttributeHashKey = sat.PhysicalAttributeHashKey\r\n",
                "  )\r\n",
                "WHERE\r\n",
                "  (\r\n",
                "    sat.Tag != 'PII'\r\n",
                "    OR sat.Tag IS NULL\r\n",
                "  )\r\n",
                "  AND stg.COLUMN_DESCRIPTION LIKE '%PII%'\r\n",
                "\"\"\";\r\n",
                "conn.execute(sql_query)\r\n",
                "conn.commit()\r\n",
                ""
            ],
            "metadata": {
                "language": "python",
                "azdata_cell_guid": "912e4219-4595-4eb3-8e9b-03f42b6cd7ca"
            },
            "outputs": [],
            "execution_count": null
        }
    ]
}