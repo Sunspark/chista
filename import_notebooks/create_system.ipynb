{
    "metadata": {
        "kernelspec": {
            "name": "python3",
            "display_name": "Python 3",
            "language": "python"
        },
        "language_info": {
            "name": "python",
            "version": "3.8.10",
            "mimetype": "text/x-python",
            "codemirror_mode": {
                "name": "ipython",
                "version": 3
            },
            "pygments_lexer": "ipython3",
            "nbconvert_exporter": "python",
            "file_extension": ".py"
        }
    },
    "nbformat_minor": 2,
    "nbformat": 4,
    "cells": [
        {
            "cell_type": "code",
            "source": [
                "# Creates new systems into the DB without the need for an excel sheet\r\n",
                "import sqlite3\r\n",
                "import pandas as pd\r\n",
                "import sys\r\n",
                "sys.path.append('../')\r\n",
                "from user_packages import hashing\r\n",
                "\r\n",
                "conn = sqlite3.connect('../full_metadata.db')\r\n",
                "cur = conn.cursor()"
            ],
            "metadata": {
                "azdata_cell_guid": "e2c24c2d-f790-4e67-8c7b-3c2160e6478d",
                "language": "python"
            },
            "outputs": [],
            "execution_count": 5
        },
        {
            "cell_type": "code",
            "source": [
                "# Set variables\r\n",
                "# These are the things you want to create into the systems hub\r\n",
                "\r\n",
                "system_name = 'DIP: Data Intelligence Platform' # A name for the system. This isn't 'magic', so you can call it what you want. Suggested: something relevant like 'x system'.\r\n",
                "system_key_phrase = 'DIP' # A uniquely identifyable phrase for the system. This will be used as the hash reference.\r\n",
                "system_description = 'A datavault based platform for the storage and mastery of enterprise data' # A short description of the system"
            ],
            "metadata": {
                "language": "python",
                "azdata_cell_guid": "ad757fdf-8720-44c6-b9c3-d7c193031f62"
            },
            "outputs": [],
            "execution_count": 6
        },
        {
            "cell_type": "code",
            "source": [
                "data = [\r\n",
                "  {\r\n",
                "    'SystemKeyPhrase': system_key_phrase\r\n",
                "    , 'SystemName': system_name\r\n",
                "    , 'Description': system_description\r\n",
                "  }\r\n",
                "];\r\n",
                "df = pd.DataFrame(data)\r\n",
                "\r\n",
                "#df"
            ],
            "metadata": {
                "azdata_cell_guid": "8563cfbf-1794-445e-a6f1-6a63f8cff4d3",
                "language": "python"
            },
            "outputs": [],
            "execution_count": 7
        },
        {
            "cell_type": "code",
            "source": [
                "df = hashing.add_md5_hash_column(\r\n",
                "  df\r\n",
                "  , md5_column_name = 'SystemHashKey'\r\n",
                "  , columns = ['SystemKeyPhrase']\r\n",
                ")\r\n",
                "df = hashing.add_md5_hash_column(\r\n",
                "  df\r\n",
                "  , md5_column_name = 'HashDiff'\r\n",
                "  , columns = ['SystemName','Description']\r\n",
                ")\r\n",
                "df['RecordSource'] = df.apply(lambda row: 'Py.CreateSystem', axis=1)\r\n",
                "\r\n",
                "#df"
            ],
            "metadata": {
                "language": "python",
                "azdata_cell_guid": "2a67d2cc-1b26-4ec9-9363-72ad6c5b1dae"
            },
            "outputs": [],
            "execution_count": 8
        },
        {
            "cell_type": "code",
            "source": [
                "# Clear down and Write to staging\r\n",
                "conn.execute(\"DELETE FROM stg_Py_CreateSystem\")\r\n",
                "conn.commit()\r\n",
                "df.to_sql('stg_Py_CreateSystem', conn, if_exists='append', index=False)\r\n",
                ""
            ],
            "metadata": {
                "language": "python",
                "azdata_cell_guid": "bb8d8323-1547-448e-ab8f-c03f1c787a17"
            },
            "outputs": [
                {
                    "data": {
                        "text/plain": "1"
                    },
                    "metadata": {},
                    "execution_count": 13,
                    "output_type": "execute_result"
                }
            ],
            "execution_count": 13
        },
        {
            "cell_type": "code",
            "source": [
                "# Write to the Hub\r\n",
                "sql_query = \"\"\"\r\n",
                "INSERT INTO rv_h_System\r\n",
                "(\r\n",
                "    SystemHashKey\r\n",
                "  , LoadDate\r\n",
                "  , RecordSource\r\n",
                "  , SystemKeyPhrase\r\n",
                ")\r\n",
                "SELECT DISTINCT\r\n",
                "    SystemHashKey\r\n",
                "  , LoadDate\r\n",
                "  , RecordSource\r\n",
                "  , SystemKeyPhrase\r\n",
                "FROM\r\n",
                "  stg_Py_CreateSystem\r\n",
                "WHERE\r\n",
                "  SystemHashKey NOT IN (SELECT SystemHashKey FROM rv_h_System)\r\n",
                "\"\"\";\r\n",
                "conn.execute(sql_query)\r\n",
                "conn.commit()"
            ],
            "metadata": {
                "language": "python",
                "azdata_cell_guid": "c09835af-21ec-43b3-85f2-f2f80191a8da"
            },
            "outputs": [],
            "execution_count": 14
        },
        {
            "cell_type": "code",
            "source": [
                "# Write to the Satellite\r\n",
                "sql_query = \"\"\"\r\n",
                "INSERT INTO rv_s_System\r\n",
                "(\r\n",
                "    SystemHashKey\r\n",
                "  , LoadDate\r\n",
                "  , RecordSource\r\n",
                "  , HashDiff\r\n",
                "  , SystemName\r\n",
                "  , Description\r\n",
                ")\r\n",
                "SELECT DISTINCT\r\n",
                "    stg.SystemHashKey\r\n",
                "  , stg.LoadDate\r\n",
                "  , stg.RecordSource\r\n",
                "  , stg.HashDiff\r\n",
                "  , stg.SystemName\r\n",
                "  , stg.Description\r\n",
                "FROM\r\n",
                "  stg_Py_CreateSystem AS stg\r\n",
                "  LEFT OUTER JOIN rv_s_System AS sat ON (\r\n",
                "    stg.SystemHashKey = sat.SystemHashKey\r\n",
                "    AND sat.LoadDate = (\r\n",
                "      SELECT MAX(z.LoadDate)\r\n",
                "      FROM rv_s_System AS z\r\n",
                "      WHERE z.SystemHashKey = sat.SystemHashKey\r\n",
                "    )\r\n",
                "  )\r\n",
                "WHERE\r\n",
                "  (\r\n",
                "    sat.HashDiff != stg.HashDiff\r\n",
                "    OR sat.HashDiff IS NULL\r\n",
                "  )\r\n",
                "\"\"\";\r\n",
                "conn.execute(sql_query)\r\n",
                "conn.commit()"
            ],
            "metadata": {
                "language": "python",
                "azdata_cell_guid": "31a7a09f-8a7d-4eaa-b412-5ef4c62ffaf9"
            },
            "outputs": [],
            "execution_count": 15
        }
    ]
}