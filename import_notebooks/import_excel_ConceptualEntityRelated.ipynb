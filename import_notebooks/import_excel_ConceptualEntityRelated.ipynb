{
    "metadata": {
        "kernelspec": {
            "name": "python3",
            "display_name": "Python 3",
            "language": "python"
        },
        "language_info": {
            "name": "python",
            "version": "3.8.10",
            "mimetype": "text/x-python",
            "codemirror_mode": {
                "name": "ipython",
                "version": 3
            },
            "pygments_lexer": "ipython3",
            "nbconvert_exporter": "python",
            "file_extension": ".py"
        }
    },
    "nbformat_minor": 2,
    "nbformat": 4,
    "cells": [
        {
            "cell_type": "code",
            "source": [
                "# imports an excel sheet of ConceptualEntity <> ConceptualEntity\r\n",
                "# expects the Conceptual Entities to be fully qualified.\r\n",
                "import sqlite3\r\n",
                "import pandas as pd\r\n",
                "import sys\r\n",
                "sys.path.append('../')\r\n",
                "from user_packages import hashing\r\n",
                "\r\n",
                "conn = sqlite3.connect('app_db.sqlite')\r\n",
                "cur = conn.cursor()\r\n",
                "\r\n",
                "TargetExcelFilename = 'ConceptualEntityConceptualEntity_Related.xlsx'\r\n",
                "TargetExcelFilepath = 'imports/concept/'"
            ],
            "metadata": {
                "azdata_cell_guid": "da2afe61-f42c-420d-a418-47d5f7d1a57a",
                "language": "python"
            },
            "outputs": [],
            "execution_count": 1
        },
        {
            "cell_type": "code",
            "source": [
                "df = pd.read_excel(TargetExcelFilepath + TargetExcelFilename)\r\n",
                "df.fillna('', inplace=True)\r\n",
                "\r\n",
                "df['ConceptualEntityKeyPhrase'] = df.apply(lambda row: row['type'].strip() + '.' + row['name'].strip(), axis=1)\r\n",
                "#df\r\n",
                "\r\n",
                "node_dict = df.set_index('id').to_dict('index')\r\n",
                "#print(node_dict)"
            ],
            "metadata": {
                "language": "python",
                "azdata_cell_guid": "e6bc32ca-6e22-4117-b589-cecb39c6a536"
            },
            "outputs": [],
            "execution_count": 2
        },
        {
            "cell_type": "code",
            "source": [
                "df = pd.read_excel(TargetExcelFilepath + TargetExcelFilename, 'edges')\r\n",
                "df.fillna('', inplace=True)\r\n",
                "\r\n",
                "df['RecordSource'] = df.apply(lambda row: 'Py.XL_CE_to_CERelated', axis=1)\r\n",
                "\r\n",
                "df['ConceptualEntityKeyPhrase'] = df.apply(lambda row: node_dict[row['ConceptualEntity']]['ConceptualEntityKeyPhrase'], axis=1)\r\n",
                "df = hashing.add_md5_hash_column(\r\n",
                "  df\r\n",
                "  , md5_column_name = 'ConceptualEntityHashKey'\r\n",
                "  , columns = ['ConceptualEntityKeyPhrase']\r\n",
                ")\r\n",
                "\r\n",
                "df['ConceptualEntity_RelatedKeyPhrase'] = df.apply(lambda row: node_dict[row['ConceptualEntity_Related']]['ConceptualEntityKeyPhrase'], axis=1)\r\n",
                "df = hashing.add_md5_hash_column(\r\n",
                "  df\r\n",
                "  , md5_column_name = 'ConceptualEntity_RelatedHashKey'\r\n",
                "  , columns = ['ConceptualEntity_RelatedKeyPhrase']\r\n",
                ")\r\n",
                "\r\n",
                "df['ConceptualEntityConceptualEntity_RelatedKeyPhrase'] = df.apply(lambda row: row['ConceptualEntityKeyPhrase'] + ':' + row['ConceptualEntity_RelatedKeyPhrase'], axis=1)\r\n",
                "df = hashing.add_md5_hash_column(\r\n",
                "  df\r\n",
                "  , md5_column_name = 'ConceptualEntityConceptualEntity_RelatedHashKey'\r\n",
                "  , columns = ['ConceptualEntityConceptualEntity_RelatedKeyPhrase']\r\n",
                ")\r\n",
                "\r\n",
                "df = hashing.add_md5_hash_column(\r\n",
                "  df\r\n",
                "  , md5_column_name = 'HashDiff'\r\n",
                "  , columns = ['label_forward', 'isDeleted']\r\n",
                ")\r\n",
                "\r\n",
                "df = df.drop(columns=['ConceptualEntity', 'ConceptualEntity_Related'])\r\n",
                "\r\n",
                "df"
            ],
            "metadata": {
                "language": "python",
                "azdata_cell_guid": "f8961a55-943f-430d-a633-b410e01c6ddf"
            },
            "outputs": [
                {
                    "output_type": "execute_result",
                    "execution_count": 7,
                    "data": {
                        "text/plain": "             label_forward  isDeleted           RecordSource  \\\n0                  part of          0  Py.XL_CE_to_CERelated   \n1                  makes a          0  Py.XL_CE_to_CERelated   \n2                   buys a          0  Py.XL_CE_to_CERelated   \n3               contains a          0  Py.XL_CE_to_CERelated   \n4              completes a          0  Py.XL_CE_to_CERelated   \n..                     ...        ...                    ...   \n90          levied against          0  Py.XL_CE_to_CERelated   \n91             reported to          0  Py.XL_CE_to_CERelated   \n92             reported to          0  Py.XL_CE_to_CERelated   \n93  provides framework for          0  Py.XL_CE_to_CERelated   \n94  provides framework for          0  Py.XL_CE_to_CERelated   \n\n                ConceptualEntityKeyPhrase           ConceptualEntityHashKey  \\\n0                   wheel.count.wash.Case  743e68daa8771750b0a2cd47754aac4a   \n1        wheel.count.wash.Seller (Person)  4e2fa42a64a12e1f0767a05d8811a72f   \n2        wheel.count.wash.Client (Person)  5531ce268d2c0155098e29e827b76fa2   \n3                   wheel.count.wash.Case  743e68daa8771750b0a2cd47754aac4a   \n4        wheel.count.wash.Client (Person)  5531ce268d2c0155098e29e827b76fa2   \n..                                    ...                               ...   \n90       wheel.count.wash.Remedial Action  a7b1cbf1a1654a133a1fcfc0e12de3ad   \n91       wheel.count.wash.Adviser Quality  2409452767e8d341045ab867d4856dd0   \n92                wheel.count.wash.Breach  ffbfa9193a13fb7af850072710460eef   \n93       wheel.count.wash.Adviser Quality  2409452767e8d341045ab867d4856dd0   \n94  wheel.count.wash.Advice Specification  ce07c52abf6f758216a5f8b050445524   \n\n    ConceptualEntity_RelatedKeyPhrase   ConceptualEntity_RelatedHashKey  \\\n0               wheel.count.wash.Sale  d7169efc6ef5e7def3ba661d43fd5e14   \n1               wheel.count.wash.Sale  d7169efc6ef5e7def3ba661d43fd5e14   \n2               wheel.count.wash.Sale  d7169efc6ef5e7def3ba661d43fd5e14   \n3            wheel.count.wash.Product  fb025572ad6bfea5bd6d3a6ce0ab9798   \n4                wheel.count.wash.KYC  8e04423620da3a67f1fa4a8929f621e2   \n..                                ...                               ...   \n90  wheel.count.wash.Adviser (Person)  a90b8acc88ea4fd3ee8bf96e763b5f77   \n91  wheel.count.wash.Adviser (Person)  a90b8acc88ea4fd3ee8bf96e763b5f77   \n92   wheel.count.wash.Regulatory Body  1e524bff40140d097bedf4a6a0807236   \n93       wheel.count.wash.Supervision  21442e20a5e760eb398c01a54474f7c9   \n94            wheel.count.wash.Advice  db61151ae9a5c87586f9af1b6c0d9445   \n\n    ConceptualEntityConceptualEntity_RelatedKeyPhrase  \\\n0         wheel.count.wash.Case:wheel.count.wash.Sale   \n1   wheel.count.wash.Seller (Person):wheel.count.w...   \n2   wheel.count.wash.Client (Person):wheel.count.w...   \n3      wheel.count.wash.Case:wheel.count.wash.Product   \n4   wheel.count.wash.Client (Person):wheel.count.w...   \n..                                                ...   \n90  wheel.count.wash.Remedial Action:wheel.count.w...   \n91  wheel.count.wash.Adviser Quality:wheel.count.w...   \n92  wheel.count.wash.Breach:wheel.count.wash.Regul...   \n93  wheel.count.wash.Adviser Quality:wheel.count.w...   \n94  wheel.count.wash.Advice Specification:wheel.co...   \n\n   ConceptualEntityConceptualEntity_RelatedHashKey  \\\n0                 f452ed2d9d22f3119fdf50925611ebe8   \n1                 ddca807ce1a5f6f324f5dff009925035   \n2                 d1fc9341f9475097d162ed78163d01b4   \n3                 735189354ba814d302a33946481f4d9f   \n4                 790b01be241c011a7c0a046e75e6f901   \n..                                             ...   \n90                4a4da2ea6a2d8c97f03ac715f192ceee   \n91                444c07bc9f66b2bac41dad45de2c411b   \n92                f1b1ed41ab3c9ec63f05e3943881329c   \n93                877ae92c167cdd3e1b1f381f512fb66f   \n94                a7afdc87162f4d23b309e75fc912bc82   \n\n                            HashDiff  \n0   30acf775b0768eb03f436337ed61e517  \n1   14a19e7ddeb4cf3caf634866c6e3e2d2  \n2   f3346eb7f3455944712f34097be0f45f  \n3   d223fd0ccbccec7ff37b6719a29e89d2  \n4   fb6a8f8504f9902f0c795338ab8b6598  \n..                               ...  \n90  aa7f0c24f4ea4e5dc366a0fcd6bd5075  \n91  22102282447872d581c695f1fb831bb4  \n92  22102282447872d581c695f1fb831bb4  \n93  cb4778e2155bdf9dfdaa608c73b92d0b  \n94  cb4778e2155bdf9dfdaa608c73b92d0b  \n\n[95 rows x 10 columns]",
                        "text/html": "<div>\n<style scoped>\n    .dataframe tbody tr th:only-of-type {\n        vertical-align: middle;\n    }\n\n    .dataframe tbody tr th {\n        vertical-align: top;\n    }\n\n    .dataframe thead th {\n        text-align: right;\n    }\n</style>\n<table border=\"1\" class=\"dataframe\">\n  <thead>\n    <tr style=\"text-align: right;\">\n      <th></th>\n      <th>label_forward</th>\n      <th>isDeleted</th>\n      <th>RecordSource</th>\n      <th>ConceptualEntityKeyPhrase</th>\n      <th>ConceptualEntityHashKey</th>\n      <th>ConceptualEntity_RelatedKeyPhrase</th>\n      <th>ConceptualEntity_RelatedHashKey</th>\n      <th>ConceptualEntityConceptualEntity_RelatedKeyPhrase</th>\n      <th>ConceptualEntityConceptualEntity_RelatedHashKey</th>\n      <th>HashDiff</th>\n    </tr>\n  </thead>\n  <tbody>\n    <tr>\n      <th>0</th>\n      <td>part of</td>\n      <td>0</td>\n      <td>Py.XL_CE_to_CERelated</td>\n      <td>wheel.count.wash.Case</td>\n      <td>743e68daa8771750b0a2cd47754aac4a</td>\n      <td>wheel.count.wash.Sale</td>\n      <td>d7169efc6ef5e7def3ba661d43fd5e14</td>\n      <td>wheel.count.wash.Case:wheel.count.wash.Sale</td>\n      <td>f452ed2d9d22f3119fdf50925611ebe8</td>\n      <td>30acf775b0768eb03f436337ed61e517</td>\n    </tr>\n    <tr>\n      <th>1</th>\n      <td>makes a</td>\n      <td>0</td>\n      <td>Py.XL_CE_to_CERelated</td>\n      <td>wheel.count.wash.Seller (Person)</td>\n      <td>4e2fa42a64a12e1f0767a05d8811a72f</td>\n      <td>wheel.count.wash.Sale</td>\n      <td>d7169efc6ef5e7def3ba661d43fd5e14</td>\n      <td>wheel.count.wash.Seller (Person):wheel.count.w...</td>\n      <td>ddca807ce1a5f6f324f5dff009925035</td>\n      <td>14a19e7ddeb4cf3caf634866c6e3e2d2</td>\n    </tr>\n    <tr>\n      <th>2</th>\n      <td>buys a</td>\n      <td>0</td>\n      <td>Py.XL_CE_to_CERelated</td>\n      <td>wheel.count.wash.Client (Person)</td>\n      <td>5531ce268d2c0155098e29e827b76fa2</td>\n      <td>wheel.count.wash.Sale</td>\n      <td>d7169efc6ef5e7def3ba661d43fd5e14</td>\n      <td>wheel.count.wash.Client (Person):wheel.count.w...</td>\n      <td>d1fc9341f9475097d162ed78163d01b4</td>\n      <td>f3346eb7f3455944712f34097be0f45f</td>\n    </tr>\n    <tr>\n      <th>3</th>\n      <td>contains a</td>\n      <td>0</td>\n      <td>Py.XL_CE_to_CERelated</td>\n      <td>wheel.count.wash.Case</td>\n      <td>743e68daa8771750b0a2cd47754aac4a</td>\n      <td>wheel.count.wash.Product</td>\n      <td>fb025572ad6bfea5bd6d3a6ce0ab9798</td>\n      <td>wheel.count.wash.Case:wheel.count.wash.Product</td>\n      <td>735189354ba814d302a33946481f4d9f</td>\n      <td>d223fd0ccbccec7ff37b6719a29e89d2</td>\n    </tr>\n    <tr>\n      <th>4</th>\n      <td>completes a</td>\n      <td>0</td>\n      <td>Py.XL_CE_to_CERelated</td>\n      <td>wheel.count.wash.Client (Person)</td>\n      <td>5531ce268d2c0155098e29e827b76fa2</td>\n      <td>wheel.count.wash.KYC</td>\n      <td>8e04423620da3a67f1fa4a8929f621e2</td>\n      <td>wheel.count.wash.Client (Person):wheel.count.w...</td>\n      <td>790b01be241c011a7c0a046e75e6f901</td>\n      <td>fb6a8f8504f9902f0c795338ab8b6598</td>\n    </tr>\n    <tr>\n      <th>...</th>\n      <td>...</td>\n      <td>...</td>\n      <td>...</td>\n      <td>...</td>\n      <td>...</td>\n      <td>...</td>\n      <td>...</td>\n      <td>...</td>\n      <td>...</td>\n      <td>...</td>\n    </tr>\n    <tr>\n      <th>90</th>\n      <td>levied against</td>\n      <td>0</td>\n      <td>Py.XL_CE_to_CERelated</td>\n      <td>wheel.count.wash.Remedial Action</td>\n      <td>a7b1cbf1a1654a133a1fcfc0e12de3ad</td>\n      <td>wheel.count.wash.Adviser (Person)</td>\n      <td>a90b8acc88ea4fd3ee8bf96e763b5f77</td>\n      <td>wheel.count.wash.Remedial Action:wheel.count.w...</td>\n      <td>4a4da2ea6a2d8c97f03ac715f192ceee</td>\n      <td>aa7f0c24f4ea4e5dc366a0fcd6bd5075</td>\n    </tr>\n    <tr>\n      <th>91</th>\n      <td>reported to</td>\n      <td>0</td>\n      <td>Py.XL_CE_to_CERelated</td>\n      <td>wheel.count.wash.Adviser Quality</td>\n      <td>2409452767e8d341045ab867d4856dd0</td>\n      <td>wheel.count.wash.Adviser (Person)</td>\n      <td>a90b8acc88ea4fd3ee8bf96e763b5f77</td>\n      <td>wheel.count.wash.Adviser Quality:wheel.count.w...</td>\n      <td>444c07bc9f66b2bac41dad45de2c411b</td>\n      <td>22102282447872d581c695f1fb831bb4</td>\n    </tr>\n    <tr>\n      <th>92</th>\n      <td>reported to</td>\n      <td>0</td>\n      <td>Py.XL_CE_to_CERelated</td>\n      <td>wheel.count.wash.Breach</td>\n      <td>ffbfa9193a13fb7af850072710460eef</td>\n      <td>wheel.count.wash.Regulatory Body</td>\n      <td>1e524bff40140d097bedf4a6a0807236</td>\n      <td>wheel.count.wash.Breach:wheel.count.wash.Regul...</td>\n      <td>f1b1ed41ab3c9ec63f05e3943881329c</td>\n      <td>22102282447872d581c695f1fb831bb4</td>\n    </tr>\n    <tr>\n      <th>93</th>\n      <td>provides framework for</td>\n      <td>0</td>\n      <td>Py.XL_CE_to_CERelated</td>\n      <td>wheel.count.wash.Adviser Quality</td>\n      <td>2409452767e8d341045ab867d4856dd0</td>\n      <td>wheel.count.wash.Supervision</td>\n      <td>21442e20a5e760eb398c01a54474f7c9</td>\n      <td>wheel.count.wash.Adviser Quality:wheel.count.w...</td>\n      <td>877ae92c167cdd3e1b1f381f512fb66f</td>\n      <td>cb4778e2155bdf9dfdaa608c73b92d0b</td>\n    </tr>\n    <tr>\n      <th>94</th>\n      <td>provides framework for</td>\n      <td>0</td>\n      <td>Py.XL_CE_to_CERelated</td>\n      <td>wheel.count.wash.Advice Specification</td>\n      <td>ce07c52abf6f758216a5f8b050445524</td>\n      <td>wheel.count.wash.Advice</td>\n      <td>db61151ae9a5c87586f9af1b6c0d9445</td>\n      <td>wheel.count.wash.Advice Specification:wheel.co...</td>\n      <td>a7afdc87162f4d23b309e75fc912bc82</td>\n      <td>cb4778e2155bdf9dfdaa608c73b92d0b</td>\n    </tr>\n  </tbody>\n</table>\n<p>95 rows × 10 columns</p>\n</div>"
                    },
                    "metadata": {}
                }
            ],
            "execution_count": 7
        },
        {
            "cell_type": "code",
            "source": [
                "# Clear down and Write to staging\r\n",
                "conn.execute(\"DELETE FROM stg_Py_XL_CE_to_CERelated\")\r\n",
                "conn.commit()\r\n",
                "df.to_sql('stg_Py_XL_CE_to_CERelated', conn, if_exists='append', index=False)\r\n",
                "conn.commit()"
            ],
            "metadata": {
                "language": "python",
                "azdata_cell_guid": "62bba213-e646-423a-aa5b-d8c0a74d7ab9"
            },
            "outputs": [
                {
                    "output_type": "execute_result",
                    "execution_count": 8,
                    "data": {
                        "text/plain": "95"
                    },
                    "metadata": {}
                }
            ],
            "execution_count": 8
        },
        {
            "cell_type": "code",
            "source": [
                "# update DeletedDate in staging table if anything is deleted\r\n",
                "conn.execute(\"UPDATE stg_Py_XL_CE_to_CERelated SET DeletedDate = datetime() WHERE isDeleted = 1\")\r\n",
                "conn.commit()"
            ],
            "metadata": {
                "language": "python",
                "azdata_cell_guid": "10b6163e-5598-4ff3-bded-8b2b0a65a455"
            },
            "outputs": [],
            "execution_count": 10
        },
        {
            "cell_type": "code",
            "source": [
                "# Write to the Link (ConceptualEntity - ConceptualEntity_Related)\r\n",
                "sql_query = \"\"\"\r\n",
                "INSERT INTO rv_l_ConceptualEntityConceptualEntity_Related\r\n",
                "(\r\n",
                "  ConceptualEntityConceptualEntity_RelatedHashKey\r\n",
                "  , LoadDate\r\n",
                "  , RecordSource\r\n",
                "  , ConceptualEntityHashKey\r\n",
                "  , ConceptualEntity_RelatedHashKey\r\n",
                ")\r\n",
                "SELECT\r\n",
                "  stg.ConceptualEntityConceptualEntity_RelatedHashKey\r\n",
                "  , stg.LoadDate\r\n",
                "  , stg.RecordSource\r\n",
                "  , stg.ConceptualEntityHashKey\r\n",
                "  , stg.ConceptualEntity_RelatedHashKey\r\n",
                "FROM\r\n",
                "  stg_Py_XL_CE_to_CERelated stg\r\n",
                "WHERE\r\n",
                "  stg.ConceptualEntityConceptualEntity_RelatedHashKey IS NOT NULL\r\n",
                "  AND ConceptualEntityConceptualEntity_RelatedHashKey NOT IN (\r\n",
                "    SELECT ConceptualEntityConceptualEntity_RelatedHashKey\r\n",
                "    FROM rv_l_ConceptualEntityConceptualEntity_Related\r\n",
                "  )\r\n",
                "\"\"\";\r\n",
                "conn.execute(sql_query)\r\n",
                "conn.commit()"
            ],
            "metadata": {
                "language": "python",
                "azdata_cell_guid": "b929b8cf-9371-4863-8c73-07cb8e70c1b6"
            },
            "outputs": [],
            "execution_count": 11
        },
        {
            "cell_type": "code",
            "source": [
                "# Write to the Satellite (rv_s_ConceptualEntityConceptualEntity_Related)\r\n",
                "sql_query = \"\"\"\r\n",
                "INSERT INTO rv_s_ConceptualEntityConceptualEntity_Related\r\n",
                "(\r\n",
                "    ConceptualEntityConceptualEntity_RelatedHashKey\r\n",
                "  , LoadDate\r\n",
                "  , RecordSource\r\n",
                "  , HashDiff\r\n",
                "  , label_forward\r\n",
                "  , isDeleted\r\n",
                "  , DeletedDate\r\n",
                ")\r\n",
                "SELECT DISTINCT\r\n",
                "    stg.ConceptualEntityConceptualEntity_RelatedHashKey\r\n",
                "  , stg.LoadDate\r\n",
                "  , stg.RecordSource\r\n",
                "  , stg.HashDiff\r\n",
                "  , stg.label_forward\r\n",
                "  , stg.isDeleted\r\n",
                "  , stg.DeletedDate\r\n",
                "FROM\r\n",
                "  stg_Py_XL_CE_to_CERelated AS stg\r\n",
                "  LEFT OUTER JOIN rv_s_ConceptualEntityConceptualEntity_Related AS sat ON (\r\n",
                "    stg.ConceptualEntityConceptualEntity_RelatedHashKey = sat.ConceptualEntityConceptualEntity_RelatedHashKey\r\n",
                "    AND sat.LoadDate = (\r\n",
                "      SELECT MAX(z.LoadDate)\r\n",
                "      FROM rv_s_ConceptualEntityConceptualEntity_Related AS z\r\n",
                "      WHERE z.ConceptualEntityConceptualEntity_RelatedHashKey = sat.ConceptualEntityConceptualEntity_RelatedHashKey\r\n",
                "    )\r\n",
                "  )\r\n",
                "WHERE\r\n",
                "  (\r\n",
                "    sat.HashDiff != stg.HashDiff\r\n",
                "    OR sat.HashDiff IS NULL\r\n",
                "  )\r\n",
                "\"\"\";\r\n",
                "conn.execute(sql_query)\r\n",
                "conn.commit()"
            ],
            "metadata": {
                "language": "python",
                "azdata_cell_guid": "e6abdb5b-9327-4495-8f1c-2091b044177c"
            },
            "outputs": [],
            "execution_count": 13
        }
    ]
}