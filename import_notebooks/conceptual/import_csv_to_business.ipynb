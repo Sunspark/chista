{
    "metadata": {
        "kernelspec": {
            "name": "python3",
            "display_name": "Python 3",
            "language": "python"
        },
        "language_info": {
            "name": "python",
            "version": "3.8.10",
            "mimetype": "text/x-python",
            "codemirror_mode": {
                "name": "ipython",
                "version": 3
            },
            "pygments_lexer": "ipython3",
            "nbconvert_exporter": "python",
            "file_extension": ".py"
        }
    },
    "nbformat_minor": 2,
    "nbformat": 4,
    "cells": [
        {
            "cell_type": "code",
            "source": [
                "# Creates new business-level conceptual entities into the DB from a csv\r\n",
                "import sqlite3\r\n",
                "import pandas as pd\r\n",
                "import numpy as np\r\n",
                "import os\r\n",
                "from datetime import datetime\r\n",
                "import sys\r\n",
                "sys.path.append('../../')\r\n",
                "from user_packages import hashing\r\n",
                ""
            ],
            "metadata": {
                "azdata_cell_guid": "13b3140a-35ec-49e6-97ff-32f1af2c1317",
                "language": "python"
            },
            "outputs": [],
            "execution_count": 2
        },
        {
            "cell_type": "code",
            "source": [
                "# Set script variables\r\n",
                "source_file_name = 'Org_Dictionary(Organisations).csv'\r\n",
                "source_file_path = '../../imports/business'\r\n",
                "\r\n",
                "record_source = 'BusinessCSV'"
            ],
            "metadata": {
                "language": "python",
                "azdata_cell_guid": "f772f334-bba1-4bce-90a8-1178605b20c1"
            },
            "outputs": [],
            "execution_count": 3
        },
        {
            "cell_type": "code",
            "source": [
                "conn = sqlite3.connect('../../full_metadata.db')\r\n",
                "cur = conn.cursor()"
            ],
            "metadata": {
                "language": "python",
                "azdata_cell_guid": "6bc29b34-0b6d-4054-829d-1ecb671eb363"
            },
            "outputs": [],
            "execution_count": 4
        },
        {
            "cell_type": "code",
            "source": [
                "# read table to df\r\n",
                "df = pd.read_csv(os.path.join(source_file_path, source_file_name))\r\n",
                "df = df.replace({np.nan: None})\r\n",
                "\r\n",
                "df['ModelBusinessKeyPhrase'] = df.apply(lambda row: row['ModelKeyPhrase'] + ':' + row['BusinessName'], axis=1)\r\n",
                "\r\n",
                "#df"
            ],
            "metadata": {
                "language": "python",
                "azdata_cell_guid": "e6c76da9-a0be-4afd-94d5-20b51f8d389f"
            },
            "outputs": [],
            "execution_count": 15
        },
        {
            "cell_type": "code",
            "source": [
                "df = hashing.add_md5_hash_column(\r\n",
                "  df\r\n",
                "  , md5_column_name = 'ModelHashKey'\r\n",
                "  , columns = ['ModelKeyPhrase']\r\n",
                ")\r\n",
                "df = hashing.add_md5_hash_column(\r\n",
                "  df\r\n",
                "  , md5_column_name = 'BusinessHashKey'\r\n",
                "  , columns = ['BusinessName']\r\n",
                ")\r\n",
                "df = hashing.add_md5_hash_column(\r\n",
                "  df\r\n",
                "  , md5_column_name = 'HashDiff'\r\n",
                "  , columns = ['Description']\r\n",
                ")\r\n",
                "df = hashing.add_md5_hash_column(\r\n",
                "  df\r\n",
                "  , md5_column_name = 'ModelBusinessHashKey'\r\n",
                "  , columns = ['ModelBusinessKeyPhrase']\r\n",
                ")\r\n",
                "df['RecordSource'] = record_source\r\n",
                "\r\n",
                "#df"
            ],
            "metadata": {
                "language": "python",
                "azdata_cell_guid": "b97183e0-7346-4696-b030-75c1b754e1ae"
            },
            "outputs": [],
            "execution_count": 14
        },
        {
            "cell_type": "code",
            "source": [
                "# Clear down and Write to staging\r\n",
                "conn.execute(\"DELETE FROM stg_Py_CSVToBusiness\")\r\n",
                "conn.commit()\r\n",
                "df.to_sql('stg_Py_CSVToBusiness', conn, if_exists='append', index=False)"
            ],
            "metadata": {
                "language": "python",
                "azdata_cell_guid": "fdf73ab5-8afa-4443-a951-693b378db0c2"
            },
            "outputs": [
                {
                    "data": {
                        "text/plain": "14"
                    },
                    "metadata": {},
                    "execution_count": 11,
                    "output_type": "execute_result"
                }
            ],
            "execution_count": 11
        },
        {
            "cell_type": "code",
            "source": [
                "# Write to the Hub (Business)\r\n",
                "sql_query = \"\"\"\r\n",
                "INSERT INTO rv_h_Business\r\n",
                "(\r\n",
                "    BusinessHashKey\r\n",
                "  , LoadDate\r\n",
                "  , RecordSource\r\n",
                "  , BusinessName\r\n",
                ")\r\n",
                "SELECT DISTINCT\r\n",
                "    BusinessHashKey\r\n",
                "  , LoadDate\r\n",
                "  , RecordSource\r\n",
                "  , BusinessName\r\n",
                "FROM\r\n",
                "  stg_Py_CSVToBusiness\r\n",
                "WHERE\r\n",
                "  BusinessHashKey NOT IN (SELECT BusinessHashKey FROM rv_h_Business)\r\n",
                "\"\"\";\r\n",
                "conn.execute(sql_query)\r\n",
                "conn.commit()"
            ],
            "metadata": {
                "language": "python",
                "azdata_cell_guid": "4bb6367f-53d1-45b9-8bb6-c2bb7d47c05d"
            },
            "outputs": [],
            "execution_count": 8
        },
        {
            "cell_type": "code",
            "source": [
                "# Write to the Satellite (Business)\r\n",
                "sql_query = \"\"\"\r\n",
                "INSERT INTO rv_s_Business\r\n",
                "(\r\n",
                "    BusinessHashKey\r\n",
                "  , LoadDate\r\n",
                "  , RecordSource\r\n",
                "  , HashDiff\r\n",
                "\r\n",
                "  , \"Description\"\r\n",
                ")\r\n",
                "SELECT DISTINCT\r\n",
                "    stg.BusinessHashKey\r\n",
                "  , stg.LoadDate\r\n",
                "  , stg.RecordSource\r\n",
                "  , stg.HashDiff\r\n",
                "  \r\n",
                "  , stg.\"Description\"\r\n",
                "\r\n",
                "FROM\r\n",
                "  stg_Py_CSVToBusiness AS stg\r\n",
                "  LEFT OUTER JOIN rv_s_Business AS sat ON (\r\n",
                "    stg.BusinessHashKey = sat.BusinessHashKey\r\n",
                "    AND sat.LoadDate = (\r\n",
                "      SELECT MAX(z.LoadDate)\r\n",
                "      FROM rv_s_Business AS z\r\n",
                "      WHERE z.BusinessHashKey = sat.BusinessHashKey\r\n",
                "    )\r\n",
                "  )\r\n",
                "WHERE\r\n",
                "  (\r\n",
                "    sat.HashDiff != stg.HashDiff\r\n",
                "    OR sat.HashDiff IS NULL\r\n",
                "  )\r\n",
                "\"\"\";\r\n",
                "conn.execute(sql_query)\r\n",
                "conn.commit()"
            ],
            "metadata": {
                "language": "python",
                "azdata_cell_guid": "d1fc7d86-fb92-4203-921b-4e9321068890"
            },
            "outputs": [],
            "execution_count": 12
        },
        {
            "cell_type": "code",
            "source": [
                "# Write to the Link (Model - Business)\r\n",
                "sql_query = \"\"\"\r\n",
                "INSERT INTO rv_l_ModelBusiness\r\n",
                "(\r\n",
                "  ModelBusinessHashKey\r\n",
                "  , LoadDate\r\n",
                "  , RecordSource\r\n",
                "  , ModelHashKey\r\n",
                "  , BusinessHashKey\r\n",
                ")\r\n",
                "SELECT\r\n",
                "  stg.ModelBusinessHashKey\r\n",
                "  , stg.LoadDate\r\n",
                "  , stg.RecordSource\r\n",
                "  , stg.ModelHashKey\r\n",
                "  , stg.BusinessHashKey\r\n",
                "FROM\r\n",
                "  stg_Py_CSVToBusiness stg\r\n",
                "WHERE\r\n",
                "  stg.ModelBusinessHashKey IS NOT NULL\r\n",
                "  AND ModelBusinessHashKey NOT IN (\r\n",
                "    SELECT ModelBusinessHashKey\r\n",
                "    FROM rv_l_ModelBusiness\r\n",
                "  )\r\n",
                "\"\"\";\r\n",
                "conn.execute(sql_query)\r\n",
                "conn.commit()"
            ],
            "metadata": {
                "language": "python",
                "azdata_cell_guid": "76a5d16e-26c1-44dc-83e2-2d20989f988b"
            },
            "outputs": [],
            "execution_count": 13
        }
    ]
}