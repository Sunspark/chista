{
    "metadata": {
        "kernelspec": {
            "name": "python3",
            "display_name": "Python 3",
            "language": "python"
        },
        "language_info": {
            "name": "python",
            "version": "3.8.10",
            "mimetype": "text/x-python",
            "codemirror_mode": {
                "name": "ipython",
                "version": 3
            },
            "pygments_lexer": "ipython3",
            "nbconvert_exporter": "python",
            "file_extension": ".py"
        }
    },
    "nbformat_minor": 2,
    "nbformat": 4,
    "cells": [
        {
            "cell_type": "code",
            "source": [
                "# Creates new business-level conceptual entities into the DB from an excel sheet\r\n",
                "import sqlite3\r\n",
                "import pandas as pd\r\n",
                "import numpy as np\r\n",
                "import os\r\n",
                "from datetime import datetime\r\n",
                "import sys\r\n",
                "sys.path.append('../../')\r\n",
                "from user_packages import hashing"
            ],
            "metadata": {
                "azdata_cell_guid": "2aca15e7-7225-49bc-aac2-7a7ceecfd80a",
                "language": "python"
            },
            "outputs": [],
            "execution_count": 12
        },
        {
            "cell_type": "code",
            "source": [
                "# Set script variables\r\n",
                "source_file_name = 'Org_Dictionary(Business Areas).csv'\r\n",
                "source_file_path = '../../imports/business_area'\r\n",
                "\r\n",
                "record_source = 'BusinessAreaCSV'"
            ],
            "metadata": {
                "language": "python",
                "azdata_cell_guid": "632a7d28-9230-4a79-80ff-15be458e1759"
            },
            "outputs": [],
            "execution_count": 13
        },
        {
            "cell_type": "code",
            "source": [
                "conn = sqlite3.connect('../../full_metadata.db')\r\n",
                "cur = conn.cursor()"
            ],
            "metadata": {
                "language": "python",
                "azdata_cell_guid": "cc2ffc97-fead-4abe-8296-2ab66fbdf735"
            },
            "outputs": [],
            "execution_count": 14
        },
        {
            "cell_type": "code",
            "source": [
                "# read table to df\r\n",
                "df = pd.read_csv(os.path.join(source_file_path, source_file_name))\r\n",
                "df = df.replace({np.nan: None})\r\n",
                "\r\n",
                "#df"
            ],
            "metadata": {
                "language": "python",
                "azdata_cell_guid": "4079e5f1-502f-4876-af43-b7e3cdc7eaa1"
            },
            "outputs": [],
            "execution_count": 25
        },
        {
            "cell_type": "code",
            "source": [
                "# Create additional fields\r\n",
                "df['RecordSource'] = record_source\r\n",
                "df['LoadDate'] = datetime.now()\r\n",
                "\r\n",
                "df['BusinessAreaKeyPhrase'] = df.apply(lambda row: row['BusinessName'] + '.' + row['BusinessAreaName'], axis=1)\r\n",
                "df['ModelBusinessAreaKeyPhrase'] = df.apply(lambda row: row['BusinessAreaModelKeyPhrase'] + ':' + row['BusinessAreaKeyPhrase'], axis=1)\r\n",
                "df['BusinessBusinessAreaKeyPhrase'] = df.apply(lambda row: row['BusinessName'] + ':' + row['BusinessAreaKeyPhrase'], axis=1)\r\n",
                ""
            ],
            "metadata": {
                "language": "python",
                "azdata_cell_guid": "07da1734-6f10-4e9d-b297-652b7d7b7bba"
            },
            "outputs": [],
            "execution_count": 23
        },
        {
            "cell_type": "code",
            "source": [
                "# Hash fields\r\n",
                "\r\n",
                "df = hashing.add_md5_hash_column(\r\n",
                "  df\r\n",
                "  , md5_column_name = 'BusinessHashKey'\r\n",
                "  , columns = ['BusinessName']\r\n",
                ")\r\n",
                "\r\n",
                "df = hashing.add_md5_hash_column(\r\n",
                "  df\r\n",
                "  , md5_column_name = 'ModelHashKey'\r\n",
                "  , columns = ['BusinessAreaModelKeyPhrase']\r\n",
                ")\r\n",
                "df = hashing.add_md5_hash_column(\r\n",
                "  df\r\n",
                "  , md5_column_name = 'BusinessAreaHashKey'\r\n",
                "  , columns = ['BusinessAreaKeyPhrase']\r\n",
                ")\r\n",
                "df = hashing.add_md5_hash_column(\r\n",
                "  df\r\n",
                "  , md5_column_name = 'ModelBusinessAreaHashKey'\r\n",
                "  , columns = ['ModelBusinessAreaKeyPhrase']\r\n",
                ")\r\n",
                "\r\n",
                "df = hashing.add_md5_hash_column(\r\n",
                "  df\r\n",
                "  , md5_column_name = 'BusinessBusinessAreaHashKey'\r\n",
                "  , columns = ['BusinessBusinessAreaKeyPhrase']\r\n",
                ")\r\n",
                "\r\n",
                "df = hashing.add_md5_hash_column(\r\n",
                "  df\r\n",
                "  , md5_column_name = 'HashDiff'\r\n",
                "  , columns = ['BusinessAreaName', 'DisplayName', 'Description', 'isDeleted', 'BusinessContact']\r\n",
                ")\r\n",
                "\r\n",
                "#df"
            ],
            "metadata": {
                "language": "python",
                "azdata_cell_guid": "9c4b44f7-c7bb-4f0f-ba58-c5684221198a"
            },
            "outputs": [],
            "execution_count": 24
        },
        {
            "cell_type": "code",
            "source": [
                "# Clear down and Write to staging\r\n",
                "conn.execute(\"DELETE FROM stg_Py_CSVToBusinessArea\")\r\n",
                "conn.commit()\r\n",
                "df.to_sql('stg_Py_CSVToBusinessArea', conn, if_exists='append', index=False)"
            ],
            "metadata": {
                "language": "python",
                "azdata_cell_guid": "a75c8452-addd-4eee-85ff-a22d0849fecc"
            },
            "outputs": [
                {
                    "output_type": "execute_result",
                    "execution_count": 14,
                    "data": {
                        "text/plain": "11"
                    },
                    "metadata": {}
                }
            ],
            "execution_count": 14
        },
        {
            "cell_type": "code",
            "source": [
                "# Write to the Hub (BusinessArea)\r\n",
                "sql_query = \"\"\"\r\n",
                "INSERT INTO rv_h_BusinessArea\r\n",
                "(\r\n",
                "    BusinessAreaHashKey\r\n",
                "  , LoadDate\r\n",
                "  , RecordSource\r\n",
                "  , BusinessAreaKeyPhrase\r\n",
                ")\r\n",
                "SELECT DISTINCT\r\n",
                "    BusinessAreaHashKey\r\n",
                "  , LoadDate\r\n",
                "  , RecordSource\r\n",
                "  , BusinessAreaKeyPhrase\r\n",
                "FROM\r\n",
                "  stg_Py_CSVToBusinessArea\r\n",
                "WHERE\r\n",
                "  BusinessAreaHashKey NOT IN (SELECT BusinessAreaHashKey FROM rv_h_BusinessArea)\r\n",
                "\"\"\";\r\n",
                "conn.execute(sql_query)\r\n",
                "conn.commit()"
            ],
            "metadata": {
                "language": "python",
                "azdata_cell_guid": "54aa89cd-75da-4b1c-97df-f41aad96a4ae"
            },
            "outputs": [],
            "execution_count": 9
        },
        {
            "cell_type": "code",
            "source": [
                "# Write to the Satellite (BusinessArea)\r\n",
                "sql_query = \"\"\"\r\n",
                "INSERT INTO rv_s_BusinessArea\r\n",
                "(\r\n",
                "    BusinessAreaHashKey\r\n",
                "  , LoadDate\r\n",
                "  , RecordSource\r\n",
                "  , HashDiff\r\n",
                "  , BusinessAreaName\r\n",
                "  , DisplayName\r\n",
                "  , Description\r\n",
                "  , isDeleted\r\n",
                "  , BusinessContact\r\n",
                ")\r\n",
                "SELECT DISTINCT\r\n",
                "    stg.BusinessAreaHashKey\r\n",
                "  , stg.LoadDate\r\n",
                "  , stg.RecordSource\r\n",
                "  , stg.HashDiff\r\n",
                "  , stg.BusinessAreaName\r\n",
                "  , stg.DisplayName\r\n",
                "  , stg.Description\r\n",
                "  , stg.isDeleted\r\n",
                "  , stg.BusinessContact\r\n",
                "FROM\r\n",
                "  stg_Py_CSVToBusinessArea AS stg\r\n",
                "  LEFT OUTER JOIN rv_s_BusinessArea AS sat ON (\r\n",
                "    stg.BusinessAreaHashKey = sat.BusinessAreaHashKey\r\n",
                "    AND sat.LoadDate = (\r\n",
                "      SELECT MAX(z.LoadDate)\r\n",
                "      FROM rv_s_BusinessArea AS z\r\n",
                "      WHERE z.BusinessAreaHashKey = sat.BusinessAreaHashKey\r\n",
                "    )\r\n",
                "  )\r\n",
                "WHERE\r\n",
                "  (\r\n",
                "    sat.HashDiff != stg.HashDiff\r\n",
                "    OR sat.HashDiff IS NULL\r\n",
                "  )\r\n",
                "\"\"\";\r\n",
                "conn.execute(sql_query)\r\n",
                "conn.commit()"
            ],
            "metadata": {
                "language": "python",
                "azdata_cell_guid": "929218ee-f74c-424a-931b-505cc40aa967"
            },
            "outputs": [],
            "execution_count": 10
        },
        {
            "cell_type": "code",
            "source": [
                "# Write to the Link (Model - BusinessArea)\r\n",
                "sql_query = \"\"\"\r\n",
                "INSERT INTO rv_l_ModelBusinessArea\r\n",
                "(\r\n",
                "  ModelBusinessAreaHashKey\r\n",
                "  , LoadDate\r\n",
                "  , RecordSource\r\n",
                "  , ModelHashKey\r\n",
                "  , BusinessAreaHashKey\r\n",
                ")\r\n",
                "SELECT\r\n",
                "  stg.ModelBusinessAreaHashKey\r\n",
                "  , stg.LoadDate\r\n",
                "  , stg.RecordSource\r\n",
                "  , stg.ModelHashKey\r\n",
                "  , stg.BusinessAreaHashKey\r\n",
                "FROM\r\n",
                "  stg_Py_CSVToBusinessArea stg\r\n",
                "WHERE\r\n",
                "  stg.ModelBusinessAreaHashKey IS NOT NULL\r\n",
                "  AND ModelBusinessAreaHashKey NOT IN (\r\n",
                "    SELECT ModelBusinessAreaHashKey\r\n",
                "    FROM rv_l_ModelBusinessArea\r\n",
                "  )\r\n",
                "\"\"\";\r\n",
                "conn.execute(sql_query)\r\n",
                "conn.commit()"
            ],
            "metadata": {
                "language": "python",
                "azdata_cell_guid": "10a14c9c-59d5-4fe7-9dd4-cd0c866082a1"
            },
            "outputs": [],
            "execution_count": 11
        },
        {
            "cell_type": "code",
            "source": [
                "# Write to the Link (Business - BusinessArea)\r\n",
                "sql_query = \"\"\"\r\n",
                "INSERT INTO rv_l_BusinessBusinessArea\r\n",
                "(\r\n",
                "  BusinessBusinessAreaHashKey\r\n",
                "  , LoadDate\r\n",
                "  , RecordSource\r\n",
                "  , BusinessHashKey\r\n",
                "  , BusinessAreaHashKey\r\n",
                ")\r\n",
                "SELECT\r\n",
                "  stg.BusinessBusinessAreaHashKey\r\n",
                "  , stg.LoadDate\r\n",
                "  , stg.RecordSource\r\n",
                "  , stg.BusinessHashKey\r\n",
                "  , stg.BusinessAreaHashKey\r\n",
                "FROM\r\n",
                "  stg_Py_CSVToBusinessArea stg\r\n",
                "WHERE\r\n",
                "  stg.BusinessBusinessAreaHashKey IS NOT NULL\r\n",
                "  AND BusinessBusinessAreaHashKey NOT IN (\r\n",
                "    SELECT BusinessBusinessAreaHashKey\r\n",
                "    FROM rv_l_BusinessBusinessArea\r\n",
                "  )\r\n",
                "\"\"\";\r\n",
                "conn.execute(sql_query)\r\n",
                "conn.commit()"
            ],
            "metadata": {
                "language": "python",
                "azdata_cell_guid": "1ad93583-b38c-4da5-8044-af4ff3586730"
            },
            "outputs": [],
            "execution_count": 15
        }
    ]
}