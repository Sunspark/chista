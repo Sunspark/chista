{
    "metadata": {
        "kernelspec": {
            "name": "python3",
            "display_name": "Python 3",
            "language": "python"
        },
        "language_info": {
            "name": "python",
            "version": "3.8.10",
            "mimetype": "text/x-python",
            "codemirror_mode": {
                "name": "ipython",
                "version": 3
            },
            "pygments_lexer": "ipython3",
            "nbconvert_exporter": "python",
            "file_extension": ".py"
        }
    },
    "nbformat_minor": 2,
    "nbformat": 4,
    "cells": [
        {
            "cell_type": "code",
            "source": [
                "# Creates new business-level conceptual entities into the DB from an excel sheet\r\n",
                "import sqlite3\r\n",
                "import pandas as pd\r\n",
                "import numpy as np\r\n",
                "import os\r\n",
                "from datetime import datetime\r\n",
                "import sys\r\n",
                "sys.path.append('../../')\r\n",
                "from user_packages import hashing"
            ],
            "metadata": {
                "azdata_cell_guid": "2aca15e7-7225-49bc-aac2-7a7ceecfd80a",
                "language": "python"
            },
            "outputs": [],
            "execution_count": 1
        },
        {
            "cell_type": "code",
            "source": [
                "# Set script variables\r\n",
                "source_file_name = 'Org_Dictionary(Business Areas).csv'\r\n",
                "source_file_path = '../../imports/business_area'\r\n",
                "\r\n",
                "record_source = 'BusinessAreaCSV'"
            ],
            "metadata": {
                "language": "python",
                "azdata_cell_guid": "632a7d28-9230-4a79-80ff-15be458e1759"
            },
            "outputs": [],
            "execution_count": 2
        },
        {
            "cell_type": "code",
            "source": [
                "conn = sqlite3.connect('../../full_metadata.db')\r\n",
                "cur = conn.cursor()"
            ],
            "metadata": {
                "language": "python",
                "azdata_cell_guid": "cc2ffc97-fead-4abe-8296-2ab66fbdf735"
            },
            "outputs": [],
            "execution_count": 3
        },
        {
            "cell_type": "code",
            "source": [
                "# read table to df\r\n",
                "df = pd.read_csv(os.path.join(source_file_path, source_file_name))\r\n",
                "df = df.replace({np.nan: None})\r\n",
                "\r\n",
                "df"
            ],
            "metadata": {
                "language": "python",
                "azdata_cell_guid": "4079e5f1-502f-4876-af43-b7e3cdc7eaa1"
            },
            "outputs": [
                {
                    "data": {
                        "text/plain": "   BusinessModelKeyPhrase BusinessName BusinessAreaModelKeyPhrase  \\\n0    object.one.furniture        Vivid          people.orange.all   \n1    object.one.furniture        Vivid          people.orange.all   \n2    object.one.furniture        Vivid          people.orange.all   \n3    object.one.furniture        Vivid          people.orange.all   \n4    object.one.furniture        Vivid          people.orange.all   \n5    object.one.furniture        Vivid          people.orange.all   \n6    object.one.furniture        Vivid          people.orange.all   \n7    object.one.furniture        Vivid          people.orange.all   \n8    object.one.furniture        Vivid          people.orange.all   \n9    object.one.furniture        Vivid          people.orange.all   \n10   object.one.furniture        Vivid          people.orange.all   \n\n    BusinessAreaName                        DisplayName  \\\n0            Repairs                            Repairs   \n1         Scheduling                         Scheduling   \n2              Voids                              Voids   \n3           Lettings                           Lettings   \n4         Compliance                         Compliance   \n5       AssetSustain           Asset and Sustainability   \n6   CustomerServices                  Customer Services   \n7            Finance                            Finance   \n8             People                             People   \n9   PropertyServices                  Property Services   \n10          Strategy  Strategy, Insight and Performance   \n\n                                          Description  isDeleted  \\\n0   Responsible for the process of either handling...          0   \n1   Making sure the right people arrive at the rig...          0   \n2   Handling maintenance/ repair/ renovation of em...          0   \n3   Putting tenants in properties and retrieving rent          0   \n4       Ensuring that regulatory requirements are met          0   \n5                                                None          0   \n6                                                None          0   \n7                                                None          0   \n8                                                None          0   \n9                                                None          0   \n10                                               None          0   \n\n   BusinessContact  \n0             None  \n1             None  \n2             None  \n3             None  \n4             None  \n5     Tom Robinson  \n6       Alex Nagle  \n7       David Ball  \n8      Susan Noone  \n9             None  \n10  Sarah Phillips  ",
                        "text/html": "<div>\n<style scoped>\n    .dataframe tbody tr th:only-of-type {\n        vertical-align: middle;\n    }\n\n    .dataframe tbody tr th {\n        vertical-align: top;\n    }\n\n    .dataframe thead th {\n        text-align: right;\n    }\n</style>\n<table border=\"1\" class=\"dataframe\">\n  <thead>\n    <tr style=\"text-align: right;\">\n      <th></th>\n      <th>BusinessModelKeyPhrase</th>\n      <th>BusinessName</th>\n      <th>BusinessAreaModelKeyPhrase</th>\n      <th>BusinessAreaName</th>\n      <th>DisplayName</th>\n      <th>Description</th>\n      <th>isDeleted</th>\n      <th>BusinessContact</th>\n    </tr>\n  </thead>\n  <tbody>\n    <tr>\n      <th>0</th>\n      <td>object.one.furniture</td>\n      <td>Vivid</td>\n      <td>people.orange.all</td>\n      <td>Repairs</td>\n      <td>Repairs</td>\n      <td>Responsible for the process of either handling...</td>\n      <td>0</td>\n      <td>None</td>\n    </tr>\n    <tr>\n      <th>1</th>\n      <td>object.one.furniture</td>\n      <td>Vivid</td>\n      <td>people.orange.all</td>\n      <td>Scheduling</td>\n      <td>Scheduling</td>\n      <td>Making sure the right people arrive at the rig...</td>\n      <td>0</td>\n      <td>None</td>\n    </tr>\n    <tr>\n      <th>2</th>\n      <td>object.one.furniture</td>\n      <td>Vivid</td>\n      <td>people.orange.all</td>\n      <td>Voids</td>\n      <td>Voids</td>\n      <td>Handling maintenance/ repair/ renovation of em...</td>\n      <td>0</td>\n      <td>None</td>\n    </tr>\n    <tr>\n      <th>3</th>\n      <td>object.one.furniture</td>\n      <td>Vivid</td>\n      <td>people.orange.all</td>\n      <td>Lettings</td>\n      <td>Lettings</td>\n      <td>Putting tenants in properties and retrieving rent</td>\n      <td>0</td>\n      <td>None</td>\n    </tr>\n    <tr>\n      <th>4</th>\n      <td>object.one.furniture</td>\n      <td>Vivid</td>\n      <td>people.orange.all</td>\n      <td>Compliance</td>\n      <td>Compliance</td>\n      <td>Ensuring that regulatory requirements are met</td>\n      <td>0</td>\n      <td>None</td>\n    </tr>\n    <tr>\n      <th>5</th>\n      <td>object.one.furniture</td>\n      <td>Vivid</td>\n      <td>people.orange.all</td>\n      <td>AssetSustain</td>\n      <td>Asset and Sustainability</td>\n      <td>None</td>\n      <td>0</td>\n      <td>Tom Robinson</td>\n    </tr>\n    <tr>\n      <th>6</th>\n      <td>object.one.furniture</td>\n      <td>Vivid</td>\n      <td>people.orange.all</td>\n      <td>CustomerServices</td>\n      <td>Customer Services</td>\n      <td>None</td>\n      <td>0</td>\n      <td>Alex Nagle</td>\n    </tr>\n    <tr>\n      <th>7</th>\n      <td>object.one.furniture</td>\n      <td>Vivid</td>\n      <td>people.orange.all</td>\n      <td>Finance</td>\n      <td>Finance</td>\n      <td>None</td>\n      <td>0</td>\n      <td>David Ball</td>\n    </tr>\n    <tr>\n      <th>8</th>\n      <td>object.one.furniture</td>\n      <td>Vivid</td>\n      <td>people.orange.all</td>\n      <td>People</td>\n      <td>People</td>\n      <td>None</td>\n      <td>0</td>\n      <td>Susan Noone</td>\n    </tr>\n    <tr>\n      <th>9</th>\n      <td>object.one.furniture</td>\n      <td>Vivid</td>\n      <td>people.orange.all</td>\n      <td>PropertyServices</td>\n      <td>Property Services</td>\n      <td>None</td>\n      <td>0</td>\n      <td>None</td>\n    </tr>\n    <tr>\n      <th>10</th>\n      <td>object.one.furniture</td>\n      <td>Vivid</td>\n      <td>people.orange.all</td>\n      <td>Strategy</td>\n      <td>Strategy, Insight and Performance</td>\n      <td>None</td>\n      <td>0</td>\n      <td>Sarah Phillips</td>\n    </tr>\n  </tbody>\n</table>\n</div>"
                    },
                    "metadata": {},
                    "execution_count": 4,
                    "output_type": "execute_result"
                }
            ],
            "execution_count": 4
        },
        {
            "cell_type": "code",
            "source": [
                "# Create additional fields\r\n",
                "df['RecordSource'] = record_source\r\n",
                "df['LoadDate'] = datetime.now()\r\n",
                "\r\n",
                "df['BusinessAreaKeyPhrase'] = df.apply(lambda row: row['BusinessName'] + '.' + row['BusinessAreaName'], axis=1)\r\n",
                "df['ModelBusinessAreaKeyPhrase'] = df.apply(lambda row: row['BusinessAreaModelKeyPhrase'] + ':' + row['BusinessAreaKeyPhrase'], axis=1)\r\n",
                "df['BusinessBusinessAreaKeyPhrase'] = df.apply(lambda row: row['BusinessName'] + ':' + row['BusinessAreaKeyPhrase'], axis=1)\r\n",
                ""
            ],
            "metadata": {
                "language": "python",
                "azdata_cell_guid": "07da1734-6f10-4e9d-b297-652b7d7b7bba"
            },
            "outputs": [],
            "execution_count": 5
        },
        {
            "cell_type": "code",
            "source": [
                "# Hash fields\r\n",
                "\r\n",
                "df = hashing.add_md5_hash_column(\r\n",
                "  df\r\n",
                "  , md5_column_name = 'BusinessHashKey'\r\n",
                "  , columns = ['BusinessName']\r\n",
                ")\r\n",
                "\r\n",
                "df = hashing.add_md5_hash_column(\r\n",
                "  df\r\n",
                "  , md5_column_name = 'ModelHashKey'\r\n",
                "  , columns = ['BusinessAreaModelKeyPhrase']\r\n",
                ")\r\n",
                "df = hashing.add_md5_hash_column(\r\n",
                "  df\r\n",
                "  , md5_column_name = 'BusinessAreaHashKey'\r\n",
                "  , columns = ['BusinessAreaKeyPhrase']\r\n",
                ")\r\n",
                "df = hashing.add_md5_hash_column(\r\n",
                "  df\r\n",
                "  , md5_column_name = 'ModelBusinessAreaHashKey'\r\n",
                "  , columns = ['ModelBusinessAreaKeyPhrase']\r\n",
                ")\r\n",
                "\r\n",
                "df = hashing.add_md5_hash_column(\r\n",
                "  df\r\n",
                "  , md5_column_name = 'BusinessBusinessAreaHashKey'\r\n",
                "  , columns = ['BusinessBusinessAreaKeyPhrase']\r\n",
                ")\r\n",
                "\r\n",
                "df = hashing.add_md5_hash_column(\r\n",
                "  df\r\n",
                "  , md5_column_name = 'HashDiff'\r\n",
                "  , columns = ['BusinessAreaName', 'DisplayName', 'Description', 'isDeleted', 'BusinessContact']\r\n",
                ")\r\n",
                "\r\n",
                "df"
            ],
            "metadata": {
                "language": "python",
                "azdata_cell_guid": "9c4b44f7-c7bb-4f0f-ba58-c5684221198a"
            },
            "outputs": [
                {
                    "data": {
                        "text/plain": "   BusinessModelKeyPhrase BusinessName BusinessAreaModelKeyPhrase  \\\n0    object.one.furniture        Vivid          people.orange.all   \n1    object.one.furniture        Vivid          people.orange.all   \n2    object.one.furniture        Vivid          people.orange.all   \n3    object.one.furniture        Vivid          people.orange.all   \n4    object.one.furniture        Vivid          people.orange.all   \n5    object.one.furniture        Vivid          people.orange.all   \n6    object.one.furniture        Vivid          people.orange.all   \n7    object.one.furniture        Vivid          people.orange.all   \n8    object.one.furniture        Vivid          people.orange.all   \n9    object.one.furniture        Vivid          people.orange.all   \n10   object.one.furniture        Vivid          people.orange.all   \n\n    BusinessAreaName                        DisplayName  \\\n0            Repairs                            Repairs   \n1         Scheduling                         Scheduling   \n2              Voids                              Voids   \n3           Lettings                           Lettings   \n4         Compliance                         Compliance   \n5       AssetSustain           Asset and Sustainability   \n6   CustomerServices                  Customer Services   \n7            Finance                            Finance   \n8             People                             People   \n9   PropertyServices                  Property Services   \n10          Strategy  Strategy, Insight and Performance   \n\n                                          Description  isDeleted  \\\n0   Responsible for the process of either handling...          0   \n1   Making sure the right people arrive at the rig...          0   \n2   Handling maintenance/ repair/ renovation of em...          0   \n3   Putting tenants in properties and retrieving rent          0   \n4       Ensuring that regulatory requirements are met          0   \n5                                                None          0   \n6                                                None          0   \n7                                                None          0   \n8                                                None          0   \n9                                                None          0   \n10                                               None          0   \n\n   BusinessContact     RecordSource                   LoadDate  \\\n0             None  BusinessAreaCSV 2024-08-07 16:00:39.088097   \n1             None  BusinessAreaCSV 2024-08-07 16:00:39.088097   \n2             None  BusinessAreaCSV 2024-08-07 16:00:39.088097   \n3             None  BusinessAreaCSV 2024-08-07 16:00:39.088097   \n4             None  BusinessAreaCSV 2024-08-07 16:00:39.088097   \n5     Tom Robinson  BusinessAreaCSV 2024-08-07 16:00:39.088097   \n6       Alex Nagle  BusinessAreaCSV 2024-08-07 16:00:39.088097   \n7       David Ball  BusinessAreaCSV 2024-08-07 16:00:39.088097   \n8      Susan Noone  BusinessAreaCSV 2024-08-07 16:00:39.088097   \n9             None  BusinessAreaCSV 2024-08-07 16:00:39.088097   \n10  Sarah Phillips  BusinessAreaCSV 2024-08-07 16:00:39.088097   \n\n     BusinessAreaKeyPhrase                ModelBusinessAreaKeyPhrase  \\\n0            Vivid.Repairs           people.orange.all:Vivid.Repairs   \n1         Vivid.Scheduling        people.orange.all:Vivid.Scheduling   \n2              Vivid.Voids             people.orange.all:Vivid.Voids   \n3           Vivid.Lettings          people.orange.all:Vivid.Lettings   \n4         Vivid.Compliance        people.orange.all:Vivid.Compliance   \n5       Vivid.AssetSustain      people.orange.all:Vivid.AssetSustain   \n6   Vivid.CustomerServices  people.orange.all:Vivid.CustomerServices   \n7            Vivid.Finance           people.orange.all:Vivid.Finance   \n8             Vivid.People            people.orange.all:Vivid.People   \n9   Vivid.PropertyServices  people.orange.all:Vivid.PropertyServices   \n10          Vivid.Strategy          people.orange.all:Vivid.Strategy   \n\n   BusinessBusinessAreaKeyPhrase                   BusinessHashKey  \\\n0            Vivid:Vivid.Repairs  ff894daac36de37f2537ff46b8d41c72   \n1         Vivid:Vivid.Scheduling  ff894daac36de37f2537ff46b8d41c72   \n2              Vivid:Vivid.Voids  ff894daac36de37f2537ff46b8d41c72   \n3           Vivid:Vivid.Lettings  ff894daac36de37f2537ff46b8d41c72   \n4         Vivid:Vivid.Compliance  ff894daac36de37f2537ff46b8d41c72   \n5       Vivid:Vivid.AssetSustain  ff894daac36de37f2537ff46b8d41c72   \n6   Vivid:Vivid.CustomerServices  ff894daac36de37f2537ff46b8d41c72   \n7            Vivid:Vivid.Finance  ff894daac36de37f2537ff46b8d41c72   \n8             Vivid:Vivid.People  ff894daac36de37f2537ff46b8d41c72   \n9   Vivid:Vivid.PropertyServices  ff894daac36de37f2537ff46b8d41c72   \n10          Vivid:Vivid.Strategy  ff894daac36de37f2537ff46b8d41c72   \n\n                        ModelHashKey               BusinessAreaHashKey  \\\n0   d98e8ab954365a242d5457587e96b140  0b35a2f27c61505ab4baf085e24d9e0a   \n1   d98e8ab954365a242d5457587e96b140  feb98503faf581cdb6978f5f32e14484   \n2   d98e8ab954365a242d5457587e96b140  8a593517adf82fb71d684648da693677   \n3   d98e8ab954365a242d5457587e96b140  ec614606fa800fcddf8138201dcc1fb9   \n4   d98e8ab954365a242d5457587e96b140  dd6a3a31dc598715113616f36fef270b   \n5   d98e8ab954365a242d5457587e96b140  d48076c74c8587d0a4a2b380d0023fde   \n6   d98e8ab954365a242d5457587e96b140  9a8176243732c9337347415a002db5b3   \n7   d98e8ab954365a242d5457587e96b140  35418af0f2db1c137ec9612a15ae40c0   \n8   d98e8ab954365a242d5457587e96b140  becb34fde4a95a84c4128ab50087bb78   \n9   d98e8ab954365a242d5457587e96b140  01c24150f79bd4396500a6eec5c386e9   \n10  d98e8ab954365a242d5457587e96b140  a6361b5a4a2afb3649b325e5007cf983   \n\n            ModelBusinessAreaHashKey                          HashDiff  \\\n0   23f76d2ea70b18ccd33836e2a0ed8a13  316cc0c09fa1bd28d35a3f7e9965cf23   \n1   52da4b89adc2487f4172e91a3de385a9  ae060ac16dd043a406cc6cf63f13620b   \n2   ffbc0d594ff3ef82d548670ebeeaac99  931beebcb456ad6cc2ef34a47a7a09bb   \n3   03886e204c1311e8670e61245734e48c  150fac02773deae116d114400c264efd   \n4   0fc848a502466ec825a66de3841936bd  92bb83570e4cf1bb17e1d1dd123c6837   \n5   f3ef74535b99090b2018888bde65d3ec  e99f2c75dd2bd8bacd9d70c732007602   \n6   12726847fe7e7197a904cca0244fd27d  b86fe1cf67b08441ec8ebe56504904fd   \n7   1bf8536ca1f3dc536f087824fcc0da45  581dcabe0df250117e191a784fb9b273   \n8   65904066e0722c9987637b24571d48be  6534c7d945526e1baeb44b5de4725fc1   \n9   f8b75011c2846cd7c9b8181cc708e7fe  7435604bbee81598caecab6ad244c538   \n10  5f0c53967a18781b9669dfde930603d5  2d67d27b7661696607a450fb1d153487   \n\n         BusinessBusinessAreaHashKey  \n0   2a12960fb8f51553812326d92b161f69  \n1   a57d8b0aab282229b0ec6fde41b2e6b0  \n2   954a8d33ecbe947a4a7b7cdc0aa0fcf4  \n3   bca344323184b194313b294329da6ba9  \n4   372319587935625cdfa0b1914ee85a1b  \n5   44a1882d3ea84a41539173cc6e75c449  \n6   56b3607ac067a70ecd3168a00a689a7a  \n7   a68943df7437bb7f61d8e644340a8f45  \n8   342295c4dc2be52486e42bd142531e39  \n9   8174fbd0fe045a752670fb38f15ea835  \n10  9633fdc6b5610df46f9f97953bd3e926  ",
                        "text/html": "<div>\n<style scoped>\n    .dataframe tbody tr th:only-of-type {\n        vertical-align: middle;\n    }\n\n    .dataframe tbody tr th {\n        vertical-align: top;\n    }\n\n    .dataframe thead th {\n        text-align: right;\n    }\n</style>\n<table border=\"1\" class=\"dataframe\">\n  <thead>\n    <tr style=\"text-align: right;\">\n      <th></th>\n      <th>BusinessModelKeyPhrase</th>\n      <th>BusinessName</th>\n      <th>BusinessAreaModelKeyPhrase</th>\n      <th>BusinessAreaName</th>\n      <th>DisplayName</th>\n      <th>Description</th>\n      <th>isDeleted</th>\n      <th>BusinessContact</th>\n      <th>RecordSource</th>\n      <th>LoadDate</th>\n      <th>BusinessAreaKeyPhrase</th>\n      <th>ModelBusinessAreaKeyPhrase</th>\n      <th>BusinessBusinessAreaKeyPhrase</th>\n      <th>BusinessHashKey</th>\n      <th>ModelHashKey</th>\n      <th>BusinessAreaHashKey</th>\n      <th>ModelBusinessAreaHashKey</th>\n      <th>HashDiff</th>\n      <th>BusinessBusinessAreaHashKey</th>\n    </tr>\n  </thead>\n  <tbody>\n    <tr>\n      <th>0</th>\n      <td>object.one.furniture</td>\n      <td>Vivid</td>\n      <td>people.orange.all</td>\n      <td>Repairs</td>\n      <td>Repairs</td>\n      <td>Responsible for the process of either handling...</td>\n      <td>0</td>\n      <td>None</td>\n      <td>BusinessAreaCSV</td>\n      <td>2024-08-07 16:00:39.088097</td>\n      <td>Vivid.Repairs</td>\n      <td>people.orange.all:Vivid.Repairs</td>\n      <td>Vivid:Vivid.Repairs</td>\n      <td>ff894daac36de37f2537ff46b8d41c72</td>\n      <td>d98e8ab954365a242d5457587e96b140</td>\n      <td>0b35a2f27c61505ab4baf085e24d9e0a</td>\n      <td>23f76d2ea70b18ccd33836e2a0ed8a13</td>\n      <td>316cc0c09fa1bd28d35a3f7e9965cf23</td>\n      <td>2a12960fb8f51553812326d92b161f69</td>\n    </tr>\n    <tr>\n      <th>1</th>\n      <td>object.one.furniture</td>\n      <td>Vivid</td>\n      <td>people.orange.all</td>\n      <td>Scheduling</td>\n      <td>Scheduling</td>\n      <td>Making sure the right people arrive at the rig...</td>\n      <td>0</td>\n      <td>None</td>\n      <td>BusinessAreaCSV</td>\n      <td>2024-08-07 16:00:39.088097</td>\n      <td>Vivid.Scheduling</td>\n      <td>people.orange.all:Vivid.Scheduling</td>\n      <td>Vivid:Vivid.Scheduling</td>\n      <td>ff894daac36de37f2537ff46b8d41c72</td>\n      <td>d98e8ab954365a242d5457587e96b140</td>\n      <td>feb98503faf581cdb6978f5f32e14484</td>\n      <td>52da4b89adc2487f4172e91a3de385a9</td>\n      <td>ae060ac16dd043a406cc6cf63f13620b</td>\n      <td>a57d8b0aab282229b0ec6fde41b2e6b0</td>\n    </tr>\n    <tr>\n      <th>2</th>\n      <td>object.one.furniture</td>\n      <td>Vivid</td>\n      <td>people.orange.all</td>\n      <td>Voids</td>\n      <td>Voids</td>\n      <td>Handling maintenance/ repair/ renovation of em...</td>\n      <td>0</td>\n      <td>None</td>\n      <td>BusinessAreaCSV</td>\n      <td>2024-08-07 16:00:39.088097</td>\n      <td>Vivid.Voids</td>\n      <td>people.orange.all:Vivid.Voids</td>\n      <td>Vivid:Vivid.Voids</td>\n      <td>ff894daac36de37f2537ff46b8d41c72</td>\n      <td>d98e8ab954365a242d5457587e96b140</td>\n      <td>8a593517adf82fb71d684648da693677</td>\n      <td>ffbc0d594ff3ef82d548670ebeeaac99</td>\n      <td>931beebcb456ad6cc2ef34a47a7a09bb</td>\n      <td>954a8d33ecbe947a4a7b7cdc0aa0fcf4</td>\n    </tr>\n    <tr>\n      <th>3</th>\n      <td>object.one.furniture</td>\n      <td>Vivid</td>\n      <td>people.orange.all</td>\n      <td>Lettings</td>\n      <td>Lettings</td>\n      <td>Putting tenants in properties and retrieving rent</td>\n      <td>0</td>\n      <td>None</td>\n      <td>BusinessAreaCSV</td>\n      <td>2024-08-07 16:00:39.088097</td>\n      <td>Vivid.Lettings</td>\n      <td>people.orange.all:Vivid.Lettings</td>\n      <td>Vivid:Vivid.Lettings</td>\n      <td>ff894daac36de37f2537ff46b8d41c72</td>\n      <td>d98e8ab954365a242d5457587e96b140</td>\n      <td>ec614606fa800fcddf8138201dcc1fb9</td>\n      <td>03886e204c1311e8670e61245734e48c</td>\n      <td>150fac02773deae116d114400c264efd</td>\n      <td>bca344323184b194313b294329da6ba9</td>\n    </tr>\n    <tr>\n      <th>4</th>\n      <td>object.one.furniture</td>\n      <td>Vivid</td>\n      <td>people.orange.all</td>\n      <td>Compliance</td>\n      <td>Compliance</td>\n      <td>Ensuring that regulatory requirements are met</td>\n      <td>0</td>\n      <td>None</td>\n      <td>BusinessAreaCSV</td>\n      <td>2024-08-07 16:00:39.088097</td>\n      <td>Vivid.Compliance</td>\n      <td>people.orange.all:Vivid.Compliance</td>\n      <td>Vivid:Vivid.Compliance</td>\n      <td>ff894daac36de37f2537ff46b8d41c72</td>\n      <td>d98e8ab954365a242d5457587e96b140</td>\n      <td>dd6a3a31dc598715113616f36fef270b</td>\n      <td>0fc848a502466ec825a66de3841936bd</td>\n      <td>92bb83570e4cf1bb17e1d1dd123c6837</td>\n      <td>372319587935625cdfa0b1914ee85a1b</td>\n    </tr>\n    <tr>\n      <th>5</th>\n      <td>object.one.furniture</td>\n      <td>Vivid</td>\n      <td>people.orange.all</td>\n      <td>AssetSustain</td>\n      <td>Asset and Sustainability</td>\n      <td>None</td>\n      <td>0</td>\n      <td>Tom Robinson</td>\n      <td>BusinessAreaCSV</td>\n      <td>2024-08-07 16:00:39.088097</td>\n      <td>Vivid.AssetSustain</td>\n      <td>people.orange.all:Vivid.AssetSustain</td>\n      <td>Vivid:Vivid.AssetSustain</td>\n      <td>ff894daac36de37f2537ff46b8d41c72</td>\n      <td>d98e8ab954365a242d5457587e96b140</td>\n      <td>d48076c74c8587d0a4a2b380d0023fde</td>\n      <td>f3ef74535b99090b2018888bde65d3ec</td>\n      <td>e99f2c75dd2bd8bacd9d70c732007602</td>\n      <td>44a1882d3ea84a41539173cc6e75c449</td>\n    </tr>\n    <tr>\n      <th>6</th>\n      <td>object.one.furniture</td>\n      <td>Vivid</td>\n      <td>people.orange.all</td>\n      <td>CustomerServices</td>\n      <td>Customer Services</td>\n      <td>None</td>\n      <td>0</td>\n      <td>Alex Nagle</td>\n      <td>BusinessAreaCSV</td>\n      <td>2024-08-07 16:00:39.088097</td>\n      <td>Vivid.CustomerServices</td>\n      <td>people.orange.all:Vivid.CustomerServices</td>\n      <td>Vivid:Vivid.CustomerServices</td>\n      <td>ff894daac36de37f2537ff46b8d41c72</td>\n      <td>d98e8ab954365a242d5457587e96b140</td>\n      <td>9a8176243732c9337347415a002db5b3</td>\n      <td>12726847fe7e7197a904cca0244fd27d</td>\n      <td>b86fe1cf67b08441ec8ebe56504904fd</td>\n      <td>56b3607ac067a70ecd3168a00a689a7a</td>\n    </tr>\n    <tr>\n      <th>7</th>\n      <td>object.one.furniture</td>\n      <td>Vivid</td>\n      <td>people.orange.all</td>\n      <td>Finance</td>\n      <td>Finance</td>\n      <td>None</td>\n      <td>0</td>\n      <td>David Ball</td>\n      <td>BusinessAreaCSV</td>\n      <td>2024-08-07 16:00:39.088097</td>\n      <td>Vivid.Finance</td>\n      <td>people.orange.all:Vivid.Finance</td>\n      <td>Vivid:Vivid.Finance</td>\n      <td>ff894daac36de37f2537ff46b8d41c72</td>\n      <td>d98e8ab954365a242d5457587e96b140</td>\n      <td>35418af0f2db1c137ec9612a15ae40c0</td>\n      <td>1bf8536ca1f3dc536f087824fcc0da45</td>\n      <td>581dcabe0df250117e191a784fb9b273</td>\n      <td>a68943df7437bb7f61d8e644340a8f45</td>\n    </tr>\n    <tr>\n      <th>8</th>\n      <td>object.one.furniture</td>\n      <td>Vivid</td>\n      <td>people.orange.all</td>\n      <td>People</td>\n      <td>People</td>\n      <td>None</td>\n      <td>0</td>\n      <td>Susan Noone</td>\n      <td>BusinessAreaCSV</td>\n      <td>2024-08-07 16:00:39.088097</td>\n      <td>Vivid.People</td>\n      <td>people.orange.all:Vivid.People</td>\n      <td>Vivid:Vivid.People</td>\n      <td>ff894daac36de37f2537ff46b8d41c72</td>\n      <td>d98e8ab954365a242d5457587e96b140</td>\n      <td>becb34fde4a95a84c4128ab50087bb78</td>\n      <td>65904066e0722c9987637b24571d48be</td>\n      <td>6534c7d945526e1baeb44b5de4725fc1</td>\n      <td>342295c4dc2be52486e42bd142531e39</td>\n    </tr>\n    <tr>\n      <th>9</th>\n      <td>object.one.furniture</td>\n      <td>Vivid</td>\n      <td>people.orange.all</td>\n      <td>PropertyServices</td>\n      <td>Property Services</td>\n      <td>None</td>\n      <td>0</td>\n      <td>None</td>\n      <td>BusinessAreaCSV</td>\n      <td>2024-08-07 16:00:39.088097</td>\n      <td>Vivid.PropertyServices</td>\n      <td>people.orange.all:Vivid.PropertyServices</td>\n      <td>Vivid:Vivid.PropertyServices</td>\n      <td>ff894daac36de37f2537ff46b8d41c72</td>\n      <td>d98e8ab954365a242d5457587e96b140</td>\n      <td>01c24150f79bd4396500a6eec5c386e9</td>\n      <td>f8b75011c2846cd7c9b8181cc708e7fe</td>\n      <td>7435604bbee81598caecab6ad244c538</td>\n      <td>8174fbd0fe045a752670fb38f15ea835</td>\n    </tr>\n    <tr>\n      <th>10</th>\n      <td>object.one.furniture</td>\n      <td>Vivid</td>\n      <td>people.orange.all</td>\n      <td>Strategy</td>\n      <td>Strategy, Insight and Performance</td>\n      <td>None</td>\n      <td>0</td>\n      <td>Sarah Phillips</td>\n      <td>BusinessAreaCSV</td>\n      <td>2024-08-07 16:00:39.088097</td>\n      <td>Vivid.Strategy</td>\n      <td>people.orange.all:Vivid.Strategy</td>\n      <td>Vivid:Vivid.Strategy</td>\n      <td>ff894daac36de37f2537ff46b8d41c72</td>\n      <td>d98e8ab954365a242d5457587e96b140</td>\n      <td>a6361b5a4a2afb3649b325e5007cf983</td>\n      <td>5f0c53967a18781b9669dfde930603d5</td>\n      <td>2d67d27b7661696607a450fb1d153487</td>\n      <td>9633fdc6b5610df46f9f97953bd3e926</td>\n    </tr>\n  </tbody>\n</table>\n</div>"
                    },
                    "metadata": {},
                    "execution_count": 13,
                    "output_type": "execute_result"
                }
            ],
            "execution_count": 13
        },
        {
            "cell_type": "code",
            "source": [
                "# Clear down and Write to staging\r\n",
                "conn.execute(\"DELETE FROM stg_Py_CSVToBusinessArea\")\r\n",
                "conn.commit()\r\n",
                "df.to_sql('stg_Py_CSVToBusinessArea', conn, if_exists='append', index=False)"
            ],
            "metadata": {
                "language": "python",
                "azdata_cell_guid": "a75c8452-addd-4eee-85ff-a22d0849fecc"
            },
            "outputs": [
                {
                    "data": {
                        "text/plain": "11"
                    },
                    "metadata": {},
                    "execution_count": 14,
                    "output_type": "execute_result"
                }
            ],
            "execution_count": 14
        },
        {
            "cell_type": "code",
            "source": [
                "# Write to the Hub (BusinessArea)\r\n",
                "sql_query = \"\"\"\r\n",
                "INSERT INTO rv_h_BusinessArea\r\n",
                "(\r\n",
                "    BusinessAreaHashKey\r\n",
                "  , LoadDate\r\n",
                "  , RecordSource\r\n",
                "  , BusinessAreaKeyPhrase\r\n",
                ")\r\n",
                "SELECT DISTINCT\r\n",
                "    BusinessAreaHashKey\r\n",
                "  , LoadDate\r\n",
                "  , RecordSource\r\n",
                "  , BusinessAreaKeyPhrase\r\n",
                "FROM\r\n",
                "  stg_Py_CSVToBusinessArea\r\n",
                "WHERE\r\n",
                "  BusinessAreaHashKey NOT IN (SELECT BusinessAreaHashKey FROM rv_h_BusinessArea)\r\n",
                "\"\"\";\r\n",
                "conn.execute(sql_query)\r\n",
                "conn.commit()"
            ],
            "metadata": {
                "language": "python",
                "azdata_cell_guid": "54aa89cd-75da-4b1c-97df-f41aad96a4ae"
            },
            "outputs": [],
            "execution_count": 9
        },
        {
            "cell_type": "code",
            "source": [
                "# Write to the Satellite (BusinessArea)\r\n",
                "sql_query = \"\"\"\r\n",
                "INSERT INTO rv_s_BusinessArea\r\n",
                "(\r\n",
                "    BusinessAreaHashKey\r\n",
                "  , LoadDate\r\n",
                "  , RecordSource\r\n",
                "  , HashDiff\r\n",
                "  , BusinessAreaName\r\n",
                "  , DisplayName\r\n",
                "  , Description\r\n",
                "  , isDeleted\r\n",
                "  , BusinessContact\r\n",
                ")\r\n",
                "SELECT DISTINCT\r\n",
                "    stg.BusinessAreaHashKey\r\n",
                "  , stg.LoadDate\r\n",
                "  , stg.RecordSource\r\n",
                "  , stg.HashDiff\r\n",
                "  , stg.BusinessAreaName\r\n",
                "  , stg.DisplayName\r\n",
                "  , stg.Description\r\n",
                "  , stg.isDeleted\r\n",
                "  , stg.BusinessContact\r\n",
                "FROM\r\n",
                "  stg_Py_CSVToBusinessArea AS stg\r\n",
                "  LEFT OUTER JOIN rv_s_BusinessArea AS sat ON (\r\n",
                "    stg.BusinessAreaHashKey = sat.BusinessAreaHashKey\r\n",
                "    AND sat.LoadDate = (\r\n",
                "      SELECT MAX(z.LoadDate)\r\n",
                "      FROM rv_s_BusinessArea AS z\r\n",
                "      WHERE z.BusinessAreaHashKey = sat.BusinessAreaHashKey\r\n",
                "    )\r\n",
                "  )\r\n",
                "WHERE\r\n",
                "  (\r\n",
                "    sat.HashDiff != stg.HashDiff\r\n",
                "    OR sat.HashDiff IS NULL\r\n",
                "  )\r\n",
                "\"\"\";\r\n",
                "conn.execute(sql_query)\r\n",
                "conn.commit()"
            ],
            "metadata": {
                "language": "python",
                "azdata_cell_guid": "929218ee-f74c-424a-931b-505cc40aa967"
            },
            "outputs": [],
            "execution_count": 10
        },
        {
            "cell_type": "code",
            "source": [
                "# Write to the Link (Model - BusinessArea)\r\n",
                "sql_query = \"\"\"\r\n",
                "INSERT INTO rv_l_ModelBusinessArea\r\n",
                "(\r\n",
                "  ModelBusinessAreaHashKey\r\n",
                "  , LoadDate\r\n",
                "  , RecordSource\r\n",
                "  , ModelHashKey\r\n",
                "  , BusinessAreaHashKey\r\n",
                ")\r\n",
                "SELECT\r\n",
                "  stg.ModelBusinessAreaHashKey\r\n",
                "  , stg.LoadDate\r\n",
                "  , stg.RecordSource\r\n",
                "  , stg.ModelHashKey\r\n",
                "  , stg.BusinessAreaHashKey\r\n",
                "FROM\r\n",
                "  stg_Py_CSVToBusinessArea stg\r\n",
                "WHERE\r\n",
                "  stg.ModelBusinessAreaHashKey IS NOT NULL\r\n",
                "  AND ModelBusinessAreaHashKey NOT IN (\r\n",
                "    SELECT ModelBusinessAreaHashKey\r\n",
                "    FROM rv_l_ModelBusinessArea\r\n",
                "  )\r\n",
                "\"\"\";\r\n",
                "conn.execute(sql_query)\r\n",
                "conn.commit()"
            ],
            "metadata": {
                "language": "python",
                "azdata_cell_guid": "10a14c9c-59d5-4fe7-9dd4-cd0c866082a1"
            },
            "outputs": [],
            "execution_count": 11
        },
        {
            "cell_type": "code",
            "source": [
                "# Write to the Link (Business - BusinessArea)\r\n",
                "sql_query = \"\"\"\r\n",
                "INSERT INTO rv_l_BusinessBusinessArea\r\n",
                "(\r\n",
                "  BusinessBusinessAreaHashKey\r\n",
                "  , LoadDate\r\n",
                "  , RecordSource\r\n",
                "  , BusinessHashKey\r\n",
                "  , BusinessAreaHashKey\r\n",
                ")\r\n",
                "SELECT\r\n",
                "  stg.BusinessBusinessAreaHashKey\r\n",
                "  , stg.LoadDate\r\n",
                "  , stg.RecordSource\r\n",
                "  , stg.BusinessHashKey\r\n",
                "  , stg.BusinessAreaHashKey\r\n",
                "FROM\r\n",
                "  stg_Py_CSVToBusinessArea stg\r\n",
                "WHERE\r\n",
                "  stg.BusinessBusinessAreaHashKey IS NOT NULL\r\n",
                "  AND BusinessBusinessAreaHashKey NOT IN (\r\n",
                "    SELECT BusinessBusinessAreaHashKey\r\n",
                "    FROM rv_l_BusinessBusinessArea\r\n",
                "  )\r\n",
                "\"\"\";\r\n",
                "conn.execute(sql_query)\r\n",
                "conn.commit()"
            ],
            "metadata": {
                "language": "python",
                "azdata_cell_guid": "1ad93583-b38c-4da5-8044-af4ff3586730"
            },
            "outputs": [],
            "execution_count": 15
        }
    ]
}