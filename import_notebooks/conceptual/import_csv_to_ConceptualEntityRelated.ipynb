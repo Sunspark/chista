{
    "metadata": {
        "kernelspec": {
            "name": "python3",
            "display_name": "Python 3",
            "language": "python"
        },
        "language_info": {
            "name": "python",
            "version": "3.8.10",
            "mimetype": "text/x-python",
            "codemirror_mode": {
                "name": "ipython",
                "version": 3
            },
            "pygments_lexer": "ipython3",
            "nbconvert_exporter": "python",
            "file_extension": ".py"
        }
    },
    "nbformat_minor": 2,
    "nbformat": 4,
    "cells": [
        {
            "cell_type": "code",
            "source": [
                "# Creates relations of ConceptualEntity <> ConceptualEntity\r\n",
                "# Unique of the relation includes the Forward phrase, as it's possible for entities to be related in multiple ways.\r\n",
                "# eg a Communication can be sent to a Customer, and sent from a Customer\r\n",
                "import sqlite3\r\n",
                "import pandas as pd\r\n",
                "import numpy as np\r\n",
                "import os\r\n",
                "from datetime import datetime\r\n",
                "import sys\r\n",
                "sys.path.append('../../')\r\n",
                "from user_packages import hashing"
            ],
            "metadata": {
                "azdata_cell_guid": "2aca15e7-7225-49bc-aac2-7a7ceecfd80a",
                "language": "python"
            },
            "outputs": [],
            "execution_count": 1
        },
        {
            "cell_type": "code",
            "source": [
                "# Set script variables\r\n",
                "source_file_name = 'Org_Dictionary(EntityRelations).csv'\r\n",
                "source_file_path = '../../imports/concept'\r\n",
                "\r\n",
                "record_source = 'ConceptualEntityRelationsCSV'"
            ],
            "metadata": {
                "language": "python",
                "azdata_cell_guid": "632a7d28-9230-4a79-80ff-15be458e1759"
            },
            "outputs": [],
            "execution_count": 23
        },
        {
            "cell_type": "code",
            "source": [
                "conn = sqlite3.connect('../../full_metadata.db')\r\n",
                "cur = conn.cursor()"
            ],
            "metadata": {
                "language": "python",
                "azdata_cell_guid": "cc2ffc97-fead-4abe-8296-2ab66fbdf735"
            },
            "outputs": [],
            "execution_count": 31
        },
        {
            "cell_type": "code",
            "source": [
                "# read table to df\r\n",
                "df = pd.read_csv(os.path.join(source_file_path, source_file_name))\r\n",
                "df = df.replace({np.nan: None})\r\n",
                "\r\n",
                "#df"
            ],
            "metadata": {
                "language": "python",
                "azdata_cell_guid": "4079e5f1-502f-4876-af43-b7e3cdc7eaa1"
            },
            "outputs": [],
            "execution_count": 35
        },
        {
            "cell_type": "code",
            "source": [
                "# Create additional fields\r\n",
                "df['RecordSource'] = record_source\r\n",
                "df['LoadDate'] = datetime.now()\r\n",
                "\r\n",
                "df['ConceptualEntityKeyPhrase'] = df.apply(lambda row: row['ConceptualEntity'], axis=1)\r\n",
                "df['ConceptualEntity_RelatedKeyPhrase'] = df.apply(lambda row: row['ConceptualEntity_Related'], axis=1)\r\n",
                "df['ConceptualEntityConceptualEntity_RelatedKeyPhrase'] = df.apply(lambda row: row['ConceptualEntityKeyPhrase'] + ':' + row['ForwardRelationPhrase'] + ':' + row['ConceptualEntity_RelatedKeyPhrase'], axis=1)\r\n",
                ""
            ],
            "metadata": {
                "language": "python",
                "azdata_cell_guid": "07da1734-6f10-4e9d-b297-652b7d7b7bba"
            },
            "outputs": [],
            "execution_count": 36
        },
        {
            "cell_type": "code",
            "source": [
                "# Hash fields\r\n",
                "\r\n",
                "df = hashing.add_md5_hash_column(\r\n",
                "  df\r\n",
                "  , md5_column_name = 'ConceptualEntityHashKey'\r\n",
                "  , columns = ['ConceptualEntityKeyPhrase']\r\n",
                ")\r\n",
                "df = hashing.add_md5_hash_column(\r\n",
                "  df\r\n",
                "  , md5_column_name = 'ConceptualEntity_RelatedHashKey'\r\n",
                "  , columns = ['ConceptualEntity_RelatedKeyPhrase']\r\n",
                ")\r\n",
                "df = hashing.add_md5_hash_column(\r\n",
                "  df\r\n",
                "  , md5_column_name = 'ConceptualEntityConceptualEntity_RelatedHashKey'\r\n",
                "  , columns = ['ConceptualEntityConceptualEntity_RelatedKeyPhrase']\r\n",
                ")\r\n",
                "df = hashing.add_md5_hash_column(\r\n",
                "  df\r\n",
                "  , md5_column_name = 'HashDiff'\r\n",
                "  , columns = [\r\n",
                "    'ForwardRelationPhrase'\r\n",
                "    , 'ReverseRelationPhrase'\r\n",
                "    , 'isDeleted'\r\n",
                "    , 'Description'\r\n",
                "  ]\r\n",
                ")\r\n",
                "\r\n",
                "#df"
            ],
            "metadata": {
                "language": "python",
                "azdata_cell_guid": "9c4b44f7-c7bb-4f0f-ba58-c5684221198a"
            },
            "outputs": [],
            "execution_count": 37
        },
        {
            "cell_type": "code",
            "source": [
                "# Clear down and Write to staging\r\n",
                "conn.execute(\"DELETE FROM stg_Py_CSV_CE_to_CERelated\")\r\n",
                "conn.commit()\r\n",
                "df.to_sql('stg_Py_CSV_CE_to_CERelated', conn, if_exists='append', index=False)"
            ],
            "metadata": {
                "language": "python",
                "azdata_cell_guid": "a75c8452-addd-4eee-85ff-a22d0849fecc"
            },
            "outputs": [
                {
                    "data": {
                        "text/plain": "78"
                    },
                    "metadata": {},
                    "execution_count": 27,
                    "output_type": "execute_result"
                }
            ],
            "execution_count": 27
        },
        {
            "cell_type": "code",
            "source": [
                "# Write to the Link (ConceptualEntity - ConceptualEntity_Related)\r\n",
                "sql_query = \"\"\"\r\n",
                "INSERT INTO rv_l_ConceptualEntityConceptualEntity_Related\r\n",
                "(\r\n",
                "  ConceptualEntityConceptualEntity_RelatedHashKey\r\n",
                "  , LoadDate\r\n",
                "  , RecordSource\r\n",
                "  , ConceptualEntityHashKey\r\n",
                "  , ConceptualEntity_RelatedHashKey\r\n",
                "  , ForwardRelationPhrase\r\n",
                ")\r\n",
                "SELECT\r\n",
                "  stg.ConceptualEntityConceptualEntity_RelatedHashKey\r\n",
                "  , stg.LoadDate\r\n",
                "  , stg.RecordSource\r\n",
                "  , stg.ConceptualEntityHashKey\r\n",
                "  , stg.ConceptualEntity_RelatedHashKey\r\n",
                "  , stg.ForwardRelationPhrase\r\n",
                "FROM\r\n",
                "  stg_Py_CSV_CE_to_CERelated stg\r\n",
                "WHERE\r\n",
                "  stg.ConceptualEntityConceptualEntity_RelatedHashKey IS NOT NULL\r\n",
                "  AND ConceptualEntityConceptualEntity_RelatedHashKey NOT IN (\r\n",
                "    SELECT ConceptualEntityConceptualEntity_RelatedHashKey\r\n",
                "    FROM rv_l_ConceptualEntityConceptualEntity_Related\r\n",
                "  )\r\n",
                "\"\"\";\r\n",
                "conn.execute(sql_query)\r\n",
                "conn.commit()"
            ],
            "metadata": {
                "language": "python",
                "azdata_cell_guid": "54aa89cd-75da-4b1c-97df-f41aad96a4ae"
            },
            "outputs": [],
            "execution_count": 33
        },
        {
            "cell_type": "code",
            "source": [
                "# Write to the Satellite (rv_s_ConceptualEntityConceptualEntity_Related)\r\n",
                "sql_query = \"\"\"\r\n",
                "INSERT INTO rv_s_ConceptualEntityConceptualEntity_Related\r\n",
                "(\r\n",
                "    ConceptualEntityConceptualEntity_RelatedHashKey\r\n",
                "  , LoadDate\r\n",
                "  , RecordSource\r\n",
                "  , HashDiff\r\n",
                "  , ReverseRelationPhrase\r\n",
                "  , isDeleted\r\n",
                "  , \"Description\"\r\n",
                ")\r\n",
                "SELECT DISTINCT\r\n",
                "    stg.ConceptualEntityConceptualEntity_RelatedHashKey\r\n",
                "  , stg.LoadDate\r\n",
                "  , stg.RecordSource\r\n",
                "  , stg.HashDiff\r\n",
                "  , stg.ReverseRelationPhrase\r\n",
                "  , stg.isDeleted\r\n",
                "  , stg.\"Description\"\r\n",
                "FROM\r\n",
                "  stg_Py_CSV_CE_to_CERelated AS stg\r\n",
                "  LEFT OUTER JOIN rv_s_ConceptualEntityConceptualEntity_Related AS sat ON (\r\n",
                "    stg.ConceptualEntityConceptualEntity_RelatedHashKey = sat.ConceptualEntityConceptualEntity_RelatedHashKey\r\n",
                "    AND sat.LoadDate = (\r\n",
                "      SELECT MAX(z.LoadDate)\r\n",
                "      FROM rv_s_ConceptualEntityConceptualEntity_Related AS z\r\n",
                "      WHERE z.ConceptualEntityConceptualEntity_RelatedHashKey = sat.ConceptualEntityConceptualEntity_RelatedHashKey\r\n",
                "    )\r\n",
                "  )\r\n",
                "WHERE\r\n",
                "  (\r\n",
                "    sat.HashDiff != stg.HashDiff\r\n",
                "    OR sat.HashDiff IS NULL\r\n",
                "  )\r\n",
                "\"\"\";\r\n",
                "conn.execute(sql_query)\r\n",
                "conn.commit()"
            ],
            "metadata": {
                "language": "python",
                "azdata_cell_guid": "929218ee-f74c-424a-931b-505cc40aa967"
            },
            "outputs": [],
            "execution_count": 34
        }
    ]
}