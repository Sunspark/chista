{
    "metadata": {
        "kernelspec": {
            "name": "python3",
            "display_name": "Python 3",
            "language": "python"
        },
        "language_info": {
            "name": "python",
            "version": "3.8.10",
            "mimetype": "text/x-python",
            "codemirror_mode": {
                "name": "ipython",
                "version": 3
            },
            "pygments_lexer": "ipython3",
            "nbconvert_exporter": "python",
            "file_extension": ".py"
        }
    },
    "nbformat_minor": 2,
    "nbformat": 4,
    "cells": [
        {
            "cell_type": "code",
            "source": [
                "# Creates relations of BusinessArea <> ConceptualEntity\r\n",
                "import sqlite3\r\n",
                "import pandas as pd\r\n",
                "import numpy as np\r\n",
                "import os\r\n",
                "from datetime import datetime\r\n",
                "import sys\r\n",
                "sys.path.append('../../')\r\n",
                "from user_packages import hashing"
            ],
            "metadata": {
                "azdata_cell_guid": "2aca15e7-7225-49bc-aac2-7a7ceecfd80a",
                "language": "python"
            },
            "outputs": [],
            "execution_count": 1
        },
        {
            "cell_type": "code",
            "source": [
                "# Set script variables\r\n",
                "source_file_name = 'Org_Dictionary(BusinessArea_Entity_relations).csv'\r\n",
                "source_file_path = '../../imports/concept'\r\n",
                "\r\n",
                "record_source = 'BusinessAreaConceptualEntityRelationsCSV'"
            ],
            "metadata": {
                "language": "python",
                "azdata_cell_guid": "632a7d28-9230-4a79-80ff-15be458e1759"
            },
            "outputs": [],
            "execution_count": 2
        },
        {
            "cell_type": "code",
            "source": [
                "conn = sqlite3.connect('../../full_metadata.db')\r\n",
                "cur = conn.cursor()"
            ],
            "metadata": {
                "language": "python",
                "azdata_cell_guid": "cc2ffc97-fead-4abe-8296-2ab66fbdf735"
            },
            "outputs": [],
            "execution_count": 3
        },
        {
            "cell_type": "code",
            "source": [
                "# read table to df\r\n",
                "df = pd.read_csv(os.path.join(source_file_path, source_file_name))\r\n",
                "df = df.replace({np.nan: None})\r\n",
                "\r\n",
                "#df"
            ],
            "metadata": {
                "language": "python",
                "azdata_cell_guid": "4079e5f1-502f-4876-af43-b7e3cdc7eaa1"
            },
            "outputs": [],
            "execution_count": 12
        },
        {
            "cell_type": "code",
            "source": [
                "# Create additional fields\r\n",
                "df['RecordSource'] = record_source\r\n",
                "df['LoadDate'] = datetime.now()\r\n",
                "\r\n",
                "df['ConceptualEntityKeyPhrase'] = df.apply(lambda row: row['EntityName'], axis=1)\r\n",
                "df['BusinessAreaKeyPhrase'] = df.apply(lambda row: row['BusinessName'] + '.' + row['BusinessAreaName'], axis=1)\r\n",
                "df['BusinessAreaConceptualEntityKeyPhrase'] = df.apply(lambda row: row['BusinessAreaKeyPhrase'] + ':' + row['ConceptualEntityKeyPhrase'], axis=1)\r\n",
                ""
            ],
            "metadata": {
                "language": "python",
                "azdata_cell_guid": "07da1734-6f10-4e9d-b297-652b7d7b7bba"
            },
            "outputs": [],
            "execution_count": 13
        },
        {
            "cell_type": "code",
            "source": [
                "# Hash fields\r\n",
                "\r\n",
                "df = hashing.add_md5_hash_column(\r\n",
                "  df\r\n",
                "  , md5_column_name = 'ConceptualEntityHashKey'\r\n",
                "  , columns = ['ConceptualEntityKeyPhrase']\r\n",
                ")\r\n",
                "df = hashing.add_md5_hash_column(\r\n",
                "  df\r\n",
                "  , md5_column_name = 'BusinessAreaHashKey'\r\n",
                "  , columns = ['BusinessAreaKeyPhrase']\r\n",
                ")\r\n",
                "df = hashing.add_md5_hash_column(\r\n",
                "  df\r\n",
                "  , md5_column_name = 'BusinessAreaConceptualEntityHashKey'\r\n",
                "  , columns = ['BusinessAreaConceptualEntityKeyPhrase']\r\n",
                ")\r\n",
                "df = hashing.add_md5_hash_column(\r\n",
                "  df\r\n",
                "  , md5_column_name = 'HashDiff'\r\n",
                "  , columns = [\r\n",
                "    'isDeleted'\r\n",
                "  ]\r\n",
                ")\r\n",
                "\r\n",
                "#df"
            ],
            "metadata": {
                "language": "python",
                "azdata_cell_guid": "9c4b44f7-c7bb-4f0f-ba58-c5684221198a"
            },
            "outputs": [],
            "execution_count": 14
        },
        {
            "cell_type": "code",
            "source": [
                "# Clear down and Write to staging\r\n",
                "conn.execute(\"DELETE FROM stg_Py_CSV_BA_to_CERelated\")\r\n",
                "conn.commit()\r\n",
                "df.to_sql('stg_Py_CSV_BA_to_CERelated', conn, if_exists='append', index=False)"
            ],
            "metadata": {
                "language": "python",
                "azdata_cell_guid": "a75c8452-addd-4eee-85ff-a22d0849fecc"
            },
            "outputs": [
                {
                    "data": {
                        "text/plain": "59"
                    },
                    "metadata": {},
                    "execution_count": 8,
                    "output_type": "execute_result"
                }
            ],
            "execution_count": 8
        },
        {
            "cell_type": "code",
            "source": [
                "# Write to the Link (BusinessArea - ConceptualEntity)\r\n",
                "sql_query = \"\"\"\r\n",
                "INSERT INTO rv_l_BusinessAreaConceptualEntity\r\n",
                "(\r\n",
                "  BusinessAreaConceptualEntityHashKey\r\n",
                "  , LoadDate\r\n",
                "  , RecordSource\r\n",
                "  , BusinessAreaHashKey\r\n",
                "  , ConceptualEntityHashKey\r\n",
                ")\r\n",
                "SELECT\r\n",
                "  stg.BusinessAreaConceptualEntityHashKey\r\n",
                "  , stg.LoadDate\r\n",
                "  , stg.RecordSource\r\n",
                "  , stg.BusinessAreaHashKey\r\n",
                "  , stg.ConceptualEntityHashKey\r\n",
                "FROM\r\n",
                "  stg_Py_CSV_BA_to_CERelated stg\r\n",
                "WHERE\r\n",
                "  stg.BusinessAreaConceptualEntityHashKey IS NOT NULL\r\n",
                "  AND BusinessAreaConceptualEntityHashKey NOT IN (\r\n",
                "    SELECT BusinessAreaConceptualEntityHashKey\r\n",
                "    FROM rv_l_BusinessAreaConceptualEntity\r\n",
                "  )\r\n",
                "\"\"\";\r\n",
                "conn.execute(sql_query)\r\n",
                "conn.commit()"
            ],
            "metadata": {
                "language": "python",
                "azdata_cell_guid": "54aa89cd-75da-4b1c-97df-f41aad96a4ae"
            },
            "outputs": [],
            "execution_count": 9
        },
        {
            "cell_type": "code",
            "source": [
                "# Write to the Satellite (rv_s_ConceptualEntityConceptualEntity_Related)\r\n",
                "sql_query = \"\"\"\r\n",
                "INSERT INTO rv_s_BusinessAreaConceptualEntity\r\n",
                "(\r\n",
                "    BusinessAreaConceptualEntityHashKey\r\n",
                "  , LoadDate\r\n",
                "  , RecordSource\r\n",
                "  , HashDiff\r\n",
                "  , isDeleted\r\n",
                ")\r\n",
                "SELECT DISTINCT\r\n",
                "    stg.BusinessAreaConceptualEntityHashKey\r\n",
                "  , stg.LoadDate\r\n",
                "  , stg.RecordSource\r\n",
                "  , stg.HashDiff\r\n",
                "  , stg.isDeleted\r\n",
                "FROM\r\n",
                "  stg_Py_CSV_BA_to_CERelated AS stg\r\n",
                "  LEFT OUTER JOIN rv_s_BusinessAreaConceptualEntity AS sat ON (\r\n",
                "    stg.BusinessAreaConceptualEntityHashKey = sat.BusinessAreaConceptualEntityHashKey\r\n",
                "    AND sat.LoadDate = (\r\n",
                "      SELECT MAX(z.LoadDate)\r\n",
                "      FROM rv_s_BusinessAreaConceptualEntity AS z\r\n",
                "      WHERE z.BusinessAreaConceptualEntityHashKey = sat.BusinessAreaConceptualEntityHashKey\r\n",
                "    )\r\n",
                "  )\r\n",
                "WHERE\r\n",
                "  (\r\n",
                "    sat.HashDiff != stg.HashDiff\r\n",
                "    OR sat.HashDiff IS NULL\r\n",
                "  )\r\n",
                "\"\"\";\r\n",
                "conn.execute(sql_query)\r\n",
                "conn.commit()"
            ],
            "metadata": {
                "language": "python",
                "azdata_cell_guid": "929218ee-f74c-424a-931b-505cc40aa967"
            },
            "outputs": [],
            "execution_count": 11
        }
    ]
}