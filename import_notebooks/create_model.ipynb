{
    "metadata": {
        "kernelspec": {
            "name": "python3",
            "display_name": "Python 3",
            "language": "python"
        },
        "language_info": {
            "name": "python",
            "version": "3.8.10",
            "mimetype": "text/x-python",
            "codemirror_mode": {
                "name": "ipython",
                "version": 3
            },
            "pygments_lexer": "ipython3",
            "nbconvert_exporter": "python",
            "file_extension": ".py"
        }
    },
    "nbformat_minor": 2,
    "nbformat": 4,
    "cells": [
        {
            "cell_type": "code",
            "source": [
                "# Creates new models into the DB without the need for an excel sheet\r\n",
                "import sqlite3\r\n",
                "import pandas as pd\r\n",
                "import sys\r\n",
                "sys.path.append('../')\r\n",
                "from user_packages import hashing\r\n",
                "\r\n",
                "conn = sqlite3.connect('full_metadata.db')\r\n",
                "cur = conn.cursor()"
            ],
            "metadata": {
                "azdata_cell_guid": "e2c24c2d-f790-4e67-8c7b-3c2160e6478d",
                "language": "python"
            },
            "outputs": [],
            "execution_count": 13
        },
        {
            "cell_type": "code",
            "source": [
                "# Set variables\r\n",
                "# These are the things you want to create into the models hub\r\n",
                "\r\n",
                "new_model_name = 'OH Physical Model' # A name for the model. This isn't 'magic', so you can call it what you want. Suggested: something relevant like 'x system physical model'.\r\n",
                "new_model_concept_level = 'Physical' # One of:  Enterprise, Area, Conceptual, Logical, Physical\r\n",
                "new_model_type = 'main' # One of: main, branch"
            ],
            "metadata": {
                "language": "python",
                "azdata_cell_guid": "ad757fdf-8720-44c6-b9c3-d7c193031f62"
            },
            "outputs": [],
            "execution_count": 14
        },
        {
            "cell_type": "code",
            "source": [
                "# Collects a new KeyPhrase from the DB for the model\r\n",
                "def GetNewKeyPhrase():\r\n",
                "  sql_query = \"SELECT NewKeyPhrase FROM NewKeyPhrase;\";\r\n",
                "  cur.execute(sql_query)\r\n",
                "  row = cur.fetchone()\r\n",
                "  NewKeyPhrase = row[0]\r\n",
                "  #print(NewKeyPhrase)\r\n",
                "  if NewKeyPhrase == '' : # if the view returns a blank row because it randomly selected a used ID\r\n",
                "    NewKeyPhrase = GetNewKeyPhrase()\r\n",
                "  sql_query = \"INSERT INTO AppUsedId (AppUsedId) VALUES (?);\";\r\n",
                "  cur.execute(sql_query, [NewKeyPhrase])\r\n",
                "  conn.commit()\r\n",
                "  return NewKeyPhrase"
            ],
            "metadata": {
                "azdata_cell_guid": "875188f8-bd92-4c30-a034-f81666f2f913",
                "language": "python"
            },
            "outputs": [],
            "execution_count": 18
        },
        {
            "cell_type": "code",
            "source": [
                "data = [\r\n",
                "  {\r\n",
                "    'ModelKeyPhrase': GetNewKeyPhrase()\r\n",
                "    , 'ModelName': new_model_name\r\n",
                "    , 'ModelConceptLevel': new_model_concept_level\r\n",
                "    , 'ModelType': new_model_type\r\n",
                "  }\r\n",
                "];\r\n",
                "df = pd.DataFrame(data)\r\n",
                "\r\n",
                "#df['ModelKeyPhrase'] = df.apply(lambda row: GetNewKeyPhrase() if pd.isnull(row['ModelKeyPhrase']) else row['ModelKeyPhrase'], axis=1)\r\n",
                "#df.fillna('', inplace=True)\r\n",
                "\r\n",
                "#df"
            ],
            "metadata": {
                "azdata_cell_guid": "8563cfbf-1794-445e-a6f1-6a63f8cff4d3",
                "language": "python"
            },
            "outputs": [
                {
                    "traceback": [
                        "\u001b[1;31m---------------------------------------------------------------------------\u001b[0m",
                        "\u001b[1;31mOperationalError\u001b[0m                          Traceback (most recent call last)",
                        "Cell \u001b[1;32mIn[20], line 3\u001b[0m\n\u001b[0;32m      1\u001b[0m data \u001b[38;5;241m=\u001b[39m [\n\u001b[0;32m      2\u001b[0m   {\n\u001b[1;32m----> 3\u001b[0m     \u001b[38;5;124m'\u001b[39m\u001b[38;5;124mModelKeyPhrase\u001b[39m\u001b[38;5;124m'\u001b[39m: \u001b[43mGetNewKeyPhrase\u001b[49m\u001b[43m(\u001b[49m\u001b[43m)\u001b[49m\n\u001b[0;32m      4\u001b[0m     , \u001b[38;5;124m'\u001b[39m\u001b[38;5;124mModelName\u001b[39m\u001b[38;5;124m'\u001b[39m: new_model_name\n\u001b[0;32m      5\u001b[0m     , \u001b[38;5;124m'\u001b[39m\u001b[38;5;124mModelConceptLevel\u001b[39m\u001b[38;5;124m'\u001b[39m: new_model_concept_level\n\u001b[0;32m      6\u001b[0m     , \u001b[38;5;124m'\u001b[39m\u001b[38;5;124mModelType\u001b[39m\u001b[38;5;124m'\u001b[39m: new_model_type\n\u001b[0;32m      7\u001b[0m   }\n\u001b[0;32m      8\u001b[0m ];\n\u001b[0;32m      9\u001b[0m df \u001b[38;5;241m=\u001b[39m pd\u001b[38;5;241m.\u001b[39mDataFrame(data)\n\u001b[0;32m     11\u001b[0m \u001b[38;5;66;03m#df['ModelKeyPhrase'] = df.apply(lambda row: GetNewKeyPhrase() if pd.isnull(row['ModelKeyPhrase']) else row['ModelKeyPhrase'], axis=1)\u001b[39;00m\n\u001b[0;32m     12\u001b[0m \u001b[38;5;66;03m#df.fillna('', inplace=True)\u001b[39;00m\n\u001b[0;32m     13\u001b[0m \n\u001b[0;32m     14\u001b[0m \u001b[38;5;66;03m#df\u001b[39;00m\n",
                        "Cell \u001b[1;32mIn[18], line 4\u001b[0m, in \u001b[0;36mGetNewKeyPhrase\u001b[1;34m()\u001b[0m\n\u001b[0;32m      2\u001b[0m \u001b[38;5;28;01mdef\u001b[39;00m \u001b[38;5;21mGetNewKeyPhrase\u001b[39m():\n\u001b[0;32m      3\u001b[0m   sql_query \u001b[38;5;241m=\u001b[39m \u001b[38;5;124m\"\u001b[39m\u001b[38;5;124mSELECT NewKeyPhrase FROM NewKeyPhrase;\u001b[39m\u001b[38;5;124m\"\u001b[39m;\n\u001b[1;32m----> 4\u001b[0m   \u001b[43mconn\u001b[49m\u001b[38;5;241;43m.\u001b[39;49m\u001b[43mexecute\u001b[49m\u001b[43m(\u001b[49m\u001b[43msql_query\u001b[49m\u001b[43m)\u001b[49m\n\u001b[0;32m      5\u001b[0m   row \u001b[38;5;241m=\u001b[39m cur\u001b[38;5;241m.\u001b[39mfetchone()\n\u001b[0;32m      6\u001b[0m   NewKeyPhrase \u001b[38;5;241m=\u001b[39m row[\u001b[38;5;241m0\u001b[39m]\n",
                        "\u001b[1;31mOperationalError\u001b[0m: no such table: NewKeyPhrase"
                    ],
                    "ename": "OperationalError",
                    "evalue": "no such table: NewKeyPhrase",
                    "output_type": "error"
                }
            ],
            "execution_count": 20
        },
        {
            "cell_type": "code",
            "source": [
                "df = hashing.add_md5_hash_column(\r\n",
                "  df\r\n",
                "  , md5_column_name = 'ModelHashKey'\r\n",
                "  , columns = ['ModelKeyPhrase']\r\n",
                ")\r\n",
                "df = hashing.add_md5_hash_column(\r\n",
                "  df\r\n",
                "  , md5_column_name = 'HashDiff'\r\n",
                "  , columns = ['ModelName','ModelConceptLevel','ModelType']\r\n",
                ")\r\n",
                "df['RecordSource'] = df.apply(lambda row: 'Py.CreateModel', axis=1)\r\n",
                "\r\n",
                "#df"
            ],
            "metadata": {
                "language": "python",
                "azdata_cell_guid": "2a67d2cc-1b26-4ec9-9363-72ad6c5b1dae"
            },
            "outputs": [],
            "execution_count": 4
        },
        {
            "cell_type": "code",
            "source": [
                "# Clear down and Write to staging\r\n",
                "conn.execute(\"DELETE FROM stg_Py_CreateModel\")\r\n",
                "conn.commit()\r\n",
                "df.to_sql('stg_Py_CreateModel', conn, if_exists='append', index=False)\r\n",
                ""
            ],
            "metadata": {
                "language": "python",
                "azdata_cell_guid": "bb8d8323-1547-448e-ab8f-c03f1c787a17"
            },
            "outputs": [
                {
                    "output_type": "execute_result",
                    "execution_count": 5,
                    "data": {
                        "text/plain": "3"
                    },
                    "metadata": {}
                }
            ],
            "execution_count": 5
        },
        {
            "cell_type": "code",
            "source": [
                "# Write to the Hub\r\n",
                "sql_query = \"\"\"\r\n",
                "INSERT INTO rv_h_Model\r\n",
                "(\r\n",
                "    ModelHashKey\r\n",
                "  , LoadDate\r\n",
                "  , RecordSource\r\n",
                "  , ModelKeyPhrase\r\n",
                ")\r\n",
                "SELECT DISTINCT\r\n",
                "    ModelHashKey\r\n",
                "  , LoadDate\r\n",
                "  , RecordSource\r\n",
                "  , ModelKeyPhrase\r\n",
                "FROM\r\n",
                "  stg_Py_CreateModel\r\n",
                "WHERE\r\n",
                "  ModelHashKey NOT IN (SELECT ModelHashKey FROM rv_h_Model)\r\n",
                "\"\"\";\r\n",
                "conn.execute(sql_query)\r\n",
                "conn.commit()"
            ],
            "metadata": {
                "language": "python",
                "azdata_cell_guid": "c09835af-21ec-43b3-85f2-f2f80191a8da"
            },
            "outputs": [],
            "execution_count": 6
        },
        {
            "cell_type": "code",
            "source": [
                "# Write to the Satellite\r\n",
                "sql_query = \"\"\"\r\n",
                "INSERT INTO rv_s_Model\r\n",
                "(\r\n",
                "    ModelHashKey\r\n",
                "  , LoadDate\r\n",
                "  , RecordSource\r\n",
                "  , HashDiff\r\n",
                "  , ModelName\r\n",
                "  , ModelConceptLevel\r\n",
                "  , ModelType\r\n",
                ")\r\n",
                "SELECT DISTINCT\r\n",
                "    stg.ModelHashKey\r\n",
                "  , stg.LoadDate\r\n",
                "  , stg.RecordSource\r\n",
                "  , stg.HashDiff\r\n",
                "  , stg.ModelName\r\n",
                "  , stg.ModelConceptLevel\r\n",
                "  , stg.ModelType\r\n",
                "FROM\r\n",
                "  stg_Py_CreateModel AS stg\r\n",
                "  LEFT OUTER JOIN rv_s_Model AS sat ON (\r\n",
                "    stg.ModelHashKey = sat.ModelHashKey\r\n",
                "    AND sat.LoadDate = (\r\n",
                "      SELECT MAX(z.LoadDate)\r\n",
                "      FROM rv_s_Model AS z\r\n",
                "      WHERE z.ModelHashKey = sat.ModelHashKey\r\n",
                "    )\r\n",
                "  )\r\n",
                "WHERE\r\n",
                "  (\r\n",
                "    sat.HashDiff != stg.HashDiff\r\n",
                "    OR sat.HashDiff IS NULL\r\n",
                "  )\r\n",
                "\"\"\";\r\n",
                "conn.execute(sql_query)\r\n",
                "conn.commit()"
            ],
            "metadata": {
                "language": "python",
                "azdata_cell_guid": "31a7a09f-8a7d-4eaa-b412-5ef4c62ffaf9"
            },
            "outputs": [],
            "execution_count": 7
        }
    ]
}