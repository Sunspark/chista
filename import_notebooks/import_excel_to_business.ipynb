{
    "metadata": {
        "kernelspec": {
            "name": "python3",
            "display_name": "Python 3",
            "language": "python"
        },
        "language_info": {
            "name": "python",
            "version": "3.8.10",
            "mimetype": "text/x-python",
            "codemirror_mode": {
                "name": "ipython",
                "version": 3
            },
            "pygments_lexer": "ipython3",
            "nbconvert_exporter": "python",
            "file_extension": ".py"
        }
    },
    "nbformat_minor": 2,
    "nbformat": 4,
    "cells": [
        {
            "cell_type": "code",
            "source": [
                "# Creates new business-level conceptual entities into the DB from an excel sheet\r\n",
                "# Yes that's overkill for single records\r\n",
                "import sqlite3\r\n",
                "import pandas as pd\r\n",
                "import sys\r\n",
                "sys.path.append('../')\r\n",
                "from user_packages import hashing\r\n",
                "\r\n",
                "conn = sqlite3.connect('app_db.sqlite')\r\n",
                "cur = conn.cursor()\r\n",
                "\r\n",
                "TargetExcelFilename = 'business.xlsx'\r\n",
                "TargetExcelFilepath = 'imports/business/'"
            ],
            "metadata": {
                "azdata_cell_guid": "13b3140a-35ec-49e6-97ff-32f1af2c1317",
                "language": "python"
            },
            "outputs": [],
            "execution_count": 17
        },
        {
            "cell_type": "code",
            "source": [
                "df = pd.read_excel(TargetExcelFilepath + TargetExcelFilename)\r\n",
                "df.fillna('', inplace=True)\r\n",
                "\r\n",
                "df['ModelBusinessKeyPhrase'] = df.apply(lambda row: row['ModelKeyPhrase'] + ':' + row['BusinessName'], axis=1)\r\n",
                "\r\n",
                "df"
            ],
            "metadata": {
                "language": "python",
                "azdata_cell_guid": "e6c76da9-a0be-4afd-94d5-20b51f8d389f"
            },
            "outputs": [
                {
                    "output_type": "execute_result",
                    "execution_count": 18,
                    "data": {
                        "text/plain": "          ModelKeyPhrase       BusinessName  \\\n0  yesterday.south.pupil           Openwork   \n1  yesterday.south.pupil          ZenithOne   \n2  yesterday.south.pupil  Intelliflo Office   \n\n                    ModelBusinessKeyPhrase  \n0           yesterday.south.pupil:Openwork  \n1          yesterday.south.pupil:ZenithOne  \n2  yesterday.south.pupil:Intelliflo Office  ",
                        "text/html": "<div>\n<style scoped>\n    .dataframe tbody tr th:only-of-type {\n        vertical-align: middle;\n    }\n\n    .dataframe tbody tr th {\n        vertical-align: top;\n    }\n\n    .dataframe thead th {\n        text-align: right;\n    }\n</style>\n<table border=\"1\" class=\"dataframe\">\n  <thead>\n    <tr style=\"text-align: right;\">\n      <th></th>\n      <th>ModelKeyPhrase</th>\n      <th>BusinessName</th>\n      <th>ModelBusinessKeyPhrase</th>\n    </tr>\n  </thead>\n  <tbody>\n    <tr>\n      <th>0</th>\n      <td>yesterday.south.pupil</td>\n      <td>Openwork</td>\n      <td>yesterday.south.pupil:Openwork</td>\n    </tr>\n    <tr>\n      <th>1</th>\n      <td>yesterday.south.pupil</td>\n      <td>ZenithOne</td>\n      <td>yesterday.south.pupil:ZenithOne</td>\n    </tr>\n    <tr>\n      <th>2</th>\n      <td>yesterday.south.pupil</td>\n      <td>Intelliflo Office</td>\n      <td>yesterday.south.pupil:Intelliflo Office</td>\n    </tr>\n  </tbody>\n</table>\n</div>"
                    },
                    "metadata": {}
                }
            ],
            "execution_count": 18
        },
        {
            "cell_type": "code",
            "source": [
                "df = hashing.add_md5_hash_column(\r\n",
                "  df\r\n",
                "  , md5_column_name = 'ModelHashKey'\r\n",
                "  , columns = ['ModelKeyPhrase']\r\n",
                ")\r\n",
                "df = hashing.add_md5_hash_column(\r\n",
                "  df\r\n",
                "  , md5_column_name = 'BusinessHashKey'\r\n",
                "  , columns = ['BusinessName']\r\n",
                ")\r\n",
                "# Commented as there are no satellite columns\r\n",
                "#df = hashing.add_md5_hash_column(\r\n",
                "#  df\r\n",
                "#  , md5_column_name = 'HashDiff'\r\n",
                "#  , columns = ['BusinessName']\r\n",
                "#)\r\n",
                "df = hashing.add_md5_hash_column(\r\n",
                "  df\r\n",
                "  , md5_column_name = 'ModelBusinessHashKey'\r\n",
                "  , columns = ['ModelBusinessKeyPhrase']\r\n",
                ")\r\n",
                "df['RecordSource'] = df.apply(lambda row: 'Py.CreateBusiness', axis=1)\r\n",
                "\r\n",
                "df"
            ],
            "metadata": {
                "language": "python",
                "azdata_cell_guid": "b97183e0-7346-4696-b030-75c1b754e1ae"
            },
            "outputs": [
                {
                    "output_type": "execute_result",
                    "execution_count": 19,
                    "data": {
                        "text/plain": "          ModelKeyPhrase       BusinessName  \\\n0  yesterday.south.pupil           Openwork   \n1  yesterday.south.pupil          ZenithOne   \n2  yesterday.south.pupil  Intelliflo Office   \n\n                    ModelBusinessKeyPhrase                      ModelHashKey  \\\n0           yesterday.south.pupil:Openwork  d3b890871dec51c04fd3e6e2d63f7282   \n1          yesterday.south.pupil:ZenithOne  d3b890871dec51c04fd3e6e2d63f7282   \n2  yesterday.south.pupil:Intelliflo Office  d3b890871dec51c04fd3e6e2d63f7282   \n\n                    BusinessHashKey              ModelBusinessHashKey  \\\n0  e52141e4f34538b9d385ba696d57673e  20ee37c2757a201e32da2625639d5ed8   \n1  9cc5c8771b6616394bd02eef81a685f2  0fed41afe362ee2404945d851b70f23b   \n2  7710a92417f1bf7fd4a38a6eb16502e3  55b0e19fda1d5caf070dd00b65ee0592   \n\n        RecordSource  \n0  Py.CreateBusiness  \n1  Py.CreateBusiness  \n2  Py.CreateBusiness  ",
                        "text/html": "<div>\n<style scoped>\n    .dataframe tbody tr th:only-of-type {\n        vertical-align: middle;\n    }\n\n    .dataframe tbody tr th {\n        vertical-align: top;\n    }\n\n    .dataframe thead th {\n        text-align: right;\n    }\n</style>\n<table border=\"1\" class=\"dataframe\">\n  <thead>\n    <tr style=\"text-align: right;\">\n      <th></th>\n      <th>ModelKeyPhrase</th>\n      <th>BusinessName</th>\n      <th>ModelBusinessKeyPhrase</th>\n      <th>ModelHashKey</th>\n      <th>BusinessHashKey</th>\n      <th>ModelBusinessHashKey</th>\n      <th>RecordSource</th>\n    </tr>\n  </thead>\n  <tbody>\n    <tr>\n      <th>0</th>\n      <td>yesterday.south.pupil</td>\n      <td>Openwork</td>\n      <td>yesterday.south.pupil:Openwork</td>\n      <td>d3b890871dec51c04fd3e6e2d63f7282</td>\n      <td>e52141e4f34538b9d385ba696d57673e</td>\n      <td>20ee37c2757a201e32da2625639d5ed8</td>\n      <td>Py.CreateBusiness</td>\n    </tr>\n    <tr>\n      <th>1</th>\n      <td>yesterday.south.pupil</td>\n      <td>ZenithOne</td>\n      <td>yesterday.south.pupil:ZenithOne</td>\n      <td>d3b890871dec51c04fd3e6e2d63f7282</td>\n      <td>9cc5c8771b6616394bd02eef81a685f2</td>\n      <td>0fed41afe362ee2404945d851b70f23b</td>\n      <td>Py.CreateBusiness</td>\n    </tr>\n    <tr>\n      <th>2</th>\n      <td>yesterday.south.pupil</td>\n      <td>Intelliflo Office</td>\n      <td>yesterday.south.pupil:Intelliflo Office</td>\n      <td>d3b890871dec51c04fd3e6e2d63f7282</td>\n      <td>7710a92417f1bf7fd4a38a6eb16502e3</td>\n      <td>55b0e19fda1d5caf070dd00b65ee0592</td>\n      <td>Py.CreateBusiness</td>\n    </tr>\n  </tbody>\n</table>\n</div>"
                    },
                    "metadata": {}
                }
            ],
            "execution_count": 19
        },
        {
            "cell_type": "code",
            "source": [
                "# Clear down and Write to staging\r\n",
                "conn.execute(\"DELETE FROM stg_Py_ExcelToBusiness\")\r\n",
                "conn.commit()\r\n",
                "df.to_sql('stg_Py_ExcelToBusiness', conn, if_exists='append', index=False)"
            ],
            "metadata": {
                "language": "python",
                "azdata_cell_guid": "fdf73ab5-8afa-4443-a951-693b378db0c2"
            },
            "outputs": [
                {
                    "output_type": "execute_result",
                    "execution_count": 20,
                    "data": {
                        "text/plain": "3"
                    },
                    "metadata": {}
                }
            ],
            "execution_count": 20
        },
        {
            "cell_type": "code",
            "source": [
                "# Write to the Hub (Business)\r\n",
                "sql_query = \"\"\"\r\n",
                "INSERT INTO rv_h_Business\r\n",
                "(\r\n",
                "    BusinessHashKey\r\n",
                "  , LoadDate\r\n",
                "  , RecordSource\r\n",
                "  , BusinessName\r\n",
                ")\r\n",
                "SELECT DISTINCT\r\n",
                "    BusinessHashKey\r\n",
                "  , LoadDate\r\n",
                "  , RecordSource\r\n",
                "  , BusinessName\r\n",
                "FROM\r\n",
                "  stg_Py_ExcelToBusiness\r\n",
                "WHERE\r\n",
                "  BusinessHashKey NOT IN (SELECT BusinessHashKey FROM rv_h_Business)\r\n",
                "\"\"\";\r\n",
                "conn.execute(sql_query)\r\n",
                "conn.commit()"
            ],
            "metadata": {
                "language": "python",
                "azdata_cell_guid": "4bb6367f-53d1-45b9-8bb6-c2bb7d47c05d"
            },
            "outputs": [],
            "execution_count": 22
        },
        {
            "cell_type": "code",
            "source": [
                "# Write to the Link (Model - Business)\r\n",
                "sql_query = \"\"\"\r\n",
                "INSERT INTO rv_l_ModelBusiness\r\n",
                "(\r\n",
                "  ModelBusinessHashKey\r\n",
                "  , LoadDate\r\n",
                "  , RecordSource\r\n",
                "  , ModelHashKey\r\n",
                "  , BusinessHashKey\r\n",
                ")\r\n",
                "SELECT\r\n",
                "  stg.ModelBusinessHashKey\r\n",
                "  , stg.LoadDate\r\n",
                "  , stg.RecordSource\r\n",
                "  , stg.ModelHashKey\r\n",
                "  , stg.BusinessHashKey\r\n",
                "FROM\r\n",
                "  stg_Py_ExcelToBusiness stg\r\n",
                "WHERE\r\n",
                "  stg.ModelBusinessHashKey IS NOT NULL\r\n",
                "  AND ModelBusinessHashKey NOT IN (\r\n",
                "    SELECT ModelBusinessHashKey\r\n",
                "    FROM rv_l_ModelBusiness\r\n",
                "  )\r\n",
                "\"\"\";\r\n",
                "conn.execute(sql_query)\r\n",
                "conn.commit()"
            ],
            "metadata": {
                "language": "python",
                "azdata_cell_guid": "76a5d16e-26c1-44dc-83e2-2d20989f988b"
            },
            "outputs": [],
            "execution_count": 23
        }
    ]
}