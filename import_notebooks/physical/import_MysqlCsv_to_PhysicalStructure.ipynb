{
    "metadata": {
        "kernelspec": {
            "name": "python3",
            "display_name": "Python 3",
            "language": "python"
        },
        "language_info": {
            "name": "python",
            "version": "3.8.10",
            "mimetype": "text/x-python",
            "codemirror_mode": {
                "name": "ipython",
                "version": 3
            },
            "pygments_lexer": "ipython3",
            "nbconvert_exporter": "python",
            "file_extension": ".py"
        }
    },
    "nbformat_minor": 2,
    "nbformat": 4,
    "cells": [
        {
            "cell_type": "code",
            "source": [
                "script_depth = '../../'\r\n",
                "\r\n",
                "import sqlite3\r\n",
                "import pandas as pd\r\n",
                "import numpy as np\r\n",
                "from datetime import datetime\r\n",
                "import os\r\n",
                "import sys\r\n",
                "sys.path.append(script_depth)\r\n",
                "from user_packages import hashing\r\n",
                ""
            ],
            "metadata": {
                "azdata_cell_guid": "672badc8-e7ca-40ae-9757-d4230664d7e9",
                "language": "python"
            },
            "outputs": [],
            "execution_count": 1
        },
        {
            "cell_type": "code",
            "source": [
                "# set variables\r\n",
                "target_model_name = 'invite.please.over'\r\n",
                "source_file_name = 'mysql_tables.csv'\r\n",
                "source_file_path = script_depth + 'imports/physical/mysql/'\r\n",
                "\r\n",
                "record_source = 'MySQLScrape'\r\n",
                "SystemKeyPhrase = 'DRS' # this should come from the System Hub\r\n",
                ""
            ],
            "metadata": {
                "language": "python",
                "azdata_cell_guid": "9dbe51f1-04dd-483a-a0ec-faf94cd1d451"
            },
            "outputs": [],
            "execution_count": 4
        },
        {
            "cell_type": "code",
            "source": [
                "# db connect\r\n",
                "conn = sqlite3.connect(script_depth + 'full_metadata.db')"
            ],
            "metadata": {
                "language": "python",
                "azdata_cell_guid": "f4e02745-61a5-4239-80b6-630d64c4469f"
            },
            "outputs": [],
            "execution_count": 3
        },
        {
            "cell_type": "code",
            "source": [
                "# read table to df\r\n",
                "df = pd.read_csv(os.path.join(source_file_path, source_file_name))\r\n",
                "df = df.replace({np.nan: None})\r\n",
                "\r\n",
                "#df"
            ],
            "metadata": {
                "language": "python",
                "azdata_cell_guid": "10837988-346a-44d7-8372-86644939c22c"
            },
            "outputs": [],
            "execution_count": 14
        },
        {
            "cell_type": "code",
            "source": [
                "# add extra columns\r\n",
                "\r\n",
                "# columns with variable data\r\n",
                "df['RecordSource'] = record_source\r\n",
                "df['LoadDate'] = datetime.now()\r\n",
                "df['ModelKeyPhrase'] = target_model_name\r\n",
                "df['SystemKeyPhrase'] = SystemKeyPhrase\r\n",
                "\r\n",
                "\r\n",
                "# derive keyphrase columns\r\n",
                "df['PhysicalStructureKeyPhrase'] = df.apply(\r\n",
                "  lambda row: \r\n",
                "    row['SERVER_NAME']\r\n",
                "    + '.' + row['DATABASE_NAME']\r\n",
                "    + '.' + row['SCHEMA_NAME']\r\n",
                "    + '.' + row['TABLE_NAME']\r\n",
                "  , axis=1\r\n",
                ")\r\n",
                "df['ModelPhysicalStructureKeyPhrase'] = df.apply(  lambda row: row['ModelKeyPhrase'] + ':' + row['PhysicalStructureKeyPhrase'], axis=1)\r\n",
                "df['SystemPhysicalStructureKeyPhrase'] = df.apply(  lambda row: row['SystemKeyPhrase'] + ':' + row['PhysicalStructureKeyPhrase'], axis=1)\r\n",
                "\r\n",
                "# hash the keyphrases\r\n",
                "df = hashing.add_md5_hash_column(\r\n",
                "  df\r\n",
                "  , md5_column_name = 'ModelHashKey'\r\n",
                "  , columns = ['ModelKeyPhrase']\r\n",
                ")\r\n",
                "df = hashing.add_md5_hash_column(\r\n",
                "  df\r\n",
                "  , md5_column_name = 'SystemHashKey'\r\n",
                "  , columns = ['SystemKeyPhrase']\r\n",
                ")\r\n",
                "df = hashing.add_md5_hash_column(\r\n",
                "  df\r\n",
                "  , md5_column_name = 'PhysicalStructureHashKey'\r\n",
                "  , columns = ['PhysicalStructureKeyPhrase']\r\n",
                ")\r\n",
                "df = hashing.add_md5_hash_column(\r\n",
                "  df\r\n",
                "  , md5_column_name = 'ModelPhysicalStructureHashKey'\r\n",
                "  , columns = ['ModelPhysicalStructureKeyPhrase']\r\n",
                ")\r\n",
                "df = hashing.add_md5_hash_column(\r\n",
                "  df\r\n",
                "  , md5_column_name = 'SystemPhysicalStructureHashKey'\r\n",
                "  , columns = ['SystemPhysicalStructureKeyPhrase']\r\n",
                ")\r\n",
                "\r\n",
                "\r\n",
                "# hash the payload\r\n",
                "df = hashing.add_md5_hash_column(\r\n",
                "  df\r\n",
                "  , md5_column_name = 'HashDiff'\r\n",
                "  , columns = [\r\n",
                "      'SERVER_NAME'\r\n",
                "    , 'DATABASE_NAME'\r\n",
                "    , 'SCHEMA_NAME'\r\n",
                "    , 'TABLE_NAME'\r\n",
                "\r\n",
                "    , 'TABLE_TYPE'\r\n",
                "    , 'ENGINE'\r\n",
                "    , 'ROW_COUNT'\r\n",
                "    , 'AVG_ROW_LENGTH'\r\n",
                "    , 'DATA_LENGTH'\r\n",
                "    , 'INDEX_LENGTH'\r\n",
                "    , 'AUTO_INCREMENT'\r\n",
                "    , 'UPDATE_TIME'\r\n",
                "    , 'COLUMN_COUNT'\r\n",
                "    , 'TABLE_COLLATION'\r\n",
                "    , 'TABLE_COMMENT'\r\n",
                "  ]\r\n",
                ")\r\n",
                "\r\n",
                "#df"
            ],
            "metadata": {
                "language": "python",
                "azdata_cell_guid": "c9376850-4b05-4849-b7e4-0c639c6dd938"
            },
            "outputs": [],
            "execution_count": 15
        },
        {
            "cell_type": "code",
            "source": [
                "# Clear down and Write to staging\r\n",
                "conn.execute(\"DELETE FROM stg_Py_MysqlCsvToPhysicalStructure\")\r\n",
                "conn.commit()\r\n",
                "df.to_sql('stg_Py_MysqlCsvToPhysicalStructure', conn, if_exists='append', index=False)"
            ],
            "metadata": {
                "language": "python",
                "azdata_cell_guid": "5c21a646-66ff-451f-87a9-e14d07267ad0"
            },
            "outputs": [
                {
                    "data": {
                        "text/plain": "825"
                    },
                    "metadata": {},
                    "execution_count": 9,
                    "output_type": "execute_result"
                }
            ],
            "execution_count": 9
        },
        {
            "cell_type": "code",
            "source": [
                "# Write to the Hub (PhysicalStructure)\r\n",
                "sql_query = \"\"\"\r\n",
                "INSERT INTO rv_h_PhysicalStructure\r\n",
                "(\r\n",
                "    PhysicalStructureHashKey\r\n",
                "  , LoadDate\r\n",
                "  , RecordSource\r\n",
                "  , PhysicalStructureKeyPhrase\r\n",
                ")\r\n",
                "SELECT DISTINCT\r\n",
                "    PhysicalStructureHashKey\r\n",
                "  , LoadDate\r\n",
                "  , RecordSource\r\n",
                "  , PhysicalStructureKeyPhrase\r\n",
                "FROM\r\n",
                "  stg_Py_MysqlCsvToPhysicalStructure\r\n",
                "WHERE\r\n",
                "  PhysicalStructureHashKey NOT IN (SELECT PhysicalStructureHashKey FROM rv_h_PhysicalStructure)\r\n",
                "\"\"\";\r\n",
                "conn.execute(sql_query)\r\n",
                "conn.commit()"
            ],
            "metadata": {
                "language": "python",
                "azdata_cell_guid": "6484429d-f75d-4ecd-9e04-ed3671a5be84"
            },
            "outputs": [],
            "execution_count": 10
        },
        {
            "cell_type": "code",
            "source": [
                "# Write to the Satellite (PhysicalStructure_Mysql)\r\n",
                "sql_query = \"\"\"\r\n",
                "INSERT INTO rv_s_PhysicalStructure_Mysql\r\n",
                "(\r\n",
                "    PhysicalStructureHashKey\r\n",
                "  , LoadDate\r\n",
                "  , RecordSource\r\n",
                "  , HashDiff\r\n",
                "\r\n",
                "  , SERVER_NAME\r\n",
                "  , \"DATABASE_NAME\"\r\n",
                "  , SCHEMA_NAME\r\n",
                "  , TABLE_NAME\r\n",
                "\r\n",
                "  , TABLE_TYPE\r\n",
                "  , ENGINE\r\n",
                "  , ROW_COUNT\r\n",
                "  , AVG_ROW_LENGTH\r\n",
                "  , DATA_LENGTH\r\n",
                "  , INDEX_LENGTH\r\n",
                "  , AUTO_INCREMENT\r\n",
                "  , UPDATE_TIME\r\n",
                "  , COLUMN_COUNT\r\n",
                "  , TABLE_COLLATION\r\n",
                "  , TABLE_COMMENT\r\n",
                "\r\n",
                ")\r\n",
                "SELECT DISTINCT\r\n",
                "    stg.PhysicalStructureHashKey\r\n",
                "  , stg.LoadDate\r\n",
                "  , stg.RecordSource\r\n",
                "  , stg.HashDiff\r\n",
                "  \r\n",
                "  , stg.SERVER_NAME\r\n",
                "  , stg.\"DATABASE_NAME\"\r\n",
                "  , stg.SCHEMA_NAME\r\n",
                "  , stg.TABLE_NAME\r\n",
                "\r\n",
                "  , stg.TABLE_TYPE\r\n",
                "  , stg.ENGINE\r\n",
                "  , stg.ROW_COUNT\r\n",
                "  , stg.AVG_ROW_LENGTH\r\n",
                "  , stg.DATA_LENGTH\r\n",
                "  , stg.INDEX_LENGTH\r\n",
                "  , stg.AUTO_INCREMENT\r\n",
                "  , stg.UPDATE_TIME\r\n",
                "  , stg.COLUMN_COUNT\r\n",
                "  , stg.TABLE_COLLATION\r\n",
                "  , stg.TABLE_COMMENT\r\n",
                "\r\n",
                "FROM\r\n",
                "  stg_Py_MysqlCsvToPhysicalStructure AS stg\r\n",
                "  LEFT OUTER JOIN rv_s_PhysicalStructure_Mysql AS sat ON (\r\n",
                "    stg.PhysicalStructureHashKey = sat.PhysicalStructureHashKey\r\n",
                "    AND sat.LoadDate = (\r\n",
                "      SELECT MAX(z.LoadDate)\r\n",
                "      FROM rv_s_PhysicalStructure_Mysql AS z\r\n",
                "      WHERE z.PhysicalStructureHashKey = sat.PhysicalStructureHashKey\r\n",
                "    )\r\n",
                "  )\r\n",
                "WHERE\r\n",
                "  (\r\n",
                "    sat.HashDiff != stg.HashDiff\r\n",
                "    OR sat.HashDiff IS NULL\r\n",
                "  )\r\n",
                "\"\"\";\r\n",
                "conn.execute(sql_query)\r\n",
                "conn.commit()"
            ],
            "metadata": {
                "language": "python",
                "azdata_cell_guid": "1925ee9b-a3b2-4c3f-81f8-35227daa7822"
            },
            "outputs": [],
            "execution_count": 11
        },
        {
            "cell_type": "code",
            "source": [
                "# Write to the Link (Model - PhysicalStructure)\r\n",
                "sql_query = \"\"\"\r\n",
                "INSERT INTO rv_l_ModelPhysicalStructure\r\n",
                "(\r\n",
                "  ModelPhysicalStructureHashKey\r\n",
                "  , LoadDate\r\n",
                "  , RecordSource\r\n",
                "  , ModelHashKey\r\n",
                "  , PhysicalStructureHashKey\r\n",
                ")\r\n",
                "SELECT\r\n",
                "  stg.ModelPhysicalStructureHashKey\r\n",
                "  , stg.LoadDate\r\n",
                "  , stg.RecordSource\r\n",
                "  , stg.ModelHashKey\r\n",
                "  , stg.PhysicalStructureHashKey\r\n",
                "FROM\r\n",
                "  stg_Py_MysqlCsvToPhysicalStructure stg\r\n",
                "WHERE\r\n",
                "  stg.ModelPhysicalStructureHashKey IS NOT NULL\r\n",
                "  AND ModelPhysicalStructureHashKey NOT IN (\r\n",
                "    SELECT ModelPhysicalStructureHashKey\r\n",
                "    FROM rv_l_ModelPhysicalStructure\r\n",
                "  )\r\n",
                "\"\"\";\r\n",
                "conn.execute(sql_query)\r\n",
                "conn.commit()"
            ],
            "metadata": {
                "language": "python",
                "azdata_cell_guid": "09a3c9c6-61e3-4192-85d5-0dbdac6ea257"
            },
            "outputs": [],
            "execution_count": 12
        },
        {
            "cell_type": "code",
            "source": [
                "# Write to the Link (System - PhysicalStructure)\r\n",
                "sql_query = \"\"\"\r\n",
                "INSERT INTO rv_l_SystemPhysicalStructure\r\n",
                "(\r\n",
                "  SystemPhysicalStructureHashKey\r\n",
                "  , LoadDate\r\n",
                "  , RecordSource\r\n",
                "  , SystemHashKey\r\n",
                "  , PhysicalStructureHashKey\r\n",
                ")\r\n",
                "SELECT\r\n",
                "  stg.SystemPhysicalStructureHashKey\r\n",
                "  , stg.LoadDate\r\n",
                "  , stg.RecordSource\r\n",
                "  , stg.SystemHashKey\r\n",
                "  , stg.PhysicalStructureHashKey\r\n",
                "FROM\r\n",
                "  stg_Py_MysqlCsvToPhysicalStructure stg\r\n",
                "WHERE\r\n",
                "  stg.SystemPhysicalStructureHashKey IS NOT NULL\r\n",
                "  AND SystemPhysicalStructureHashKey NOT IN (\r\n",
                "    SELECT SystemPhysicalStructureHashKey\r\n",
                "    FROM rv_l_SystemPhysicalStructure\r\n",
                "  )\r\n",
                "\"\"\";\r\n",
                "conn.execute(sql_query)\r\n",
                "conn.commit()"
            ],
            "metadata": {
                "language": "python",
                "azdata_cell_guid": "e1285e89-1e4f-45ba-a4ab-a7ce9ebeb560"
            },
            "outputs": [],
            "execution_count": 13
        }
    ]
}