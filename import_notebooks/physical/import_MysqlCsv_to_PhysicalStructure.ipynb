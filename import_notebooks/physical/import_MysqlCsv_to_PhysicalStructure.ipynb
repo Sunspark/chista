{
    "metadata": {
        "kernelspec": {
            "name": "python3",
            "display_name": "Python 3",
            "language": "python"
        },
        "language_info": {
            "name": "python",
            "version": "3.8.10",
            "mimetype": "text/x-python",
            "codemirror_mode": {
                "name": "ipython",
                "version": 3
            },
            "pygments_lexer": "ipython3",
            "nbconvert_exporter": "python",
            "file_extension": ".py"
        }
    },
    "nbformat_minor": 2,
    "nbformat": 4,
    "cells": [
        {
            "cell_type": "code",
            "source": [
                "script_depth = '../../'\r\n",
                "\r\n",
                "import sqlite3\r\n",
                "import pandas as pd\r\n",
                "import numpy as np\r\n",
                "from datetime import datetime\r\n",
                "import os\r\n",
                "import sys\r\n",
                "sys.path.append(script_depth)\r\n",
                "from user_packages import hashing\r\n",
                ""
            ],
            "metadata": {
                "azdata_cell_guid": "672badc8-e7ca-40ae-9757-d4230664d7e9",
                "language": "python"
            },
            "outputs": [],
            "execution_count": 1
        },
        {
            "cell_type": "code",
            "source": [
                "# set variables\r\n",
                "target_model_name = 'invite.please.over'\r\n",
                "source_file_name = 'mysql_tables.csv'\r\n",
                "source_file_path = script_depth + 'imports/physical/mysql/'\r\n",
                "\r\n",
                "record_source = 'MySQLScrape'\r\n",
                "SystemKeyPhrase = 'DRS' # this should come from the System Hub\r\n",
                ""
            ],
            "metadata": {
                "language": "python",
                "azdata_cell_guid": "9dbe51f1-04dd-483a-a0ec-faf94cd1d451"
            },
            "outputs": [],
            "execution_count": 4
        },
        {
            "cell_type": "code",
            "source": [
                "# db connect\r\n",
                "conn = sqlite3.connect(script_depth + 'full_metadata.db')"
            ],
            "metadata": {
                "language": "python",
                "azdata_cell_guid": "f4e02745-61a5-4239-80b6-630d64c4469f"
            },
            "outputs": [],
            "execution_count": 3
        },
        {
            "cell_type": "code",
            "source": [
                "# read table to df\r\n",
                "df = pd.read_csv(os.path.join(source_file_path, source_file_name))\r\n",
                "df = df.replace({np.nan: None})\r\n",
                "\r\n",
                "df"
            ],
            "metadata": {
                "language": "python",
                "azdata_cell_guid": "10837988-346a-44d7-8372-86644939c22c"
            },
            "outputs": [
                {
                    "data": {
                        "text/plain": "    SERVER_NAME DATABASE_NAME         SCHEMA_NAME              TABLE_NAME  \\\n0      DRS_Core           def  information_schema             ALL_PLUGINS   \n1      DRS_Core           def  information_schema        APPLICABLE_ROLES   \n2      DRS_Core           def  information_schema          CHARACTER_SETS   \n3      DRS_Core           def  information_schema       CHECK_CONSTRAINTS   \n4      DRS_Core           def  information_schema              COLLATIONS   \n..          ...           ...                 ...                     ...   \n820    DRS_Core           def             _portal  gateway_connection_log   \n821    DRS_Core           def             _portal      gateway_properties   \n822    DRS_Core           def             _portal          gateway_server   \n823    DRS_Core           def             _portal            gateway_user   \n824    DRS_Core           def             _portal   opt_pool_check_portal   \n\n      TABLE_TYPE  ENGINE ROW_COUNT AVG_ROW_LENGTH DATA_LENGTH INDEX_LENGTH  \\\n0    SYSTEM VIEW    Aria      None            0.0      8192.0       8192.0   \n1    SYSTEM VIEW  MEMORY      None         1565.0         0.0          0.0   \n2    SYSTEM VIEW  MEMORY      None          384.0         0.0          0.0   \n3    SYSTEM VIEW    Aria      None            0.0      8192.0       8192.0   \n4    SYSTEM VIEW  MEMORY      None          231.0         0.0          0.0   \n..           ...     ...       ...            ...         ...          ...   \n820   BASE TABLE  InnoDB    1131.0          188.0    212992.0          0.0   \n821   BASE TABLE  InnoDB       5.0         3276.0     16384.0          0.0   \n822   BASE TABLE  InnoDB       0.0            0.0     16384.0          0.0   \n823   BASE TABLE  InnoDB     530.0          123.0     65536.0          0.0   \n824   BASE TABLE  InnoDB       0.0            0.0     16384.0          0.0   \n\n    AUTO_INCREMENT       UPDATE_TIME  COLUMN_COUNT     TABLE_COLLATION  \\\n0             None  15/08/2024 19:06            13  utf8mb3_general_ci   \n1             None              None             4  utf8mb3_general_ci   \n2             None              None             4  utf8mb3_general_ci   \n3             None  15/08/2024 19:06             6  utf8mb3_general_ci   \n4             None              None             6  utf8mb3_general_ci   \n..             ...               ...           ...                 ...   \n820           None  15/08/2024 18:56             8  utf8mb3_general_ci   \n821           None              None             2  utf8mb3_general_ci   \n822           None              None             5  utf8mb3_general_ci   \n823           None  15/08/2024 09:03             2  utf8mb3_general_ci   \n824           None              None             1  utf8mb3_general_ci   \n\n    TABLE_COMMENT  \n0            None  \n1            None  \n2            None  \n3            None  \n4            None  \n..            ...  \n820          None  \n821          None  \n822          None  \n823          None  \n824          None  \n\n[825 rows x 15 columns]",
                        "text/html": "<div>\n<style scoped>\n    .dataframe tbody tr th:only-of-type {\n        vertical-align: middle;\n    }\n\n    .dataframe tbody tr th {\n        vertical-align: top;\n    }\n\n    .dataframe thead th {\n        text-align: right;\n    }\n</style>\n<table border=\"1\" class=\"dataframe\">\n  <thead>\n    <tr style=\"text-align: right;\">\n      <th></th>\n      <th>SERVER_NAME</th>\n      <th>DATABASE_NAME</th>\n      <th>SCHEMA_NAME</th>\n      <th>TABLE_NAME</th>\n      <th>TABLE_TYPE</th>\n      <th>ENGINE</th>\n      <th>ROW_COUNT</th>\n      <th>AVG_ROW_LENGTH</th>\n      <th>DATA_LENGTH</th>\n      <th>INDEX_LENGTH</th>\n      <th>AUTO_INCREMENT</th>\n      <th>UPDATE_TIME</th>\n      <th>COLUMN_COUNT</th>\n      <th>TABLE_COLLATION</th>\n      <th>TABLE_COMMENT</th>\n    </tr>\n  </thead>\n  <tbody>\n    <tr>\n      <th>0</th>\n      <td>DRS_Core</td>\n      <td>def</td>\n      <td>information_schema</td>\n      <td>ALL_PLUGINS</td>\n      <td>SYSTEM VIEW</td>\n      <td>Aria</td>\n      <td>None</td>\n      <td>0.0</td>\n      <td>8192.0</td>\n      <td>8192.0</td>\n      <td>None</td>\n      <td>15/08/2024 19:06</td>\n      <td>13</td>\n      <td>utf8mb3_general_ci</td>\n      <td>None</td>\n    </tr>\n    <tr>\n      <th>1</th>\n      <td>DRS_Core</td>\n      <td>def</td>\n      <td>information_schema</td>\n      <td>APPLICABLE_ROLES</td>\n      <td>SYSTEM VIEW</td>\n      <td>MEMORY</td>\n      <td>None</td>\n      <td>1565.0</td>\n      <td>0.0</td>\n      <td>0.0</td>\n      <td>None</td>\n      <td>None</td>\n      <td>4</td>\n      <td>utf8mb3_general_ci</td>\n      <td>None</td>\n    </tr>\n    <tr>\n      <th>2</th>\n      <td>DRS_Core</td>\n      <td>def</td>\n      <td>information_schema</td>\n      <td>CHARACTER_SETS</td>\n      <td>SYSTEM VIEW</td>\n      <td>MEMORY</td>\n      <td>None</td>\n      <td>384.0</td>\n      <td>0.0</td>\n      <td>0.0</td>\n      <td>None</td>\n      <td>None</td>\n      <td>4</td>\n      <td>utf8mb3_general_ci</td>\n      <td>None</td>\n    </tr>\n    <tr>\n      <th>3</th>\n      <td>DRS_Core</td>\n      <td>def</td>\n      <td>information_schema</td>\n      <td>CHECK_CONSTRAINTS</td>\n      <td>SYSTEM VIEW</td>\n      <td>Aria</td>\n      <td>None</td>\n      <td>0.0</td>\n      <td>8192.0</td>\n      <td>8192.0</td>\n      <td>None</td>\n      <td>15/08/2024 19:06</td>\n      <td>6</td>\n      <td>utf8mb3_general_ci</td>\n      <td>None</td>\n    </tr>\n    <tr>\n      <th>4</th>\n      <td>DRS_Core</td>\n      <td>def</td>\n      <td>information_schema</td>\n      <td>COLLATIONS</td>\n      <td>SYSTEM VIEW</td>\n      <td>MEMORY</td>\n      <td>None</td>\n      <td>231.0</td>\n      <td>0.0</td>\n      <td>0.0</td>\n      <td>None</td>\n      <td>None</td>\n      <td>6</td>\n      <td>utf8mb3_general_ci</td>\n      <td>None</td>\n    </tr>\n    <tr>\n      <th>...</th>\n      <td>...</td>\n      <td>...</td>\n      <td>...</td>\n      <td>...</td>\n      <td>...</td>\n      <td>...</td>\n      <td>...</td>\n      <td>...</td>\n      <td>...</td>\n      <td>...</td>\n      <td>...</td>\n      <td>...</td>\n      <td>...</td>\n      <td>...</td>\n      <td>...</td>\n    </tr>\n    <tr>\n      <th>820</th>\n      <td>DRS_Core</td>\n      <td>def</td>\n      <td>_portal</td>\n      <td>gateway_connection_log</td>\n      <td>BASE TABLE</td>\n      <td>InnoDB</td>\n      <td>1131.0</td>\n      <td>188.0</td>\n      <td>212992.0</td>\n      <td>0.0</td>\n      <td>None</td>\n      <td>15/08/2024 18:56</td>\n      <td>8</td>\n      <td>utf8mb3_general_ci</td>\n      <td>None</td>\n    </tr>\n    <tr>\n      <th>821</th>\n      <td>DRS_Core</td>\n      <td>def</td>\n      <td>_portal</td>\n      <td>gateway_properties</td>\n      <td>BASE TABLE</td>\n      <td>InnoDB</td>\n      <td>5.0</td>\n      <td>3276.0</td>\n      <td>16384.0</td>\n      <td>0.0</td>\n      <td>None</td>\n      <td>None</td>\n      <td>2</td>\n      <td>utf8mb3_general_ci</td>\n      <td>None</td>\n    </tr>\n    <tr>\n      <th>822</th>\n      <td>DRS_Core</td>\n      <td>def</td>\n      <td>_portal</td>\n      <td>gateway_server</td>\n      <td>BASE TABLE</td>\n      <td>InnoDB</td>\n      <td>0.0</td>\n      <td>0.0</td>\n      <td>16384.0</td>\n      <td>0.0</td>\n      <td>None</td>\n      <td>None</td>\n      <td>5</td>\n      <td>utf8mb3_general_ci</td>\n      <td>None</td>\n    </tr>\n    <tr>\n      <th>823</th>\n      <td>DRS_Core</td>\n      <td>def</td>\n      <td>_portal</td>\n      <td>gateway_user</td>\n      <td>BASE TABLE</td>\n      <td>InnoDB</td>\n      <td>530.0</td>\n      <td>123.0</td>\n      <td>65536.0</td>\n      <td>0.0</td>\n      <td>None</td>\n      <td>15/08/2024 09:03</td>\n      <td>2</td>\n      <td>utf8mb3_general_ci</td>\n      <td>None</td>\n    </tr>\n    <tr>\n      <th>824</th>\n      <td>DRS_Core</td>\n      <td>def</td>\n      <td>_portal</td>\n      <td>opt_pool_check_portal</td>\n      <td>BASE TABLE</td>\n      <td>InnoDB</td>\n      <td>0.0</td>\n      <td>0.0</td>\n      <td>16384.0</td>\n      <td>0.0</td>\n      <td>None</td>\n      <td>None</td>\n      <td>1</td>\n      <td>utf8mb3_general_ci</td>\n      <td>None</td>\n    </tr>\n  </tbody>\n</table>\n<p>825 rows × 15 columns</p>\n</div>"
                    },
                    "metadata": {},
                    "execution_count": 5,
                    "output_type": "execute_result"
                }
            ],
            "execution_count": 5
        },
        {
            "cell_type": "code",
            "source": [
                "# add extra columns\r\n",
                "\r\n",
                "# columns with variable data\r\n",
                "df['RecordSource'] = record_source\r\n",
                "df['LoadDate'] = datetime.now()\r\n",
                "df['ModelKeyPhrase'] = target_model_name\r\n",
                "df['SystemKeyPhrase'] = SystemKeyPhrase\r\n",
                "\r\n",
                "\r\n",
                "# derive keyphrase columns\r\n",
                "df['PhysicalStructureKeyPhrase'] = df.apply(\r\n",
                "  lambda row: \r\n",
                "    row['SERVER_NAME']\r\n",
                "    + '.' + row['DATABASE_NAME']\r\n",
                "    + '.' + row['SCHEMA_NAME']\r\n",
                "    + '.' + row['TABLE_NAME']\r\n",
                "  , axis=1\r\n",
                ")\r\n",
                "df['ModelPhysicalStructureKeyPhrase'] = df.apply(  lambda row: row['ModelKeyPhrase'] + ':' + row['PhysicalStructureKeyPhrase'], axis=1)\r\n",
                "df['SystemPhysicalStructureKeyPhrase'] = df.apply(  lambda row: row['SystemKeyPhrase'] + ':' + row['PhysicalStructureKeyPhrase'], axis=1)\r\n",
                "\r\n",
                "# hash the keyphrases\r\n",
                "df = hashing.add_md5_hash_column(\r\n",
                "  df\r\n",
                "  , md5_column_name = 'ModelHashKey'\r\n",
                "  , columns = ['ModelKeyPhrase']\r\n",
                ")\r\n",
                "df = hashing.add_md5_hash_column(\r\n",
                "  df\r\n",
                "  , md5_column_name = 'SystemHashKey'\r\n",
                "  , columns = ['SystemKeyPhrase']\r\n",
                ")\r\n",
                "df = hashing.add_md5_hash_column(\r\n",
                "  df\r\n",
                "  , md5_column_name = 'PhysicalStructureHashKey'\r\n",
                "  , columns = ['PhysicalStructureKeyPhrase']\r\n",
                ")\r\n",
                "df = hashing.add_md5_hash_column(\r\n",
                "  df\r\n",
                "  , md5_column_name = 'ModelPhysicalStructureHashKey'\r\n",
                "  , columns = ['ModelPhysicalStructureKeyPhrase']\r\n",
                ")\r\n",
                "df = hashing.add_md5_hash_column(\r\n",
                "  df\r\n",
                "  , md5_column_name = 'SystemPhysicalStructureHashKey'\r\n",
                "  , columns = ['SystemPhysicalStructureKeyPhrase']\r\n",
                ")\r\n",
                "\r\n",
                "\r\n",
                "# hash the payload\r\n",
                "df = hashing.add_md5_hash_column(\r\n",
                "  df\r\n",
                "  , md5_column_name = 'HashDiff'\r\n",
                "  , columns = [\r\n",
                "      'SERVER_NAME'\r\n",
                "    , 'DATABASE_NAME'\r\n",
                "    , 'SCHEMA_NAME'\r\n",
                "    , 'TABLE_NAME'\r\n",
                "\r\n",
                "    , 'TABLE_TYPE'\r\n",
                "    , 'ENGINE'\r\n",
                "    , 'ROW_COUNT'\r\n",
                "    , 'AVG_ROW_LENGTH'\r\n",
                "    , 'DATA_LENGTH'\r\n",
                "    , 'INDEX_LENGTH'\r\n",
                "    , 'AUTO_INCREMENT'\r\n",
                "    , 'UPDATE_TIME'\r\n",
                "    , 'COLUMN_COUNT'\r\n",
                "    , 'TABLE_COLLATION'\r\n",
                "    , 'TABLE_COMMENT'\r\n",
                "  ]\r\n",
                ")\r\n",
                "\r\n",
                "df"
            ],
            "metadata": {
                "language": "python",
                "azdata_cell_guid": "c9376850-4b05-4849-b7e4-0c639c6dd938"
            },
            "outputs": [
                {
                    "data": {
                        "text/plain": "    SERVER_NAME DATABASE_NAME         SCHEMA_NAME              TABLE_NAME  \\\n0      DRS_Core           def  information_schema             ALL_PLUGINS   \n1      DRS_Core           def  information_schema        APPLICABLE_ROLES   \n2      DRS_Core           def  information_schema          CHARACTER_SETS   \n3      DRS_Core           def  information_schema       CHECK_CONSTRAINTS   \n4      DRS_Core           def  information_schema              COLLATIONS   \n..          ...           ...                 ...                     ...   \n820    DRS_Core           def             _portal  gateway_connection_log   \n821    DRS_Core           def             _portal      gateway_properties   \n822    DRS_Core           def             _portal          gateway_server   \n823    DRS_Core           def             _portal            gateway_user   \n824    DRS_Core           def             _portal   opt_pool_check_portal   \n\n      TABLE_TYPE  ENGINE ROW_COUNT AVG_ROW_LENGTH DATA_LENGTH INDEX_LENGTH  \\\n0    SYSTEM VIEW    Aria      None            0.0      8192.0       8192.0   \n1    SYSTEM VIEW  MEMORY      None         1565.0         0.0          0.0   \n2    SYSTEM VIEW  MEMORY      None          384.0         0.0          0.0   \n3    SYSTEM VIEW    Aria      None            0.0      8192.0       8192.0   \n4    SYSTEM VIEW  MEMORY      None          231.0         0.0          0.0   \n..           ...     ...       ...            ...         ...          ...   \n820   BASE TABLE  InnoDB    1131.0          188.0    212992.0          0.0   \n821   BASE TABLE  InnoDB       5.0         3276.0     16384.0          0.0   \n822   BASE TABLE  InnoDB       0.0            0.0     16384.0          0.0   \n823   BASE TABLE  InnoDB     530.0          123.0     65536.0          0.0   \n824   BASE TABLE  InnoDB       0.0            0.0     16384.0          0.0   \n\n     ... SystemKeyPhrase                         PhysicalStructureKeyPhrase  \\\n0    ...             DRS        DRS_Core.def.information_schema.ALL_PLUGINS   \n1    ...             DRS   DRS_Core.def.information_schema.APPLICABLE_ROLES   \n2    ...             DRS     DRS_Core.def.information_schema.CHARACTER_SETS   \n3    ...             DRS  DRS_Core.def.information_schema.CHECK_CONSTRAINTS   \n4    ...             DRS         DRS_Core.def.information_schema.COLLATIONS   \n..   ...             ...                                                ...   \n820  ...             DRS        DRS_Core.def._portal.gateway_connection_log   \n821  ...             DRS            DRS_Core.def._portal.gateway_properties   \n822  ...             DRS                DRS_Core.def._portal.gateway_server   \n823  ...             DRS                  DRS_Core.def._portal.gateway_user   \n824  ...             DRS         DRS_Core.def._portal.opt_pool_check_portal   \n\n                       ModelPhysicalStructureKeyPhrase  \\\n0    invite.please.over:DRS_Core.def.information_sc...   \n1    invite.please.over:DRS_Core.def.information_sc...   \n2    invite.please.over:DRS_Core.def.information_sc...   \n3    invite.please.over:DRS_Core.def.information_sc...   \n4    invite.please.over:DRS_Core.def.information_sc...   \n..                                                 ...   \n820  invite.please.over:DRS_Core.def._portal.gatewa...   \n821  invite.please.over:DRS_Core.def._portal.gatewa...   \n822  invite.please.over:DRS_Core.def._portal.gatewa...   \n823  invite.please.over:DRS_Core.def._portal.gatewa...   \n824  invite.please.over:DRS_Core.def._portal.opt_po...   \n\n                      SystemPhysicalStructureKeyPhrase  \\\n0      DRS:DRS_Core.def.information_schema.ALL_PLUGINS   \n1    DRS:DRS_Core.def.information_schema.APPLICABLE...   \n2    DRS:DRS_Core.def.information_schema.CHARACTER_...   \n3    DRS:DRS_Core.def.information_schema.CHECK_CONS...   \n4       DRS:DRS_Core.def.information_schema.COLLATIONS   \n..                                                 ...   \n820    DRS:DRS_Core.def._portal.gateway_connection_log   \n821        DRS:DRS_Core.def._portal.gateway_properties   \n822            DRS:DRS_Core.def._portal.gateway_server   \n823              DRS:DRS_Core.def._portal.gateway_user   \n824     DRS:DRS_Core.def._portal.opt_pool_check_portal   \n\n                         ModelHashKey                     SystemHashKey  \\\n0    36182d0eadd7d627494f1ff78ff43521  f1e3446c69e4d87279ff7863482f9dcb   \n1    36182d0eadd7d627494f1ff78ff43521  f1e3446c69e4d87279ff7863482f9dcb   \n2    36182d0eadd7d627494f1ff78ff43521  f1e3446c69e4d87279ff7863482f9dcb   \n3    36182d0eadd7d627494f1ff78ff43521  f1e3446c69e4d87279ff7863482f9dcb   \n4    36182d0eadd7d627494f1ff78ff43521  f1e3446c69e4d87279ff7863482f9dcb   \n..                                ...                               ...   \n820  36182d0eadd7d627494f1ff78ff43521  f1e3446c69e4d87279ff7863482f9dcb   \n821  36182d0eadd7d627494f1ff78ff43521  f1e3446c69e4d87279ff7863482f9dcb   \n822  36182d0eadd7d627494f1ff78ff43521  f1e3446c69e4d87279ff7863482f9dcb   \n823  36182d0eadd7d627494f1ff78ff43521  f1e3446c69e4d87279ff7863482f9dcb   \n824  36182d0eadd7d627494f1ff78ff43521  f1e3446c69e4d87279ff7863482f9dcb   \n\n             PhysicalStructureHashKey     ModelPhysicalStructureHashKey  \\\n0    deee9e216db10362f4be1282673d1803  4c01aeda9f8ba88a44c38523a672c61a   \n1    59072c3ba12769ad99b420e536413002  6080a4224deea471ec55016cb92292a0   \n2    7b7e1ba8136047c698683f9380dc6d6f  99156bf27e3d421090996ae4f7504683   \n3    3b74990f4dbec7c5d044e7bfc9c89652  426ed47f2b726ad5f6d4472b05ed0c4f   \n4    0aa78e120c62e8cba83f5e6b443bd1c1  e67de0b813151f54f6e65531e790f58c   \n..                                ...                               ...   \n820  6908dee978a9df8cbf2a9eda4c3d5374  d272a204e489a7211c461b5fb71cbe42   \n821  2e9d1868a52257a454cb47f263ba04cc  e3fd10c6f0eea9dc780f74df40973911   \n822  de1140cd0828cbfd46d6c56e95b6c0a3  8fb85959bbc1bcc57f356538a4409599   \n823  9564f1fcbaa4b6e6183596e07f44ddba  e811470376252b501b503cf1806ab602   \n824  5df62d210221148fbba2987bc3be645c  565056ae95e3c36141667fdc81e1ef92   \n\n       SystemPhysicalStructureHashKey                          HashDiff  \n0    074eb805a0cc563adb283526278a5261  e46c5240b3a5c5d70e6e1f43458be68b  \n1    1e47197d056563a82f3b1bf6af3c3443  6cff78986275e1778b20383d3fdefc59  \n2    088525ed449682e43ef233854e978289  bff639ae594709959f318d2335403915  \n3    1bda964245879c019e5d40289b8cf9bd  9971ef76306b21298ad2bd0cac0c82df  \n4    e1135ff40ff401c43ccf1cd709164473  9576a077f3974743739c0836788d6062  \n..                                ...                               ...  \n820  f376c4c4e6d474a0a6c06a32d54c4299  7add81f7c356b8d6646738aa40c6e7c3  \n821  98caa75e7bf74ba297f62f8dfd2756d3  70995f3c89e480be471bd07a6a110390  \n822  02d22d56b72b6e94820578d85b8129d7  349ff7ae6abc067fd71c2668af97200a  \n823  f619c3d925ed5a499fbddb86c898f238  5d9cf6de588545cec86281a3938987c8  \n824  328765abb4c926f4dd7e73ce22382289  f36d1aa569cc242b0a747e69bdb8acdf  \n\n[825 rows x 28 columns]",
                        "text/html": "<div>\n<style scoped>\n    .dataframe tbody tr th:only-of-type {\n        vertical-align: middle;\n    }\n\n    .dataframe tbody tr th {\n        vertical-align: top;\n    }\n\n    .dataframe thead th {\n        text-align: right;\n    }\n</style>\n<table border=\"1\" class=\"dataframe\">\n  <thead>\n    <tr style=\"text-align: right;\">\n      <th></th>\n      <th>SERVER_NAME</th>\n      <th>DATABASE_NAME</th>\n      <th>SCHEMA_NAME</th>\n      <th>TABLE_NAME</th>\n      <th>TABLE_TYPE</th>\n      <th>ENGINE</th>\n      <th>ROW_COUNT</th>\n      <th>AVG_ROW_LENGTH</th>\n      <th>DATA_LENGTH</th>\n      <th>INDEX_LENGTH</th>\n      <th>...</th>\n      <th>SystemKeyPhrase</th>\n      <th>PhysicalStructureKeyPhrase</th>\n      <th>ModelPhysicalStructureKeyPhrase</th>\n      <th>SystemPhysicalStructureKeyPhrase</th>\n      <th>ModelHashKey</th>\n      <th>SystemHashKey</th>\n      <th>PhysicalStructureHashKey</th>\n      <th>ModelPhysicalStructureHashKey</th>\n      <th>SystemPhysicalStructureHashKey</th>\n      <th>HashDiff</th>\n    </tr>\n  </thead>\n  <tbody>\n    <tr>\n      <th>0</th>\n      <td>DRS_Core</td>\n      <td>def</td>\n      <td>information_schema</td>\n      <td>ALL_PLUGINS</td>\n      <td>SYSTEM VIEW</td>\n      <td>Aria</td>\n      <td>None</td>\n      <td>0.0</td>\n      <td>8192.0</td>\n      <td>8192.0</td>\n      <td>...</td>\n      <td>DRS</td>\n      <td>DRS_Core.def.information_schema.ALL_PLUGINS</td>\n      <td>invite.please.over:DRS_Core.def.information_sc...</td>\n      <td>DRS:DRS_Core.def.information_schema.ALL_PLUGINS</td>\n      <td>36182d0eadd7d627494f1ff78ff43521</td>\n      <td>f1e3446c69e4d87279ff7863482f9dcb</td>\n      <td>deee9e216db10362f4be1282673d1803</td>\n      <td>4c01aeda9f8ba88a44c38523a672c61a</td>\n      <td>074eb805a0cc563adb283526278a5261</td>\n      <td>e46c5240b3a5c5d70e6e1f43458be68b</td>\n    </tr>\n    <tr>\n      <th>1</th>\n      <td>DRS_Core</td>\n      <td>def</td>\n      <td>information_schema</td>\n      <td>APPLICABLE_ROLES</td>\n      <td>SYSTEM VIEW</td>\n      <td>MEMORY</td>\n      <td>None</td>\n      <td>1565.0</td>\n      <td>0.0</td>\n      <td>0.0</td>\n      <td>...</td>\n      <td>DRS</td>\n      <td>DRS_Core.def.information_schema.APPLICABLE_ROLES</td>\n      <td>invite.please.over:DRS_Core.def.information_sc...</td>\n      <td>DRS:DRS_Core.def.information_schema.APPLICABLE...</td>\n      <td>36182d0eadd7d627494f1ff78ff43521</td>\n      <td>f1e3446c69e4d87279ff7863482f9dcb</td>\n      <td>59072c3ba12769ad99b420e536413002</td>\n      <td>6080a4224deea471ec55016cb92292a0</td>\n      <td>1e47197d056563a82f3b1bf6af3c3443</td>\n      <td>6cff78986275e1778b20383d3fdefc59</td>\n    </tr>\n    <tr>\n      <th>2</th>\n      <td>DRS_Core</td>\n      <td>def</td>\n      <td>information_schema</td>\n      <td>CHARACTER_SETS</td>\n      <td>SYSTEM VIEW</td>\n      <td>MEMORY</td>\n      <td>None</td>\n      <td>384.0</td>\n      <td>0.0</td>\n      <td>0.0</td>\n      <td>...</td>\n      <td>DRS</td>\n      <td>DRS_Core.def.information_schema.CHARACTER_SETS</td>\n      <td>invite.please.over:DRS_Core.def.information_sc...</td>\n      <td>DRS:DRS_Core.def.information_schema.CHARACTER_...</td>\n      <td>36182d0eadd7d627494f1ff78ff43521</td>\n      <td>f1e3446c69e4d87279ff7863482f9dcb</td>\n      <td>7b7e1ba8136047c698683f9380dc6d6f</td>\n      <td>99156bf27e3d421090996ae4f7504683</td>\n      <td>088525ed449682e43ef233854e978289</td>\n      <td>bff639ae594709959f318d2335403915</td>\n    </tr>\n    <tr>\n      <th>3</th>\n      <td>DRS_Core</td>\n      <td>def</td>\n      <td>information_schema</td>\n      <td>CHECK_CONSTRAINTS</td>\n      <td>SYSTEM VIEW</td>\n      <td>Aria</td>\n      <td>None</td>\n      <td>0.0</td>\n      <td>8192.0</td>\n      <td>8192.0</td>\n      <td>...</td>\n      <td>DRS</td>\n      <td>DRS_Core.def.information_schema.CHECK_CONSTRAINTS</td>\n      <td>invite.please.over:DRS_Core.def.information_sc...</td>\n      <td>DRS:DRS_Core.def.information_schema.CHECK_CONS...</td>\n      <td>36182d0eadd7d627494f1ff78ff43521</td>\n      <td>f1e3446c69e4d87279ff7863482f9dcb</td>\n      <td>3b74990f4dbec7c5d044e7bfc9c89652</td>\n      <td>426ed47f2b726ad5f6d4472b05ed0c4f</td>\n      <td>1bda964245879c019e5d40289b8cf9bd</td>\n      <td>9971ef76306b21298ad2bd0cac0c82df</td>\n    </tr>\n    <tr>\n      <th>4</th>\n      <td>DRS_Core</td>\n      <td>def</td>\n      <td>information_schema</td>\n      <td>COLLATIONS</td>\n      <td>SYSTEM VIEW</td>\n      <td>MEMORY</td>\n      <td>None</td>\n      <td>231.0</td>\n      <td>0.0</td>\n      <td>0.0</td>\n      <td>...</td>\n      <td>DRS</td>\n      <td>DRS_Core.def.information_schema.COLLATIONS</td>\n      <td>invite.please.over:DRS_Core.def.information_sc...</td>\n      <td>DRS:DRS_Core.def.information_schema.COLLATIONS</td>\n      <td>36182d0eadd7d627494f1ff78ff43521</td>\n      <td>f1e3446c69e4d87279ff7863482f9dcb</td>\n      <td>0aa78e120c62e8cba83f5e6b443bd1c1</td>\n      <td>e67de0b813151f54f6e65531e790f58c</td>\n      <td>e1135ff40ff401c43ccf1cd709164473</td>\n      <td>9576a077f3974743739c0836788d6062</td>\n    </tr>\n    <tr>\n      <th>...</th>\n      <td>...</td>\n      <td>...</td>\n      <td>...</td>\n      <td>...</td>\n      <td>...</td>\n      <td>...</td>\n      <td>...</td>\n      <td>...</td>\n      <td>...</td>\n      <td>...</td>\n      <td>...</td>\n      <td>...</td>\n      <td>...</td>\n      <td>...</td>\n      <td>...</td>\n      <td>...</td>\n      <td>...</td>\n      <td>...</td>\n      <td>...</td>\n      <td>...</td>\n      <td>...</td>\n    </tr>\n    <tr>\n      <th>820</th>\n      <td>DRS_Core</td>\n      <td>def</td>\n      <td>_portal</td>\n      <td>gateway_connection_log</td>\n      <td>BASE TABLE</td>\n      <td>InnoDB</td>\n      <td>1131.0</td>\n      <td>188.0</td>\n      <td>212992.0</td>\n      <td>0.0</td>\n      <td>...</td>\n      <td>DRS</td>\n      <td>DRS_Core.def._portal.gateway_connection_log</td>\n      <td>invite.please.over:DRS_Core.def._portal.gatewa...</td>\n      <td>DRS:DRS_Core.def._portal.gateway_connection_log</td>\n      <td>36182d0eadd7d627494f1ff78ff43521</td>\n      <td>f1e3446c69e4d87279ff7863482f9dcb</td>\n      <td>6908dee978a9df8cbf2a9eda4c3d5374</td>\n      <td>d272a204e489a7211c461b5fb71cbe42</td>\n      <td>f376c4c4e6d474a0a6c06a32d54c4299</td>\n      <td>7add81f7c356b8d6646738aa40c6e7c3</td>\n    </tr>\n    <tr>\n      <th>821</th>\n      <td>DRS_Core</td>\n      <td>def</td>\n      <td>_portal</td>\n      <td>gateway_properties</td>\n      <td>BASE TABLE</td>\n      <td>InnoDB</td>\n      <td>5.0</td>\n      <td>3276.0</td>\n      <td>16384.0</td>\n      <td>0.0</td>\n      <td>...</td>\n      <td>DRS</td>\n      <td>DRS_Core.def._portal.gateway_properties</td>\n      <td>invite.please.over:DRS_Core.def._portal.gatewa...</td>\n      <td>DRS:DRS_Core.def._portal.gateway_properties</td>\n      <td>36182d0eadd7d627494f1ff78ff43521</td>\n      <td>f1e3446c69e4d87279ff7863482f9dcb</td>\n      <td>2e9d1868a52257a454cb47f263ba04cc</td>\n      <td>e3fd10c6f0eea9dc780f74df40973911</td>\n      <td>98caa75e7bf74ba297f62f8dfd2756d3</td>\n      <td>70995f3c89e480be471bd07a6a110390</td>\n    </tr>\n    <tr>\n      <th>822</th>\n      <td>DRS_Core</td>\n      <td>def</td>\n      <td>_portal</td>\n      <td>gateway_server</td>\n      <td>BASE TABLE</td>\n      <td>InnoDB</td>\n      <td>0.0</td>\n      <td>0.0</td>\n      <td>16384.0</td>\n      <td>0.0</td>\n      <td>...</td>\n      <td>DRS</td>\n      <td>DRS_Core.def._portal.gateway_server</td>\n      <td>invite.please.over:DRS_Core.def._portal.gatewa...</td>\n      <td>DRS:DRS_Core.def._portal.gateway_server</td>\n      <td>36182d0eadd7d627494f1ff78ff43521</td>\n      <td>f1e3446c69e4d87279ff7863482f9dcb</td>\n      <td>de1140cd0828cbfd46d6c56e95b6c0a3</td>\n      <td>8fb85959bbc1bcc57f356538a4409599</td>\n      <td>02d22d56b72b6e94820578d85b8129d7</td>\n      <td>349ff7ae6abc067fd71c2668af97200a</td>\n    </tr>\n    <tr>\n      <th>823</th>\n      <td>DRS_Core</td>\n      <td>def</td>\n      <td>_portal</td>\n      <td>gateway_user</td>\n      <td>BASE TABLE</td>\n      <td>InnoDB</td>\n      <td>530.0</td>\n      <td>123.0</td>\n      <td>65536.0</td>\n      <td>0.0</td>\n      <td>...</td>\n      <td>DRS</td>\n      <td>DRS_Core.def._portal.gateway_user</td>\n      <td>invite.please.over:DRS_Core.def._portal.gatewa...</td>\n      <td>DRS:DRS_Core.def._portal.gateway_user</td>\n      <td>36182d0eadd7d627494f1ff78ff43521</td>\n      <td>f1e3446c69e4d87279ff7863482f9dcb</td>\n      <td>9564f1fcbaa4b6e6183596e07f44ddba</td>\n      <td>e811470376252b501b503cf1806ab602</td>\n      <td>f619c3d925ed5a499fbddb86c898f238</td>\n      <td>5d9cf6de588545cec86281a3938987c8</td>\n    </tr>\n    <tr>\n      <th>824</th>\n      <td>DRS_Core</td>\n      <td>def</td>\n      <td>_portal</td>\n      <td>opt_pool_check_portal</td>\n      <td>BASE TABLE</td>\n      <td>InnoDB</td>\n      <td>0.0</td>\n      <td>0.0</td>\n      <td>16384.0</td>\n      <td>0.0</td>\n      <td>...</td>\n      <td>DRS</td>\n      <td>DRS_Core.def._portal.opt_pool_check_portal</td>\n      <td>invite.please.over:DRS_Core.def._portal.opt_po...</td>\n      <td>DRS:DRS_Core.def._portal.opt_pool_check_portal</td>\n      <td>36182d0eadd7d627494f1ff78ff43521</td>\n      <td>f1e3446c69e4d87279ff7863482f9dcb</td>\n      <td>5df62d210221148fbba2987bc3be645c</td>\n      <td>565056ae95e3c36141667fdc81e1ef92</td>\n      <td>328765abb4c926f4dd7e73ce22382289</td>\n      <td>f36d1aa569cc242b0a747e69bdb8acdf</td>\n    </tr>\n  </tbody>\n</table>\n<p>825 rows × 28 columns</p>\n</div>"
                    },
                    "metadata": {},
                    "execution_count": 7,
                    "output_type": "execute_result"
                }
            ],
            "execution_count": 7
        },
        {
            "cell_type": "code",
            "source": [
                "# Clear down and Write to staging\r\n",
                "conn.execute(\"DELETE FROM stg_Py_MysqlCsvToPhysicalStructure\")\r\n",
                "conn.commit()\r\n",
                "df.to_sql('stg_Py_MysqlCsvToPhysicalStructure', conn, if_exists='append', index=False)"
            ],
            "metadata": {
                "language": "python",
                "azdata_cell_guid": "5c21a646-66ff-451f-87a9-e14d07267ad0"
            },
            "outputs": [
                {
                    "data": {
                        "text/plain": "825"
                    },
                    "metadata": {},
                    "execution_count": 9,
                    "output_type": "execute_result"
                }
            ],
            "execution_count": 9
        },
        {
            "cell_type": "code",
            "source": [
                "# Write to the Hub (PhysicalStructure)\r\n",
                "sql_query = \"\"\"\r\n",
                "INSERT INTO rv_h_PhysicalStructure\r\n",
                "(\r\n",
                "    PhysicalStructureHashKey\r\n",
                "  , LoadDate\r\n",
                "  , RecordSource\r\n",
                "  , PhysicalStructureKeyPhrase\r\n",
                ")\r\n",
                "SELECT DISTINCT\r\n",
                "    PhysicalStructureHashKey\r\n",
                "  , LoadDate\r\n",
                "  , RecordSource\r\n",
                "  , PhysicalStructureKeyPhrase\r\n",
                "FROM\r\n",
                "  stg_Py_MysqlCsvToPhysicalStructure\r\n",
                "WHERE\r\n",
                "  PhysicalStructureHashKey NOT IN (SELECT PhysicalStructureHashKey FROM rv_h_PhysicalStructure)\r\n",
                "\"\"\";\r\n",
                "conn.execute(sql_query)\r\n",
                "conn.commit()"
            ],
            "metadata": {
                "language": "python",
                "azdata_cell_guid": "6484429d-f75d-4ecd-9e04-ed3671a5be84"
            },
            "outputs": [],
            "execution_count": 10
        },
        {
            "cell_type": "code",
            "source": [
                "# Write to the Satellite (PhysicalStructure_Mysql)\r\n",
                "sql_query = \"\"\"\r\n",
                "INSERT INTO rv_s_PhysicalStructure_Mysql\r\n",
                "(\r\n",
                "    PhysicalStructureHashKey\r\n",
                "  , LoadDate\r\n",
                "  , RecordSource\r\n",
                "  , HashDiff\r\n",
                "\r\n",
                "  , SERVER_NAME\r\n",
                "  , \"DATABASE_NAME\"\r\n",
                "  , SCHEMA_NAME\r\n",
                "  , TABLE_NAME\r\n",
                "\r\n",
                "  , TABLE_TYPE\r\n",
                "  , ENGINE\r\n",
                "  , ROW_COUNT\r\n",
                "  , AVG_ROW_LENGTH\r\n",
                "  , DATA_LENGTH\r\n",
                "  , INDEX_LENGTH\r\n",
                "  , AUTO_INCREMENT\r\n",
                "  , UPDATE_TIME\r\n",
                "  , COLUMN_COUNT\r\n",
                "  , TABLE_COLLATION\r\n",
                "  , TABLE_COMMENT\r\n",
                "\r\n",
                ")\r\n",
                "SELECT DISTINCT\r\n",
                "    stg.PhysicalStructureHashKey\r\n",
                "  , stg.LoadDate\r\n",
                "  , stg.RecordSource\r\n",
                "  , stg.HashDiff\r\n",
                "  \r\n",
                "  , stg.SERVER_NAME\r\n",
                "  , stg.\"DATABASE_NAME\"\r\n",
                "  , stg.SCHEMA_NAME\r\n",
                "  , stg.TABLE_NAME\r\n",
                "\r\n",
                "  , stg.TABLE_TYPE\r\n",
                "  , stg.ENGINE\r\n",
                "  , stg.ROW_COUNT\r\n",
                "  , stg.AVG_ROW_LENGTH\r\n",
                "  , stg.DATA_LENGTH\r\n",
                "  , stg.INDEX_LENGTH\r\n",
                "  , stg.AUTO_INCREMENT\r\n",
                "  , stg.UPDATE_TIME\r\n",
                "  , stg.COLUMN_COUNT\r\n",
                "  , stg.TABLE_COLLATION\r\n",
                "  , stg.TABLE_COMMENT\r\n",
                "\r\n",
                "FROM\r\n",
                "  stg_Py_MysqlCsvToPhysicalStructure AS stg\r\n",
                "  LEFT OUTER JOIN rv_s_PhysicalStructure_Mysql AS sat ON (\r\n",
                "    stg.PhysicalStructureHashKey = sat.PhysicalStructureHashKey\r\n",
                "    AND sat.LoadDate = (\r\n",
                "      SELECT MAX(z.LoadDate)\r\n",
                "      FROM rv_s_PhysicalStructure_Mysql AS z\r\n",
                "      WHERE z.PhysicalStructureHashKey = sat.PhysicalStructureHashKey\r\n",
                "    )\r\n",
                "  )\r\n",
                "WHERE\r\n",
                "  (\r\n",
                "    sat.HashDiff != stg.HashDiff\r\n",
                "    OR sat.HashDiff IS NULL\r\n",
                "  )\r\n",
                "\"\"\";\r\n",
                "conn.execute(sql_query)\r\n",
                "conn.commit()"
            ],
            "metadata": {
                "language": "python",
                "azdata_cell_guid": "1925ee9b-a3b2-4c3f-81f8-35227daa7822"
            },
            "outputs": [],
            "execution_count": 11
        },
        {
            "cell_type": "code",
            "source": [
                "# Write to the Link (Model - PhysicalStructure)\r\n",
                "sql_query = \"\"\"\r\n",
                "INSERT INTO rv_l_ModelPhysicalStructure\r\n",
                "(\r\n",
                "  ModelPhysicalStructureHashKey\r\n",
                "  , LoadDate\r\n",
                "  , RecordSource\r\n",
                "  , ModelHashKey\r\n",
                "  , PhysicalStructureHashKey\r\n",
                ")\r\n",
                "SELECT\r\n",
                "  stg.ModelPhysicalStructureHashKey\r\n",
                "  , stg.LoadDate\r\n",
                "  , stg.RecordSource\r\n",
                "  , stg.ModelHashKey\r\n",
                "  , stg.PhysicalStructureHashKey\r\n",
                "FROM\r\n",
                "  stg_Py_MysqlCsvToPhysicalStructure stg\r\n",
                "WHERE\r\n",
                "  stg.ModelPhysicalStructureHashKey IS NOT NULL\r\n",
                "  AND ModelPhysicalStructureHashKey NOT IN (\r\n",
                "    SELECT ModelPhysicalStructureHashKey\r\n",
                "    FROM rv_l_ModelPhysicalStructure\r\n",
                "  )\r\n",
                "\"\"\";\r\n",
                "conn.execute(sql_query)\r\n",
                "conn.commit()"
            ],
            "metadata": {
                "language": "python",
                "azdata_cell_guid": "09a3c9c6-61e3-4192-85d5-0dbdac6ea257"
            },
            "outputs": [],
            "execution_count": 12
        },
        {
            "cell_type": "code",
            "source": [
                "# Write to the Link (System - PhysicalStructure)\r\n",
                "sql_query = \"\"\"\r\n",
                "INSERT INTO rv_l_SystemPhysicalStructure\r\n",
                "(\r\n",
                "  SystemPhysicalStructureHashKey\r\n",
                "  , LoadDate\r\n",
                "  , RecordSource\r\n",
                "  , SystemHashKey\r\n",
                "  , PhysicalStructureHashKey\r\n",
                ")\r\n",
                "SELECT\r\n",
                "  stg.SystemPhysicalStructureHashKey\r\n",
                "  , stg.LoadDate\r\n",
                "  , stg.RecordSource\r\n",
                "  , stg.SystemHashKey\r\n",
                "  , stg.PhysicalStructureHashKey\r\n",
                "FROM\r\n",
                "  stg_Py_MysqlCsvToPhysicalStructure stg\r\n",
                "WHERE\r\n",
                "  stg.SystemPhysicalStructureHashKey IS NOT NULL\r\n",
                "  AND SystemPhysicalStructureHashKey NOT IN (\r\n",
                "    SELECT SystemPhysicalStructureHashKey\r\n",
                "    FROM rv_l_SystemPhysicalStructure\r\n",
                "  )\r\n",
                "\"\"\";\r\n",
                "conn.execute(sql_query)\r\n",
                "conn.commit()"
            ],
            "metadata": {
                "language": "python",
                "azdata_cell_guid": "e1285e89-1e4f-45ba-a4ab-a7ce9ebeb560"
            },
            "outputs": [],
            "execution_count": 13
        }
    ]
}