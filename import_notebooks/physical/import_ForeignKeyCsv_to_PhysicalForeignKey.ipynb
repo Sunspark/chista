{
    "metadata": {
        "kernelspec": {
            "name": "python3",
            "display_name": "Python 3",
            "language": "python"
        },
        "language_info": {
            "name": "python",
            "version": "3.8.10",
            "mimetype": "text/x-python",
            "codemirror_mode": {
                "name": "ipython",
                "version": 3
            },
            "pygments_lexer": "ipython3",
            "nbconvert_exporter": "python",
            "file_extension": ".py"
        }
    },
    "nbformat_minor": 2,
    "nbformat": 4,
    "cells": [
        {
            "cell_type": "markdown",
            "source": [
                "<span style=\"color: #608b4e;\">-- A Physical Foreign Key is a relation between two Physical Attributes</span>\n",
                "\n",
                "<span style=\"color: #608b4e;\">-- Sometimes multiple Physical Attributes relate to multiple Physical Attributes, in which case Order matters</span>\n",
                "\n",
                "<span style=\"color: #608b4e;\">-- A key always has a name</span>\n",
                "\n",
                "<span style=\"color: #608b4e;\">-- A key may be present in the database and ENFORCED</span>\n",
                "\n",
                "<span style=\"color: #608b4e;\">-- A key may be present in the database and NOTENFORCED</span>\n",
                "\n",
                "<span style=\"color: #608b4e;\">-- A key may NOT be present in the database and hence is purely LOGICAL<br><br>------------------------</span>\n",
                "\n",
                "<span style=\"color: #608b4e;\">In a 1-M relation, A 'parent' table is the table that has the ID and information about the ID eg 'CustomerID' . A 'child' table is the table that refers to the parent by key, eg 'RelatedCustomerID'.</span>\n",
                "\n",
                "<span style=\"color: #608b4e;\"><br></span>"
            ],
            "metadata": {
                "language": "python",
                "azdata_cell_guid": "586e023e-1784-411a-be41-be19a7d824a9"
            },
            "attachments": {}
        },
        {
            "cell_type": "code",
            "source": [
                "import sqlite3\r\n",
                "import pandas as pd\r\n",
                "import numpy as np\r\n",
                "from datetime import datetime\r\n",
                "import os\r\n",
                "import sys\r\n",
                "sys.path.append('../../')\r\n",
                "from user_packages import hashing"
            ],
            "metadata": {
                "azdata_cell_guid": "f261ca8a-c2c4-4bd3-a06e-4b33930e23d0",
                "language": "python"
            },
            "outputs": [],
            "execution_count": 1
        },
        {
            "cell_type": "code",
            "source": [
                "# set variables\r\n",
                "source_file_name = 'foreign_key_import.csv'\r\n",
                "source_file_path = '../../imports/physical/sqlserver' # the file format is the same for dataverse and sqlserver\r\n",
                "\r\n",
                "record_source = 'ForeignKeyCsv'"
            ],
            "metadata": {
                "language": "python",
                "azdata_cell_guid": "1980ed24-d051-4095-882e-3c097a54adbc"
            },
            "outputs": [],
            "execution_count": null
        },
        {
            "cell_type": "code",
            "source": [
                "# db connect\r\n",
                "conn = sqlite3.connect('../../full_metadata.db')"
            ],
            "metadata": {
                "language": "python",
                "azdata_cell_guid": "1d5c5ef5-0f48-44e2-ba10-e086e41cc537"
            },
            "outputs": [],
            "execution_count": 3
        },
        {
            "cell_type": "code",
            "source": [
                "# read csv to df\r\n",
                "\r\n",
                "df = pd.read_csv(os.path.join(source_file_path, source_file_name))\r\n",
                "df = df.replace({np.nan: None})\r\n",
                "\r\n",
                "#df"
            ],
            "metadata": {
                "language": "python",
                "azdata_cell_guid": "4d3057a7-bb66-4b22-af3e-a7d5c08e44f1"
            },
            "outputs": [],
            "execution_count": 17
        },
        {
            "cell_type": "code",
            "source": [
                "# add extra columns\r\n",
                "\r\n",
                "# columns with variable data\r\n",
                "df['RecordSource'] = record_source\r\n",
                "df['LoadDate'] = datetime.now()\r\n",
                "\r\n",
                "\r\n",
                "# derive keyphrase columns\r\n",
                "df['PhysicalAttribute_childKeyPhrase'] = df.apply(\r\n",
                "  lambda row: \r\n",
                "    row['SERVER_NAME_CHILD']\r\n",
                "    + '.' + row['DATABASE_NAME_CHILD']\r\n",
                "    + '.' + row['SCHEMA_NAME_CHILD']\r\n",
                "    + '.' + row['TABLE_NAME_CHILD']\r\n",
                "    + '.' + row['COLUMN_NAME_CHILD']\r\n",
                "  , axis=1\r\n",
                ")\r\n",
                "df['PhysicalAttribute_parentKeyPhrase'] = df.apply(\r\n",
                "  lambda row: \r\n",
                "    row['SERVER_NAME_PARENT']\r\n",
                "    + '.' + row['DATABASE_NAME_PARENT']\r\n",
                "    + '.' + row['SCHEMA_NAME_PARENT']\r\n",
                "    + '.' + row['TABLE_NAME_PARENT']\r\n",
                "    + '.' + row['COLUMN_NAME_PARENT']\r\n",
                "  , axis=1\r\n",
                ")\r\n",
                "\r\n",
                "\r\n",
                "# hash the keyphrases\r\n",
                "df = hashing.add_md5_hash_column(\r\n",
                "  df\r\n",
                "  , md5_column_name = 'PhysicalAttribute_childHashKey'\r\n",
                "  , columns = ['PhysicalAttribute_childKeyPhrase']\r\n",
                ")\r\n",
                "df = hashing.add_md5_hash_column(\r\n",
                "  df\r\n",
                "  , md5_column_name = 'PhysicalAttribute_parentHashKey'\r\n",
                "  , columns = ['PhysicalAttribute_parentKeyPhrase']\r\n",
                ")\r\n",
                "df = hashing.add_md5_hash_column(\r\n",
                "  df\r\n",
                "  , md5_column_name = 'PhysicalForeignKeyHashKey'\r\n",
                "  , columns = ['CONSTRAINT_NAME']\r\n",
                ")\r\n",
                "df = hashing.add_md5_hash_column(\r\n",
                "  df\r\n",
                "  , md5_column_name = 'PhysicalForeignKeyPhysicalAttributePhysicalAttributeHashKey'\r\n",
                "  , columns = [\r\n",
                "    'CONSTRAINT_NAME'\r\n",
                "    , 'PhysicalAttribute_childKeyPhrase'\r\n",
                "    , 'PhysicalAttribute_parentKeyPhrase'\r\n",
                "    , 'ORDINAL_POSITION'\r\n",
                "  ]\r\n",
                ")\r\n",
                "\r\n",
                "\r\n",
                "# hash the payload\r\n",
                "# As this is essentially an effectivity satellite, the only field that gets hashed is the enforcement.\r\n",
                "# Start/end dates are dealt with in the queries.\r\n",
                "df = hashing.add_md5_hash_column(\r\n",
                "  df\r\n",
                "  , md5_column_name = 'HashDiff'\r\n",
                "  , columns = [\r\n",
                "      'CONSTRAINT_ENFORCEMENT'\r\n",
                "  ]\r\n",
                ")\r\n",
                "\r\n",
                "#df"
            ],
            "metadata": {
                "language": "python",
                "azdata_cell_guid": "49d534ca-9ddd-46d2-998a-f34716936447"
            },
            "outputs": [],
            "execution_count": 16
        },
        {
            "cell_type": "code",
            "source": [
                "# Clear down and Write to staging\r\n",
                "conn.execute(\"DELETE FROM stg_Py_ForeignKeyCsvToPhysicalForeignKey\")\r\n",
                "conn.commit()\r\n",
                "df.to_sql('stg_Py_ForeignKeyCsvToPhysicalForeignKey', conn, if_exists='append', index=False)"
            ],
            "metadata": {
                "azdata_cell_guid": "605cdd17-1010-44e0-99bb-7b34a5406217",
                "language": "python"
            },
            "outputs": [
                {
                    "output_type": "execute_result",
                    "execution_count": 10,
                    "data": {
                        "text/plain": "6"
                    },
                    "metadata": {}
                }
            ],
            "execution_count": 10
        },
        {
            "cell_type": "code",
            "source": [
                "# Write to the Hub\r\n",
                "sql_query = \"\"\"\r\n",
                "INSERT INTO rv_h_PhysicalForeignKey\r\n",
                "(\r\n",
                "    PhysicalForeignKeyHashKey\r\n",
                "  , LoadDate\r\n",
                "  , RecordSource\r\n",
                "  , PhysicalForeignKeyName\r\n",
                ")\r\n",
                "SELECT DISTINCT\r\n",
                "    PhysicalForeignKeyHashKey\r\n",
                "  , LoadDate\r\n",
                "  , RecordSource\r\n",
                "  , CONSTRAINT_NAME\r\n",
                "FROM\r\n",
                "  stg_Py_ForeignKeyCsvToPhysicalForeignKey\r\n",
                "WHERE\r\n",
                "  PhysicalForeignKeyHashKey NOT IN (SELECT PhysicalForeignKeyHashKey FROM rv_h_PhysicalForeignKey)\r\n",
                "\"\"\";\r\n",
                "conn.execute(sql_query)\r\n",
                "conn.commit()"
            ],
            "metadata": {
                "language": "python",
                "azdata_cell_guid": "3a548b30-511d-442b-8f97-d50ea8578299"
            },
            "outputs": [],
            "execution_count": 11
        },
        {
            "cell_type": "code",
            "source": [
                "# Write to the Satellite \r\n",
                "# This only starts a new effectivity row, does not end\r\n",
                "sql_query = \"\"\"\r\n",
                "INSERT INTO rv_s_PhysicalForeignKey\r\n",
                "(\r\n",
                "    PhysicalForeignKeyHashKey\r\n",
                "  , LoadDate\r\n",
                "  , RecordSource\r\n",
                "  , HashDiff\r\n",
                "\r\n",
                "  , Enforcement\r\n",
                "  , EffectiveStart\r\n",
                "\r\n",
                ")\r\n",
                "SELECT DISTINCT\r\n",
                "    stg.PhysicalForeignKeyHashKey\r\n",
                "  , stg.LoadDate\r\n",
                "  , stg.RecordSource\r\n",
                "  , stg.HashDiff\r\n",
                "  \r\n",
                "  , stg.CONSTRAINT_ENFORCEMENT\r\n",
                "  , datetime()\r\n",
                "\r\n",
                "FROM\r\n",
                "  stg_Py_ForeignKeyCsvToPhysicalForeignKey AS stg\r\n",
                "  LEFT OUTER JOIN rv_s_PhysicalForeignKey AS sat ON (\r\n",
                "    stg.PhysicalForeignKeyHashKey = sat.PhysicalForeignKeyHashKey\r\n",
                "    AND sat.LoadDate = (\r\n",
                "      SELECT MAX(z.LoadDate)\r\n",
                "      FROM rv_s_PhysicalForeignKey AS z\r\n",
                "      WHERE z.PhysicalForeignKeyHashKey = sat.PhysicalForeignKeyHashKey\r\n",
                "    )\r\n",
                "  )\r\n",
                "WHERE\r\n",
                "  (\r\n",
                "    sat.HashDiff != stg.HashDiff\r\n",
                "    OR sat.HashDiff IS NULL\r\n",
                "  )\r\n",
                "\"\"\";\r\n",
                "conn.execute(sql_query)\r\n",
                "conn.commit()"
            ],
            "metadata": {
                "language": "python",
                "azdata_cell_guid": "c87179f5-0e1b-4e35-9d71-bdc470f7443a"
            },
            "outputs": [],
            "execution_count": 13
        },
        {
            "cell_type": "code",
            "source": [
                "# Write to the Link\r\n",
                "sql_query = \"\"\"\r\n",
                "INSERT INTO rv_l_PhysicalForeignKeyPhysicalAttributePhysicalAttribute\r\n",
                "(\r\n",
                "  PhysicalForeignKeyPhysicalAttributePhysicalAttributeHashKey\r\n",
                "  , LoadDate\r\n",
                "  , RecordSource\r\n",
                "  , PhysicalForeignKeyHashKey\r\n",
                "  , PhysicalAttribute_childHashKey\r\n",
                "  , PhysicalAttribute_parentHashKey\r\n",
                "  , OrdinalPosition \r\n",
                ")\r\n",
                "SELECT\r\n",
                "  stg.PhysicalForeignKeyPhysicalAttributePhysicalAttributeHashKey\r\n",
                "  , stg.LoadDate\r\n",
                "  , stg.RecordSource\r\n",
                "  , stg.PhysicalForeignKeyHashKey\r\n",
                "  , stg.PhysicalAttribute_childHashKey\r\n",
                "  , stg.PhysicalAttribute_parentHashKey\r\n",
                "  , stg.ORDINAL_POSITION \r\n",
                "FROM\r\n",
                "  stg_Py_ForeignKeyCsvToPhysicalForeignKey stg\r\n",
                "WHERE\r\n",
                "  stg.PhysicalForeignKeyPhysicalAttributePhysicalAttributeHashKey IS NOT NULL\r\n",
                "  AND PhysicalForeignKeyPhysicalAttributePhysicalAttributeHashKey NOT IN (\r\n",
                "    SELECT PhysicalForeignKeyPhysicalAttributePhysicalAttributeHashKey\r\n",
                "    FROM rv_l_PhysicalForeignKeyPhysicalAttributePhysicalAttribute\r\n",
                "  )\r\n",
                "\"\"\";\r\n",
                "conn.execute(sql_query)\r\n",
                "conn.commit()"
            ],
            "metadata": {
                "azdata_cell_guid": "551f0040-535f-469e-9f7e-9e9185dfbebd",
                "language": "python"
            },
            "outputs": [],
            "execution_count": 15
        }
    ]
}