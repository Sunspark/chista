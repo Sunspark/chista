{
    "metadata": {
        "kernelspec": {
            "name": "python3",
            "display_name": "Python 3",
            "language": "python"
        },
        "language_info": {
            "name": "python",
            "version": "3.8.10",
            "mimetype": "text/x-python",
            "codemirror_mode": {
                "name": "ipython",
                "version": 3
            },
            "pygments_lexer": "ipython3",
            "nbconvert_exporter": "python",
            "file_extension": ".py"
        }
    },
    "nbformat_minor": 2,
    "nbformat": 4,
    "cells": [
        {
            "cell_type": "markdown",
            "source": [
                "This script takes a csv from a completed Dataverse Analysis sheet (of Dataverse entities, derived from out\\_DataversePhysicalStructureOutputForAnalysis), and imports to the Physical Structure tables.\n",
                "\n",
                "Note: The script will use the Hash/ KeyPhrase that are in the analysis sheet, not generate new ones.\n",
                "\n",
                "Note: The script will split tags on semi-colon. It will not END a tag on a table, only add new ones."
            ],
            "metadata": {
                "language": "python",
                "azdata_cell_guid": "794e785f-21b6-4b6e-80d2-ab29c862d846"
            },
            "attachments": {}
        },
        {
            "cell_type": "code",
            "source": [
                "import sqlite3\r\n",
                "import pandas as pd\r\n",
                "import numpy as np\r\n",
                "from datetime import datetime\r\n",
                "import sys\r\n",
                "sys.path.append('../')\r\n",
                "from user_packages import hashing\r\n",
                ""
            ],
            "metadata": {
                "azdata_cell_guid": "672badc8-e7ca-40ae-9757-d4230664d7e9",
                "language": "python"
            },
            "outputs": [],
            "execution_count": 1
        },
        {
            "cell_type": "code",
            "source": [
                "# set variables\r\n",
                "target_model_name = 'net.always.green' # from bv_model\r\n",
                "source_file_name = 'ipc_entities_analysis_import.csv'\r\n",
                "source_file_path = ''\r\n",
                "\r\n",
                "record_source = 'DataverseAnalysis'\r\n",
                ""
            ],
            "metadata": {
                "language": "python",
                "azdata_cell_guid": "9dbe51f1-04dd-483a-a0ec-faf94cd1d451"
            },
            "outputs": [],
            "execution_count": 2
        },
        {
            "cell_type": "code",
            "source": [
                "# db connect\r\n",
                "conn = sqlite3.connect('../full_metadata.db')"
            ],
            "metadata": {
                "language": "python",
                "azdata_cell_guid": "f4e02745-61a5-4239-80b6-630d64c4469f"
            },
            "outputs": [],
            "execution_count": 3
        },
        {
            "cell_type": "code",
            "source": [
                "# read table to df\r\n",
                "df = pd.read_csv(source_file_name)\r\n",
                "df = df.replace({np.nan: None})\r\n",
                "\r\n",
                "\r\n",
                "#df"
            ],
            "metadata": {
                "language": "python",
                "azdata_cell_guid": "10837988-346a-44d7-8372-86644939c22c"
            },
            "outputs": [],
            "execution_count": 4
        },
        {
            "cell_type": "code",
            "source": [
                "# add extra columns\r\n",
                "\r\n",
                "# columns with variable data\r\n",
                "df['RecordSource'] = record_source\r\n",
                "df['LoadDate'] = datetime.now()\r\n",
                "\r\n",
                "#Tags\r\n",
                "\r\n",
                "# hash the payload\r\n",
                "# this does not include the entity usage columns, as they shouldn't have changed in analysis\r\n",
                "# this does not include the Tags, as they are handled separately\r\n",
                "df = hashing.add_md5_hash_column(\r\n",
                "  df\r\n",
                "  , md5_column_name = 'HashDiff'\r\n",
                "  , columns = [\r\n",
                "      'SERVER_NAME'\r\n",
                "    , 'Logical Name'\r\n",
                "    , 'Schema Name'\r\n",
                "    , 'Entity'\r\n",
                "    , 'Plural Display Name'\r\n",
                "    , 'Object Type Code'\r\n",
                "    , 'Is Custom Entity'\r\n",
                "    , 'Ownership Type'\r\n",
                "    , 'Description'\r\n",
                "  ]\r\n",
                ")\r\n",
                "\r\n",
                "#df"
            ],
            "metadata": {
                "language": "python",
                "azdata_cell_guid": "c9376850-4b05-4849-b7e4-0c639c6dd938"
            },
            "outputs": [],
            "execution_count": 5
        },
        {
            "cell_type": "code",
            "source": [
                "# Clear down and Write to staging\r\n",
                "conn.execute(\"DELETE FROM stg_Py_DataverseAnalysisCsvToPhysicalStructure\")\r\n",
                "conn.commit()\r\n",
                "df.to_sql('stg_Py_DataverseAnalysisCsvToPhysicalStructure', conn, if_exists='append', index=False)"
            ],
            "metadata": {
                "language": "python",
                "azdata_cell_guid": "5c21a646-66ff-451f-87a9-e14d07267ad0"
            },
            "outputs": [
                {
                    "data": {
                        "text/plain": "46"
                    },
                    "metadata": {},
                    "execution_count": 7,
                    "output_type": "execute_result"
                }
            ],
            "execution_count": 7
        },
        {
            "cell_type": "code",
            "source": [
                "# Write to the Satellite (PhysicalStructure_XRMMetadata)\r\n",
                "sql_query = \"\"\"\r\n",
                "INSERT INTO rv_s_PhysicalStructure_XRMMetadata\r\n",
                "(\r\n",
                "    PhysicalStructureHashKey\r\n",
                "  , LoadDate\r\n",
                "  , RecordSource\r\n",
                "  , HashDiff\r\n",
                "\r\n",
                "  , \"Entity\"\r\n",
                "  , \"Plural Display Name\"\r\n",
                "  , \"Description\"\r\n",
                "  , \"Schema Name\"\r\n",
                "  , \"Logical Name\"\r\n",
                "  , \"Object Type Code\"\r\n",
                "  , \"Is Custom Entity\"\r\n",
                "  , \"Ownership Type\"\r\n",
                "  , \"SERVER_NAME\"\r\n",
                "\r\n",
                ")\r\n",
                "SELECT DISTINCT\r\n",
                "    stg.PhysicalStructureHashKey\r\n",
                "  , stg.LoadDate\r\n",
                "  , stg.RecordSource\r\n",
                "  , stg.HashDiff\r\n",
                "  \r\n",
                "  , stg.\"Entity\"\r\n",
                "  , stg.\"Plural Display Name\"\r\n",
                "  , stg.\"Description\"\r\n",
                "  , stg.\"Schema Name\"\r\n",
                "  , stg.\"Logical Name\"\r\n",
                "  , stg.\"Object Type Code\"\r\n",
                "  , stg.\"Is Custom Entity\"\r\n",
                "  , stg.\"Ownership Type\"\r\n",
                "  , stg.\"SERVER_NAME\"\r\n",
                "\r\n",
                "FROM\r\n",
                "  stg_Py_DataverseAnalysisCsvToPhysicalStructure AS stg\r\n",
                "  LEFT OUTER JOIN rv_s_PhysicalStructure_XRMMetadata AS sat ON (\r\n",
                "    stg.PhysicalStructureHashKey = sat.PhysicalStructureHashKey\r\n",
                "    AND sat.LoadDate = (\r\n",
                "      SELECT MAX(z.LoadDate)\r\n",
                "      FROM rv_s_PhysicalStructure_XRMMetadata AS z\r\n",
                "      WHERE z.PhysicalStructureHashKey = sat.PhysicalStructureHashKey\r\n",
                "    )\r\n",
                "  )\r\n",
                "WHERE\r\n",
                "  (\r\n",
                "    sat.HashDiff != stg.HashDiff\r\n",
                "    OR sat.HashDiff IS NULL\r\n",
                "  )\r\n",
                "\"\"\";\r\n",
                "conn.execute(sql_query)\r\n",
                "conn.commit()"
            ],
            "metadata": {
                "language": "python",
                "azdata_cell_guid": "1925ee9b-a3b2-4c3f-81f8-35227daa7822"
            },
            "outputs": [],
            "execution_count": 8
        },
        {
            "cell_type": "code",
            "source": [
                "# Get the incoming tags from the staging table,\r\n",
                "# split them into a list of tags\r\n",
                "# insert tags, taking out the ones that are currently active.\r\n",
                "# NOTE: This does not END any tags.\r\n",
                "sql_query = \"\"\"\r\n",
                "WITH RECURSIVE\r\n",
                "source_table AS (\r\n",
                "\tSELECT \r\n",
                "\t  PhysicalStructureHashKey AS id\r\n",
                "\t  , Tags as string\r\n",
                "\tFROM stg_Py_DataverseAnalysisCsvToPhysicalStructure\r\n",
                ")\r\n",
                ", splitstring (id, string, remaining_string) AS (\r\n",
                "  SELECT\r\n",
                "\t\tid\r\n",
                "    , CASE\r\n",
                "      WHEN a.string LIKE '%;%'\r\n",
                "      THEN SUBSTRING(a.string, 1, INSTR(a.string, ';')-1)\r\n",
                "      ELSE a.string\r\n",
                "    END AS string\r\n",
                "    , SUBSTRING(SUBSTRING(a.string, INSTR(a.string, ';') + 1), 1) AS remaining_string\r\n",
                "  FROM source_table AS a\r\n",
                "UNION ALL\r\n",
                "  SELECT \r\n",
                "\t\tid\r\n",
                "    , CASE \r\n",
                "      WHEN c.remaining_string LIKE '%;%' \r\n",
                "      THEN SUBSTRING(c.remaining_string, 1, INSTR(c.remaining_string, ';')-1) \r\n",
                "      ELSE c.remaining_string\r\n",
                "    END AS string\r\n",
                "    , CASE\r\n",
                "      WHEN c.remaining_string LIKE '%;%' \r\n",
                "      THEN SUBSTRING( SUBSTRING(c.remaining_string, INSTR(c.remaining_string, ';')+1), 1)\r\n",
                "    END AS remaining_string\r\n",
                "  FROM splitstring c\r\n",
                "  WHERE\r\n",
                "    c.string <> ''\r\n",
                "    AND c.string IS NOT NULL\r\n",
                ")\r\n",
                ", incoming_tags AS (\r\n",
                "  SELECT\r\n",
                "    s.id AS PhysicalStructureHashKey\r\n",
                "\t\t, stg.LoadDate \r\n",
                "\t\t, stg.RecordSource\r\n",
                "\t\t\r\n",
                "    , s.string AS Tag\r\n",
                "    , stg.LoadDate AS StartDate\r\n",
                "  --   , ROW_NUMBER() OVER (\r\n",
                "  -- \t\tPARTITION BY s.id\r\n",
                "  -- \t\tORDER BY s.string DESC\r\n",
                "  -- \t) AS ROW_id\r\n",
                "  FROM\r\n",
                "    splitstring s\r\n",
                "    LEFT JOIN stg_Py_DataverseAnalysisCsvToPhysicalStructure stg ON (s.id = stg.PhysicalStructureHashKey)\r\n",
                "  WHERE\r\n",
                "    s.string <> ''\r\n",
                "    AND s.string IS NOT NULL\r\n",
                ")\r\n",
                ", current_tags AS ( -- gets the active tags that are on the Structures in the stg table\r\n",
                "  SELECT\r\n",
                "      sat.PhysicalStructureHashKey\r\n",
                "    , sat.Tag\r\n",
                "    --, sat.StartDate\r\n",
                "    --, sat.EndDate\r\n",
                "  FROM\r\n",
                "    rv_s_PhysicalStructure_AnalysisTag sat\r\n",
                "    INNER JOIN stg_Py_DataverseAnalysisCsvToPhysicalStructure stg ON (\r\n",
                "      sat.PhysicalStructureHashKey = stg.PhysicalStructureHashKey\r\n",
                "      AND sat.LoadDate = (\r\n",
                "        SELECT MAX(z.LoadDate)\r\n",
                "        FROM rv_s_PhysicalStructure_AnalysisTag AS z\r\n",
                "        WHERE z.PhysicalStructureHashKey = sat.PhysicalStructureHashKey\r\n",
                "      )\r\n",
                "    )\r\n",
                "  WHERE\r\n",
                "    sat.EndDate IS NULL\r\n",
                ")\r\n",
                "INSERT INTO rv_s_PhysicalStructure_AnalysisTag\r\n",
                "(\r\n",
                "    PhysicalStructureHashKey\r\n",
                "  , LoadDate\r\n",
                "  , RecordSource\r\n",
                "\r\n",
                "  , Tag\r\n",
                "  , StartDate\r\n",
                ")\r\n",
                "SELECT DISTINCT\r\n",
                "    stg.PhysicalStructureHashKey\r\n",
                "  , stg.LoadDate\r\n",
                "  , stg.RecordSource\r\n",
                "  \r\n",
                "  , stg.Tag\r\n",
                "  , stg.LoadDate AS StartDate\r\n",
                "FROM\r\n",
                "  incoming_tags AS stg\r\n",
                "  LEFT OUTER JOIN current_tags AS sat ON (\r\n",
                "    stg.PhysicalStructureHashKey = sat.PhysicalStructureHashKey\r\n",
                "\t\tAND stg.Tag = sat.Tag\r\n",
                "  )\r\n",
                "-- \"Where in incoming_tags and not in current_tags\"\t\r\n",
                "WHERE\r\n",
                "\tsat.PhysicalStructureHashKey IS NULL\r\n",
                "\tAND sat.Tag IS NULL\r\n",
                "\"\"\";\r\n",
                "conn.execute(sql_query)\r\n",
                "conn.commit()"
            ],
            "metadata": {
                "language": "python",
                "azdata_cell_guid": "912e4219-4595-4eb3-8e9b-03f42b6cd7ca"
            },
            "outputs": [],
            "execution_count": null
        }
    ]
}