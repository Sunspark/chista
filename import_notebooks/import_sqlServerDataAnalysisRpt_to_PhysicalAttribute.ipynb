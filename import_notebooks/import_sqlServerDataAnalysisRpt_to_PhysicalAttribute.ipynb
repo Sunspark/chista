{
    "metadata": {
        "kernelspec": {
            "name": "python3",
            "display_name": "Python 3",
            "language": "python"
        },
        "language_info": {
            "name": "python",
            "version": "3.8.10",
            "mimetype": "text/x-python",
            "codemirror_mode": {
                "name": "ipython",
                "version": 3
            },
            "pygments_lexer": "ipython3",
            "nbconvert_exporter": "python",
            "file_extension": ".py"
        }
    },
    "nbformat_minor": 2,
    "nbformat": 4,
    "cells": [
        {
            "cell_type": "code",
            "source": [
                "import sqlite3\r\n",
                "import pandas as pd\r\n",
                "import numpy as np\r\n",
                "from datetime import datetime\r\n",
                "import os\r\n",
                "import sys\r\n",
                "sys.path.append('../')\r\n",
                "from user_packages import hashing\r\n",
                ""
            ],
            "metadata": {
                "azdata_cell_guid": "672badc8-e7ca-40ae-9757-d4230664d7e9",
                "language": "python"
            },
            "outputs": [],
            "execution_count": 1
        },
        {
            "cell_type": "code",
            "source": [
                "# set variables\r\n",
                "\r\n",
                "source_file_name = 'Pro2_IH_column_analysis.rpt'\r\n",
                "source_file_path = ''\r\n",
                "\r\n",
                "record_source = 'SQLServerAnalysis'\r\n",
                ""
            ],
            "metadata": {
                "language": "python",
                "azdata_cell_guid": "9dbe51f1-04dd-483a-a0ec-faf94cd1d451"
            },
            "outputs": [],
            "execution_count": 2
        },
        {
            "cell_type": "code",
            "source": [
                "# db connect\r\n",
                "conn = sqlite3.connect('../full_metadata.db')"
            ],
            "metadata": {
                "language": "python",
                "azdata_cell_guid": "f4e02745-61a5-4239-80b6-630d64c4469f"
            },
            "outputs": [],
            "execution_count": 3
        },
        {
            "cell_type": "code",
            "source": [
                "with open(os.path.join(source_file_path, source_file_name), 'r', encoding='utf-8-sig') as file:\r\n",
                "    lines = file.readlines()\r\n",
                "\r\n",
                "filtered_lines = [line.strip() for line in lines if line.strip() and 'affected)' not in line and 'Completion time:' not in line and 'Warning: ' not in line]\r\n",
                "#TODO - doing count(*) on columns with mixed nulls and not nulls gives this warning. Redo template to eliminate.\r\n",
                "#Warning: Null value is eliminated by an aggregate or other SET operation.\r\n",
                "#can drop two counts, hopefully remove null warnings\r\n",
                "#NULL_OR_BLANK_COUNT = NULL_COUNT + BLANK_COUNT\r\n",
                "#NOT_NULL_OR_BLANK_COUNT = NOT_NULL_COUNT + (NOT_BLANK_COUNT - NULL_COUNT)\r\n",
                "\r\n",
                "#filtered_lines"
            ],
            "metadata": {
                "language": "python",
                "azdata_cell_guid": "de6721ff-7212-44cf-a630-0e88e95207df"
            },
            "outputs": [],
            "execution_count": 4
        },
        {
            "cell_type": "code",
            "source": [
                "data = [line.split(',') for line in filtered_lines] # a straight split like this should be OK as there shouldn't be commas in the values.\r\n",
                "df = pd.DataFrame(data)\r\n",
                "df = df.drop_duplicates()\r\n",
                "df.columns = df.iloc[0]\r\n",
                "df = df[1:]\r\n",
                "#df"
            ],
            "metadata": {
                "language": "python",
                "azdata_cell_guid": "4922376f-2c70-4689-85f8-ca539a21eb77"
            },
            "outputs": [],
            "execution_count": 5
        },
        {
            "cell_type": "code",
            "source": [
                "# add extra columns\r\n",
                "\r\n",
                "# columns with variable data\r\n",
                "df['RecordSource'] = record_source\r\n",
                "df['LoadDate'] = datetime.now()\r\n",
                "\r\n",
                "\r\n",
                "# derive keyphrase columns\r\n",
                "df['PhysicalAttributeKeyPhrase'] = df.apply(\r\n",
                "  lambda row: \r\n",
                "    row['SERVER_NAME']\r\n",
                "    + '.' + row['DATABASE_NAME']\r\n",
                "    + '.' + row['SCHEMA_NAME']\r\n",
                "    + '.' + row['TABLE_NAME']\r\n",
                "    + '.' + row['COLUMN_NAME']\r\n",
                "  , axis=1\r\n",
                ")\r\n",
                "\r\n",
                "\r\n",
                "# hash the keyphrases\r\n",
                "df = hashing.add_md5_hash_column(\r\n",
                "  df\r\n",
                "  , md5_column_name = 'PhysicalAttributeHashKey'\r\n",
                "  , columns = ['PhysicalAttributeKeyPhrase']\r\n",
                ")\r\n",
                "\r\n",
                "\r\n",
                "# hash the payload\r\n",
                "df = hashing.add_md5_hash_column(\r\n",
                "  df\r\n",
                "  , md5_column_name = 'HashDiff'\r\n",
                "  , columns = [\r\n",
                "      'SERVER_NAME'\r\n",
                "    , 'DATABASE_NAME'\r\n",
                "    , 'SCHEMA_NAME'\r\n",
                "    , 'TABLE_NAME'\r\n",
                "    , 'COLUMN_NAME'\r\n",
                "\r\n",
                "    , 'SCAN_DATE'\r\n",
                "    , 'NULL_COUNT'\r\n",
                "    , 'NOT_NULL_COUNT'\r\n",
                "    , 'NULL_PERCENT'\r\n",
                "    , 'NOT_NULL_PERCENT'\r\n",
                "    , 'BLANK_COUNT'\r\n",
                "    , 'NOT_BLANK_COUNT'\r\n",
                "    , 'BLANK_PERCENT'\r\n",
                "    , 'NOT_BLANK_PERCENT'\r\n",
                "    , 'NULL_OR_BLANK_COUNT'\r\n",
                "    , 'NOT_NULL_OR_BLANK_COUNT'\r\n",
                "    , 'NULL_OR_BLANK_PERCENT'\r\n",
                "    , 'NOT_NULL_OR_BLANK_PERCENT'\r\n",
                "    , 'COUNT_DISTINCT'\r\n",
                "    , 'MIN_OF_NUMBER'\r\n",
                "    , 'MAX_OF_NUMBER'\r\n",
                "    , 'MIN_OF_DATE'\r\n",
                "    , 'MAX_OF_DATE'\r\n",
                "  ]\r\n",
                ")\r\n",
                "\r\n",
                "#df"
            ],
            "metadata": {
                "language": "python",
                "azdata_cell_guid": "c9376850-4b05-4849-b7e4-0c639c6dd938"
            },
            "outputs": [],
            "execution_count": 6
        },
        {
            "cell_type": "code",
            "source": [
                "# Clear down and Write to staging\r\n",
                "conn.execute(\"DELETE FROM stg_Py_SqlServerDataAnalysisToPhysicalAttribute\")\r\n",
                "conn.commit()\r\n",
                "df.to_sql('stg_Py_SqlServerDataAnalysisToPhysicalAttribute', conn, if_exists='append', index=False)"
            ],
            "metadata": {
                "language": "python",
                "azdata_cell_guid": "5c21a646-66ff-451f-87a9-e14d07267ad0"
            },
            "outputs": [
                {
                    "data": {
                        "text/plain": "39707"
                    },
                    "metadata": {},
                    "execution_count": 7,
                    "output_type": "execute_result"
                }
            ],
            "execution_count": 7
        },
        {
            "cell_type": "code",
            "source": [
                "# Write to the Satellite (rv_s_PhysicalAttribute_SqlServerDataAnalysis)\r\n",
                "sql_query = \"\"\"\r\n",
                "INSERT INTO rv_s_PhysicalAttribute_SqlServerDataAnalysis\r\n",
                "(\r\n",
                "    PhysicalAttributeHashKey\r\n",
                "  , LoadDate\r\n",
                "  , RecordSource\r\n",
                "  , HashDiff\r\n",
                "\r\n",
                "  , SERVER_NAME\r\n",
                "  , \"DATABASE_NAME\"\r\n",
                "  , SCHEMA_NAME\r\n",
                "  , TABLE_NAME\r\n",
                "  , COLUMN_NAME\r\n",
                "\r\n",
                "  , SCAN_DATE\r\n",
                "  , NULL_COUNT\r\n",
                "  , NOT_NULL_COUNT\r\n",
                "  , NULL_PERCENT\r\n",
                "  , NOT_NULL_PERCENT\r\n",
                "  , BLANK_COUNT\r\n",
                "  , NOT_BLANK_COUNT\r\n",
                "  , BLANK_PERCENT\r\n",
                "  , NOT_BLANK_PERCENT\r\n",
                "  , NULL_OR_BLANK_COUNT\r\n",
                "  , NOT_NULL_OR_BLANK_COUNT\r\n",
                "  , NULL_OR_BLANK_PERCENT\r\n",
                "  , NOT_NULL_OR_BLANK_PERCENT\r\n",
                "  , COUNT_DISTINCT\r\n",
                "  , MIN_OF_NUMBER\r\n",
                "  , MAX_OF_NUMBER\r\n",
                "  , MIN_OF_DATE\r\n",
                "  , MAX_OF_DATE\r\n",
                "\r\n",
                ")\r\n",
                "SELECT DISTINCT\r\n",
                "    stg.PhysicalAttributeHashKey\r\n",
                "  , stg.LoadDate\r\n",
                "  , stg.RecordSource\r\n",
                "  , stg.HashDiff\r\n",
                "  \r\n",
                "  , stg.SERVER_NAME\r\n",
                "  , stg.\"DATABASE_NAME\"\r\n",
                "  , stg.SCHEMA_NAME\r\n",
                "  , stg.TABLE_NAME\r\n",
                "  , stg.COLUMN_NAME\r\n",
                "\r\n",
                "  , stg.SCAN_DATE\r\n",
                "  , stg.NULL_COUNT\r\n",
                "  , stg.NOT_NULL_COUNT\r\n",
                "  , stg.NULL_PERCENT\r\n",
                "  , stg.NOT_NULL_PERCENT\r\n",
                "  , stg.BLANK_COUNT\r\n",
                "  , stg.NOT_BLANK_COUNT\r\n",
                "  , stg.BLANK_PERCENT\r\n",
                "  , stg.NOT_BLANK_PERCENT\r\n",
                "  , stg.NULL_OR_BLANK_COUNT\r\n",
                "  , stg.NOT_NULL_OR_BLANK_COUNT\r\n",
                "  , stg.NULL_OR_BLANK_PERCENT\r\n",
                "  , stg.NOT_NULL_OR_BLANK_PERCENT\r\n",
                "  , stg.COUNT_DISTINCT\r\n",
                "  , stg.MIN_OF_NUMBER\r\n",
                "  , stg.MAX_OF_NUMBER\r\n",
                "  , stg.MIN_OF_DATE\r\n",
                "  , stg.MAX_OF_DATE\r\n",
                "\r\n",
                "FROM\r\n",
                "  stg_Py_SqlServerDataAnalysisToPhysicalAttribute AS stg\r\n",
                "  LEFT OUTER JOIN rv_s_PhysicalAttribute_SqlServerDataAnalysis AS sat ON (\r\n",
                "    stg.PhysicalAttributeHashKey = sat.PhysicalAttributeHashKey\r\n",
                "    AND sat.LoadDate = (\r\n",
                "      SELECT MAX(z.LoadDate)\r\n",
                "      FROM rv_s_PhysicalAttribute_SqlServerDataAnalysis AS z\r\n",
                "      WHERE z.PhysicalAttributeHashKey = sat.PhysicalAttributeHashKey\r\n",
                "    )\r\n",
                "  )\r\n",
                "WHERE\r\n",
                "  (\r\n",
                "    sat.HashDiff != stg.HashDiff\r\n",
                "    OR sat.HashDiff IS NULL\r\n",
                "  )\r\n",
                "\"\"\";\r\n",
                "conn.execute(sql_query)\r\n",
                "conn.commit()"
            ],
            "metadata": {
                "language": "python",
                "azdata_cell_guid": "1925ee9b-a3b2-4c3f-81f8-35227daa7822"
            },
            "outputs": [],
            "execution_count": 8
        }
    ]
}