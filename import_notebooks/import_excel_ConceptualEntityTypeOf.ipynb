{
    "metadata": {
        "kernelspec": {
            "name": "python3",
            "display_name": "Python 3",
            "language": "python"
        },
        "language_info": {
            "name": "python",
            "version": "3.8.10",
            "mimetype": "text/x-python",
            "codemirror_mode": {
                "name": "ipython",
                "version": 3
            },
            "pygments_lexer": "ipython3",
            "nbconvert_exporter": "python",
            "file_extension": ".py"
        }
    },
    "nbformat_minor": 2,
    "nbformat": 4,
    "cells": [
        {
            "cell_type": "code",
            "source": [
                "# imports an excel sheet of ConceptualEntity <> ConceptualEntity\r\n",
                "# expects the Conceptual Entities to be fully qualified.\r\n",
                "import sqlite3\r\n",
                "import pandas as pd\r\n",
                "import sys\r\n",
                "sys.path.append('../')\r\n",
                "from user_packages import hashing\r\n",
                "\r\n",
                "conn = sqlite3.connect('app_db.sqlite')\r\n",
                "cur = conn.cursor()\r\n",
                "\r\n",
                "TargetExcelFilename = 'ConceptualEntityConceptualEntity_TypeOf.xlsx'\r\n",
                "TargetExcelFilepath = 'imports/concept/'"
            ],
            "metadata": {
                "azdata_cell_guid": "da2afe61-f42c-420d-a418-47d5f7d1a57a",
                "language": "python"
            },
            "outputs": [],
            "execution_count": 16
        },
        {
            "cell_type": "code",
            "source": [
                "df = pd.read_excel(TargetExcelFilepath + TargetExcelFilename)\r\n",
                "df.fillna('', inplace=True)\r\n",
                "\r\n",
                "df['RecordSource'] = df.apply(lambda row: 'Py.XL_CE_to_CETypeOf', axis=1)\r\n",
                "df['ConceptualEntityConceptualEntity_TypeOfKeyPhrase'] = df.apply(lambda row: row['ConceptualEntityKeyPhrase'] + ':' + row['ConceptualEntity_TypeOfKeyPhrase'], axis=1)\r\n",
                "\r\n",
                "df = hashing.add_md5_hash_column(\r\n",
                "  df\r\n",
                "  , md5_column_name = 'ConceptualEntityConceptualEntity_TypeOfHashKey'\r\n",
                "  , columns = ['ConceptualEntityConceptualEntity_TypeOfKeyPhrase']\r\n",
                ")\r\n",
                "df = hashing.add_md5_hash_column(\r\n",
                "  df\r\n",
                "  , md5_column_name = 'ConceptualEntityHashKey'\r\n",
                "  , columns = ['ConceptualEntityKeyPhrase']\r\n",
                ")\r\n",
                "df = hashing.add_md5_hash_column(\r\n",
                "  df\r\n",
                "  , md5_column_name = 'ConceptualEntity_TypeOfHashKey'\r\n",
                "  , columns = ['ConceptualEntity_TypeOfKeyPhrase']\r\n",
                ")\r\n",
                "\r\n",
                "\r\n",
                "#df"
            ],
            "metadata": {
                "language": "python",
                "azdata_cell_guid": "e6bc32ca-6e22-4117-b589-cecb39c6a536"
            },
            "outputs": [],
            "execution_count": 17
        },
        {
            "cell_type": "code",
            "source": [
                "# Clear down and Write to staging\r\n",
                "conn.execute(\"DELETE FROM stg_Py_XL_CE_to_CETypeOf\")\r\n",
                "conn.commit()\r\n",
                "df.to_sql('stg_Py_XL_CE_to_CETypeOf', conn, if_exists='append', index=False)"
            ],
            "metadata": {
                "language": "python",
                "azdata_cell_guid": "62bba213-e646-423a-aa5b-d8c0a74d7ab9"
            },
            "outputs": [
                {
                    "output_type": "execute_result",
                    "execution_count": 18,
                    "data": {
                        "text/plain": "27"
                    },
                    "metadata": {}
                }
            ],
            "execution_count": 18
        },
        {
            "cell_type": "code",
            "source": [
                "# Write to the Link (ConceptualEntity - ConceptualEntity_TypeOf)\r\n",
                "sql_query = \"\"\"\r\n",
                "INSERT INTO rv_l_ConceptualEntityConceptualEntity_TypeOf\r\n",
                "(\r\n",
                "  ConceptualEntityConceptualEntity_TypeOfHashKey\r\n",
                "  , LoadDate\r\n",
                "  , RecordSource\r\n",
                "  , ConceptualEntityHashKey\r\n",
                "  , ConceptualEntity_TypeOfHashKey\r\n",
                ")\r\n",
                "SELECT\r\n",
                "  stg.ConceptualEntityConceptualEntity_TypeOfHashKey\r\n",
                "  , stg.LoadDate\r\n",
                "  , stg.RecordSource\r\n",
                "  , stg.ConceptualEntityHashKey\r\n",
                "  , stg.ConceptualEntity_TypeOfHashKey\r\n",
                "FROM\r\n",
                "  stg_Py_XL_CE_to_CETypeOf stg\r\n",
                "WHERE\r\n",
                "  stg.ConceptualEntityConceptualEntity_TypeOfHashKey IS NOT NULL\r\n",
                "  AND ConceptualEntityConceptualEntity_TypeOfHashKey NOT IN (\r\n",
                "    SELECT ConceptualEntityConceptualEntity_TypeOfHashKey\r\n",
                "    FROM rv_l_ConceptualEntityConceptualEntity_TypeOf\r\n",
                "  )\r\n",
                "\"\"\";\r\n",
                "conn.execute(sql_query)\r\n",
                "conn.commit()"
            ],
            "metadata": {
                "language": "python",
                "azdata_cell_guid": "b929b8cf-9371-4863-8c73-07cb8e70c1b6"
            },
            "outputs": [],
            "execution_count": 19
        }
    ]
}