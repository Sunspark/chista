{
    "metadata": {
        "kernelspec": {
            "name": "python3",
            "display_name": "Python 3",
            "language": "python"
        },
        "language_info": {
            "name": "python",
            "version": "3.8.10",
            "mimetype": "text/x-python",
            "codemirror_mode": {
                "name": "ipython",
                "version": 3
            },
            "pygments_lexer": "ipython3",
            "nbconvert_exporter": "python",
            "file_extension": ".py"
        }
    },
    "nbformat_minor": 2,
    "nbformat": 4,
    "cells": [
        {
            "cell_type": "code",
            "source": [
                "# Creates new business-level conceptual entities into the DB from an excel sheet\r\n",
                "import sqlite3\r\n",
                "import pandas as pd\r\n",
                "import numpy as np\r\n",
                "import os\r\n",
                "from datetime import datetime\r\n",
                "import sys\r\n",
                "sys.path.append('../')\r\n",
                "from user_packages import hashing"
            ],
            "metadata": {
                "azdata_cell_guid": "2aca15e7-7225-49bc-aac2-7a7ceecfd80a",
                "language": "python"
            },
            "outputs": [],
            "execution_count": 2
        },
        {
            "cell_type": "code",
            "source": [
                "# Set script variables\r\n",
                "source_file_name = 'Org_Dictionary(Systems).csv'\r\n",
                "source_file_path = '../imports'\r\n",
                "\r\n",
                "record_source = 'SystemCSV'"
            ],
            "metadata": {
                "language": "python",
                "azdata_cell_guid": "632a7d28-9230-4a79-80ff-15be458e1759"
            },
            "outputs": [],
            "execution_count": 3
        },
        {
            "cell_type": "code",
            "source": [
                "conn = sqlite3.connect('../full_metadata.db')\r\n",
                "cur = conn.cursor()"
            ],
            "metadata": {
                "language": "python",
                "azdata_cell_guid": "cc2ffc97-fead-4abe-8296-2ab66fbdf735"
            },
            "outputs": [],
            "execution_count": 4
        },
        {
            "cell_type": "code",
            "source": [
                "# read table to df\r\n",
                "df = pd.read_csv(os.path.join(source_file_path, source_file_name))\r\n",
                "df = df.replace({np.nan: None})\r\n",
                "\r\n",
                "#df"
            ],
            "metadata": {
                "language": "python",
                "azdata_cell_guid": "4079e5f1-502f-4876-af43-b7e3cdc7eaa1"
            },
            "outputs": [],
            "execution_count": 12
        },
        {
            "cell_type": "code",
            "source": [
                "# Create additional fields\r\n",
                "df['RecordSource'] = record_source\r\n",
                "df['LoadDate'] = datetime.now()\r\n",
                "\r\n",
                ""
            ],
            "metadata": {
                "language": "python",
                "azdata_cell_guid": "07da1734-6f10-4e9d-b297-652b7d7b7bba"
            },
            "outputs": [],
            "execution_count": 6
        },
        {
            "cell_type": "code",
            "source": [
                "# Hash fields\r\n",
                "\r\n",
                "\r\n",
                "df = hashing.add_md5_hash_column(\r\n",
                "  df\r\n",
                "  , md5_column_name = 'SystemHashKey'\r\n",
                "  , columns = ['SystemKeyPhrase']\r\n",
                ")\r\n",
                "df = hashing.add_md5_hash_column(\r\n",
                "  df\r\n",
                "  , md5_column_name = 'HashDiff'\r\n",
                "  , columns = ['SystemName','Description','isDeleted']\r\n",
                ")\r\n",
                "\r\n",
                "\r\n",
                "#df"
            ],
            "metadata": {
                "language": "python",
                "azdata_cell_guid": "9c4b44f7-c7bb-4f0f-ba58-c5684221198a"
            },
            "outputs": [],
            "execution_count": 13
        },
        {
            "cell_type": "code",
            "source": [
                "# Clear down and Write to staging\r\n",
                "conn.execute(\"DELETE FROM stg_Py_CreateSystem\")\r\n",
                "conn.commit()\r\n",
                "df.to_sql('stg_Py_CreateSystem', conn, if_exists='append', index=False)"
            ],
            "metadata": {
                "language": "python",
                "azdata_cell_guid": "a75c8452-addd-4eee-85ff-a22d0849fecc"
            },
            "outputs": [
                {
                    "data": {
                        "text/plain": "19"
                    },
                    "metadata": {},
                    "execution_count": 8,
                    "output_type": "execute_result"
                }
            ],
            "execution_count": 8
        },
        {
            "cell_type": "code",
            "source": [
                "# Write to the Hub (System)\r\n",
                "sql_query = \"\"\"\r\n",
                "INSERT INTO rv_h_System\r\n",
                "(\r\n",
                "    SystemHashKey\r\n",
                "  , LoadDate\r\n",
                "  , RecordSource\r\n",
                "  , SystemKeyPhrase\r\n",
                ")\r\n",
                "SELECT DISTINCT\r\n",
                "    SystemHashKey\r\n",
                "  , LoadDate\r\n",
                "  , RecordSource\r\n",
                "  , SystemKeyPhrase\r\n",
                "FROM\r\n",
                "  stg_Py_CreateSystem\r\n",
                "WHERE\r\n",
                "  SystemHashKey NOT IN (SELECT SystemHashKey FROM rv_h_System)\r\n",
                "\"\"\";\r\n",
                "conn.execute(sql_query)\r\n",
                "conn.commit()"
            ],
            "metadata": {
                "language": "python",
                "azdata_cell_guid": "54aa89cd-75da-4b1c-97df-f41aad96a4ae"
            },
            "outputs": [],
            "execution_count": 9
        },
        {
            "cell_type": "code",
            "source": [
                "# Write to the Satellite (System)\r\n",
                "sql_query = \"\"\"\r\n",
                "INSERT INTO rv_s_System\r\n",
                "(\r\n",
                "    SystemHashKey\r\n",
                "  , LoadDate\r\n",
                "  , RecordSource\r\n",
                "  , HashDiff\r\n",
                "  , SystemName\r\n",
                "  , Description\r\n",
                "  , isDeleted\r\n",
                ")\r\n",
                "SELECT DISTINCT\r\n",
                "    stg.SystemHashKey\r\n",
                "  , stg.LoadDate\r\n",
                "  , stg.RecordSource\r\n",
                "  , stg.HashDiff\r\n",
                "  , stg.SystemName\r\n",
                "  , stg.Description\r\n",
                "  , stg.isDeleted\r\n",
                "FROM\r\n",
                "  stg_Py_CreateSystem AS stg\r\n",
                "  LEFT OUTER JOIN rv_s_System AS sat ON (\r\n",
                "    stg.SystemHashKey = sat.SystemHashKey\r\n",
                "    AND sat.LoadDate = (\r\n",
                "      SELECT MAX(z.LoadDate)\r\n",
                "      FROM rv_s_System AS z\r\n",
                "      WHERE z.SystemHashKey = sat.SystemHashKey\r\n",
                "    )\r\n",
                "  )\r\n",
                "WHERE\r\n",
                "  (\r\n",
                "    sat.HashDiff != stg.HashDiff\r\n",
                "    OR sat.HashDiff IS NULL\r\n",
                "  )\r\n",
                "\"\"\";\r\n",
                "conn.execute(sql_query)\r\n",
                "conn.commit()"
            ],
            "metadata": {
                "language": "python",
                "azdata_cell_guid": "929218ee-f74c-424a-931b-505cc40aa967"
            },
            "outputs": [],
            "execution_count": 11
        }
    ]
}