{
    "metadata": {
        "kernelspec": {
            "name": "python3",
            "display_name": "Python 3",
            "language": "python"
        },
        "language_info": {
            "name": "python",
            "version": "3.8.10",
            "mimetype": "text/x-python",
            "codemirror_mode": {
                "name": "ipython",
                "version": 3
            },
            "pygments_lexer": "ipython3",
            "nbconvert_exporter": "python",
            "file_extension": ".py"
        }
    },
    "nbformat_minor": 2,
    "nbformat": 4,
    "cells": [
        {
            "cell_type": "code",
            "source": [
                "import sqlite3\r\n",
                "import pandas as pd\r\n",
                "import numpy as np\r\n",
                "from datetime import datetime\r\n",
                "import sys\r\n",
                "sys.path.append('../')\r\n",
                "from user_packages import hashing"
            ],
            "metadata": {
                "azdata_cell_guid": "788c7d64-cec6-4c2d-a437-c08281fea96c",
                "language": "python"
            },
            "outputs": [],
            "execution_count": 7
        },
        {
            "cell_type": "code",
            "source": [
                "# db connect\r\n",
                "conn = sqlite3.connect('../full_metadata.db')"
            ],
            "metadata": {
                "azdata_cell_guid": "64561a07-29ee-43a1-bfed-514e1d98a3d2",
                "language": "python"
            },
            "outputs": [],
            "execution_count": 8
        },
        {
            "cell_type": "code",
            "source": [
                "query = \"\"\"\r\n",
                "SELECT distinct\r\n",
                "\tPhysicalAttributeHashKey AS OLD_HASH\r\n",
                "\t, SERVER_NAME\r\n",
                "  , \"DATABASE_NAME\"\r\n",
                "  , SCHEMA_NAME\r\n",
                "  , TABLE_NAME\r\n",
                "  , [Logical Name] AS COLUMN_NAME\r\n",
                "FROM\r\n",
                "\trv_s_PhysicalAttribute_XRMMetadata\r\n",
                "\"\"\"\r\n",
                "df = pd.read_sql_query(query, conn)\r\n",
                "#df"
            ],
            "metadata": {
                "azdata_cell_guid": "131a45cc-155b-4bbd-8d6b-1b4cf587a315",
                "language": "python"
            },
            "outputs": [
                {
                    "traceback": [
                        "\u001b[1;31m---------------------------------------------------------------------------\u001b[0m",
                        "\u001b[1;31mNameError\u001b[0m                                 Traceback (most recent call last)",
                        "Cell \u001b[1;32mIn[1], line 12\u001b[0m\n\u001b[0;32m      1\u001b[0m query \u001b[38;5;241m=\u001b[39m \u001b[38;5;124m\"\"\"\u001b[39m\n\u001b[0;32m      2\u001b[0m \u001b[38;5;124mSELECT distinct\u001b[39m\n\u001b[0;32m      3\u001b[0m \u001b[38;5;124m\tPhysicalAttributeHashKey AS OLD_HASH\u001b[39m\n\u001b[1;32m   (...)\u001b[0m\n\u001b[0;32m     10\u001b[0m \u001b[38;5;124m\trv_s_PhysicalAttribute_XRMMetadata\u001b[39m\n\u001b[0;32m     11\u001b[0m \u001b[38;5;124m\"\"\"\u001b[39m\n\u001b[1;32m---> 12\u001b[0m df \u001b[38;5;241m=\u001b[39m \u001b[43mpd\u001b[49m\u001b[38;5;241m.\u001b[39mread_sql_query(query, conn)\n\u001b[0;32m     13\u001b[0m \u001b[38;5;66;03m#df\u001b[39;00m\n",
                        "\u001b[1;31mNameError\u001b[0m: name 'pd' is not defined"
                    ],
                    "ename": "NameError",
                    "evalue": "name 'pd' is not defined",
                    "output_type": "error"
                }
            ],
            "execution_count": 1
        },
        {
            "cell_type": "code",
            "source": [
                "# derive keyphrase columns\r\n",
                "df['NEW_KEYPHRASE'] = df.apply(\r\n",
                "  lambda row: \r\n",
                "    row['SERVER_NAME']\r\n",
                "    + '.' + row['DATABASE_NAME']\r\n",
                "    + '.' + row['SCHEMA_NAME']\r\n",
                "    + '.' + row['TABLE_NAME']\r\n",
                "    + '.' + row['COLUMN_NAME']\r\n",
                "  , axis=1\r\n",
                ")\r\n",
                "\r\n",
                "df['PhysicalStructureKeyPhrase'] = df.apply(\r\n",
                "  lambda row: \r\n",
                "    row['SERVER_NAME']\r\n",
                "    + '.' + row['DATABASE_NAME']\r\n",
                "    + '.' + row['SCHEMA_NAME']\r\n",
                "    + '.' + row['TABLE_NAME']\r\n",
                "  , axis=1\r\n",
                ")\r\n",
                "df['PhysicalStructurePhysicalAttributeKeyPhrase'] = df.apply(  lambda row: row['PhysicalStructureKeyPhrase'] + ':' + row['NEW_KEYPHRASE'], axis=1)\r\n",
                "\r\n",
                "\r\n",
                "# hash the keyphrases\r\n",
                "df = hashing.add_md5_hash_column(\r\n",
                "  df\r\n",
                "  , md5_column_name = 'NEW_HASH'\r\n",
                "  , columns = ['NEW_KEYPHRASE']\r\n",
                ")\r\n",
                "df = hashing.add_md5_hash_column(\r\n",
                "  df\r\n",
                "  , md5_column_name = 'PhysicalStructureHashKey'\r\n",
                "  , columns = ['PhysicalStructureKeyPhrase']\r\n",
                ")\r\n",
                "df = hashing.add_md5_hash_column(\r\n",
                "  df\r\n",
                "  , md5_column_name = 'PhysicalStructurePhysicalAttributeHashKey'\r\n",
                "  , columns = ['PhysicalStructurePhysicalAttributeKeyPhrase']\r\n",
                ")\r\n",
                "\r\n",
                "#df"
            ],
            "metadata": {
                "language": "python",
                "azdata_cell_guid": "a9f65e07-fc65-4571-827d-0dc1d8a188a6"
            },
            "outputs": [
                {
                    "traceback": [
                        "\u001b[1;31m---------------------------------------------------------------------------\u001b[0m",
                        "\u001b[1;31mNameError\u001b[0m                                 Traceback (most recent call last)",
                        "Cell \u001b[1;32mIn[2], line 2\u001b[0m\n\u001b[0;32m      1\u001b[0m \u001b[38;5;66;03m# derive keyphrase columns\u001b[39;00m\n\u001b[1;32m----> 2\u001b[0m df[\u001b[38;5;124m'\u001b[39m\u001b[38;5;124mNEW_KEYPHRASE\u001b[39m\u001b[38;5;124m'\u001b[39m] \u001b[38;5;241m=\u001b[39m \u001b[43mdf\u001b[49m\u001b[38;5;241m.\u001b[39mapply(\n\u001b[0;32m      3\u001b[0m   \u001b[38;5;28;01mlambda\u001b[39;00m row: \n\u001b[0;32m      4\u001b[0m     row[\u001b[38;5;124m'\u001b[39m\u001b[38;5;124mSERVER_NAME\u001b[39m\u001b[38;5;124m'\u001b[39m]\n\u001b[0;32m      5\u001b[0m     \u001b[38;5;241m+\u001b[39m \u001b[38;5;124m'\u001b[39m\u001b[38;5;124m.\u001b[39m\u001b[38;5;124m'\u001b[39m \u001b[38;5;241m+\u001b[39m row[\u001b[38;5;124m'\u001b[39m\u001b[38;5;124mDATABASE_NAME\u001b[39m\u001b[38;5;124m'\u001b[39m]\n\u001b[0;32m      6\u001b[0m     \u001b[38;5;241m+\u001b[39m \u001b[38;5;124m'\u001b[39m\u001b[38;5;124m.\u001b[39m\u001b[38;5;124m'\u001b[39m \u001b[38;5;241m+\u001b[39m row[\u001b[38;5;124m'\u001b[39m\u001b[38;5;124mSCHEMA_NAME\u001b[39m\u001b[38;5;124m'\u001b[39m]\n\u001b[0;32m      7\u001b[0m     \u001b[38;5;241m+\u001b[39m \u001b[38;5;124m'\u001b[39m\u001b[38;5;124m.\u001b[39m\u001b[38;5;124m'\u001b[39m \u001b[38;5;241m+\u001b[39m row[\u001b[38;5;124m'\u001b[39m\u001b[38;5;124mTABLE_NAME\u001b[39m\u001b[38;5;124m'\u001b[39m]\n\u001b[0;32m      8\u001b[0m     \u001b[38;5;241m+\u001b[39m \u001b[38;5;124m'\u001b[39m\u001b[38;5;124m.\u001b[39m\u001b[38;5;124m'\u001b[39m \u001b[38;5;241m+\u001b[39m row[\u001b[38;5;124m'\u001b[39m\u001b[38;5;124mCOLUMN_NAME\u001b[39m\u001b[38;5;124m'\u001b[39m]\n\u001b[0;32m      9\u001b[0m   , axis\u001b[38;5;241m=\u001b[39m\u001b[38;5;241m1\u001b[39m\n\u001b[0;32m     10\u001b[0m )\n\u001b[0;32m     12\u001b[0m df[\u001b[38;5;124m'\u001b[39m\u001b[38;5;124mPhysicalStructureKeyPhrase\u001b[39m\u001b[38;5;124m'\u001b[39m] \u001b[38;5;241m=\u001b[39m df\u001b[38;5;241m.\u001b[39mapply(\n\u001b[0;32m     13\u001b[0m   \u001b[38;5;28;01mlambda\u001b[39;00m row: \n\u001b[0;32m     14\u001b[0m     row[\u001b[38;5;124m'\u001b[39m\u001b[38;5;124mSERVER_NAME\u001b[39m\u001b[38;5;124m'\u001b[39m]\n\u001b[1;32m   (...)\u001b[0m\n\u001b[0;32m     18\u001b[0m   , axis\u001b[38;5;241m=\u001b[39m\u001b[38;5;241m1\u001b[39m\n\u001b[0;32m     19\u001b[0m )\n\u001b[0;32m     20\u001b[0m df[\u001b[38;5;124m'\u001b[39m\u001b[38;5;124mPhysicalStructurePhysicalAttributeKeyPhrase\u001b[39m\u001b[38;5;124m'\u001b[39m] \u001b[38;5;241m=\u001b[39m df\u001b[38;5;241m.\u001b[39mapply(  \u001b[38;5;28;01mlambda\u001b[39;00m row: row[\u001b[38;5;124m'\u001b[39m\u001b[38;5;124mPhysicalStructureKeyPhrase\u001b[39m\u001b[38;5;124m'\u001b[39m] \u001b[38;5;241m+\u001b[39m \u001b[38;5;124m'\u001b[39m\u001b[38;5;124m:\u001b[39m\u001b[38;5;124m'\u001b[39m \u001b[38;5;241m+\u001b[39m row[\u001b[38;5;124m'\u001b[39m\u001b[38;5;124mNEW_KEYPHRASE\u001b[39m\u001b[38;5;124m'\u001b[39m], axis\u001b[38;5;241m=\u001b[39m\u001b[38;5;241m1\u001b[39m)\n",
                        "\u001b[1;31mNameError\u001b[0m: name 'df' is not defined"
                    ],
                    "ename": "NameError",
                    "evalue": "name 'df' is not defined",
                    "output_type": "error"
                }
            ],
            "execution_count": 2
        },
        {
            "cell_type": "code",
            "source": [
                "def fix_hash(OLD_HASH, NEW_KEYPHRASE, NEW_HASH, PhysicalStructureHashKey, PhysicalStructurePhysicalAttributeHashKey):\r\n",
                "  #print(\"I'm iterating\")\r\n",
                "  sql = \"\"\"\r\n",
                "    UPDATE rv_h_PhysicalAttribute\r\n",
                "    SET\r\n",
                "      PhysicalAttributeHashKey = ?\r\n",
                "      , PhysicalAttributeKeyPhrase = ?\r\n",
                "    WHERE\r\n",
                "      PhysicalAttributeHashKey = ?\r\n",
                "  \"\"\"\r\n",
                "  conn.execute(sql, (NEW_HASH, NEW_KEYPHRASE, OLD_HASH))\r\n",
                "  conn.commit()\r\n",
                "\r\n",
                "  sql = \"\"\"\r\n",
                "    UPDATE rv_s_PhysicalAttribute_XRMMetadata\r\n",
                "    SET\r\n",
                "      PhysicalAttributeHashKey = ?\r\n",
                "    WHERE\r\n",
                "      PhysicalAttributeHashKey = ?\r\n",
                "  \"\"\"\r\n",
                "  conn.execute(sql, (NEW_HASH, OLD_HASH))\r\n",
                "  conn.commit()\r\n",
                "\r\n",
                "  sql = \"\"\"\r\n",
                "    UPDATE rv_s_PhysicalAttribute_AnalysisTag\r\n",
                "    SET\r\n",
                "      PhysicalAttributeHashKey = ?\r\n",
                "    WHERE\r\n",
                "      PhysicalAttributeHashKey = ?\r\n",
                "  \"\"\"\r\n",
                "  conn.execute(sql, (NEW_HASH, OLD_HASH))\r\n",
                "  conn.commit()\r\n",
                "\r\n",
                "  sql = \"\"\"\r\n",
                "    UPDATE rv_l_PhysicalStructurePhysicalAttribute\r\n",
                "    SET\r\n",
                "      PhysicalAttributeHashKey = ?\r\n",
                "      , PhysicalStructureHashKey = ?\r\n",
                "      , PhysicalStructurePhysicalAttributeHashKey = ?\r\n",
                "    WHERE\r\n",
                "      PhysicalAttributeHashKey = ?\r\n",
                "  \"\"\"\r\n",
                "  conn.execute(sql, (NEW_HASH, PhysicalStructureHashKey, PhysicalStructurePhysicalAttributeHashKey, OLD_HASH))\r\n",
                "  conn.commit()"
            ],
            "metadata": {
                "azdata_cell_guid": "3fb0f2dc-04ec-48fe-b21b-dccd60096f4f",
                "language": "python"
            },
            "outputs": [],
            "execution_count": 11
        },
        {
            "cell_type": "code",
            "source": [
                "result = [\r\n",
                "  fix_hash(\r\n",
                "    row[0]\r\n",
                "    , row[1]\r\n",
                "    , row[2]\r\n",
                "    , row[3]\r\n",
                "    , row[4]\r\n",
                "  ) for row in zip(\r\n",
                "    df['OLD_HASH']\r\n",
                "    , df['NEW_KEYPHRASE']\r\n",
                "    , df['NEW_HASH']\r\n",
                "    , df['PhysicalStructureHashKey']\r\n",
                "    , df['PhysicalStructurePhysicalAttributeHashKey']\r\n",
                "  )\r\n",
                "]\r\n",
                ""
            ],
            "metadata": {
                "language": "python",
                "azdata_cell_guid": "38c93135-160d-42e0-b866-6a88e97e72ed"
            },
            "outputs": [],
            "execution_count": 12
        }
    ]
}