{
    "metadata": {
        "kernelspec": {
            "name": "python3",
            "display_name": "Python 3 (ipykernel)",
            "language": "python"
        },
        "language_info": {
            "name": "python",
            "version": "3.8.10",
            "mimetype": "text/x-python",
            "codemirror_mode": {
                "name": "ipython",
                "version": 3
            },
            "pygments_lexer": "ipython3",
            "nbconvert_exporter": "python",
            "file_extension": ".py"
        }
    },
    "nbformat_minor": 2,
    "nbformat": 4,
    "cells": [
        {
            "cell_type": "code",
            "source": [
                "# exports from an SQL query to an excel sheet suitable for iServer\r\n",
                "\r\n",
                "import json\r\n",
                "import os\r\n",
                "import sqlite3\r\n",
                "import pandas as pd\r\n",
                "\r\n",
                "from pathlib import Path\r\n",
                "from datetime import datetime\r\n",
                "\r\n",
                "conn = sqlite3.connect('app_db.sqlite')\r\n",
                "cur = conn.cursor()\r\n",
                "\r\n",
                "time_string = datetime.now().strftime('%Y%m%d%H%M%S')\r\n",
                "output_path = \"export_output_files/iServer/\"\r\n",
                "output_filename = \"conceptual_relations_\" + time_string + \".xlsx\"\r\n",
                ""
            ],
            "metadata": {
                "azdata_cell_guid": "49d914b2-0b14-4ae9-896b-f88469142c35",
                "language": "python"
            },
            "outputs": [],
            "execution_count": 16
        },
        {
            "cell_type": "code",
            "source": [
                "sql_query = \"\"\"\r\n",
                "SELECT\r\n",
                "    l_cecer.ConceptualEntityConceptualEntity_RelatedHashKey\r\n",
                "  , l_cecer.ConceptualEntityHashKey\r\n",
                "  , bv_ce.ConceptualEntityName AS Source_Entity_Name\r\n",
                "  , l_cecer.ConceptualEntity_RelatedHashKey\r\n",
                "  , bv_cer.ConceptualEntityName AS Related_Entity_Name\r\n",
                "  , s_cecer.label_forward\r\n",
                "  , s_cecer.label_reverse\r\n",
                "FROM\r\n",
                "  rv_l_ConceptualEntityConceptualEntity_Related l_cecer\r\n",
                "  INNER JOIN rv_s_ConceptualEntityConceptualEntity_Related s_cecer ON (\r\n",
                "    l_cecer.ConceptualEntityConceptualEntity_RelatedHashKey = s_cecer.ConceptualEntityConceptualEntity_RelatedHashKey\r\n",
                "    AND s_cecer.LoadDate = (\r\n",
                "      SELECT MAX(z.LoadDate)\r\n",
                "      FROM rv_s_ConceptualEntityConceptualEntity_Related AS z\r\n",
                "      WHERE z.ConceptualEntityConceptualEntity_RelatedHashKey = s_cecer.ConceptualEntityConceptualEntity_RelatedHashKey\r\n",
                "    )\r\n",
                "  )\r\n",
                "  LEFT JOIN bv_ConceptualEntity bv_ce ON (\r\n",
                "    bv_ce.ConceptualEntityHashKey = l_cecer.ConceptualEntityHashKey\r\n",
                "  )\r\n",
                "  LEFT JOIN bv_ConceptualEntity bv_cer ON (\r\n",
                "    bv_cer.ConceptualEntityHashKey = l_cecer.ConceptualEntity_RelatedHashKey\r\n",
                "  )\r\n",
                "WHERE\r\n",
                "  s_cecer.isDeleted = 0\r\n",
                "ORDER BY\r\n",
                "  bv_ce.ConceptualEntityName\r\n",
                ";\r\n",
                "\"\"\"\r\n",
                "\r\n",
                "df = pd.read_sql_query(sql_query, conn)\r\n",
                "\r\n",
                "#df"
            ],
            "metadata": {
                "language": "python",
                "azdata_cell_guid": "17ceb0ef-5dca-4fa1-8f86-eafcf82f10a2"
            },
            "outputs": [],
            "execution_count": 17
        },
        {
            "cell_type": "code",
            "source": [
                "writer = pd.ExcelWriter(os.path.join(output_path, output_filename))\r\n",
                "df.to_excel(writer)#, sheet_name='bar'\r\n",
                "writer.close()"
            ],
            "metadata": {
                "language": "python",
                "azdata_cell_guid": "5636375b-4d79-40b2-b3ab-d20833547bde"
            },
            "outputs": [],
            "execution_count": 18
        }
    ]
}