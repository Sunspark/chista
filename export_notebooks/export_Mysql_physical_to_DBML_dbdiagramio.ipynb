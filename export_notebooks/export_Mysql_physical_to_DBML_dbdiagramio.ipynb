{
    "metadata": {
        "kernelspec": {
            "name": "python3",
            "display_name": "Python 3",
            "language": "python"
        },
        "language_info": {
            "name": "python",
            "version": "3.8.10",
            "mimetype": "text/x-python",
            "codemirror_mode": {
                "name": "ipython",
                "version": 3
            },
            "pygments_lexer": "ipython3",
            "nbconvert_exporter": "python",
            "file_extension": ".py"
        }
    },
    "nbformat_minor": 2,
    "nbformat": 4,
    "cells": [
        {
            "cell_type": "markdown",
            "source": [
                "This script outputs a text file suitable for import to [https://dbdiagram.io](https:\\dbdiagram.io\\) , using the DBML language. [https://dbml.dbdiagram.io/docs](https:\\dbml.dbdiagram.io\\docs).  \n",
                "It outputs datatypes expected to be found in an SQL server instance, and is expecting SQL server type information from the database.\n",
                "\n",
                "\\- get list of attributes in target structures from attributes table\n",
                "\n",
                "\\- get list of FKs from link table (not implemented yet)\n",
                "\n",
                "\\- spin dfs to json dicts\n",
                "\n",
                "\\- throw at jinja"
            ],
            "metadata": {
                "azdata_cell_guid": "1465a207-7cb7-4ad7-bab8-240591d8cdf8"
            },
            "attachments": {}
        },
        {
            "cell_type": "code",
            "source": [
                "import json\r\n",
                "import os\r\n",
                "import sqlite3\r\n",
                "\r\n",
                "from pathlib import Path\r\n",
                "from jinja2 import Template, Environment\r\n",
                "from datetime import datetime\r\n",
                "\r\n",
                "import pandas as pd\r\n",
                "import numpy as np\r\n",
                "\r\n",
                "conn = sqlite3.connect('../full_metadata.db')\r\n",
                "cur = conn.cursor()\r\n",
                "\r\n",
                "template_path = \"../export_templates/DBML/\"\r\n",
                "template_filename = \"Mysql_physical_er.tem\"\r\n",
                "template = Path(os.path.join(template_path, template_filename)).read_text()\r\n",
                "\r\n",
                "time_string = datetime.now().strftime('%Y%m%d%H%M%S')\r\n",
                "output_path = \"../export_output_files/DBML/\"\r\n",
                "output_filename = \"Mysql_physical_er_\" + time_string + \".txt\""
            ],
            "metadata": {
                "azdata_cell_guid": "d9cc53f1-9d54-4e5f-a0a1-a5bd5c489606",
                "language": "python"
            },
            "outputs": [],
            "execution_count": 21
        },
        {
            "cell_type": "code",
            "source": [
                "# set variables for the extract\r\n",
                "# A target schema can be set to '' to get all schemas in the DB\r\n",
                "\r\n",
                "target_server_name = 'DRS_Core'\r\n",
                "target_db_name = 'def'\r\n",
                "target_schema_name = 'optitimeweb_sync' # a value or '' (blank)\r\n",
                ""
            ],
            "metadata": {
                "language": "python",
                "azdata_cell_guid": "6a94d1f9-4e71-45c3-876c-8e3e3c84e9e1"
            },
            "outputs": [],
            "execution_count": 2
        },
        {
            "cell_type": "code",
            "source": [
                "# get list of attributes in target structures from attributes table\r\n",
                "\r\n",
                "if (target_schema_name != ''):\r\n",
                "  target_schema_phrase = \"\"\"AND \"SCHEMA_NAME\" = ?\"\"\"\r\n",
                "else:\r\n",
                "  target_schema_phrase = ''\r\n",
                "\r\n",
                "sql_query_core = \"\"\"\r\n",
                "SELECT\r\n",
                "  '\"' || SCHEMA_NAME || '\".\"' || TABLE_NAME || '\"' AS \"TableKeyPhrase\"\r\n",
                "\t, SCHEMA_NAME\r\n",
                "\t, TABLE_NAME\r\n",
                "\t, COLUMN_NAME\r\n",
                "\t, IS_NULLABLE\r\n",
                "\t, DATA_TYPE\r\n",
                "\t, CHARACTER_MAXIMUM_LENGTH\r\n",
                "\t, NUMERIC_PRECISION\r\n",
                "\t, NUMERIC_SCALE\r\n",
                "FROM\r\n",
                "\tout_MysqlPhysicalAttributeOutputForAnalysis\r\n",
                "WHERE\r\n",
                "\t1=1\r\n",
                "\tAND \"SERVER_NAME\" = ?\r\n",
                "\tAND \"DATABASE_NAME\" = ?\r\n",
                "\"\"\";\r\n",
                "sql_query_order = \"\"\"\r\n",
                "ORDER BY\r\n",
                "\tSCHEMA_NAME\r\n",
                "\t, TABLE_NAME\r\n",
                "\t, ORDINAL_POSITION\r\n",
                "\"\"\";\r\n",
                "\r\n",
                "sql_query = sql_query_core + target_schema_phrase + sql_query_order\r\n",
                "\r\n",
                "if (target_schema_name != ''):\r\n",
                "  sql_parameters = (target_server_name, target_db_name, target_schema_name)\r\n",
                "else:\r\n",
                "  sql_parameters = (target_server_name, target_db_name)\r\n",
                "\r\n",
                "dtypeDict = {\r\n",
                "    'CHARACTER_MAXIMUM_LENGTH': 'Int64'\r\n",
                "  , 'NUMERIC_PRECISION': 'Int64'\r\n",
                "  , 'NUMERIC_SCALE': 'Int64'\r\n",
                "}\r\n",
                "df = pd.read_sql_query(sql_query, conn, params = sql_parameters, dtype = dtypeDict)\r\n",
                "df = df.replace({np.nan: None})\r\n",
                "\r\n",
                "#df"
            ],
            "metadata": {
                "language": "python",
                "azdata_cell_guid": "c6c12821-eac7-40f8-94a1-7eba273252c3"
            },
            "outputs": [],
            "execution_count": 11
        },
        {
            "cell_type": "code",
            "source": [
                "# add tables/ columns to output dict\r\n",
                "\r\n",
                "grouped = df.groupby(['TableKeyPhrase', 'COLUMN_NAME']).apply(lambda x: x.drop(columns=['TableKeyPhrase', 'COLUMN_NAME']).to_dict(orient='records')).to_dict()\r\n",
                "\r\n",
                "template_data = {}\r\n",
                "template_data['tables'] = {}\r\n",
                "\r\n",
                "for (TableKeyPhrase, COLUMN_NAME), attributes in grouped.items():\r\n",
                "  if TableKeyPhrase not in template_data['tables']:\r\n",
                "    template_data['tables'][TableKeyPhrase] = {}\r\n",
                "  template_data['tables'][TableKeyPhrase][COLUMN_NAME] = attributes\r\n",
                "\r\n",
                "#template_data"
            ],
            "metadata": {
                "language": "python",
                "azdata_cell_guid": "6c0b72c1-f7cb-407e-8c61-9347ccd38d35"
            },
            "outputs": [],
            "execution_count": 15
        },
        {
            "cell_type": "code",
            "source": [
                "# get list of FKs from link table\r\n",
                "\r\n",
                "if (target_schema_name != ''):\r\n",
                "  target_schema_phrase = \"\"\"AND SCHEMA_NAME_CHILD = ? AND SCHEMA_NAME_PARENT = ?\"\"\"\r\n",
                "else:\r\n",
                "  target_schema_phrase = ''\r\n",
                "\r\n",
                "sql_query_core = \"\"\"\r\n",
                "SELECT\r\n",
                "  SCHEMA_NAME_CHILD\r\n",
                "  , TABLE_NAME_CHILD\r\n",
                "  , COLUMN_NAME_CHILD\r\n",
                "  , SCHEMA_NAME_PARENT\r\n",
                "  , TABLE_NAME_PARENT\r\n",
                "  , COLUMN_NAME_PARENT\r\n",
                "FROM\r\n",
                "  out_PhysicalForeignKeys\r\n",
                "WHERE\r\n",
                "  1=1\r\n",
                "  AND SERVER_NAME_CHILD = ?\r\n",
                "  AND DATABASE_NAME_CHILD = ?\r\n",
                "  AND SERVER_NAME_PARENT = ?\r\n",
                "  AND DATABASE_NAME_PARENT = ?\r\n",
                "\r\n",
                "\"\"\";\r\n",
                "\r\n",
                "sql_query = sql_query_core + target_schema_phrase\r\n",
                "\r\n",
                "if (target_schema_name != ''):\r\n",
                "  sql_parameters = (target_server_name, target_db_name, target_server_name, target_db_name, target_schema_name, target_schema_name)\r\n",
                "else:\r\n",
                "  sql_parameters = (target_server_name, target_db_name, target_server_name, target_db_name)\r\n",
                "\r\n",
                "df = pd.read_sql_query(sql_query, conn, params = sql_parameters)\r\n",
                "df = df.replace({np.nan: None})\r\n",
                "\r\n",
                "#df"
            ],
            "metadata": {
                "language": "python",
                "azdata_cell_guid": "0d78307b-9848-4f28-9db3-15b23e59a5f8"
            },
            "outputs": [],
            "execution_count": 17
        },
        {
            "cell_type": "code",
            "source": [
                "# add FKs to output dict\r\n",
                "\r\n",
                "template_data['FKrecords'] = df.to_dict(orient='records')\r\n",
                "\r\n",
                "#print(template_data['FKrecords'])"
            ],
            "metadata": {
                "language": "python",
                "azdata_cell_guid": "4886090a-a76e-4ad3-9d13-587f4f6f9c65"
            },
            "outputs": [],
            "execution_count": 23
        },
        {
            "cell_type": "code",
            "source": [
                "# throw at jinja\r\n",
                "\r\n",
                "j2_template = Template(template, autoescape=True, trim_blocks=True, lstrip_blocks=True)\r\n",
                "\r\n",
                "rendered_template_string = j2_template.render(template_data=template_data)\r\n",
                "with open(os.path.join(output_path, output_filename), \"w\") as text_file:\r\n",
                "  text_file.write(rendered_template_string)"
            ],
            "metadata": {
                "language": "python",
                "azdata_cell_guid": "0ca109f5-5179-4d20-90c5-610ccdb101e6"
            },
            "outputs": [],
            "execution_count": 22
        }
    ]
}