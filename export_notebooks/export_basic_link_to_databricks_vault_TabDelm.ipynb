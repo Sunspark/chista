{
    "metadata": {
        "kernelspec": {
            "name": "python3",
            "display_name": "Python 3",
            "language": "python"
        },
        "language_info": {
            "name": "python",
            "version": "3.8.10",
            "mimetype": "text/x-python",
            "codemirror_mode": {
                "name": "ipython",
                "version": 3
            },
            "pygments_lexer": "ipython3",
            "nbconvert_exporter": "python",
            "file_extension": ".py"
        }
    },
    "nbformat_minor": 2,
    "nbformat": 4,
    "cells": [
        {
            "cell_type": "markdown",
            "source": [
                "Exports a basic link table (no DB base, it's all just variables) to a mapping sheet, suitable for import to the transforms tables.  \n",
                "\n",
                "Things currently not done:  \n",
                " - complex hash keys    (this is a basic bitch script)"
            ],
            "metadata": {
                "azdata_cell_guid": "7006ca8f-7e19-4d62-a576-d4e8b92deb93"
            },
            "attachments": {}
        },
        {
            "cell_type": "code",
            "source": [
                "import json\r\n",
                "import os\r\n",
                "import sqlite3\r\n",
                "\r\n",
                "from pathlib import Path\r\n",
                "from datetime import datetime\r\n",
                "\r\n",
                "conn = sqlite3.connect('../full_metadata.db')\r\n",
                "cur = conn.cursor()\r\n",
                "\r\n",
                "time_string = datetime.now().strftime('%Y%m%d%H%M%S')\r\n",
                "output_path = \"../export_output_files/TXT/\"\r\n",
                "output_filename = \"databricks_vault_TabDelm_\" + time_string + \".txt\""
            ],
            "metadata": {
                "azdata_cell_guid": "d67ecd61-2d5b-4a08-b7f1-02971d35e977",
                "language": "python"
            },
            "outputs": [],
            "execution_count": 65
        },
        {
            "cell_type": "code",
            "source": [
                "# Function: Collect a new KeyPhrase from the DB for the hash\r\n",
                "def GetNewKeyPhrase():\r\n",
                "  sql_query = \"SELECT NewKeyPhrase FROM NewKeyPhrase;\";\r\n",
                "  cur.execute(sql_query)\r\n",
                "  row = cur.fetchone()\r\n",
                "  NewKeyPhrase = row[0]\r\n",
                "  #print(NewKeyPhrase)\r\n",
                "  if NewKeyPhrase == '' : # if the view returns a blank row because it randomly selected a used ID\r\n",
                "    NewKeyPhrase = GetNewKeyPhrase()\r\n",
                "  sql_query = \"INSERT INTO AppUsedId (AppUsedId) VALUES (?);\";\r\n",
                "  cur.execute(sql_query, [NewKeyPhrase])\r\n",
                "  conn.commit()\r\n",
                "  return NewKeyPhrase"
            ],
            "metadata": {
                "language": "python",
                "azdata_cell_guid": "f1c054b6-a1e1-4074-acd3-c0993e7a2130",
                "tags": [
                    "hide_input"
                ]
            },
            "outputs": [],
            "execution_count": 66
        },
        {
            "cell_type": "code",
            "source": [
                "# source table 1\r\n",
                "target_entity_name1 = ''  # eg if the link was l_Customer_Property_owner, 'Customer' would go here\r\n",
                "source1_server_name = ''\r\n",
                "source1_database_name = ''\r\n",
                "source1_schema_name = 'dbo'\r\n",
                "source1_table_name = ''\r\n",
                "source1_key_column_name = ''\r\n",
                "source1_join_column_name = ''\r\n",
                "\r\n",
                "# source table 2\r\n",
                "target_entity_name2 = ''  # eg if the link was l_Customer_Property_owner, 'Property' would go here\r\n",
                "source2_server_name = ''\r\n",
                "source2_database_name = ''\r\n",
                "source2_schema_name = 'dbo'\r\n",
                "source2_table_name = ''\r\n",
                "source2_key_column_name = ''\r\n",
                "source2_join_column_name = ''\r\n",
                "\r\n",
                "record_source = '1' # '1' for source 1, '2' for source 2, something else for something else\r\n",
                "\r\n",
                "# this should be the identifiers for the vault that you are putting into\r\n",
                "target_server_name = 'poc'\r\n",
                "target_database_name = 'pocipc'\r\n",
                "target_schema_name = 'rv'\r\n",
                "\r\n",
                "target_link_suffix = ''  # eg if the link was l_Customer_Property_owner, 'owner' would go here\r\n",
                "\r\n",
                "# Prefix for DV Core field names to avoid table clashes\r\n",
                "core_field_prefix = ''"
            ],
            "metadata": {
                "language": "python",
                "azdata_cell_guid": "df154ffe-23b1-4b8b-8ea5-6b12fe628544"
            },
            "outputs": [],
            "execution_count": 67
        },
        {
            "cell_type": "code",
            "source": [
                "# Convert the identifiers into single strings for the queries\r\n",
                "target_entity_name = target_entity_name1 + '_' + target_entity_name2\r\n",
                "if (target_link_suffix != ''):\r\n",
                "  target_entity_name = target_entity_name + '_' + target_link_suffix\r\n",
                "\r\n",
                "target_link_name = 'l_' + target_entity_name\r\n",
                "target_link_hashkey_name = target_entity_name + '_HashKey'\r\n",
                "\r\n",
                "entity1_hashkey_name = target_entity_name1 + 'HashKey'\r\n",
                "entity1_hashkey_identifier = source1_server_name + '.' + source1_database_name + '.' + source1_schema_name + '.' + source1_table_name + '.' + source1_key_column_name\r\n",
                "entity1_join_identifier = source1_table_name + '.' + source1_join_column_name\r\n",
                "\r\n",
                "entity2_hashkey_name = target_entity_name2 + 'HashKey'\r\n",
                "entity2_hashkey_identifier = source2_server_name + '.' + source2_database_name + '.' + source2_schema_name + '.' + source2_table_name + '.' + source2_key_column_name\r\n",
                "entity2_join_identifier = source2_table_name + '.' + source2_join_column_name\r\n",
                ""
            ],
            "metadata": {
                "language": "python",
                "azdata_cell_guid": "86ec096c-0628-443f-9f10-1e4b3e1b24f7",
                "tags": [
                    "hide_input"
                ]
            },
            "outputs": [],
            "execution_count": 68
        },
        {
            "cell_type": "code",
            "source": [
                "# Set link hash logic\r\n",
                "link_hash_string = \"HASH(\" + entity1_hashkey_identifier + \" + '|' + \" + entity2_hashkey_identifier + \")\"\r\n",
                "#print(link_hash_string)"
            ],
            "metadata": {
                "language": "python",
                "azdata_cell_guid": "e2240afb-5c32-4e01-85c2-cbb7e0b69c2c",
                "tags": [
                    "hide_input"
                ]
            },
            "outputs": [],
            "execution_count": 69
        },
        {
            "cell_type": "code",
            "source": [
                "# Set join string\r\n",
                "join_string = entity1_join_identifier + \" = \" + entity2_join_identifier\r\n",
                "#print(join_string)"
            ],
            "metadata": {
                "language": "python",
                "azdata_cell_guid": "312bc16c-e331-41ca-928b-1d0fcc5627ca",
                "tags": [
                    "hide_input"
                ]
            },
            "outputs": [],
            "execution_count": 70
        },
        {
            "cell_type": "code",
            "source": [
                "# Set record source\r\n",
                "if (record_source == '1'):\r\n",
                "  record_source = source1_server_name + '.' + source1_database_name + '.' + source1_schema_name + '.' + source1_table_name\r\n",
                "elif (record_source == '2'):\r\n",
                "  record_source = source2_server_name + '.' + source2_database_name + '.' + source2_schema_name + '.' + source2_table_name  \r\n",
                "else:\r\n",
                "  record_source = record_source\r\n",
                "#print(record_source)  "
            ],
            "metadata": {
                "language": "python",
                "azdata_cell_guid": "71a2e05a-1ee6-43ba-a2e8-5ae3a258e1a6",
                "tags": [
                    "hide_input"
                ]
            },
            "outputs": [],
            "execution_count": 71
        },
        {
            "cell_type": "code",
            "source": [
                "# Get a new ID for the hashdiff group\r\n",
                "hash_group_id = GetNewKeyPhrase()\r\n",
                "#print(hash_group_id)"
            ],
            "metadata": {
                "language": "python",
                "azdata_cell_guid": "dab1691e-2788-4779-9446-c268f1de1124",
                "tags": [
                    "hide_input"
                ]
            },
            "outputs": [],
            "execution_count": 72
        },
        {
            "cell_type": "code",
            "source": [
                "# Set dict list of link\r\n",
                "link_fields = [\r\n",
                "  # source 1, has the hash logic and the join\r\n",
                "  {\r\n",
                "      'SERVER_NAME_SOURCE': source1_server_name\r\n",
                "    , 'DATABASE_NAME_SOURCE': source1_database_name\r\n",
                "    , 'SCHEMA_NAME_SOURCE': source1_schema_name\r\n",
                "    , 'TABLE_NAME_SOURCE': source1_table_name\r\n",
                "    , 'COLUMN_NAME_SOURCE': source1_key_column_name\r\n",
                "    , 'SERVER_NAME_TARGET': target_server_name\r\n",
                "    , 'DATABASE_NAME_TARGET': target_database_name\r\n",
                "    , 'SCHEMA_NAME_TARGET': target_schema_name\r\n",
                "    , 'TABLE_NAME_TARGET': target_link_name\r\n",
                "    , 'COLUMN_NAME_TARGET': target_link_hashkey_name\r\n",
                "    , 'ORDINAL_POSITION': 1\r\n",
                "    , 'IS_NULLABLE': 'NO'\r\n",
                "    , 'DATA_TYPE': 'STRING'\r\n",
                "    , 'TRANSFORM_LOGIC': None\r\n",
                "    , 'TRANSFORM_GROUP': hash_group_id\r\n",
                "    , 'TRANSFORM_GROUP_SUFFIX': None\r\n",
                "    , 'TRANSFORM_GROUP_LOGIC': link_hash_string\r\n",
                "    , 'JOIN_CLAUSE': join_string\r\n",
                "  }\r\n",
                "  # source 2\r\n",
                "  , {\r\n",
                "      'SERVER_NAME_SOURCE': source2_server_name\r\n",
                "    , 'DATABASE_NAME_SOURCE': source2_database_name\r\n",
                "    , 'SCHEMA_NAME_SOURCE': source2_schema_name\r\n",
                "    , 'TABLE_NAME_SOURCE': source2_table_name\r\n",
                "    , 'COLUMN_NAME_SOURCE': source2_key_column_name\r\n",
                "    , 'SERVER_NAME_TARGET': target_server_name\r\n",
                "    , 'DATABASE_NAME_TARGET': target_database_name\r\n",
                "    , 'SCHEMA_NAME_TARGET': target_schema_name\r\n",
                "    , 'TABLE_NAME_TARGET': target_link_name\r\n",
                "    , 'COLUMN_NAME_TARGET': target_link_hashkey_name\r\n",
                "    , 'ORDINAL_POSITION': 1\r\n",
                "    , 'IS_NULLABLE': 'NO'\r\n",
                "    , 'DATA_TYPE': 'STRING'\r\n",
                "    , 'TRANSFORM_LOGIC': None\r\n",
                "    , 'TRANSFORM_GROUP': hash_group_id\r\n",
                "    , 'TRANSFORM_GROUP_SUFFIX': None\r\n",
                "    , 'TRANSFORM_GROUP_LOGIC': None\r\n",
                "    , 'JOIN_CLAUSE': None\r\n",
                "  }\r\n",
                "  # LoadDate\r\n",
                "  , {\r\n",
                "      'SERVER_NAME_SOURCE': None\r\n",
                "    , 'DATABASE_NAME_SOURCE': None\r\n",
                "    , 'SCHEMA_NAME_SOURCE': None\r\n",
                "    , 'TABLE_NAME_SOURCE': None\r\n",
                "    , 'COLUMN_NAME_SOURCE': None\r\n",
                "    , 'SERVER_NAME_TARGET': target_server_name\r\n",
                "    , 'DATABASE_NAME_TARGET': target_database_name\r\n",
                "    , 'SCHEMA_NAME_TARGET': target_schema_name\r\n",
                "    , 'TABLE_NAME_TARGET': target_link_name\r\n",
                "    , 'COLUMN_NAME_TARGET': core_field_prefix + 'LoadDate'\r\n",
                "    , 'ORDINAL_POSITION': 2\r\n",
                "    , 'IS_NULLABLE': 'NO'\r\n",
                "    , 'DATA_TYPE': 'TIMESTAMP_NTZ'\r\n",
                "    , 'TRANSFORM_LOGIC': 'DV load datetime'\r\n",
                "    , 'TRANSFORM_GROUP': None\r\n",
                "    , 'TRANSFORM_GROUP_SUFFIX': None\r\n",
                "    , 'TRANSFORM_GROUP_LOGIC': None\r\n",
                "    , 'JOIN_CLAUSE': None\r\n",
                "  }\r\n",
                "  # RecordSource\r\n",
                "  , {\r\n",
                "      'SERVER_NAME_SOURCE': None\r\n",
                "    , 'DATABASE_NAME_SOURCE': None\r\n",
                "    , 'SCHEMA_NAME_SOURCE': None\r\n",
                "    , 'TABLE_NAME_SOURCE': None\r\n",
                "    , 'COLUMN_NAME_SOURCE': None\r\n",
                "    , 'SERVER_NAME_TARGET': target_server_name\r\n",
                "    , 'DATABASE_NAME_TARGET': target_database_name\r\n",
                "    , 'SCHEMA_NAME_TARGET': target_schema_name\r\n",
                "    , 'TABLE_NAME_TARGET': target_link_name\r\n",
                "    , 'COLUMN_NAME_TARGET': core_field_prefix + 'RecordSource'\r\n",
                "    , 'ORDINAL_POSITION': 3\r\n",
                "    , 'IS_NULLABLE': 'NO'\r\n",
                "    , 'DATA_TYPE': 'STRING'\r\n",
                "    , 'TRANSFORM_LOGIC': \"''\" + record_source + \"'\"\r\n",
                "    , 'TRANSFORM_GROUP': None\r\n",
                "    , 'TRANSFORM_GROUP_SUFFIX': None\r\n",
                "    , 'TRANSFORM_GROUP_LOGIC': None\r\n",
                "    , 'JOIN_CLAUSE': None\r\n",
                "  }\r\n",
                "  # ProcessID\r\n",
                "  , {\r\n",
                "      'SERVER_NAME_SOURCE': None\r\n",
                "    , 'DATABASE_NAME_SOURCE': None\r\n",
                "    , 'SCHEMA_NAME_SOURCE': None\r\n",
                "    , 'TABLE_NAME_SOURCE': None\r\n",
                "    , 'COLUMN_NAME_SOURCE': None\r\n",
                "    , 'SERVER_NAME_TARGET': target_server_name\r\n",
                "    , 'DATABASE_NAME_TARGET': target_database_name\r\n",
                "    , 'SCHEMA_NAME_TARGET': target_schema_name\r\n",
                "    , 'TABLE_NAME_TARGET': target_link_name\r\n",
                "    , 'COLUMN_NAME_TARGET': core_field_prefix + 'ProcessID'\r\n",
                "    , 'ORDINAL_POSITION': 4\r\n",
                "    , 'IS_NULLABLE': 'NO'\r\n",
                "    , 'DATA_TYPE': 'STRING'\r\n",
                "    , 'TRANSFORM_LOGIC': 'System Process ID'\r\n",
                "    , 'TRANSFORM_GROUP': None\r\n",
                "    , 'TRANSFORM_GROUP_SUFFIX': None\r\n",
                "    , 'TRANSFORM_GROUP_LOGIC': None\r\n",
                "    , 'JOIN_CLAUSE': None\r\n",
                "  }\r\n",
                "  # Source 1 hash key\r\n",
                "  , {\r\n",
                "      'SERVER_NAME_SOURCE': source1_server_name\r\n",
                "    , 'DATABASE_NAME_SOURCE': source1_database_name\r\n",
                "    , 'SCHEMA_NAME_SOURCE': source1_schema_name\r\n",
                "    , 'TABLE_NAME_SOURCE': source1_table_name\r\n",
                "    , 'COLUMN_NAME_SOURCE': source1_key_column_name\r\n",
                "    , 'SERVER_NAME_TARGET': target_server_name\r\n",
                "    , 'DATABASE_NAME_TARGET': target_database_name\r\n",
                "    , 'SCHEMA_NAME_TARGET': target_schema_name\r\n",
                "    , 'TABLE_NAME_TARGET': target_link_name\r\n",
                "    , 'COLUMN_NAME_TARGET': entity1_hashkey_name\r\n",
                "    , 'ORDINAL_POSITION': 5\r\n",
                "    , 'IS_NULLABLE': 'NO'\r\n",
                "    , 'DATA_TYPE': 'STRING'\r\n",
                "    , 'TRANSFORM_LOGIC': 'HASH(' + entity1_hashkey_identifier + ')'\r\n",
                "    , 'TRANSFORM_GROUP': None\r\n",
                "    , 'TRANSFORM_GROUP_SUFFIX': None\r\n",
                "    , 'TRANSFORM_GROUP_LOGIC': None\r\n",
                "    , 'JOIN_CLAUSE': None\r\n",
                "  }\r\n",
                "  # Source 2 hash key\r\n",
                "  , {\r\n",
                "      'SERVER_NAME_SOURCE': source2_server_name\r\n",
                "    , 'DATABASE_NAME_SOURCE': source2_database_name\r\n",
                "    , 'SCHEMA_NAME_SOURCE': source2_schema_name\r\n",
                "    , 'TABLE_NAME_SOURCE': source2_table_name\r\n",
                "    , 'COLUMN_NAME_SOURCE': source2_key_column_name\r\n",
                "    , 'SERVER_NAME_TARGET': target_server_name\r\n",
                "    , 'DATABASE_NAME_TARGET': target_database_name\r\n",
                "    , 'SCHEMA_NAME_TARGET': target_schema_name\r\n",
                "    , 'TABLE_NAME_TARGET': target_link_name\r\n",
                "    , 'COLUMN_NAME_TARGET': entity2_hashkey_name\r\n",
                "    , 'ORDINAL_POSITION': 6\r\n",
                "    , 'IS_NULLABLE': 'NO'\r\n",
                "    , 'DATA_TYPE': 'STRING'\r\n",
                "    , 'TRANSFORM_LOGIC': 'HASH(' + entity2_hashkey_identifier + ')'\r\n",
                "    , 'TRANSFORM_GROUP': None\r\n",
                "    , 'TRANSFORM_GROUP_SUFFIX': None\r\n",
                "    , 'TRANSFORM_GROUP_LOGIC': None\r\n",
                "    , 'JOIN_CLAUSE': None\r\n",
                "  }\r\n",
                "]\r\n",
                "\r\n",
                "# Append the lists\r\n",
                "result_dict_list = link_fields\r\n",
                "\r\n",
                "\r\n",
                "#for row_dict in result_dict_list:\r\n",
                "#  print(row_dict)"
            ],
            "metadata": {
                "language": "python",
                "azdata_cell_guid": "9f8eb352-a6a9-4c93-aaf6-01dc245b8f5a",
                "tags": [
                    "hide_input"
                ]
            },
            "outputs": [],
            "execution_count": 73
        },
        {
            "cell_type": "code",
            "source": [
                "# Write to a tab-separated text file\r\n",
                "with open(os.path.join(output_path, output_filename), \"w\") as f:\r\n",
                "  for row_dict in result_dict_list:\r\n",
                "    line = \"\\t\".join(str(row_dict[key]) for key in row_dict)\r\n",
                "    f.write(line + \"\\n\")"
            ],
            "metadata": {
                "language": "python",
                "azdata_cell_guid": "66bd9ca1-ca69-41da-aaf5-fcf06431dee5",
                "tags": [
                    "hide_input"
                ]
            },
            "outputs": [],
            "execution_count": 74
        }
    ]
}