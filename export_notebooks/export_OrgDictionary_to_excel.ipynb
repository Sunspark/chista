{
    "metadata": {
        "kernelspec": {
            "name": "python3",
            "display_name": "Python 3",
            "language": "python"
        },
        "language_info": {
            "name": "python",
            "version": "3.8.10",
            "mimetype": "text/x-python",
            "codemirror_mode": {
                "name": "ipython",
                "version": 3
            },
            "pygments_lexer": "ipython3",
            "nbconvert_exporter": "python",
            "file_extension": ".py"
        }
    },
    "nbformat_minor": 2,
    "nbformat": 4,
    "cells": [
        {
            "cell_type": "code",
            "source": [
                "# exports from Org Dictionary views to an excel book suitable for distribution\r\n",
                "\r\n",
                "import os\r\n",
                "import sqlite3\r\n",
                "import pandas as pd\r\n",
                "\r\n",
                "from pathlib import Path\r\n",
                "from datetime import datetime\r\n",
                "\r\n",
                "conn = sqlite3.connect('../full_metadata.db')\r\n",
                "cur = conn.cursor()\r\n",
                "\r\n",
                "time_string = datetime.now().strftime('%Y%m%d%H%M%S')\r\n",
                "output_path = \"../export_output_files/Excel/\"\r\n",
                "output_filename = \"Org_Dictionary_\" + time_string + \".xlsx\"\r\n",
                "\r\n",
                "writer = pd.ExcelWriter(os.path.join(output_path, output_filename))\r\n",
                ""
            ],
            "metadata": {
                "azdata_cell_guid": "49d914b2-0b14-4ae9-896b-f88469142c35",
                "language": "python"
            },
            "outputs": [],
            "execution_count": 22
        },
        {
            "cell_type": "code",
            "source": [
                "# Organisations\r\n",
                "sql_query = \"\"\"\r\n",
                "SELECT\r\n",
                "  ModelKeyPhrase\r\n",
                "  , BusinessName\r\n",
                "  , \"Description\"\r\n",
                "FROM\r\n",
                "  out_BusinessForOrgDictionary\r\n",
                "ORDER BY\r\n",
                "  BusinessName\r\n",
                ";\r\n",
                "\"\"\"\r\n",
                "\r\n",
                "df = pd.read_sql_query(sql_query, conn)\r\n",
                "\r\n",
                "#df"
            ],
            "metadata": {
                "language": "python",
                "azdata_cell_guid": "17ceb0ef-5dca-4fa1-8f86-eafcf82f10a2"
            },
            "outputs": [],
            "execution_count": 23
        },
        {
            "cell_type": "code",
            "source": [
                "df.to_excel(writer, index=False, sheet_name='Organisations')\r\n",
                ""
            ],
            "metadata": {
                "language": "python",
                "azdata_cell_guid": "5636375b-4d79-40b2-b3ab-d20833547bde"
            },
            "outputs": [],
            "execution_count": 24
        },
        {
            "cell_type": "code",
            "source": [
                "# Business Areas\r\n",
                "sql_query = \"\"\"\r\n",
                "SELECT\r\n",
                "  BusinessModelKeyPhrase\r\n",
                "  , BusinessName\r\n",
                "  , BusinessAreaModelKeyPhrase\r\n",
                "  , BusinessAreaName\r\n",
                "  , DisplayName\r\n",
                "  , \"Description\"\r\n",
                "  , isDeleted\r\n",
                "  , BusinessContact\r\n",
                "FROM\r\n",
                "  out_BusinessAreaForOrgDictionary\r\n",
                "ORDER BY\r\n",
                "  BusinessName\r\n",
                "  , BusinessAreaName\r\n",
                ";\r\n",
                "\"\"\"\r\n",
                "\r\n",
                "df = pd.read_sql_query(sql_query, conn)\r\n",
                "\r\n",
                "#df"
            ],
            "metadata": {
                "language": "python",
                "azdata_cell_guid": "99b9c355-5ab3-4ccc-8250-5661b0d0f947"
            },
            "outputs": [],
            "execution_count": 25
        },
        {
            "cell_type": "code",
            "source": [
                "df.to_excel(writer, index=False, sheet_name='Business Areas')\r\n",
                ""
            ],
            "metadata": {
                "language": "python",
                "azdata_cell_guid": "6b404284-13d2-40d4-8961-56c71357df72"
            },
            "outputs": [],
            "execution_count": 26
        },
        {
            "cell_type": "code",
            "source": [
                "# Systems\r\n",
                "sql_query = \"\"\"\r\n",
                "SELECT\r\n",
                "    SystemKeyPhrase\r\n",
                "  , SystemName\r\n",
                "  , isDeleted\r\n",
                "\t, \"Description\"\r\n",
                "FROM\r\n",
                "  out_SystemForOrgDictionary\r\n",
                "ORDER BY\r\n",
                "  SystemName\r\n",
                ";\r\n",
                "\"\"\"\r\n",
                "\r\n",
                "df = pd.read_sql_query(sql_query, conn)\r\n",
                "\r\n",
                "#df"
            ],
            "metadata": {
                "language": "python",
                "azdata_cell_guid": "8c2cfc84-58e6-455e-aa18-1b3c5fb8e1e7"
            },
            "outputs": [],
            "execution_count": 27
        },
        {
            "cell_type": "code",
            "source": [
                "df.to_excel(writer, index=False, sheet_name='Systems')\r\n",
                ""
            ],
            "metadata": {
                "language": "python",
                "azdata_cell_guid": "6008147d-9bd1-4473-8740-ccd86090e150"
            },
            "outputs": [],
            "execution_count": 28
        },
        {
            "cell_type": "code",
            "source": [
                "# Entities\r\n",
                "sql_query = \"\"\"\r\n",
                "SELECT\r\n",
                "    \"isDeleted\"\r\n",
                "  , ModelKeyPhrase\r\n",
                "  , \"EntityName\"\r\n",
                "  , \"DisplayName\"\r\n",
                "  , \"Description\"\r\n",
                "  , \"Synonyms\"\r\n",
                "  , \"DataOwner\"\r\n",
                "  , \"DataSteward\"\r\n",
                "FROM\r\n",
                "  out_ConceptualEntityForOrgDictionary\r\n",
                "ORDER BY\r\n",
                "  EntityName\r\n",
                ";\r\n",
                "\"\"\"\r\n",
                "\r\n",
                "df = pd.read_sql_query(sql_query, conn)\r\n",
                "\r\n",
                "#df"
            ],
            "metadata": {
                "language": "python",
                "azdata_cell_guid": "fec94fbc-28cc-4b16-a54c-bcd9e69637bb"
            },
            "outputs": [],
            "execution_count": 29
        },
        {
            "cell_type": "code",
            "source": [
                "df.to_excel(writer, index=False, sheet_name='Entities')\r\n",
                ""
            ],
            "metadata": {
                "language": "python",
                "azdata_cell_guid": "a69e0f74-e216-49ba-b2d3-f72ef6bb1863"
            },
            "outputs": [],
            "execution_count": 30
        },
        {
            "cell_type": "code",
            "source": [
                "# EntityRelations\r\n",
                "sql_query = \"\"\"\r\n",
                "SELECT\r\n",
                "    ModelKeyPhrase\r\n",
                "  , ConceptualEntity\r\n",
                "  , ForwardRelationPhrase\r\n",
                "  , ReverseRelationPhrase\r\n",
                "  , ConceptualEntity_Related\r\n",
                "  , isDeleted\r\n",
                "  , \"Description\"\r\n",
                "FROM\r\n",
                "  out_ConceptualEntityRelationForOrgDictionary\r\n",
                "ORDER BY\r\n",
                "  ConceptualEntity\r\n",
                "  , ConceptualEntity_Related\r\n",
                "  , ForwardRelationPhrase\r\n",
                ";\r\n",
                "\"\"\"\r\n",
                "\r\n",
                "df = pd.read_sql_query(sql_query, conn)\r\n",
                "\r\n",
                "#df"
            ],
            "metadata": {
                "language": "python",
                "azdata_cell_guid": "e5525d39-3883-44ed-8c0d-0d2bd4384652"
            },
            "outputs": [],
            "execution_count": 31
        },
        {
            "cell_type": "code",
            "source": [
                "df.to_excel(writer, index=False, sheet_name='EntityRelations')\r\n",
                ""
            ],
            "metadata": {
                "language": "python",
                "azdata_cell_guid": "fbafd3eb-92a7-4aa5-8557-07ecda9c06b7"
            },
            "outputs": [],
            "execution_count": 32
        },
        {
            "cell_type": "code",
            "source": [
                "# BusinessArea_Entity_relations\r\n",
                "sql_query = \"\"\"\r\n",
                "SELECT\r\n",
                "    BusinessName\r\n",
                "  , BusinessAreaModelKeyPhrase\r\n",
                "  , BusinessAreaName\r\n",
                "  , EntityModelKeyPhrase\r\n",
                "  , EntityName\r\n",
                "  , isDeleted\r\n",
                "FROM\r\n",
                "  out_BusinessAreaConceptualEntityRelationForOrgDictionary\r\n",
                "ORDER BY\r\n",
                "  BusinessName\r\n",
                "  , BusinessAreaName\r\n",
                "  , EntityName\r\n",
                ";\r\n",
                "\"\"\"\r\n",
                "\r\n",
                "df = pd.read_sql_query(sql_query, conn)\r\n",
                "\r\n",
                "#df"
            ],
            "metadata": {
                "language": "python",
                "azdata_cell_guid": "bcc73d76-b0e6-46ba-b759-b1423fe43886"
            },
            "outputs": [],
            "execution_count": 33
        },
        {
            "cell_type": "code",
            "source": [
                "df.to_excel(writer, index=False, sheet_name='BusinessArea_Entity_relations')\r\n",
                ""
            ],
            "metadata": {
                "language": "python",
                "azdata_cell_guid": "9555ee2f-74ba-4ca4-87f1-b78a8f23e549"
            },
            "outputs": [],
            "execution_count": 34
        },
        {
            "cell_type": "code",
            "source": [
                "writer.close()"
            ],
            "metadata": {
                "language": "python",
                "azdata_cell_guid": "1b88f6b3-706b-41a2-9695-aaf50bb7ecbe"
            },
            "outputs": [],
            "execution_count": 35
        }
    ]
}