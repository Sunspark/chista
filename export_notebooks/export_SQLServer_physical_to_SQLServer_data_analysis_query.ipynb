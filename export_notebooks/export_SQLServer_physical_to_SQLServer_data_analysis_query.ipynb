{
    "metadata": {
        "kernelspec": {
            "name": "python3",
            "display_name": "Python 3",
            "language": "python"
        },
        "language_info": {
            "name": "python",
            "version": "3.8.10",
            "mimetype": "text/x-python",
            "codemirror_mode": {
                "name": "ipython",
                "version": 3
            },
            "pygments_lexer": "ipython3",
            "nbconvert_exporter": "python",
            "file_extension": ".py"
        }
    },
    "nbformat_minor": 2,
    "nbformat": 4,
    "cells": [
        {
            "cell_type": "markdown",
            "source": [
                "This script outputs an SQL file suitable for running against an SQLServer instance. It is expecting SQL server type information from the database.  \n",
                "The data analysis query does some super-basic \"what's actually in the fields\" analysis such as null counts and distinct counts. The intent is to help identify unused fields for satellite splitting.\n",
                "\n",
                "The output is designed to be run through SSMS \"results to file\" - you will need to post-process the file that is output.  \n",
                "The output will generate blocks of up to 100 fields to examine per query so as not to hit SQL server's internal limits on number of SELECTs in a query\n",
                "\n",
                "<span style=\"color: var(--vscode-foreground);\">1. Open SQL Server Management Studio<br></span><span style=\"color: var(--vscode-foreground);\">2. Go to Tools &gt; Options. Then: Query Results &gt; SQL Server &gt; Results To Text<br></span><span style=\"color: var(--vscode-foreground);\">3. In the right panel, there is a drop down box called Output Format<br></span><span style=\"color: var(--vscode-foreground);\">4. Choose Comma Delimited and click OK</span>\n",
                "\n",
                "\\- get list of attributes in target structures from attributes table\n",
                "\n",
                "\\- spin dfs to json dicts, and split down to appropriate sizes\n",
                "\n",
                "\\- throw at jinja"
            ],
            "metadata": {
                "azdata_cell_guid": "1465a207-7cb7-4ad7-bab8-240591d8cdf8"
            },
            "attachments": {}
        },
        {
            "cell_type": "code",
            "source": [
                "import json\r\n",
                "import os\r\n",
                "import sqlite3\r\n",
                "\r\n",
                "from pathlib import Path\r\n",
                "from jinja2 import Template, Environment\r\n",
                "from datetime import datetime\r\n",
                "\r\n",
                "import pandas as pd\r\n",
                "import numpy as np\r\n",
                "\r\n",
                "conn = sqlite3.connect('../full_metadata.db')\r\n",
                "cur = conn.cursor()\r\n",
                "\r\n",
                "template_path = \"../export_templates/SQLServer/\"\r\n",
                "template_filename = \"SQLServer_data_analysis_query.tem\"\r\n",
                "template = Path(os.path.join(template_path, template_filename)).read_text()\r\n",
                "\r\n",
                "time_string = datetime.now().strftime('%Y%m%d%H%M%S')\r\n",
                "output_path = \"../export_output_files/SQLServer/\"\r\n",
                "output_filename = \"SQLServer_data_analysis_query_\" + time_string + \".txt\""
            ],
            "metadata": {
                "azdata_cell_guid": "d9cc53f1-9d54-4e5f-a0a1-a5bd5c489606",
                "language": "python"
            },
            "outputs": [],
            "execution_count": 6
        },
        {
            "cell_type": "code",
            "source": [
                "# set variables for the extract\r\n",
                "\r\n",
                "# Set the date string that you want to appear as the 'SCAN_DATE' in the output\r\n",
                "# either an auto-string for ease of use, or manual if you want a specific date\r\n",
                "date_string = datetime.now().strftime('%Y%m%d')\r\n",
                "#date_string = '20241231' # A date string in the format YYYYMMDD (as above)\r\n",
                "\r\n",
                "target_server_name = 'VHLOPRHP2S01\\P2SLIVE'\r\n",
                "target_db_name = 'Pro2_ih'\r\n",
                "target_schema_name = '' # a value or '' (blank)"
            ],
            "metadata": {
                "language": "python",
                "azdata_cell_guid": "6a94d1f9-4e71-45c3-876c-8e3e3c84e9e1"
            },
            "outputs": [],
            "execution_count": 2
        },
        {
            "cell_type": "code",
            "source": [
                "# get list of attributes in target structures from attributes table\r\n",
                "\r\n",
                "if (target_schema_name != ''):\r\n",
                "  target_schema_phrase = \"\"\"AND \"SCHEMA_NAME\" = ?\"\"\"\r\n",
                "else:\r\n",
                "  target_schema_phrase = ''\r\n",
                "\r\n",
                "sql_query_core = \"\"\"\r\n",
                "SELECT\r\n",
                "  '\"' || SCHEMA_NAME || '\".\"' || TABLE_NAME || '\"' AS \"TableKeyPhrase\"\r\n",
                "\t, SCHEMA_NAME\r\n",
                "\t, TABLE_NAME\r\n",
                "\t, COLUMN_NAME\r\n",
                "\t, DATA_TYPE\r\n",
                "FROM\r\n",
                "\tbv_SQLServerPhysicalAttributeOutputForAnalysis\r\n",
                "WHERE\r\n",
                "\t1=1\r\n",
                "\tAND \"SERVER_NAME\" = ?\r\n",
                "\tAND \"DATABASE_NAME\" = ?\r\n",
                "\"\"\";\r\n",
                "\r\n",
                "sql_query = sql_query_core + target_schema_phrase\r\n",
                "\r\n",
                "if (target_schema_name != ''):\r\n",
                "  sql_parameters = (target_server_name, target_db_name, target_schema_name)\r\n",
                "else:\r\n",
                "  sql_parameters = (target_server_name, target_db_name)\r\n",
                "\r\n",
                "df = pd.read_sql_query(sql_query, conn, params = sql_parameters)\r\n",
                "df = df.replace({np.nan: None})\r\n",
                "\r\n",
                "#df"
            ],
            "metadata": {
                "language": "python",
                "azdata_cell_guid": "c6c12821-eac7-40f8-94a1-7eba273252c3"
            },
            "outputs": [],
            "execution_count": 3
        },
        {
            "cell_type": "code",
            "source": [
                "# spin dfs to json dicts\r\n",
                "\r\n",
                "table_group_dict = df.groupby(['TableKeyPhrase']).apply(lambda x: x.drop(columns=['TableKeyPhrase']).to_dict(orient='records')).to_dict()\r\n",
                "\r\n",
                "row_group_list = [list(values)[i:i + 50] for values in table_group_dict.values() for i in range(0, len(values), 50)]\r\n",
                "\r\n",
                "template_data = {\r\n",
                "  \"date_string\": date_string\r\n",
                "  , \"target_server_name\": target_server_name\r\n",
                "  , \"target_db_name\": target_db_name\r\n",
                "  , \"target_row_groups\": row_group_list\r\n",
                "}\r\n",
                "\r\n",
                "#template_data\r\n",
                "\r\n",
                ""
            ],
            "metadata": {
                "language": "python",
                "azdata_cell_guid": "6c0b72c1-f7cb-407e-8c61-9347ccd38d35"
            },
            "outputs": [],
            "execution_count": 4
        },
        {
            "cell_type": "code",
            "source": [
                "# throw at jinja\r\n",
                "\r\n",
                "j2_template = Template(template, autoescape=True, trim_blocks=True, lstrip_blocks=True)\r\n",
                "\r\n",
                "rendered_template_string = j2_template.render(template_data=template_data)\r\n",
                "with open(os.path.join(output_path, output_filename), \"w\") as text_file:\r\n",
                "  text_file.write(rendered_template_string)"
            ],
            "metadata": {
                "language": "python",
                "azdata_cell_guid": "0ca109f5-5179-4d20-90c5-610ccdb101e6"
            },
            "outputs": [],
            "execution_count": 7
        }
    ]
}