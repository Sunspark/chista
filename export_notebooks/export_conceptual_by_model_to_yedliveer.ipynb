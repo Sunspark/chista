{
    "metadata": {
        "kernelspec": {
            "name": "python3",
            "display_name": "Python 3",
            "language": "python"
        },
        "language_info": {
            "name": "python",
            "version": "3.8.10",
            "mimetype": "text/x-python",
            "codemirror_mode": {
                "name": "ipython",
                "version": 3
            },
            "pygments_lexer": "ipython3",
            "nbconvert_exporter": "python",
            "file_extension": ".py"
        }
    },
    "nbformat_minor": 2,
    "nbformat": 4,
    "cells": [
        {
            "cell_type": "markdown",
            "source": [
                "- Gets a basic list of Entities (by Model or by Business Area) and their relations\n",
                "    \n",
                "- Builds JSON to feed a Jinja template for either Basic ER or Chen's ER\n",
                "    \n",
                "- Does not do types/ group entities\n",
                "    \n",
                "- declarations\n",
                "    \n",
                "- get table of conceptual entities in target model, along with the groups they are in\n",
                "    \n",
                "- put them in a json dict\n",
                "    \n",
                "- get table of links between conceptual entities\n",
                "    \n",
                "- put them in a json dict\n",
                "    \n",
                "- spin the json dict into the jinja template for yed  \n",
                "      \n",
                "    Currently, this does output a diagram, that does work, but it's pretty flaky :(  \n",
                "    Debugging the diagram/ graphml is going to be a far bigger job."
            ],
            "metadata": {
                "azdata_cell_guid": "4d0eebe5-2803-4ff6-a2c1-789cbd42e0f2"
            },
            "attachments": {}
        },
        {
            "cell_type": "code",
            "source": [
                "import json\r\n",
                "import os\r\n",
                "import sqlite3\r\n",
                "\r\n",
                "from pathlib import Path\r\n",
                "from jinja2 import Template, Environment\r\n",
                "from datetime import datetime\r\n",
                "\r\n",
                "conn = sqlite3.connect('../full_metadata.db')\r\n",
                "cur = conn.cursor()\r\n",
                "\r\n",
                "template_path = \"../export_templates/yed_live/\"\r\n",
                "template_filename = \"conceptual_er.tem\"\r\n",
                "template = Path(os.path.join(template_path, template_filename)).read_text()\r\n",
                "\r\n",
                "time_string = datetime.now().strftime('%Y%m%d%H%M%S')\r\n",
                "output_path = \"../export_output_files/yed_live/\"\r\n",
                "output_filename = \"conceptual_er_\" + time_string + \".graphml\"\r\n",
                "\r\n",
                "data = {}\r\n",
                ""
            ],
            "metadata": {
                "azdata_cell_guid": "7a188779-c5f0-4a84-ace4-06747f963472",
                "language": "python"
            },
            "outputs": [],
            "execution_count": 1
        },
        {
            "cell_type": "code",
            "source": [
                "# Script variables\r\n",
                "target_model_name = ''  # ER model to output, leave blank for 'all'\r\n",
                "target_business_name = 'Vivid' # Business to target, leave blank for 'all'\r\n",
                "target_business_area_name = 'Repairs' # Business area to target, leave blank for 'all'\r\n",
                "\r\n",
                "output_template_type = 'Basic' # One of 'Basic', 'Chens'"
            ],
            "metadata": {
                "language": "python",
                "azdata_cell_guid": "971489e6-28ac-4306-8b3c-2dd201db0ac9",
                "tags": []
            },
            "outputs": [],
            "execution_count": 2
        },
        {
            "cell_type": "code",
            "source": [
                "def fetch_data_as_dict(cursor, query, params):\r\n",
                "  try:\r\n",
                "    cursor.execute(query, params)\r\n",
                "    columns = [desc[0] for desc in cursor.description]\r\n",
                "    results = cursor.fetchall()\r\n",
                "    data_dict_list = [dict(zip(columns, row)) for row in results]\r\n",
                "    return data_dict_list\r\n",
                "  except sqlite3.Error as e:\r\n",
                "    print(f\"Error: {e}\")\r\n",
                "    return []"
            ],
            "metadata": {
                "language": "python",
                "azdata_cell_guid": "6451ae79-beac-4a2d-876e-4d94767f4624"
            },
            "outputs": [],
            "execution_count": 3
        },
        {
            "cell_type": "code",
            "source": [
                "# Get nodes\r\n",
                "# Which are a bit more complicated than edges\r\n",
                "\r\n",
                "where_clause = '';\r\n",
                "params = []\r\n",
                "\r\n",
                "if (target_model_name != ''):\r\n",
                "  where_clause = where_clause + ' AND ModelKeyPhrase = ? '\r\n",
                "  params = params + [target_model_name]\r\n",
                "\r\n",
                "if (target_business_name != ''):\r\n",
                "  where_clause = where_clause + ' AND BusinessName = ? '\r\n",
                "  params = params + [target_business_name]\r\n",
                "\r\n",
                "if (target_business_area_name != ''):\r\n",
                "  where_clause = where_clause + ' AND BusinessAreaName = ? '\r\n",
                "  params = params + [target_business_area_name]\r\n",
                "\r\n",
                "params = params + params\r\n",
                "\r\n",
                "sql_query = \"\"\"\r\n",
                "SELECT DISTINCT\r\n",
                "    ConceptualEntityHashKey\r\n",
                "  , CE_DisplayName\t\t\r\n",
                "FROM out_ConceptualEntityRelationsForYed\r\n",
                "WHERE\r\n",
                "  1=1\r\n",
                "  \"\"\" + where_clause + \"\"\"\r\n",
                "\r\n",
                "UNION\r\n",
                "\r\n",
                "SELECT DISTINCT\r\n",
                "    ConceptualEntity_RelatedHashKey\r\n",
                "  , CER_DisplayName\t\t\r\n",
                "FROM out_ConceptualEntityRelationsForYed\r\n",
                "WHERE\r\n",
                "  1=1\r\n",
                "  \"\"\" + where_clause + \"\"\"\r\n",
                "\"\"\";\r\n",
                "\r\n",
                "nodes_dict_list = fetch_data_as_dict(cur, sql_query, params)\r\n",
                "\r\n",
                "#print(nodes_dict_list)"
            ],
            "metadata": {
                "language": "python",
                "azdata_cell_guid": "2d59923a-b31a-40f2-8273-5b1340fc5068"
            },
            "outputs": [],
            "execution_count": 4
        },
        {
            "cell_type": "code",
            "source": [
                "# Get edges\r\n",
                "\r\n",
                "where_clause = '';\r\n",
                "params = []\r\n",
                "\r\n",
                "if (target_model_name != ''):\r\n",
                "  where_clause = where_clause + ' AND ModelKeyPhrase = ? '\r\n",
                "  params = params + [target_model_name]\r\n",
                "\r\n",
                "if (target_business_name != ''):\r\n",
                "  where_clause = where_clause + ' AND BusinessName = ? '\r\n",
                "  params = params + [target_business_name]\r\n",
                "\r\n",
                "if (target_business_area_name != ''):\r\n",
                "  where_clause = where_clause + ' AND BusinessAreaName = ? '\r\n",
                "  params = params + [target_business_area_name]\r\n",
                "\r\n",
                "\r\n",
                "sql_query = \"\"\"\r\n",
                "SELECT DISTINCT\r\n",
                "    ConceptualEntityHashKey\r\n",
                "  , CE_DisplayName\r\n",
                "  , ForwardRelationPhrase\r\n",
                "  , ConceptualEntity_RelatedHashKey\r\n",
                "  , CER_DisplayName\r\n",
                "FROM out_ConceptualEntityRelationsForYed\r\n",
                "WHERE\r\n",
                "  1=1\r\n",
                "  \"\"\" + where_clause + \"\"\"\r\n",
                "\"\"\";\r\n",
                "\r\n",
                "edges_dict_list = fetch_data_as_dict(cur, sql_query, params)\r\n",
                "\r\n",
                "#print(edges_dict_list)"
            ],
            "metadata": {
                "language": "python",
                "azdata_cell_guid": "71dcb001-1aeb-4b42-b578-9b4493e14a2d"
            },
            "outputs": [],
            "execution_count": 5
        },
        {
            "cell_type": "code",
            "source": [
                "\r\n",
                "data['nodes'] = nodes_dict_list\r\n",
                "data['edges'] = edges_dict_list"
            ],
            "metadata": {
                "language": "python",
                "azdata_cell_guid": "4116d68b-0dc7-49b6-b6ac-7bbae53d331c"
            },
            "outputs": [],
            "execution_count": 6
        },
        {
            "cell_type": "code",
            "source": [
                "# drop the JSON into the Template\r\n",
                "\r\n",
                "j2_template = Template(template, autoescape=True)\r\n",
                "\r\n",
                "rendered_template_string = j2_template.render(data)\r\n",
                "with open(os.path.join(output_path, output_filename), \"w\") as text_file:\r\n",
                "  text_file.write(rendered_template_string)"
            ],
            "metadata": {
                "language": "python",
                "azdata_cell_guid": "e485ed60-5ed7-444c-8d8d-6951eabc1d76"
            },
            "outputs": [],
            "execution_count": 7
        }
    ]
}